{
 "cells": [
  {
   "cell_type": "markdown",
   "metadata": {
    "pycharm": {
     "name": "#%% md\n"
    }
   },
   "source": [
    "# Ape in (buy the latest token)\n",
    "\n",
    "This is an example automated trading strategy how to buy in to all tthe latest tokens.\n",
    "\n",
    "This can act as a real strategy, but not recommended.\n",
    "\n",
    "* This strategy is based on [QSTrader](https://github.com/mhallsmoore/qstrader/) backtesting engine integration.\n",
    "\n",
    "* The trading universe is all DEX trading pairs. To speed up the simulation in this notebook, we limit the trading strategy to a tokens that meet the certain criteria. Note that you should not do this for the real backtesting, as this induces survivorship bias.\n",
    "\n",
    "* The trading strategy is a multi-asset strategy that rebalances the portfolio daily.\n",
    "\n",
    "* For each day, the strategy checks newly available tokens that have come to the markets.\n",
    "\n",
    "* When the tokens cross the liquidity threshold (have enough liquidity) the strategy buys those tokens, by selling the tokens from the previous day and equally balancing the generated cash in hand across all the tokens of the day.\n",
    "\n",
    "* The strategy sells the tokens on the following day - the sell signal is 1 day hold.\n",
    "\n",
    "* There is a high cash buffer of 50%, as the strategy is deemed to make a lot of unsuccessful picks.\n",
    "\n",
    "* This is a simplified example strategy that ignores loss of trade balance due to slippage, currency conversions, etc.\n",
    "\n",
    "* The backtest simulation takes some minutes to run. We display the progress using an interactive [tqdm](https://github.com/tqdm/tqdm) progress bar."
   ]
  },
  {
   "cell_type": "markdown",
   "metadata": {
    "pycharm": {
     "name": "#%% md\n"
    }
   },
   "source": [
    "## Creating a dataset client\n",
    "\n",
    "First let's import libraries and initialise our dataset client."
   ]
  },
  {
   "cell_type": "code",
   "execution_count": 1,
   "metadata": {
    "pycharm": {
     "name": "#%%\n"
    }
   },
   "outputs": [
    {
     "name": "stdout",
     "output_type": "stream",
     "text": [
      "Started Capitalgram in Jupyter notebook environment, configuration is stored in /Users/mikkoohtamaa/.capitalgram\n"
     ]
    }
   ],
   "source": [
    "try:\n",
    "    import capitalgram\n",
    "except ImportError:\n",
    "    !pip install -e git+https://github.com/miohtama/capitalgram-onchain-dex-quant-data.git#egg=capitalgram\n",
    "    import site\n",
    "    site.main()\n",
    "\n",
    "from capitalgram.client import Capitalgram\n",
    "\n",
    "client = Capitalgram.create_jupyter_client()"
   ]
  },
  {
   "cell_type": "markdown",
   "source": [
    "## Strategy and backtesting parameters\n",
    "\n",
    "Here we define all parameters that affect the backtest outcome."
   ],
   "metadata": {
    "collapsed": false,
    "pycharm": {
     "name": "#%% md\n"
    }
   }
  },
  {
   "cell_type": "code",
   "execution_count": null,
   "outputs": [],
   "source": [
    "import pandas as pd\n",
    "\n",
    "# The starting date of the backtest\n",
    "# Note: At the moment, due to QsTrader internal limitation,\n",
    "# we define this as NYSE UTC trading hours\n",
    "start = pd.Timestamp('2020-10-01 14:30:00')\n",
    "\n",
    "# The ending date of the backtest\n",
    "end = pd.Timestamp('2021-01-08 23:59:00')\n",
    "\n",
    "# Start backtesting with $10k in hand\n",
    "initial_cash = 10_000\n",
    "\n",
    "# Prefiltering to limit the pair set to speed up computations\n",
    "# How many USD all time buy volume the pair must have had\n",
    "# to be included in the backtesting\n",
    "prefilter_min_buy_volume = 5_000_000\n",
    "\n",
    "# When this USD threshold of bonding curve liquidity provided is reached,\n",
    "# we ape in to the token on a daily close.\n",
    "min_liquidity = 250_000\n",
    "\n",
    "# How many tokens we can hold in our portfolio\n",
    "# If there are more new tokens coming to market per day,\n",
    "# we just ignore those with less liquidity\n",
    "max_assets_per_portfolio = 5\n",
    "\n",
    "# How many % of all value we hold in cash all the time,\n",
    "# so that we can sustain hits\n",
    "cash_buffer = 0.33"
   ],
   "metadata": {
    "collapsed": false,
    "pycharm": {
     "name": "#%%\n"
    }
   }
  },
  {
   "cell_type": "markdown",
   "source": [
    "## Setting up logging\n",
    "\n",
    "QStrader and Capitalgram use Python logging facilitiese with different logging levels to allow you diagnose any issues with the strategy. We set up logging here so that all `INFO` level messages are outputted.\n",
    "\n",
    "[Here is a tutorial how to use Python logging framework with Jupyter Notebook](https://towardsdatascience.com/how-to-setup-logging-for-your-python-notebooks-in-under-2-minutes-2a7ac88d723d)."
   ],
   "metadata": {
    "collapsed": false,
    "pycharm": {
     "name": "#%% md\n"
    }
   }
  },
  {
   "cell_type": "code",
   "execution_count": 2,
   "outputs": [
    {
     "name": "stdout",
     "output_type": "stream",
     "text": [
      "INFO:root:Logging has been set up\n"
     ]
    }
   ],
   "source": [
    "import sys\n",
    "import logging\n",
    "\n",
    "# Create a Python logger\n",
    "logger = logging.getLogger(\"Notebook\")\n",
    "\n",
    "logging.basicConfig(stream=sys.stdout, level=logging.INFO)\n",
    "\n",
    "logging.info(\"Logging has been set up\")"
   ],
   "metadata": {
    "collapsed": false,
    "pycharm": {
     "name": "#%%\n"
    }
   }
  },
  {
   "cell_type": "markdown",
   "metadata": {
    "pycharm": {
     "name": "#%% md\n"
    }
   },
   "source": [
    "## Creating the trading universe\n",
    "\n",
    "We take all trading pairs registered on Capitalgram (as the writing of this all Uniswap v2 compatible exchanges).\n",
    "As the number of trading pairs is very high (50k+).\n",
    "Most of these trading pairs are random noise and crap.\n",
    "We reduce the number of trading pairs to speed up the backtest simulation, but this also introduce some\n",
    "survivorship bias."
   ]
  },
  {
   "cell_type": "code",
   "execution_count": 3,
   "metadata": {
    "pycharm": {
     "name": "#%%\n"
    }
   },
   "outputs": [
    {
     "name": "stdout",
     "output_type": "stream",
     "text": [
      "INFO:Notebook:Datafeeds set up. We have 1633 pairs, 349168 candles, 350704 liquidity samples\n"
     ]
    }
   ],
   "source": [
    "from capitalgram.frameworks.qstrader import prepare_candles_for_qstrader\n",
    "from capitalgram.liquidity import GroupedLiquidityUniverse\n",
    "from capitalgram.pair import PandasPairUniverse\n",
    "from capitalgram.timebucket import TimeBucket\n",
    "from capitalgram.candle import GroupedCandleUniverse\n",
    "from capitalgram.exchange import ExchangeUniverse\n",
    "\n",
    "def prefilter_pairs(all_pairs_dataframe: pd.DataFrame) -> pd.DataFrame:\n",
    "    \"\"\"Get rid of pairs that we definitely are not interested in.\n",
    "\n",
    "    This will greatly speed up the later backtesting computations, as we do not need to\n",
    "    calculate the opening volumes for thousands of pairs.\n",
    "\n",
    "    Note that may induce survivorship bias - we use thiws mainly\n",
    "    to ensure the example strategy completes fast enough.\n",
    "    \"\"\"\n",
    "    pairs: pd.DataFrame = all_pairs_dataframe.loc[\n",
    "        (all_pairs_dataframe['buy_volume_all_time'] > prefilter_min_buy_volume)  # 500k min buys\n",
    "    ]\n",
    "    return pairs\n",
    "\n",
    "\n",
    "exchange_universe = client.fetch_exchange_universe()\n",
    "\n",
    "# Decompress the pair dataset to Python map\n",
    "columnar_pair_table = client.fetch_pair_universe()\n",
    "\n",
    "# Make our universe 40x smaller and faster to compute\n",
    "filtered_pairs = prefilter_pairs(columnar_pair_table.to_pandas())\n",
    "\n",
    "# Make the trading pair data easily accessible\n",
    "pair_universe = PandasPairUniverse(filtered_pairs)\n",
    "wanted_pair_ids = pair_universe.get_all_pair_ids()\n",
    "\n",
    "# Get daily candles as Pandas DataFrame\n",
    "all_candles = client.fetch_all_candles(TimeBucket.d1).to_pandas()\n",
    "all_candles = all_candles.loc[all_candles[\"pair_id\"].isin(wanted_pair_ids)]\n",
    "candle_universe = GroupedCandleUniverse(prepare_candles_for_qstrader(all_candles), timestamp_column=\"Date\")\n",
    "\n",
    "all_liquidity = client.fetch_all_liquidity_samples(TimeBucket.d1).to_pandas()\n",
    "all_liquidity = all_liquidity.loc[all_liquidity[\"pair_id\"].isin(wanted_pair_ids)]\n",
    "all_liquidity = all_liquidity.set_index(all_liquidity[\"timestamp\"])\n",
    "liquidity_universe = GroupedLiquidityUniverse(all_liquidity)\n",
    "\n",
    "logger.info(\"Datafeeds set up. We have %d pairs, %d candles, %d liquidity samples\",\n",
    "            pair_universe.get_count(),\n",
    "            candle_universe.get_candle_count(),\n",
    "            liquidity_universe.get_sample_count())"
   ]
  },
  {
   "cell_type": "markdown",
   "metadata": {
    "pycharm": {
     "name": "#%% md\n"
    }
   },
   "source": [
    "## Creating the strategy\n",
    "\n",
    "Here is the core of our strategy: alpha model.\n",
    "\n",
    "* We create an alpha signal source `LiquidityThresholdReachedAlphaModel` for the strategy\n",
    "\n",
    "* Our backtesting signal source uses \"the daily new token reaching the target liquidity\" as the buy signal\n",
    "\n",
    "* [Read QSTrader documentation how QSTrader itself works](https://www.quantstart.com/qstrader/)."
   ]
  },
  {
   "cell_type": "code",
   "execution_count": 4,
   "outputs": [
    {
     "name": "stdout",
     "output_type": "stream",
     "text": [
      "INFO:Notebook:Alpha model created\n"
     ]
    }
   ],
   "source": [
    "from typing import Dict\n",
    "\n",
    "from qstrader.alpha_model.alpha_model import AlphaModel\n",
    "\n",
    "def update_pair_liquidity_threshold(\n",
    "        now_: pd.Timestamp,\n",
    "        threshold: float,\n",
    "        reached_state: dict,\n",
    "        pair_universe: PandasPairUniverse,\n",
    "        liquidity_universe: GroupedLiquidityUniverse) -> dict:\n",
    "    \"\"\"Check which pairs reach the liquidity threshold on a given day.\n",
    "\n",
    "    :param threshold: Available liquidity, in US dollar\n",
    "\n",
    "    :return: Dict of pair ids who reached the liquidity threshold and how much liquidity they had\n",
    "    \"\"\"\n",
    "\n",
    "    new_entries = {}\n",
    "\n",
    "    # QSTrader carries hours in its timestamp like\n",
    "    # Timestamp('2020-10-01 14:30:00+0000', tz='UTC')\n",
    "    # as it follows NYSE market open and close timestamps.\n",
    "    # Capitalgram candle timestamps are in days and mightnight, so we fix it here.\n",
    "    ts = pd.Timestamp(now_.date())\n",
    "\n",
    "    for pair_id in pair_universe.get_all_pair_ids():\n",
    "\n",
    "        # Skip pairs we know reached liquidity threshold earlier\n",
    "        if pair_id not in reached_state:\n",
    "            # Get the todays liquidity\n",
    "            liquidity_samples = liquidity_universe.get_samples_by_pair(pair_id)\n",
    "            # We determine the available liquidity by the daily open\n",
    "            try:\n",
    "                liquidity_today = liquidity_samples[\"open\"][ts]\n",
    "            except KeyError:\n",
    "                liquidity_today = 0\n",
    "\n",
    "            if liquidity_today >= threshold:\n",
    "                reached_state[pair_id] = now_\n",
    "                new_entries[pair_id] = liquidity_today\n",
    "\n",
    "    return new_entries\n",
    "\n",
    "\n",
    "class LiquidityThresholdReachedAlphaModel(AlphaModel):\n",
    "    \"\"\"\n",
    "    A simple AlphaModel that provides a single scalar forecast\n",
    "    value for each Asset in the Universe.\n",
    "\n",
    "    Parameters\n",
    "    ----------\n",
    "    signal_weights : `dict{str: float}`\n",
    "        The signal weights per asset symbol.\n",
    "    universe : `Universe`, optional\n",
    "        The Assets to make signal forecasts for.\n",
    "    data_handler : `DataHandler`, optional\n",
    "        An optional DataHandler used to preserve interface across AlphaModels.\n",
    "    \"\"\"\n",
    "\n",
    "    def __init__(\n",
    "            self,\n",
    "            exchange_universe: ExchangeUniverse,\n",
    "            pair_universe: PandasPairUniverse,\n",
    "            candle_universe: GroupedCandleUniverse,\n",
    "            liquidity_universe: GroupedLiquidityUniverse,\n",
    "            min_liquidity,\n",
    "            max_assets_per_portfolio,\n",
    "            data_handler=None\n",
    "    ):\n",
    "        self.exchange_universe = exchange_universe\n",
    "        self.pair_universe = pair_universe\n",
    "        self.candle_universe = candle_universe\n",
    "        self.liquidity_universe = liquidity_universe\n",
    "        self.data_handler = data_handler\n",
    "        self.min_liquidity = min_liquidity\n",
    "        self.max_assets_per_portfolio = max_assets_per_portfolio\n",
    "        self.liquidity_reached_state = {}\n",
    "\n",
    "    def construct_shopping_basked(self, dt: pd.Timestamp, new_entries: dict) -> Dict[int, float]:\n",
    "        \"\"\"Construct a pair id \"\"\"\n",
    "\n",
    "        # Sort entire by volume\n",
    "        sorted_by_volume = sorted(new_entries.items(), key=lambda x: x[1], reverse=True)\n",
    "\n",
    "        # Weight all entries equally based on our maximum N entries size\n",
    "        pick_count = min(len(sorted_by_volume), self.max_assets_per_portfolio)\n",
    "\n",
    "        ts = pd.Timestamp(dt.date())\n",
    "\n",
    "        if pick_count:\n",
    "            weight = 1.0 / pick_count\n",
    "            picked = {}\n",
    "            for i in range(pick_count):\n",
    "                pair_id, vol = sorted_by_volume[i]\n",
    "\n",
    "                # An asset may have liquidity added, but not a single trade yet (EURS-USDC on 2020-10-1)\n",
    "                # Ignore them, because we cannot backtest something with no OHLCV data\n",
    "                candles = self.candle_universe.get_candles_by_pair(pair_id)\n",
    "\n",
    "                # Note daily bars here, not open-close bars as internally used by QSTrader\n",
    "                if ts not in candles[\"Close\"]:\n",
    "                    name = self.translate_pair(pair_id)\n",
    "                    logger.warning(\"Tried to trade too early %s at %s\", name, ts)\n",
    "                    continue\n",
    "\n",
    "                picked[pair_id] = weight\n",
    "\n",
    "            return picked\n",
    "\n",
    "        # No new feasible assets today\n",
    "        return {}\n",
    "\n",
    "    def translate_pair(self, pair_id: int) -> str:\n",
    "        \"\"\"Make pari ids human readable for logging.\"\"\"\n",
    "        pair_info = self.pair_universe.get_pair_by_id(pair_id)\n",
    "        return pair_info.get_friendly_name(self.exchange_universe)\n",
    "\n",
    "    def __call__(self, dt) -> Dict[int, float]:\n",
    "        \"\"\"\n",
    "        Produce the dictionary of scalar signals for\n",
    "        each of the Asset instances within the Universe.\n",
    "\n",
    "        Parameters\n",
    "        ----------\n",
    "        dt : `pd.Timestamp`\n",
    "            The time 'now' used to obtain appropriate data and universe\n",
    "            for the the signals.\n",
    "\n",
    "        Returns\n",
    "        -------\n",
    "        `dict{str: float}`\n",
    "\n",
    "            The Asset symbol keyed scalar-valued signals.\n",
    "        \"\"\"\n",
    "\n",
    "        # Refresh which cross the liquidity threshold today\n",
    "        new_entries = update_pair_liquidity_threshold(\n",
    "            dt,\n",
    "            self.min_liquidity,\n",
    "            self.liquidity_reached_state,\n",
    "            self.pair_universe,\n",
    "            self.liquidity_universe\n",
    "        )\n",
    "        logger.debug(\"New entries coming to the market %zs %s\", dt, new_entries)\n",
    "        picked = self.construct_shopping_basked(dt, new_entries)\n",
    "\n",
    "        if picked:\n",
    "            logger.debug(\"On day %s our picks are\", dt)\n",
    "            for pair_id, weight in picked.items():\n",
    "                logger.debug(\"    %s: %f\", self.translate_pair(pair_id), weight)\n",
    "        else:\n",
    "            logger.debug(\"On day %s there is nothing new interesting at the markets\", dt)\n",
    "        return picked\n",
    "\n",
    "logger.info(\"Alpha model created\")"
   ],
   "metadata": {
    "collapsed": false,
    "pycharm": {
     "name": "#%%\n"
    }
   }
  },
  {
   "cell_type": "markdown",
   "source": [
    "## Setting up the strategy backtest\n",
    "\n",
    "We have alpha model and trading universe set up, so next we will create a backtest simulation\n",
    "where we feed all the data we set up for the backtest session."
   ],
   "metadata": {
    "collapsed": false,
    "pycharm": {
     "name": "#%% md\n"
    }
   }
  },
  {
   "cell_type": "code",
   "execution_count": 5,
   "metadata": {
    "pycharm": {
     "name": "#%%\n"
    }
   },
   "outputs": [
    {
     "name": "stdout",
     "output_type": "stream",
     "text": [
      "Initialising simulated broker \"Backtest Simulated Broker Account\"...\n",
      "INFO:qstrader.broker.portfolio.portfolio:(2020-10-01 14:30:00) Portfolio \"000001\" instance initialised\n",
      "INFO:qstrader.broker.portfolio.portfolio:(2020-10-01 14:30:00) Funds subscribed to portfolio \"000001\" - Credit: 0.00, Balance: 0.00\n",
      "(2020-10-01 14:30:00) - portfolio creation: Portfolio \"000001\" created at broker \"Backtest Simulated Broker Account\"\n",
      "INFO:qstrader.broker.portfolio.portfolio:(2020-10-01 14:30:00) Funds subscribed to portfolio \"000001\" - Credit: 10000.00, Balance: 10000.00\n",
      "(2020-10-01 14:30:00) - subscription: 10000.00 subscribed to portfolio \"000001\"\n",
      "INFO:Notebook:Strategy backtest set up\n"
     ]
    }
   ],
   "source": [
    "from qstrader.asset.universe.static import StaticUniverse\n",
    "from qstrader.data.backtest_data_handler import BacktestDataHandler\n",
    "from qstrader.simulation.event import SimulationEvent\n",
    "from qstrader.simulation.everyday import EverydaySimulationEngine\n",
    "from qstrader.trading.backtest import BacktestTradingSession\n",
    "from capitalgram.frameworks.qstrader import CapitalgramDataSource\n",
    "\n",
    "data_source = CapitalgramDataSource(exchange_universe, pair_universe, candle_universe)\n",
    "\n",
    "strategy_assets = list(data_source.asset_bar_frames.keys())\n",
    "strategy_universe = StaticUniverse(strategy_assets)\n",
    "\n",
    "data_handler = BacktestDataHandler(strategy_universe, data_sources=[data_source])\n",
    "\n",
    "# Construct an Alpha Model that simply provides a fixed\n",
    "# signal for the single GLD ETF at 100% allocation\n",
    "# with a backtest that does not rebalance\n",
    "strategy_alpha_model = LiquidityThresholdReachedAlphaModel(\n",
    "    exchange_universe,\n",
    "    pair_universe,\n",
    "    candle_universe,\n",
    "    liquidity_universe,\n",
    "    min_liquidity,\n",
    "    max_assets_per_portfolio)\n",
    "\n",
    "\n",
    "strategy_backtest = BacktestTradingSession(\n",
    "    start,\n",
    "    end,\n",
    "    strategy_universe,\n",
    "    strategy_alpha_model,\n",
    "    initial_cash=initial_cash,\n",
    "    rebalance='daily',\n",
    "    long_only=True,  # Spot markets do not support shorting\n",
    "    cash_buffer_percentage=cash_buffer,\n",
    "    data_handler=data_handler,\n",
    "    simulation_engine=EverydaySimulationEngine(start, end)\n",
    ")\n",
    "\n",
    "logger.info(\"Strategy backtest set up\")"
   ]
  },
  {
   "cell_type": "markdown",
   "source": [
    "## Running the QSTrader strategy\n",
    "\n",
    "Next we run the strategy. This can take potentially many minutes, as it crunches through some data.\n",
    "\n",
    "The notebook displays a HTML progress bar is displayed during the run, and the estimation when the simulation\n",
    "is complete."
   ],
   "metadata": {
    "collapsed": false,
    "pycharm": {
     "name": "#%% md\n"
    }
   }
  },
  {
   "cell_type": "code",
   "execution_count": 6,
   "outputs": [
    {
     "name": "stdout",
     "output_type": "stream",
     "text": [
      "INFO:Notebook:Running the strategy\n"
     ]
    },
    {
     "data": {
      "text/plain": "  0%|          | 0/400 [00:00<?, ?it/s]",
      "application/vnd.jupyter.widget-view+json": {
       "version_major": 2,
       "version_minor": 0,
       "model_id": "15c17c92b35d4c6c877fc6b0c7368cff"
      }
     },
     "metadata": {},
     "output_type": "display_data"
    },
    {
     "name": "stdout",
     "output_type": "stream",
     "text": [
      "WARNING:Notebook:Tried to trade too early BBTC - WETH, pair #27023 on Uniswap v2 at 2020-12-10 00:00:00\n",
      "WARNING:qstrader.broker.simulated_broker:WARNING: Estimated transaction size of 1518.00 exceeds available cash of 1232.55. Transaction will still occur with a negative cash balance.\n",
      "WARNING: Not enough cash in the portfolio to carry out transaction. Transaction cost of 1518.3441867697984 exceeds remaining cash of 1232.5516262695019. Transaction will proceed with a negative cash balance.\n",
      "INFO:Notebook:Backtest complete\n"
     ]
    }
   ],
   "source": [
    "from tqdm.autonotebook import tqdm\n",
    "\n",
    "# Supress excessive qstrader logging output\n",
    "logging.getLogger(\"qstrader\").setLevel(logging.WARNING)\n",
    "\n",
    "logger.info(\"Running the strategy\")\n",
    "\n",
    "max_events = len(strategy_backtest.fetch_simulation_events())\n",
    "\n",
    "# Run the test with a nice progress bar\n",
    "with tqdm(total=max_events) as progress_bar:\n",
    "    def progress_callback(idx: int, dt: pd.Timestamp, evt: SimulationEvent):\n",
    "        progress_bar.set_description(f\"Simulation at day {dt.date()}\")\n",
    "        progress_bar.update(idx)\n",
    "\n",
    "    strategy_backtest.run(progress_callback=progress_callback)\n",
    "\n",
    "logger.info(\"Backtest complete\")"
   ],
   "metadata": {
    "collapsed": false,
    "pycharm": {
     "name": "#%%\n"
    }
   }
  },
  {
   "cell_type": "markdown",
   "metadata": {
    "pycharm": {
     "name": "#%% md\n"
    }
   },
   "source": [
    "## Analyzing the strategy results\n",
    "\n",
    "After the strategy is run, we will display charts and statistics on its performance."
   ]
  },
  {
   "cell_type": "code",
   "execution_count": 7,
   "outputs": [],
   "source": [
    "from capitalgram.frameworks.qstrader import analyse_portfolio\n",
    "\n",
    "# \"000001\" is the default name given for the default portfolio by QSTrader\n",
    "portfolio = strategy_backtest.broker.portfolios[\"000001\"]\n",
    "trade_analysis = analyse_portfolio(portfolio.history)"
   ],
   "metadata": {
    "collapsed": false,
    "pycharm": {
     "name": "#%%\n"
    }
   }
  },
  {
   "cell_type": "markdown",
   "source": [
    "### Summary of trades\n",
    "\n",
    "This displays number of trades, how many we won and lost."
   ],
   "metadata": {
    "collapsed": false,
    "pycharm": {
     "name": "#%% md\n"
    }
   }
  },
  {
   "cell_type": "code",
   "execution_count": 8,
   "metadata": {
    "pycharm": {
     "name": "#%%\n"
    }
   },
   "outputs": [
    {
     "data": {
      "text/plain": "<IPython.core.display.HTML object>",
      "text/html": "<table border=\"1\" class=\"dataframe\">\n  <tbody>\n    <tr>\n      <th>Cash at start</th>\n      <td>$10,000.00</td>\n    </tr>\n    <tr>\n      <th>Value at end</th>\n      <td>$1,814.62</td>\n    </tr>\n    <tr>\n      <th>Trade win percent</th>\n      <td>38%</td>\n    </tr>\n    <tr>\n      <th>Total trades done</th>\n      <td>189</td>\n    </tr>\n    <tr>\n      <th>Won trades</th>\n      <td>71</td>\n    </tr>\n    <tr>\n      <th>Lost trades</th>\n      <td>117</td>\n    </tr>\n    <tr>\n      <th>Zero profit trades</th>\n      <td>1</td>\n    </tr>\n    <tr>\n      <th>Positions open at the end</th>\n      <td>4</td>\n    </tr>\n    <tr>\n      <th>Realised profit and loss</th>\n      <td>$-8,185.38</td>\n    </tr>\n    <tr>\n      <th>Portfolio unrealised value</th>\n      <td>$1,091.04</td>\n    </tr>\n    <tr>\n      <th>Cash left at the end</th>\n      <td>$723.59</td>\n    </tr>\n  </tbody>\n</table>"
     },
     "metadata": {},
     "output_type": "display_data"
    }
   ],
   "source": [
    "from IPython.core.display import HTML\n",
    "from IPython.display import display\n",
    "\n",
    "from capitalgram.analysis.tradeanalyzer import TradeSummary\n",
    "\n",
    "cash_left = strategy_backtest.broker.get_total_portfolio_cash_balances()\n",
    "summary: TradeSummary = trade_analysis.calculate_summary_statistics(initial_cash, cash_left)\n",
    "\n",
    "display(HTML(summary.to_dataframe().to_html(header=False)))"
   ]
  },
  {
   "cell_type": "markdown",
   "metadata": {
    "pycharm": {
     "name": "#%% md\n"
    }
   },
   "source": [
    "### Tearsheet chart\n",
    "\n",
    "Tearsheet displays the portfolio profit and risk over the time."
   ]
  },
  {
   "cell_type": "code",
   "execution_count": 9,
   "outputs": [
    {
     "name": "stdout",
     "output_type": "stream",
     "text": [
      "Plotting the tearsheet...\n"
     ]
    },
    {
     "data": {
      "text/plain": "<Figure size 1152x864 with 5 Axes>",
      "image/png": "[encoded data removed]"
     },
     "metadata": {},
     "output_type": "display_data"
    }
   ],
   "source": [
    "from qstrader.statistics.tearsheet import TearsheetStatistics\n",
    "\n",
    "tearsheet = TearsheetStatistics(\n",
    "    strategy_equity=strategy_backtest.get_equity_curve(),\n",
    "    title=f'Ape in the latest'\n",
    ")\n",
    "\n",
    "tearsheet.plot_results()"
   ],
   "metadata": {
    "collapsed": false,
    "pycharm": {
     "name": "#%%\n"
    }
   }
  },
  {
   "cell_type": "markdown",
   "source": [
    "### Trading timeline\n",
    "\n",
    "Trading timeline displays individual trades the strategy made."
   ],
   "metadata": {
    "collapsed": false,
    "pycharm": {
     "name": "#%% md\n"
    }
   }
  },
  {
   "cell_type": "code",
   "execution_count": 10,
   "outputs": [
    {
     "data": {
      "text/plain": "                       exchange  base quote       price   event opened_value  \\\ntimestamp                                                                      \n2020-10-02 14:30:00  Uniswap v2  WETH  USDC  352.915741  Opened  1411.662964   \n2020-10-05 14:30:00  Uniswap v2  WETH  USDC  352.969299  Closed                \n2020-10-02 14:30:00  Uniswap v2  WETH   DAI  347.183807  Opened  1388.735229   \n2020-10-05 14:30:00  Uniswap v2  WETH   DAI  347.808258  Closed                \n2020-10-02 14:30:00  Uniswap v2  WETH  WBTC  351.676819  Opened  1406.707275   \n...                         ...   ...   ...         ...     ...          ...   \n2021-01-08 14:30:00  Uniswap v2   BBR  WETH    8.664709  Closed                \n2021-01-08 14:30:00  Uniswap v2  BART  WETH    0.028472  Opened   257.440816   \n2021-01-08 14:30:00  Uniswap v2  OUSD  USDT    1.000229  Opened   274.062648   \n2021-01-08 14:30:00  Uniswap v2   GLM  WETH    0.128224  Opened   283.503429   \n2021-01-08 14:30:00  Uniswap v2   ZKS  USDT    0.291788  Opened   276.031431   \n\n                        profit profit_pct closed_value  won lost  \ntimestamp                                                         \n2020-10-02 14:30:00                                               \n2020-10-05 14:30:00   0.214233   0.000152  1411.877197  1.0       \n2020-10-02 14:30:00                                               \n2020-10-05 14:30:00   2.497803   0.001799  1391.233032  1.0       \n2020-10-02 14:30:00                                               \n...                        ...        ...          ...  ...  ...  \n2021-01-08 14:30:00  10.624034   0.038589     285.9354  1.0       \n2021-01-08 14:30:00                                               \n2021-01-08 14:30:00                                               \n2021-01-08 14:30:00                                               \n2021-01-08 14:30:00                                               \n\n[382 rows x 11 columns]",
      "text/html": "<div>\n<style scoped>\n    .dataframe tbody tr th:only-of-type {\n        vertical-align: middle;\n    }\n\n    .dataframe tbody tr th {\n        vertical-align: top;\n    }\n\n    .dataframe thead th {\n        text-align: right;\n    }\n</style>\n<table border=\"1\" class=\"dataframe\">\n  <thead>\n    <tr style=\"text-align: right;\">\n      <th></th>\n      <th>exchange</th>\n      <th>base</th>\n      <th>quote</th>\n      <th>price</th>\n      <th>event</th>\n      <th>opened_value</th>\n      <th>profit</th>\n      <th>profit_pct</th>\n      <th>closed_value</th>\n      <th>won</th>\n      <th>lost</th>\n    </tr>\n    <tr>\n      <th>timestamp</th>\n      <th></th>\n      <th></th>\n      <th></th>\n      <th></th>\n      <th></th>\n      <th></th>\n      <th></th>\n      <th></th>\n      <th></th>\n      <th></th>\n      <th></th>\n    </tr>\n  </thead>\n  <tbody>\n    <tr>\n      <th>2020-10-02 14:30:00</th>\n      <td>Uniswap v2</td>\n      <td>WETH</td>\n      <td>USDC</td>\n      <td>352.915741</td>\n      <td>Opened</td>\n      <td>1411.662964</td>\n      <td></td>\n      <td></td>\n      <td></td>\n      <td></td>\n      <td></td>\n    </tr>\n    <tr>\n      <th>2020-10-05 14:30:00</th>\n      <td>Uniswap v2</td>\n      <td>WETH</td>\n      <td>USDC</td>\n      <td>352.969299</td>\n      <td>Closed</td>\n      <td></td>\n      <td>0.214233</td>\n      <td>0.000152</td>\n      <td>1411.877197</td>\n      <td>1.0</td>\n      <td></td>\n    </tr>\n    <tr>\n      <th>2020-10-02 14:30:00</th>\n      <td>Uniswap v2</td>\n      <td>WETH</td>\n      <td>DAI</td>\n      <td>347.183807</td>\n      <td>Opened</td>\n      <td>1388.735229</td>\n      <td></td>\n      <td></td>\n      <td></td>\n      <td></td>\n      <td></td>\n    </tr>\n    <tr>\n      <th>2020-10-05 14:30:00</th>\n      <td>Uniswap v2</td>\n      <td>WETH</td>\n      <td>DAI</td>\n      <td>347.808258</td>\n      <td>Closed</td>\n      <td></td>\n      <td>2.497803</td>\n      <td>0.001799</td>\n      <td>1391.233032</td>\n      <td>1.0</td>\n      <td></td>\n    </tr>\n    <tr>\n      <th>2020-10-02 14:30:00</th>\n      <td>Uniswap v2</td>\n      <td>WETH</td>\n      <td>WBTC</td>\n      <td>351.676819</td>\n      <td>Opened</td>\n      <td>1406.707275</td>\n      <td></td>\n      <td></td>\n      <td></td>\n      <td></td>\n      <td></td>\n    </tr>\n    <tr>\n      <th>...</th>\n      <td>...</td>\n      <td>...</td>\n      <td>...</td>\n      <td>...</td>\n      <td>...</td>\n      <td>...</td>\n      <td>...</td>\n      <td>...</td>\n      <td>...</td>\n      <td>...</td>\n      <td>...</td>\n    </tr>\n    <tr>\n      <th>2021-01-08 14:30:00</th>\n      <td>Uniswap v2</td>\n      <td>BBR</td>\n      <td>WETH</td>\n      <td>8.664709</td>\n      <td>Closed</td>\n      <td></td>\n      <td>10.624034</td>\n      <td>0.038589</td>\n      <td>285.9354</td>\n      <td>1.0</td>\n      <td></td>\n    </tr>\n    <tr>\n      <th>2021-01-08 14:30:00</th>\n      <td>Uniswap v2</td>\n      <td>BART</td>\n      <td>WETH</td>\n      <td>0.028472</td>\n      <td>Opened</td>\n      <td>257.440816</td>\n      <td></td>\n      <td></td>\n      <td></td>\n      <td></td>\n      <td></td>\n    </tr>\n    <tr>\n      <th>2021-01-08 14:30:00</th>\n      <td>Uniswap v2</td>\n      <td>OUSD</td>\n      <td>USDT</td>\n      <td>1.000229</td>\n      <td>Opened</td>\n      <td>274.062648</td>\n      <td></td>\n      <td></td>\n      <td></td>\n      <td></td>\n      <td></td>\n    </tr>\n    <tr>\n      <th>2021-01-08 14:30:00</th>\n      <td>Uniswap v2</td>\n      <td>GLM</td>\n      <td>WETH</td>\n      <td>0.128224</td>\n      <td>Opened</td>\n      <td>283.503429</td>\n      <td></td>\n      <td></td>\n      <td></td>\n      <td></td>\n      <td></td>\n    </tr>\n    <tr>\n      <th>2021-01-08 14:30:00</th>\n      <td>Uniswap v2</td>\n      <td>ZKS</td>\n      <td>USDT</td>\n      <td>0.291788</td>\n      <td>Opened</td>\n      <td>276.031431</td>\n      <td></td>\n      <td></td>\n      <td></td>\n      <td></td>\n      <td></td>\n    </tr>\n  </tbody>\n</table>\n<p>382 rows × 11 columns</p>\n</div>"
     },
     "metadata": {},
     "output_type": "display_data"
    }
   ],
   "source": [
    "from capitalgram.analysis.tradeanalyzer import expand_timeline\n",
    "\n",
    "# Generate raw timeline of position open and close events\n",
    "timeline = trade_analysis.create_timeline()\n",
    "\n",
    "# Expand timeline with human-readable exchange and pair symbols\n",
    "expanded_timeline = expand_timeline(exchange_universe, pair_universe, timeline)\n",
    "\n",
    "# Do not truncate the row output\n",
    "pd.reset_option('display.max_rows')\n",
    "\n",
    "display(expanded_timeline)"
   ],
   "metadata": {
    "collapsed": false,
    "pycharm": {
     "name": "#%%\n"
    }
   }
  }
 ],
 "metadata": {
  "kernelspec": {
   "name": "pycharm-e4ceee80",
   "language": "python",
   "display_name": "PyCharm (dex_ohlcv)"
  },
  "language_info": {
   "codemirror_mode": {
    "name": "ipython",
    "version": 3
   },
   "file_extension": ".py",
   "mimetype": "text/x-python",
   "name": "python",
   "nbconvert_exporter": "python",
   "pygments_lexer": "ipython3",
   "version": "3.8.1"
  }
 },
 "nbformat": 4,
 "nbformat_minor": 1
}