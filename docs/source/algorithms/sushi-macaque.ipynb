{
 "cells": [
  {
   "cell_type": "markdown",
   "metadata": {
    "pycharm": {
     "name": "#%% md\n"
    }
   },
   "source": [
    "# Sushi Macaque - flip the coin strategy\n",
    "\n",
    "An example how to randomly go all-in to a new token every day.\n",
    "\n",
    "* The prerequisites for the token is that we have not bought it before\n",
    "\n",
    "* The token most have USD 500k+ volume before it can be chosen\n",
    "\n",
    "* This is a simplified example strategy that ignores available liquidity and loss of trade balance due to slippage\n",
    "\n",
    "* The skeleton of this strategy is based on [Teddy Koker's momentum strategy example](https://teddykoker.com/2019/05/momentum-strategy-from-stocks-on-the-move-in-python/)"
   ]
  },
  {
   "cell_type": "markdown",
   "metadata": {
    "pycharm": {
     "name": "#%% md\n"
    }
   },
   "source": [
    "## Creating trading universe\n",
    "\n",
    "First let's import libraries and initialise our dataset client."
   ]
  },
  {
   "cell_type": "code",
   "execution_count": 9,
   "metadata": {
    "pycharm": {
     "name": "#%%\n"
    }
   },
   "outputs": [
    {
     "name": "stdout",
     "output_type": "stream",
     "text": [
      "Started Capitalgram in Jupyter notebook environment, configuration is stored in /Users/mikkoohtamaa/.capitalgram\n"
     ]
    }
   ],
   "source": [
    "from random import Random\n",
    "\n",
    "import pandas as pd\n",
    "\n",
    "from capitalgram.chain import ChainId\n",
    "from capitalgram.pair import PairUniverse, PandasPairUniverse\n",
    "\n",
    "try:\n",
    "    import capitalgram\n",
    "except ImportError:\n",
    "    !pip install -e git+https://github.com/miohtama/capitalgram-onchain-dex-quant-data.git#egg=capitalgram\n",
    "    import site\n",
    "    site.main()\n",
    "\n",
    "from capitalgram.client import Capitalgram\n",
    "\n",
    "capitalgram = Capitalgram.create_jupyter_client()"
   ]
  },
  {
   "cell_type": "markdown",
   "metadata": {
    "pycharm": {
     "name": "#%% md\n"
    }
   },
   "source": [
    "Let's create a pair universe for Sushi. [See full example](https://docs.capitalgram.com/examples/pairs.html).\n",
    "We will create a dataset of 4h candles that trade on Sushiswap on Ethereum."
   ]
  },
  {
   "cell_type": "code",
   "execution_count": 10,
   "metadata": {
    "pycharm": {
     "name": "#%%\n"
    }
   },
   "outputs": [
    {
     "name": "stdout",
     "output_type": "stream",
     "text": [
      "Sushiswap on Ethereum has 1308 trading pairs\n"
     ]
    }
   ],
   "source": [
    "# Decompress the pair dataset to Python map\n",
    "columnar_pair_table = capitalgram.fetch_pair_universe()\n",
    "\n",
    "# Exchange map data is so small it does not need any decompression\n",
    "exchange_universe = capitalgram.fetch_exchange_universe()\n",
    "\n",
    "# Convert PyArrow table to Pandas format to continue working on it\n",
    "all_pairs_dataframe = columnar_pair_table.to_pandas()\n",
    "\n",
    "# Filter down to pairs that only trade on Sushiswap\n",
    "sushi_swap = exchange_universe.get_by_name_and_chain(ChainId.ethereum, \"sushiswap\")\n",
    "sushi_pairs: pd.DataFrame = all_pairs_dataframe.loc[all_pairs_dataframe['exchange_id'] == sushi_swap.exchange_id]\n",
    "\n",
    "# Create a Python set of pair ids\n",
    "wanted_pair_ids = sushi_pairs[\"pair_id\"]\n",
    "\n",
    "# Make the trading pair data easily accessible\n",
    "pair_universe = PandasPairUniverse(sushi_pairs)\n",
    "\n",
    "print(f\"Sushiswap on Ethereum has {len(pair_universe.get_all_pair_ids())} trading pairs\")"
   ]
  },
  {
   "cell_type": "markdown",
   "metadata": {
    "pycharm": {
     "name": "#%% md\n"
    }
   },
   "source": [
    "Get daily candles and filter them against our wanted pair set."
   ]
  },
  {
   "cell_type": "code",
   "execution_count": 11,
   "metadata": {
    "pycharm": {
     "name": "#%%\n"
    }
   },
   "outputs": [
    {
     "name": "stdout",
     "output_type": "stream",
     "text": [
      "Out candle universe size is 40939\n"
     ]
    }
   ],
   "source": [
    "import datetime\n",
    "\n",
    "from capitalgram.candle import CandleBucket, GroupedCandleUniverse\n",
    "from capitalgram.pair import PandasPairUniverse\n",
    "from capitalgram.frameworks.backtrader import prepare_candles_for_backtrader\n",
    "\n",
    "# Get daily candles as Pandas DataFrame\n",
    "all_candles = capitalgram.fetch_all_candles(CandleBucket.h24).to_pandas()\n",
    "sushi_candles: pd.DataFrame = all_candles.loc[all_candles[\"pair_id\"].isin(wanted_pair_ids)]\n",
    "\n",
    "sushi_candles = prepare_candles_for_backtrader(sushi_candles)\n",
    "\n",
    "# We limit candles to a specific date range to make this notebook deterministic\n",
    "start = datetime.datetime(2020, 10, 1)\n",
    "end = datetime.datetime(2021, 6, 1)\n",
    "\n",
    "sushi_candles = sushi_candles[(sushi_candles.index >= start) & (sushi_candles.index <= end)]\n",
    "\n",
    "# Group candles by the trading pair ticker\n",
    "sushi_tickers = GroupedCandleUniverse(sushi_candles)\n",
    "\n",
    "print(f\"Out candle universe size is {len(sushi_candles)}\")\n"
   ]
  },
  {
   "cell_type": "markdown",
   "metadata": {
    "pycharm": {
     "name": "#%% md\n"
    }
   },
   "source": [
    "## Creating coin flip backtrader strategy\n",
    "\n",
    "[See the Backtrader quickstart tutorial](https://www.backtrader.com/docu/quickstart/quickstart/).\n",
    "\n",
    "### Cumulative volume indicator\n",
    "\n",
    "We create a [Backtrader indicator based on PeriodN indicator](https://github.com/mementum/backtrader/blob/0fa63ef4a35dc53cc7320813f8b15480c8f85517/backtrader/indicators/basicops.py) how much cumulative trade volume the trading pair has seen in the past. We use this indicator to filter out trading pairs that seem to be dead, as no trading happening, and thus not subject to our random entry.\n",
    "\n",
    "More information about [Backtrader custom indicators](https://www.backtrader.com/docu/inddev/)."
   ]
  },
  {
   "cell_type": "code",
   "execution_count": 12,
   "metadata": {
    "pycharm": {
     "name": "#%%\n"
    }
   },
   "outputs": [],
   "source": [
    "import math\n",
    "\n",
    "import backtrader as bt\n",
    "from backtrader.indicators import PeriodN\n",
    "\n",
    "\n",
    "class PastTradeVolumeIndicator(PeriodN):\n",
    "    \"\"\"Indicates whether the trading pair has reached certain volume for the last N days.\n",
    "\n",
    "    Based on indicator base class that takes period (days) as an input.\n",
    "    \"\"\"\n",
    "\n",
    "    lines = ('cum_volume',)\n",
    "\n",
    "    def next(self):\n",
    "        # This indicator is feed with volume line.\n",
    "        # We simply take the sum of the daily volumes based on the period (number of days)\n",
    "        datasum = math.fsum(self.data.get(size=self.p.period))\n",
    "        self.lines.cum_volume[0] = datasum\n"
   ]
  },
  {
   "cell_type": "markdown",
   "source": [
    "### Coinflip strategy core\n",
    "\n",
    "By using the indicator from the above here is our strategy."
   ],
   "metadata": {
    "collapsed": false,
    "pycharm": {
     "name": "#%% md\n"
    }
   }
  },
  {
   "cell_type": "code",
   "execution_count": 13,
   "outputs": [],
   "source": [
    "from backtrader.feeds.pandafeed import PandasData\n",
    "\n",
    "class SushiMacaqueStrategy(bt.Strategy):\n",
    "    \"\"\"A strategy that picks a new token every day.\"\"\"\n",
    "\n",
    "    def __init__(self, pair_universe: PandasPairUniverse, seed: int):\n",
    "        #: Allows us to print human-readable pair information\n",
    "        self.pair_universe = pair_universe\n",
    "\n",
    "        #: Initialize (somewhat) determininistic random number generator\n",
    "        self.dice = Random(seed)\n",
    "\n",
    "        #: We operate on daily candles.\n",
    "        #: At each tick, we process to the next candle\n",
    "        self.day = 0\n",
    "\n",
    "        self.indicators = {}\n",
    "\n",
    "        # Iterate over all strategy feeds and add them a cumulative volume indicator\n",
    "        pair: PandasData\n",
    "        for pair in self.datas:\n",
    "            self.indicators[pair] = PastTradeVolumeIndicator(pair.lines.volume)\n",
    "\n",
    "    def next(self):\n",
    "        # Simply log the closing price of the series from the reference\n",
    "        self.day += 1\n",
    "        print(\"Good morning\", self.day)"
   ],
   "metadata": {
    "collapsed": false,
    "pycharm": {
     "name": "#%%\n"
    }
   }
  },
  {
   "cell_type": "markdown",
   "metadata": {
    "pycharm": {
     "name": "#%% md\n"
    }
   },
   "source": [
    "## Feed the strategy\n",
    "\n",
    "Feed in Sushiswap data to the backtrader strategy"
   ]
  },
  {
   "cell_type": "code",
   "execution_count": 14,
   "metadata": {
    "pycharm": {
     "name": "#%%\n"
    }
   },
   "outputs": [],
   "source": [
    "# Create a cerebro entity\n",
    "cerebro = bt.Cerebro(stdstats=False)\n",
    "\n",
    "# Add a strategy\n",
    "cerebro.addstrategy(SushiMacaqueStrategy, pair_universe=pair_universe, seed=0x1000)\n",
    "\n",
    "index = pd.date_range(start=start, end=end, freq='D')\n",
    "df = pd.DataFrame(index=index)\n",
    "feed = bt.feeds.PandasData(dataname=df)\n",
    "cerebro.adddata(feed)\n",
    "\n",
    "# Pass all Sushi pairs to the data fees to the strategy\n",
    "# noinspection JupyterKernel\n",
    "for pair_id, df in sushi_tickers.get_all_pairs(): #assert len(df) > 100, f\"Pair data length was {len(df)}\"\n",
    "    backtrader_feed = bt.feeds.PandasData(dataname=df, fromdate=start, todate=end,  timeframe=bt.TimeFrame.Days)\n",
    "    cerebro.adddata(backtrader_feed)\n"
   ]
  },
  {
   "cell_type": "markdown",
   "metadata": {},
   "source": [
    "## Running the strategy\n",
    "\n",
    "We are adding some observers that tell us how well the strategy performs."
   ]
  },
  {
   "cell_type": "code",
   "execution_count": 15,
   "metadata": {
    "pycharm": {
     "name": "#%%\n"
    }
   },
   "outputs": [
    {
     "name": "stdout",
     "output_type": "stream",
     "text": [
      "Starting Portfolio Value: 10000.00\n",
      "Good morning 1\n"
     ]
    },
    {
     "ename": "AssertionError",
     "evalue": "Simulated trading for 1 days",
     "output_type": "error",
     "traceback": [
      "\u001B[0;31m---------------------------------------------------------------------------\u001B[0m",
      "\u001B[0;31mAssertionError\u001B[0m                            Traceback (most recent call last)",
      "\u001B[0;32m/var/folders/23/qsmpv3gd2lx88f7p6wp3t3yc0000gn/T/ipykernel_71910/790608761.py\u001B[0m in \u001B[0;36m<module>\u001B[0;34m\u001B[0m\n\u001B[1;32m     11\u001B[0m \u001B[0;34m\u001B[0m\u001B[0m\n\u001B[1;32m     12\u001B[0m \u001B[0;31m# The number of ticks the strategy performed\u001B[0m\u001B[0;34m\u001B[0m\u001B[0;34m\u001B[0m\u001B[0;34m\u001B[0m\u001B[0m\n\u001B[0;32m---> 13\u001B[0;31m \u001B[0;32massert\u001B[0m \u001B[0mstrategy\u001B[0m\u001B[0;34m.\u001B[0m\u001B[0mday\u001B[0m \u001B[0;34m==\u001B[0m \u001B[0;36m200\u001B[0m\u001B[0;34m,\u001B[0m \u001B[0;34mf\"Simulated trading for {strategy.day} days\"\u001B[0m\u001B[0;34m\u001B[0m\u001B[0;34m\u001B[0m\u001B[0m\n\u001B[0m\u001B[1;32m     14\u001B[0m \u001B[0;34m\u001B[0m\u001B[0m\n",
      "\u001B[0;31mAssertionError\u001B[0m: Simulated trading for 1 days"
     ]
    }
   ],
   "source": [
    "cerebro.addobserver(bt.observers.Value)\n",
    "cerebro.addanalyzer(bt.analyzers.SharpeRatio, riskfreerate=0.0)\n",
    "cerebro.addanalyzer(bt.analyzers.Returns)\n",
    "cerebro.addanalyzer(bt.analyzers.DrawDown)\n",
    "\n",
    "# Run over everything\n",
    "print('Starting Portfolio Value: %.2f' % cerebro.broker.getvalue())\n",
    "results = cerebro.run()\n",
    "\n",
    "strategy = results[0]\n",
    "\n",
    "# The number of ticks the strategy performed\n",
    "assert strategy.day == 200, f\"Simulated trading for {strategy.day} days\""
   ]
  },
  {
   "cell_type": "markdown",
   "source": [
    "## Strategy reseults"
   ],
   "metadata": {
    "collapsed": false,
    "pycharm": {
     "name": "#%% md\n"
    }
   }
  },
  {
   "cell_type": "code",
   "execution_count": null,
   "outputs": [],
   "source": [
    "print('Final Portfolio Value: %.2f' % cerebro.broker.getvalue())\n",
    "print(f\"Sharpe: {results[0].analyzers.sharperatio.get_analysis()['sharperatio']:.3f}\")\n",
    "print(f\"Norm. Annual Return: {results[0].analyzers.returns.get_analysis()['rnorm100']:.2f}%\")\n",
    "print(f\"Max Drawdown: {results[0].analyzers.drawdown.get_analysis()['max']['drawdown']:.2f}%\")"
   ],
   "metadata": {
    "collapsed": false,
    "pycharm": {
     "name": "#%%\n"
    }
   }
  },
  {
   "cell_type": "markdown",
   "metadata": {
    "pycharm": {
     "name": "#%% md\n"
    }
   },
   "source": [
    "## Plotting the results"
   ]
  },
  {
   "cell_type": "code",
   "execution_count": null,
   "metadata": {
    "pycharm": {
     "name": "#%%\n"
    }
   },
   "outputs": [],
   "source": [
    "# TODO: Displaying graphics from Backtrader in Jupyter notebook is broken\n",
    "# See  https://github.com/enzoampil/fastquant/issues/382\n",
    "#\n",
    "# Returns two figures\n",
    "# figures = cerebro.plot()\n",
    "# figures[0][0]"
   ]
  },
  {
   "cell_type": "markdown",
   "source": [
    "## Notes\n",
    "\n",
    "Adding custom DataFrames to Backtrader:https://community.backtrader.com/topic/1828/how-to-feed-a-custom-pandas-dataframe-in-backtrader\n"
   ],
   "metadata": {
    "collapsed": false,
    "pycharm": {
     "name": "#%% md\n"
    }
   }
  }
 ],
 "metadata": {
  "kernelspec": {
   "name": "pycharm-e4ceee80",
   "language": "python",
   "display_name": "PyCharm (dex_ohlcv)"
  },
  "language_info": {
   "codemirror_mode": {
    "name": "ipython",
    "version": 3
   },
   "file_extension": ".py",
   "mimetype": "text/x-python",
   "name": "python",
   "nbconvert_exporter": "python",
   "pygments_lexer": "ipython3",
   "version": "3.8.1"
  }
 },
 "nbformat": 4,
 "nbformat_minor": 1
}