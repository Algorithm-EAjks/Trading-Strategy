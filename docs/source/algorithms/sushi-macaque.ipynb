{
 "cells": [
  {
   "cell_type": "markdown",
   "metadata": {
    "pycharm": {
     "name": "#%% md\n"
    }
   },
   "source": [
    "# Sushi Macaque - flip the coin strategy\n",
    "\n",
    "An example how to randomly go all-in to a new token every day.\n",
    "\n",
    "* The prerequisites for the token is that we have not bought it before\n",
    "\n",
    "* The token most have USD 500k+ volume before it can be chosen\n",
    "\n",
    "* This is a simplified example strategy that ignores available liquidity and loss of trade balance due to slippage\n",
    "\n",
    "* The skeleton of this strategy is based on [Teddy Koker's momentum strategy example](https://teddykoker.com/2019/05/momentum-strategy-from-stocks-on-the-move-in-python/)"
   ]
  },
  {
   "cell_type": "markdown",
   "metadata": {
    "pycharm": {
     "name": "#%% md\n"
    }
   },
   "source": [
    "## Creating trading universe\n",
    "\n",
    "First let's import libraries and initialise our dataset client."
   ]
  },
  {
   "cell_type": "code",
   "execution_count": 8,
   "metadata": {
    "pycharm": {
     "name": "#%%\n"
    }
   },
   "outputs": [
    {
     "name": "stdout",
     "output_type": "stream",
     "text": [
      "Started Capitalgram in Jupyter notebook environment, configuration is stored in /Users/mikkoohtamaa/.capitalgram\n"
     ]
    }
   ],
   "source": [
    "from random import Random\n",
    "\n",
    "import pandas as pd\n",
    "\n",
    "from capitalgram.chain import ChainId\n",
    "from capitalgram.pair import PairUniverse, PandasPairUniverse\n",
    "\n",
    "try:\n",
    "    import capitalgram\n",
    "except ImportError:\n",
    "    !pip install -e git+https://github.com/miohtama/capitalgram-onchain-dex-quant-data.git#egg=capitalgram\n",
    "    import site\n",
    "    site.main()\n",
    "\n",
    "from capitalgram.client import Capitalgram\n",
    "\n",
    "capitalgram = Capitalgram.create_jupyter_client()"
   ]
  },
  {
   "cell_type": "markdown",
   "metadata": {
    "pycharm": {
     "name": "#%% md\n"
    }
   },
   "source": [
    "Let's create a pair universe for Sushi. [See full example](https://docs.capitalgram.com/examples/pairs.html).\n",
    "We will create a dataset of 4h candles that trade on Sushiswap on Ethereum."
   ]
  },
  {
   "cell_type": "code",
   "execution_count": 9,
   "metadata": {
    "pycharm": {
     "name": "#%%\n"
    }
   },
   "outputs": [
    {
     "name": "stdout",
     "output_type": "stream",
     "text": [
      "Sushiswap on Ethereum has 1308 pairs\n"
     ]
    }
   ],
   "source": [
    "# Decompress the pair dataset to Python map\n",
    "columnar_pair_table = capitalgram.fetch_pair_universe()\n",
    "\n",
    "# Exchange map data is so small it does not need any decompression\n",
    "exchange_universe = capitalgram.fetch_exchange_universe()\n",
    "\n",
    "# Convert PyArrow table to Pandas format to continue working on it\n",
    "all_pairs_dataframe = columnar_pair_table.to_pandas()\n",
    "\n",
    "# Filter down to pairs that only trade on Sushiswap\n",
    "sushi_swap = exchange_universe.get_by_name_and_chain(ChainId.ethereum, \"sushiswap\")\n",
    "sushi_pairs: pd.DataFrame = all_pairs_dataframe.loc[all_pairs_dataframe['exchange_id'] == sushi_swap.exchange_id]\n",
    "\n",
    "# Create a Python set of pair ids\n",
    "wanted_pair_ids = sushi_pairs[\"pair_id\"]\n",
    "\n",
    "print(f\"Sushiswap on Ethereum has {len(wanted_pair_ids)} pairs\")"
   ]
  },
  {
   "cell_type": "markdown",
   "metadata": {
    "pycharm": {
     "name": "#%% md\n"
    }
   },
   "source": [
    "Get daily candles and filter them against our wanted pair set."
   ]
  },
  {
   "cell_type": "code",
   "execution_count": 10,
   "metadata": {
    "pycharm": {
     "name": "#%%\n"
    }
   },
   "outputs": [
    {
     "name": "stdout",
     "output_type": "stream",
     "text": [
      "Out candle universe size is 58627\n"
     ]
    }
   ],
   "source": [
    "from capitalgram.candle import CandleBucket, GroupedCandleUniverse\n",
    "from capitalgram.pair import PandasPairUniverse\n",
    "from capitalgram.frameworks.backtrader import prepare_candles_for_backtrader\n",
    "\n",
    "from pandas.core.groupby import GroupBy\n",
    "\n",
    "# Get daily candles as Pandas DataFrame\n",
    "all_candles = capitalgram.fetch_all_candles(CandleBucket.h24).to_pandas()\n",
    "sushi_candles: pd.DataFrame = all_candles.loc[all_candles[\"pair_id\"].isin(wanted_pair_ids)]\n",
    "\n",
    "sushi_candles = prepare_candles_for_backtrader(sushi_candles)\n",
    "\n",
    "# Make the trading pair data easily accessible\n",
    "pair_universe = PandasPairUniverse(sushi_pairs)\n",
    "\n",
    "# Group candles by the trading pair ticker\n",
    "sushi_tickers = GroupedCandleUniverse(sushi_candles)\n",
    "\n",
    "print(f\"Out candle universe size is {len(sushi_candles)}\")\n"
   ]
  },
  {
   "cell_type": "markdown",
   "metadata": {
    "pycharm": {
     "name": "#%% md\n"
    }
   },
   "source": [
    "## Creating coin flip backtrader strategy\n",
    "\n",
    "[See the Backtrader quickstart tutorial](https://www.backtrader.com/docu/quickstart/quickstart/).\n",
    "\n",
    "### Cumulative volume indicator\n",
    "\n",
    "We create a [Backtrader indicator based on PeriodN indicator](https://github.com/mementum/backtrader/blob/0fa63ef4a35dc53cc7320813f8b15480c8f85517/backtrader/indicators/basicops.py) how much cumulative trade volume the trading pair has seen in the past. We use this indicator to filter out trading pairs that seem to be dead, as no trading happening, and thus not subject to our random entry.\n",
    "\n",
    "More information about [Backtrader custom indicators](https://www.backtrader.com/docu/inddev/)."
   ]
  },
  {
   "cell_type": "code",
   "execution_count": 11,
   "metadata": {
    "pycharm": {
     "name": "#%%\n"
    }
   },
   "outputs": [],
   "source": [
    "import math\n",
    "\n",
    "import backtrader as bt\n",
    "from backtrader.indicators import PeriodN\n",
    "\n",
    "\n",
    "class PastTradeVolumeIndicator(PeriodN):\n",
    "    \"\"\"Indicates whether the trading pair has reached certain volume for the last N days.\n",
    "\n",
    "    Based on indicator base class that takes period (days) as an input.\n",
    "    \"\"\"\n",
    "\n",
    "    lines = ('cum_volume',)\n",
    "\n",
    "    def next(self):\n",
    "        # This indicator is feed with volume line.\n",
    "        # We simply take the sum of the daily volumes based on the period (number of days)\n",
    "        datasum = math.fsum(self.data.get(size=self.p.period))\n",
    "        self.lines.cum_volume[0] = datasum\n"
   ]
  },
  {
   "cell_type": "markdown",
   "source": [
    "### Coinflip strategy core\n",
    "\n",
    "By using the indicator from the above here is our strategy."
   ],
   "metadata": {
    "collapsed": false,
    "pycharm": {
     "name": "#%% md\n"
    }
   }
  },
  {
   "cell_type": "code",
   "execution_count": 12,
   "outputs": [],
   "source": [
    "from backtrader.feeds.pandafeed import PandasData\n",
    "\n",
    "class SushiMacaqueStrategy(bt.Strategy):\n",
    "    \"\"\"A strategy that picks a new token every day.\"\"\"\n",
    "\n",
    "    def __init__(self, pair_universe: PandasPairUniverse, seed: int):\n",
    "        #: Allows us to print human-readable pair information\n",
    "        self.pair_universe = pair_universe\n",
    "\n",
    "        #: Initialize (somewhat) determininistic random number generator\n",
    "        self.dice = Random(seed)\n",
    "\n",
    "        #: We operate on daily candles.\n",
    "        #: At each tick, we process to the next candle\n",
    "        self.day = 0\n",
    "\n",
    "        self.indicators = {}\n",
    "\n",
    "        # Iterate over all strategy feeds and add them a cumulative volume indicator\n",
    "        pair: PandasData\n",
    "        for pair in self.datas:\n",
    "            self.indicators[pair] = PastTradeVolumeIndicator(pair.lines.volume)\n",
    "\n",
    "    def next(self):\n",
    "        # Simply log the closing price of the series from the reference\n",
    "        self.day += 1\n",
    "        print(\"Good morniung\", self.day)"
   ],
   "metadata": {
    "collapsed": false,
    "pycharm": {
     "name": "#%%\n"
    }
   }
  },
  {
   "cell_type": "markdown",
   "metadata": {
    "pycharm": {
     "name": "#%% md\n"
    }
   },
   "source": [
    "## Feed the strategy\n",
    "\n",
    "Feed in Sushiswap data to the backtrader strategy"
   ]
  },
  {
   "cell_type": "code",
   "execution_count": 13,
   "metadata": {
    "pycharm": {
     "name": "#%%\n"
    }
   },
   "outputs": [],
   "source": [
    "# Create a cerebro entity\n",
    "cerebro = bt.Cerebro(stdstats=False)\n",
    "\n",
    "# Add a strategy\n",
    "cerebro.addstrategy(SushiMacaqueStrategy, pair_universe=pair_universe, seed=0x1000)\n",
    "\n",
    "# Pass all Sushi pairs to the data fees to the strategy\n",
    "for pair_id, df in sushi_tickers.get_all_pairs():\n",
    "    backtrader_feed = bt.feeds.PandasData(dataname=df)\n",
    "    cerebro.adddata(backtrader_feed)\n"
   ]
  },
  {
   "cell_type": "markdown",
   "metadata": {},
   "source": [
    "## Running the strategy\n",
    "\n",
    "We are adding some observers that tell us how well the strategy performs."
   ]
  },
  {
   "cell_type": "code",
   "execution_count": 15,
   "metadata": {
    "pycharm": {
     "name": "#%%\n"
    }
   },
   "outputs": [
    {
     "name": "stdout",
     "output_type": "stream",
     "text": [
      "Running\n"
     ]
    },
    {
     "ename": "TypeError",
     "evalue": "'float' object is not subscriptable",
     "output_type": "error",
     "traceback": [
      "\u001B[0;31m---------------------------------------------------------------------------\u001B[0m",
      "\u001B[0;31mTypeError\u001B[0m                                 Traceback (most recent call last)",
      "\u001B[0;32m/var/folders/23/qsmpv3gd2lx88f7p6wp3t3yc0000gn/T/ipykernel_45099/3758629090.py\u001B[0m in \u001B[0;36m<module>\u001B[0;34m\u001B[0m\n\u001B[1;32m      2\u001B[0m \u001B[0;31m# Run over everything\u001B[0m\u001B[0;34m\u001B[0m\u001B[0;34m\u001B[0m\u001B[0;34m\u001B[0m\u001B[0m\n\u001B[1;32m      3\u001B[0m \u001B[0mprint\u001B[0m\u001B[0;34m(\u001B[0m\u001B[0;34m\"Running\"\u001B[0m\u001B[0;34m)\u001B[0m\u001B[0;34m\u001B[0m\u001B[0;34m\u001B[0m\u001B[0m\n\u001B[0;32m----> 4\u001B[0;31m \u001B[0mcerebro\u001B[0m\u001B[0;34m.\u001B[0m\u001B[0mrun\u001B[0m\u001B[0;34m(\u001B[0m\u001B[0;34m)\u001B[0m\u001B[0;34m\u001B[0m\u001B[0;34m\u001B[0m\u001B[0m\n\u001B[0m\u001B[1;32m      5\u001B[0m \u001B[0mprint\u001B[0m\u001B[0;34m(\u001B[0m\u001B[0;34m\"Done\"\u001B[0m\u001B[0;34m)\u001B[0m\u001B[0;34m\u001B[0m\u001B[0;34m\u001B[0m\u001B[0m\n\u001B[1;32m      6\u001B[0m \u001B[0;34m\u001B[0m\u001B[0m\n",
      "\u001B[0;32m~/Library/Caches/pypoetry/virtualenvs/capitalgram-_3IsXwWN-py3.8/lib/python3.8/site-packages/backtrader/cerebro.py\u001B[0m in \u001B[0;36mrun\u001B[0;34m(self, **kwargs)\u001B[0m\n\u001B[1;32m   1125\u001B[0m             \u001B[0;31m# let's skip process \"spawning\"\u001B[0m\u001B[0;34m\u001B[0m\u001B[0;34m\u001B[0m\u001B[0;34m\u001B[0m\u001B[0m\n\u001B[1;32m   1126\u001B[0m             \u001B[0;32mfor\u001B[0m \u001B[0miterstrat\u001B[0m \u001B[0;32min\u001B[0m \u001B[0miterstrats\u001B[0m\u001B[0;34m:\u001B[0m\u001B[0;34m\u001B[0m\u001B[0;34m\u001B[0m\u001B[0m\n\u001B[0;32m-> 1127\u001B[0;31m                 \u001B[0mrunstrat\u001B[0m \u001B[0;34m=\u001B[0m \u001B[0mself\u001B[0m\u001B[0;34m.\u001B[0m\u001B[0mrunstrategies\u001B[0m\u001B[0;34m(\u001B[0m\u001B[0miterstrat\u001B[0m\u001B[0;34m)\u001B[0m\u001B[0;34m\u001B[0m\u001B[0;34m\u001B[0m\u001B[0m\n\u001B[0m\u001B[1;32m   1128\u001B[0m                 \u001B[0mself\u001B[0m\u001B[0;34m.\u001B[0m\u001B[0mrunstrats\u001B[0m\u001B[0;34m.\u001B[0m\u001B[0mappend\u001B[0m\u001B[0;34m(\u001B[0m\u001B[0mrunstrat\u001B[0m\u001B[0;34m)\u001B[0m\u001B[0;34m\u001B[0m\u001B[0;34m\u001B[0m\u001B[0m\n\u001B[1;32m   1129\u001B[0m                 \u001B[0;32mif\u001B[0m \u001B[0mself\u001B[0m\u001B[0;34m.\u001B[0m\u001B[0m_dooptimize\u001B[0m\u001B[0;34m:\u001B[0m\u001B[0;34m\u001B[0m\u001B[0;34m\u001B[0m\u001B[0m\n",
      "\u001B[0;32m~/Library/Caches/pypoetry/virtualenvs/capitalgram-_3IsXwWN-py3.8/lib/python3.8/site-packages/backtrader/cerebro.py\u001B[0m in \u001B[0;36mrunstrategies\u001B[0;34m(self, iterstrat, predata)\u001B[0m\n\u001B[1;32m   1215\u001B[0m             \u001B[0msargs\u001B[0m \u001B[0;34m=\u001B[0m \u001B[0mself\u001B[0m\u001B[0;34m.\u001B[0m\u001B[0mdatas\u001B[0m \u001B[0;34m+\u001B[0m \u001B[0mlist\u001B[0m\u001B[0;34m(\u001B[0m\u001B[0msargs\u001B[0m\u001B[0;34m)\u001B[0m\u001B[0;34m\u001B[0m\u001B[0;34m\u001B[0m\u001B[0m\n\u001B[1;32m   1216\u001B[0m             \u001B[0;32mtry\u001B[0m\u001B[0;34m:\u001B[0m\u001B[0;34m\u001B[0m\u001B[0;34m\u001B[0m\u001B[0m\n\u001B[0;32m-> 1217\u001B[0;31m                 \u001B[0mstrat\u001B[0m \u001B[0;34m=\u001B[0m \u001B[0mstratcls\u001B[0m\u001B[0;34m(\u001B[0m\u001B[0;34m*\u001B[0m\u001B[0msargs\u001B[0m\u001B[0;34m,\u001B[0m \u001B[0;34m**\u001B[0m\u001B[0mskwargs\u001B[0m\u001B[0;34m)\u001B[0m\u001B[0;34m\u001B[0m\u001B[0;34m\u001B[0m\u001B[0m\n\u001B[0m\u001B[1;32m   1218\u001B[0m             \u001B[0;32mexcept\u001B[0m \u001B[0mbt\u001B[0m\u001B[0;34m.\u001B[0m\u001B[0merrors\u001B[0m\u001B[0;34m.\u001B[0m\u001B[0mStrategySkipError\u001B[0m\u001B[0;34m:\u001B[0m\u001B[0;34m\u001B[0m\u001B[0;34m\u001B[0m\u001B[0m\n\u001B[1;32m   1219\u001B[0m                 \u001B[0;32mcontinue\u001B[0m  \u001B[0;31m# do not add strategy to the mix\u001B[0m\u001B[0;34m\u001B[0m\u001B[0;34m\u001B[0m\u001B[0m\n",
      "\u001B[0;32m~/Library/Caches/pypoetry/virtualenvs/capitalgram-_3IsXwWN-py3.8/lib/python3.8/site-packages/backtrader/metabase.py\u001B[0m in \u001B[0;36m__call__\u001B[0;34m(cls, *args, **kwargs)\u001B[0m\n\u001B[1;32m     86\u001B[0m         \u001B[0m_obj\u001B[0m\u001B[0;34m,\u001B[0m \u001B[0margs\u001B[0m\u001B[0;34m,\u001B[0m \u001B[0mkwargs\u001B[0m \u001B[0;34m=\u001B[0m \u001B[0mcls\u001B[0m\u001B[0;34m.\u001B[0m\u001B[0mdonew\u001B[0m\u001B[0;34m(\u001B[0m\u001B[0;34m*\u001B[0m\u001B[0margs\u001B[0m\u001B[0;34m,\u001B[0m \u001B[0;34m**\u001B[0m\u001B[0mkwargs\u001B[0m\u001B[0;34m)\u001B[0m\u001B[0;34m\u001B[0m\u001B[0;34m\u001B[0m\u001B[0m\n\u001B[1;32m     87\u001B[0m         \u001B[0m_obj\u001B[0m\u001B[0;34m,\u001B[0m \u001B[0margs\u001B[0m\u001B[0;34m,\u001B[0m \u001B[0mkwargs\u001B[0m \u001B[0;34m=\u001B[0m \u001B[0mcls\u001B[0m\u001B[0;34m.\u001B[0m\u001B[0mdopreinit\u001B[0m\u001B[0;34m(\u001B[0m\u001B[0m_obj\u001B[0m\u001B[0;34m,\u001B[0m \u001B[0;34m*\u001B[0m\u001B[0margs\u001B[0m\u001B[0;34m,\u001B[0m \u001B[0;34m**\u001B[0m\u001B[0mkwargs\u001B[0m\u001B[0;34m)\u001B[0m\u001B[0;34m\u001B[0m\u001B[0;34m\u001B[0m\u001B[0m\n\u001B[0;32m---> 88\u001B[0;31m         \u001B[0m_obj\u001B[0m\u001B[0;34m,\u001B[0m \u001B[0margs\u001B[0m\u001B[0;34m,\u001B[0m \u001B[0mkwargs\u001B[0m \u001B[0;34m=\u001B[0m \u001B[0mcls\u001B[0m\u001B[0;34m.\u001B[0m\u001B[0mdoinit\u001B[0m\u001B[0;34m(\u001B[0m\u001B[0m_obj\u001B[0m\u001B[0;34m,\u001B[0m \u001B[0;34m*\u001B[0m\u001B[0margs\u001B[0m\u001B[0;34m,\u001B[0m \u001B[0;34m**\u001B[0m\u001B[0mkwargs\u001B[0m\u001B[0;34m)\u001B[0m\u001B[0;34m\u001B[0m\u001B[0;34m\u001B[0m\u001B[0m\n\u001B[0m\u001B[1;32m     89\u001B[0m         \u001B[0m_obj\u001B[0m\u001B[0;34m,\u001B[0m \u001B[0margs\u001B[0m\u001B[0;34m,\u001B[0m \u001B[0mkwargs\u001B[0m \u001B[0;34m=\u001B[0m \u001B[0mcls\u001B[0m\u001B[0;34m.\u001B[0m\u001B[0mdopostinit\u001B[0m\u001B[0;34m(\u001B[0m\u001B[0m_obj\u001B[0m\u001B[0;34m,\u001B[0m \u001B[0;34m*\u001B[0m\u001B[0margs\u001B[0m\u001B[0;34m,\u001B[0m \u001B[0;34m**\u001B[0m\u001B[0mkwargs\u001B[0m\u001B[0;34m)\u001B[0m\u001B[0;34m\u001B[0m\u001B[0;34m\u001B[0m\u001B[0m\n\u001B[1;32m     90\u001B[0m         \u001B[0;32mreturn\u001B[0m \u001B[0m_obj\u001B[0m\u001B[0;34m\u001B[0m\u001B[0;34m\u001B[0m\u001B[0m\n",
      "\u001B[0;32m~/Library/Caches/pypoetry/virtualenvs/capitalgram-_3IsXwWN-py3.8/lib/python3.8/site-packages/backtrader/metabase.py\u001B[0m in \u001B[0;36mdoinit\u001B[0;34m(cls, _obj, *args, **kwargs)\u001B[0m\n\u001B[1;32m     76\u001B[0m \u001B[0;34m\u001B[0m\u001B[0m\n\u001B[1;32m     77\u001B[0m     \u001B[0;32mdef\u001B[0m \u001B[0mdoinit\u001B[0m\u001B[0;34m(\u001B[0m\u001B[0mcls\u001B[0m\u001B[0;34m,\u001B[0m \u001B[0m_obj\u001B[0m\u001B[0;34m,\u001B[0m \u001B[0;34m*\u001B[0m\u001B[0margs\u001B[0m\u001B[0;34m,\u001B[0m \u001B[0;34m**\u001B[0m\u001B[0mkwargs\u001B[0m\u001B[0;34m)\u001B[0m\u001B[0;34m:\u001B[0m\u001B[0;34m\u001B[0m\u001B[0;34m\u001B[0m\u001B[0m\n\u001B[0;32m---> 78\u001B[0;31m         \u001B[0m_obj\u001B[0m\u001B[0;34m.\u001B[0m\u001B[0m__init__\u001B[0m\u001B[0;34m(\u001B[0m\u001B[0;34m*\u001B[0m\u001B[0margs\u001B[0m\u001B[0;34m,\u001B[0m \u001B[0;34m**\u001B[0m\u001B[0mkwargs\u001B[0m\u001B[0;34m)\u001B[0m\u001B[0;34m\u001B[0m\u001B[0;34m\u001B[0m\u001B[0m\n\u001B[0m\u001B[1;32m     79\u001B[0m         \u001B[0;32mreturn\u001B[0m \u001B[0m_obj\u001B[0m\u001B[0;34m,\u001B[0m \u001B[0margs\u001B[0m\u001B[0;34m,\u001B[0m \u001B[0mkwargs\u001B[0m\u001B[0;34m\u001B[0m\u001B[0;34m\u001B[0m\u001B[0m\n\u001B[1;32m     80\u001B[0m \u001B[0;34m\u001B[0m\u001B[0m\n",
      "\u001B[0;32m/var/folders/23/qsmpv3gd2lx88f7p6wp3t3yc0000gn/T/ipykernel_45099/4122948372.py\u001B[0m in \u001B[0;36m__init__\u001B[0;34m(self, pair_universe, seed)\u001B[0m\n\u001B[1;32m     17\u001B[0m         \u001B[0mpair\u001B[0m\u001B[0;34m:\u001B[0m \u001B[0mpd\u001B[0m\u001B[0;34m.\u001B[0m\u001B[0mDataFrame\u001B[0m\u001B[0;34m\u001B[0m\u001B[0;34m\u001B[0m\u001B[0m\n\u001B[1;32m     18\u001B[0m         \u001B[0;32mfor\u001B[0m \u001B[0mpair\u001B[0m \u001B[0;32min\u001B[0m \u001B[0mself\u001B[0m\u001B[0;34m.\u001B[0m\u001B[0mdata\u001B[0m\u001B[0;34m:\u001B[0m\u001B[0;34m\u001B[0m\u001B[0;34m\u001B[0m\u001B[0m\n\u001B[0;32m---> 19\u001B[0;31m             \u001B[0mself\u001B[0m\u001B[0;34m.\u001B[0m\u001B[0mindicators\u001B[0m\u001B[0;34m[\u001B[0m\u001B[0mpair\u001B[0m\u001B[0;34m]\u001B[0m \u001B[0;34m=\u001B[0m \u001B[0mPastTradeVolumeIndicator\u001B[0m\u001B[0;34m(\u001B[0m\u001B[0mpair\u001B[0m\u001B[0;34m[\u001B[0m\u001B[0;34m\"volume\"\u001B[0m\u001B[0;34m]\u001B[0m\u001B[0;34m)\u001B[0m\u001B[0;34m\u001B[0m\u001B[0;34m\u001B[0m\u001B[0m\n\u001B[0m\u001B[1;32m     20\u001B[0m \u001B[0;34m\u001B[0m\u001B[0m\n\u001B[1;32m     21\u001B[0m     \u001B[0;32mdef\u001B[0m \u001B[0mnext\u001B[0m\u001B[0;34m(\u001B[0m\u001B[0mself\u001B[0m\u001B[0;34m)\u001B[0m\u001B[0;34m:\u001B[0m\u001B[0;34m\u001B[0m\u001B[0;34m\u001B[0m\u001B[0m\n",
      "\u001B[0;31mTypeError\u001B[0m: 'float' object is not subscriptable"
     ]
    }
   ],
   "source": [
    "cerebro.addobserver(bt.observers.Value)\n",
    "cerebro.addanalyzer(bt.analyzers.SharpeRatio, riskfreerate=0.0)\n",
    "cerebro.addanalyzer(bt.analyzers.Returns)\n",
    "cerebro.addanalyzer(bt.analyzers.DrawDown)\n",
    "\n",
    "# Run over everything\n",
    "print('Starting Portfolio Value: %.2f' % cerebro.broker.getvalue())\n",
    "results = cerebro.run()"
   ]
  },
  {
   "cell_type": "markdown",
   "source": [
    "## Strategy reseults"
   ],
   "metadata": {
    "collapsed": false,
    "pycharm": {
     "name": "#%% md\n"
    }
   }
  },
  {
   "cell_type": "code",
   "execution_count": null,
   "outputs": [],
   "source": [
    "print('Final Portfolio Value: %.2f' % cerebro.broker.getvalue())\n",
    "print(f\"Sharpe: {results[0].analyzers.sharperatio.get_analysis()['sharperatio']:.3f}\")\n",
    "print(f\"Norm. Annual Return: {results[0].analyzers.returns.get_analysis()['rnorm100']:.2f}%\")\n",
    "print(f\"Max Drawdown: {results[0].analyzers.drawdown.get_analysis()['max']['drawdown']:.2f}%\")"
   ],
   "metadata": {
    "collapsed": false,
    "pycharm": {
     "name": "#%%\n"
    }
   }
  },
  {
   "cell_type": "markdown",
   "metadata": {
    "pycharm": {
     "name": "#%% md\n"
    }
   },
   "source": [
    "## Plotting the results"
   ]
  },
  {
   "cell_type": "code",
   "execution_count": null,
   "metadata": {
    "pycharm": {
     "name": "#%%\n"
    }
   },
   "outputs": [],
   "source": [
    "# TODO: Displaying graphics from Backtrader in Jupyter notebook is broken\n",
    "# See  https://github.com/enzoampil/fastquant/issues/382\n",
    "#\n",
    "# Returns two figures\n",
    "# figures = cerebro.plot()\n",
    "# figures[0][0]"
   ]
  },
  {
   "cell_type": "markdown",
   "source": [
    "## Notes\n",
    "\n",
    "Adding custom DataFrames to Backtrader:https://community.backtrader.com/topic/1828/how-to-feed-a-custom-pandas-dataframe-in-backtrader\n"
   ],
   "metadata": {
    "collapsed": false,
    "pycharm": {
     "name": "#%% md\n"
    }
   }
  }
 ],
 "metadata": {
  "kernelspec": {
   "display_name": "Python 3 (ipykernel)",
   "language": "python",
   "name": "python3"
  },
  "language_info": {
   "codemirror_mode": {
    "name": "ipython",
    "version": 3
   },
   "file_extension": ".py",
   "mimetype": "text/x-python",
   "name": "python",
   "nbconvert_exporter": "python",
   "pygments_lexer": "ipython3",
   "version": "3.8.1"
  }
 },
 "nbformat": 4,
 "nbformat_minor": 1
}