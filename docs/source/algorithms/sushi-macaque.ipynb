{
 "cells": [
  {
   "cell_type": "markdown",
   "metadata": {
    "pycharm": {
     "name": "#%% md\n"
    }
   },
   "source": [
    "# Sushi Macaque - flip the coin strategy\n",
    "\n",
    "An example how to randomly go all-in to a new token every day.\n",
    "\n",
    "* The prerequisites for the token is that we have not bought it before\n",
    "\n",
    "* The token most have USD 500k+ volume before it can be chosen\n",
    "\n",
    "* This is a simplified example strategy that ignores available liquidity and loss of trade balance due to slippage\n",
    "\n",
    "* The skeleton of this strategy is based on [Teddy Koker's momentum strategy example](https://teddykoker.com/2019/05/momentum-strategy-from-stocks-on-the-move-in-python/)"
   ]
  },
  {
   "cell_type": "markdown",
   "metadata": {
    "pycharm": {
     "name": "#%% md\n"
    }
   },
   "source": [
    "## Creating trading universe\n",
    "\n",
    "First let's import libraries and initialise our dataset client."
   ]
  },
  {
   "cell_type": "code",
   "execution_count": 20,
   "metadata": {
    "pycharm": {
     "name": "#%%\n"
    }
   },
   "outputs": [
    {
     "name": "stdout",
     "output_type": "stream",
     "text": [
      "Started Capitalgram in Jupyter notebook environment, configuration is stored in /Users/moo/.capitalgram\n"
     ]
    }
   ],
   "source": [
    "from random import Random\n",
    "\n",
    "import pandas as pd\n",
    "\n",
    "from capitalgram.chain import ChainId\n",
    "from capitalgram.pair import PairUniverse, PandasPairUniverse\n",
    "\n",
    "try:\n",
    "    import capitalgram\n",
    "except ImportError:\n",
    "    !pip install -e git+https://github.com/miohtama/capitalgram-onchain-dex-quant-data.git#egg=capitalgram\n",
    "    import site\n",
    "    site.main()\n",
    "\n",
    "from capitalgram.client import Capitalgram\n",
    "\n",
    "capitalgram = Capitalgram.create_jupyter_client()"
   ]
  },
  {
   "cell_type": "markdown",
   "metadata": {
    "pycharm": {
     "name": "#%% md\n"
    }
   },
   "source": [
    "Let's create a pair universe for Sushi. [See full example](https://docs.capitalgram.com/examples/pairs.html).\n",
    "We will create a dataset of 4h candles that trade on Sushiswap on Ethereum."
   ]
  },
  {
   "cell_type": "code",
   "execution_count": 21,
   "metadata": {
    "pycharm": {
     "name": "#%%\n"
    }
   },
   "outputs": [
    {
     "name": "stdout",
     "output_type": "stream",
     "text": [
      "Sushiswap on Ethereum has 311 legit trading pairs\n"
     ]
    }
   ],
   "source": [
    "# Decompress the pair dataset to Python map\n",
    "columnar_pair_table = capitalgram.fetch_pair_universe()\n",
    "\n",
    "# Exchange map data is so small it does not need any decompression\n",
    "exchange_universe = capitalgram.fetch_exchange_universe()\n",
    "\n",
    "# Convert PyArrow table to Pandas format to continue working on it\n",
    "all_pairs_dataframe = columnar_pair_table.to_pandas()\n",
    "\n",
    "# Filter down to pairs that only trade on Sushiswap\n",
    "# and also have (had) some meaningful volume in some point of their life\n",
    "sushi_swap = exchange_universe.get_by_name_and_chain(ChainId.ethereum, \"sushiswap\")\n",
    "sushi_pairs: pd.DataFrame = all_pairs_dataframe.loc[\n",
    "    (all_pairs_dataframe['exchange_id'] == sushi_swap.exchange_id) &  # Trades on Sushi\n",
    "    (all_pairs_dataframe['buy_volume_all_time'] > 500_000)  # 500k min buys\n",
    "]\n",
    "\n",
    "# Create a Python set of pair ids\n",
    "wanted_pair_ids = sushi_pairs[\"pair_id\"]\n",
    "\n",
    "# Make the trading pair data easily accessible\n",
    "pair_universe = PandasPairUniverse(sushi_pairs)\n",
    "\n",
    "print(f\"Sushiswap on Ethereum has {len(pair_universe.get_all_pair_ids())} legit trading pairs\")"
   ]
  },
  {
   "cell_type": "markdown",
   "metadata": {
    "pycharm": {
     "name": "#%% md\n"
    }
   },
   "source": [
    "Get daily candles and filter them against our wanted pair set."
   ]
  },
  {
   "cell_type": "code",
   "execution_count": 22,
   "metadata": {
    "pycharm": {
     "name": "#%%\n"
    }
   },
   "outputs": [
    {
     "name": "stdout",
     "output_type": "stream",
     "text": [
      "Candles to feed to the strategy, all pairs is 32457\n"
     ]
    }
   ],
   "source": [
    "import datetime\n",
    "\n",
    "from capitalgram.candle import CandleBucket, GroupedCandleUniverse\n",
    "from capitalgram.pair import PandasPairUniverse\n",
    "from capitalgram.frameworks.backtrader import prepare_candles_for_backtrader\n",
    "\n",
    "# Get daily candles as Pandas DataFrame\n",
    "all_candles = capitalgram.fetch_all_candles(CandleBucket.h24).to_pandas()\n",
    "sushi_candles: pd.DataFrame = all_candles.loc[all_candles[\"pair_id\"].isin(wanted_pair_ids)]\n",
    "\n",
    "sushi_candles = prepare_candles_for_backtrader(sushi_candles)\n",
    "\n",
    "# We limit candles to a specific date range to make this notebook deterministic\n",
    "start = datetime.datetime(2020, 10, 1)\n",
    "end = datetime.datetime(2021, 6, 1)\n",
    "\n",
    "sushi_candles = sushi_candles[(sushi_candles.index >= start) & (sushi_candles.index <= end)]\n",
    "\n",
    "# Group candles by the trading pair ticker\n",
    "sushi_tickers = GroupedCandleUniverse(sushi_candles)\n",
    "\n",
    "print(f\"Candles to feed to the strategy, all pairs is {len(sushi_candles)}\")\n"
   ]
  },
  {
   "cell_type": "markdown",
   "metadata": {
    "pycharm": {
     "name": "#%% md\n"
    }
   },
   "source": [
    "## Creating coin flip backtrader strategy\n",
    "\n",
    "[See the Backtrader quickstart tutorial](https://www.backtrader.com/docu/quickstart/quickstart/).\n",
    "\n",
    "### Cumulative volume indicator\n",
    "\n",
    "We create a [Backtrader indicator based on PeriodN indicator](https://github.com/mementum/backtrader/blob/0fa63ef4a35dc53cc7320813f8b15480c8f85517/backtrader/indicators/basicops.py) how much cumulative trade volume the trading pair has seen in the past. We use this indicator to filter out trading pairs that seem to be dead, as no trading happening, and thus not subject to our random entry.\n",
    "\n",
    "More information about [Backtrader custom indicators](https://www.backtrader.com/docu/inddev/)."
   ]
  },
  {
   "cell_type": "code",
   "execution_count": 23,
   "metadata": {
    "pycharm": {
     "name": "#%%\n"
    }
   },
   "outputs": [],
   "source": [
    "import math\n",
    "\n",
    "import backtrader as bt\n",
    "from backtrader.indicators import PeriodN\n",
    "\n",
    "\n",
    "class PastTradeVolumeIndicator(PeriodN):\n",
    "    \"\"\"Indicates whether the trading pair has reached certain volume for the last N days.\n",
    "\n",
    "    Based on indicator base class that takes period (days) as an input.\n",
    "    \"\"\"\n",
    "\n",
    "    lines = ('cum_volume',)\n",
    "\n",
    "    def next(self):\n",
    "        # This indicator is feed with volume line.\n",
    "        # We simply take the sum of the daily volumes based on the period (number of days)\n",
    "        datasum = math.fsum(self.data.get(size=self.p.period))\n",
    "        self.lines.cum_volume[0] = datasum\n"
   ]
  },
  {
   "cell_type": "markdown",
   "source": [
    "### Coinflip strategy core\n",
    "\n",
    "By using the indicator from the above here is our strategy."
   ],
   "metadata": {
    "collapsed": false,
    "pycharm": {
     "name": "#%% md\n"
    }
   }
  },
  {
   "cell_type": "code",
   "execution_count": 24,
   "outputs": [],
   "source": [
    "from capitalgram.frameworks.backtrader import CapitalgramFeed\n",
    "\n",
    "class SushiMacaqueStrategy(bt.Strategy):\n",
    "    \"\"\"A strategy that picks a new token every day.\"\"\"\n",
    "\n",
    "    def __init__(self, pair_universe: PandasPairUniverse, seed: int):\n",
    "        #: Allows us to print human-readable pair information\n",
    "        self.pair_universe = pair_universe\n",
    "\n",
    "        #: Initialize (somewhat) determininistic random number generator\n",
    "        self.dice = Random(seed)\n",
    "\n",
    "        #: We operate on daily candles.\n",
    "        #: At each tick, we process to the next candle\n",
    "        self.day = 0\n",
    "\n",
    "        #: Cumulative volume indicator for each of the data feed\n",
    "        self.indicators = {}\n",
    "        pair: CapitalgramFeed\n",
    "        for pair in self.datas:\n",
    "            self.indicators[pair] = PastTradeVolumeIndicator(pair.lines.volume)\n",
    "\n",
    "    def next(self):\n",
    "        # Simply log the closing price of the series from the reference\n",
    "        self.day += 1\n",
    "\n",
    "        # Close any existing position\n",
    "        # for i, d in enumerate(self.rankings):\n",
    "        #    if self.getposition(self.data).size:\n",
    "        #        if i > num_stocks * 0.2 or d < self.inds[d][\"sma100\"]:\n",
    "        #            self.close(d)\n",
    "        # self.close()\n",
    "        cash = self.broker.get_cash()\n",
    "\n",
    "        random_pair: CapitalgramFeed = self.dice.choice(self.datas)\n",
    "        print(\"Today we are buying \", random_pair.pair_info.base_token_symbol, \"-\", random_pair.pair_info.quote_token_symbol)"
   ],
   "metadata": {
    "collapsed": false,
    "pycharm": {
     "name": "#%%\n"
    }
   }
  },
  {
   "cell_type": "markdown",
   "metadata": {
    "pycharm": {
     "name": "#%% md\n"
    }
   },
   "source": [
    "## Feed the strategy\n",
    "\n",
    "Feed in Sushiswap data to the backtrader strategy"
   ]
  },
  {
   "cell_type": "code",
   "execution_count": 25,
   "metadata": {
    "pycharm": {
     "name": "#%%\n"
    }
   },
   "outputs": [],
   "source": [
    "from capitalgram.frameworks.backtrader import add_dataframes_as_feeds\n",
    "\n",
    "# Create a cerebro entity\n",
    "cerebro = bt.Cerebro(stdstats=False)\n",
    "\n",
    "# Add a strategy\n",
    "cerebro.addstrategy(SushiMacaqueStrategy, pair_universe=pair_universe, seed=0x1000)\n",
    "\n",
    "# Pass all Sushi pairs to the data fees to the strategy\n",
    "# noinspection JupyterKernel\n",
    "feeds = [df for pair_id, df in sushi_tickers.get_all_pairs()]\n",
    "add_dataframes_as_feeds(\n",
    "    cerebro,\n",
    "    pair_universe,\n",
    "    feeds,\n",
    "    start,\n",
    "    end,\n",
    "    CandleBucket.h24)"
   ]
  },
  {
   "cell_type": "markdown",
   "metadata": {},
   "source": [
    "## Running the strategy\n",
    "\n",
    "We are adding some observers that tell us how well the strategy performs."
   ]
  },
  {
   "cell_type": "code",
   "execution_count": 26,
   "metadata": {
    "pycharm": {
     "name": "#%%\n"
    }
   },
   "outputs": [
    {
     "name": "stdout",
     "output_type": "stream",
     "text": [
      "Starting Portfolio Value: 10000.00\n",
      "Today we are buying  zLOT - WETH\n",
      "Today we are buying  BANK - WETH\n",
      "Today we are buying  arte - WETH\n",
      "Today we are buying  ARMOR - WETH\n",
      "Today we are buying  JRT - WETH\n",
      "Today we are buying  $ROPE - WETH\n",
      "Today we are buying  RULER - WETH\n",
      "Today we are buying  arNXM - WETH\n",
      "Today we are buying  aETHc - WETH\n",
      "Today we are buying  HEGIC - WETH\n",
      "Today we are buying  sil - DAI\n",
      "Today we are buying  OCEAN - WETH\n",
      "Today we are buying  ONX - WETH\n",
      "Today we are buying  UMB - WETH\n",
      "Today we are buying  ADX - WETH\n",
      "Today we are buying  COMP - WETH\n",
      "Today we are buying  TEL - WETH\n",
      "Today we are buying  RC_WETH_750_DAI_2021_3_31 - DAI\n",
      "Today we are buying  LCX - WETH\n",
      "Today we are buying  AXS - WETH\n",
      "Today we are buying  MUSH - WETH\n",
      "Today we are buying  1ONE - WETH\n",
      "Today we are buying  SNX - WETH\n",
      "Today we are buying  LEND - WETH\n",
      "Today we are buying  NU - WETH\n",
      "Today we are buying  MIS - USDT\n",
      "Today we are buying  TBTC - WBTC\n",
      "Today we are buying  LINA - WETH\n",
      "Today we are buying  EGT - WETH\n",
      "Today we are buying  AXS - WETH\n",
      "Today we are buying  GOVI - WETH\n",
      "Today we are buying  SHIB - WETH\n",
      "Today we are buying  SUPER - WETH\n",
      "Today we are buying  ROOK - WETH\n",
      "Today we are buying  BOBA - WETH\n",
      "Today we are buying  sil - WETH\n",
      "Today we are buying  SFI - WETH\n",
      "Today we are buying  WSCRT - WETH\n",
      "Today we are buying  GNYerc20 - WETH\n",
      "Today we are buying  WETH - USDT\n",
      "Today we are buying  BTC2x-FLI - WBTC\n",
      "Today we are buying  BAO - WETH\n",
      "Today we are buying  GRT - WETH\n",
      "Today we are buying  INV - WETH\n",
      "Today we are buying  oBTC - WETH\n",
      "Today we are buying  DOGES - WETH\n",
      "Today we are buying  LIGHT - WETH\n",
      "Today we are buying  scUSD - USDT\n",
      "Today we are buying  DIA - WETH\n",
      "Today we are buying  arte - WETH\n",
      "Today we are buying  RC_WETH_750_DAI_2021_3_31 - DAI\n",
      "Today we are buying  CRD - WETH\n",
      "Today we are buying  ANY - WETH\n",
      "Today we are buying  sil - DAI\n",
      "Today we are buying  AMPL - WETH\n",
      "Today we are buying  FNX - WETH\n",
      "Today we are buying  CRO - WETH\n",
      "Today we are buying  ANY - WETH\n",
      "Today we are buying  <unknown> - WETH\n",
      "Today we are buying  BZRX - WETH\n",
      "Today we are buying  yyDAI+yUSDC+yUSDT+yTUSD - WETH\n",
      "Today we are buying  AMP - WETH\n",
      "Today we are buying  RC_WETH_750_DAI_2021_3_31 - DAI\n",
      "Today we are buying  SGT - WETH\n",
      "Today we are buying  RUNE - WETH\n",
      "Today we are buying  RGT - WETH\n",
      "Today we are buying  sil - DAI\n",
      "Today we are buying  BIOS - WETH\n",
      "Today we are buying  <unknown> - WETH\n",
      "Today we are buying  NFTI - WETH\n",
      "Today we are buying  RC_COVER_250_DAI_2021_3_31 - DAI\n",
      "Today we are buying  DNT - WETH\n",
      "Today we are buying  FTX Token - WETH\n",
      "Today we are buying  TEL - WETH\n",
      "Today we are buying  ALCX - WETH\n",
      "Today we are buying  ARMOR - DAI\n",
      "Today we are buying  SFI - WETH\n",
      "Today we are buying  NU - WETH\n",
      "Today we are buying  MLN - WETH\n",
      "Today we are buying  SRM - WETH\n",
      "Today we are buying  YAX - WETH\n",
      "Today we are buying  DIA - WETH\n",
      "Today we are buying  arNXM - WETH\n",
      "Today we are buying  PUNK-ZOMBIE - WETH\n",
      "Today we are buying  API3 - WETH\n",
      "Today we are buying  yveCRV-DAO - WETH\n",
      "Today we are buying  ESD - WETH\n",
      "Today we are buying  PICKLE - WETH\n",
      "Today we are buying  BOND - WETH\n",
      "Today we are buying  ALPHA - WETH\n",
      "Today we are buying  BCP - WETH\n",
      "Today we are buying  DPI - WETH\n",
      "Today we are buying  1INCH - WETH\n",
      "Today we are buying  PMON - WETH\n",
      "Today we are buying  INDEX - WETH\n",
      "Today we are buying  SUPER - WETH\n",
      "Today we are buying  KP3R - WETH\n",
      "Today we are buying  PUNK-BASIC - WETH\n",
      "Today we are buying  wNXM - WETH\n",
      "Today we are buying  ALPHA - WETH\n",
      "Today we are buying  cvxCRV - WETH\n",
      "Today we are buying  SPANK - WETH\n",
      "Today we are buying  PNK - WETH\n",
      "Today we are buying  SUPER - WETH\n",
      "Today we are buying  VSP - WETH\n",
      "Today we are buying  NEAR - WETH\n",
      "Today we are buying  BAC - WETH\n",
      "Today we are buying  LINA - WETH\n",
      "Today we are buying  YAX - WETH\n",
      "Today we are buying  UBXT - WETH\n",
      "Today we are buying  MIC - USDT\n",
      "Today we are buying  LCX - WETH\n",
      "Today we are buying  YLD - WETH\n",
      "Today we are buying  eMax - WETH\n",
      "Today we are buying  FLOAT - WETH\n",
      "Today we are buying  OXY - WETH\n",
      "Today we are buying  JRT - WETH\n",
      "Today we are buying  YOP - WETH\n",
      "Today we are buying  TORN - WETH\n",
      "Today we are buying  MIS2 - USDT\n",
      "Today we are buying  SWAG - WETH\n",
      "Today we are buying  DAO - WETH\n",
      "Today we are buying  DERI - USDT\n",
      "Today we are buying  DSD - WETH\n",
      "Today we are buying  CNFI - WETH\n",
      "Today we are buying  yveCRV-DAO - WETH\n",
      "Today we are buying  $DG - WETH\n",
      "Today we are buying  PNK - WETH\n",
      "Today we are buying  UFT - WETH\n",
      "Today we are buying  buidl - WETH\n",
      "Today we are buying  ASSY - WETH\n",
      "Today we are buying  WOO - USDC\n",
      "Today we are buying  xSUSHI - USDC\n",
      "Today we are buying  SDT - WETH\n",
      "Today we are buying  NFTI - WETH\n",
      "Today we are buying  SEFI - WETH\n",
      "Today we are buying  erowan - WETH\n",
      "Today we are buying  alUSD - WETH\n",
      "Today we are buying  NFTI - WETH\n",
      "Today we are buying  SUSHI - WETH\n",
      "Today we are buying  OHM - DAI\n",
      "Today we are buying  RGT - WETH\n",
      "Today we are buying  ALPHA - WETH\n",
      "Today we are buying  ARMOR - DAI\n",
      "Today we are buying  MATIC - WETH\n",
      "Today we are buying  NCT - WETH\n",
      "Today we are buying  POOL - WETH\n",
      "Today we are buying  SPANK - WETH\n",
      "Today we are buying  SNX - WETH\n",
      "Today we are buying  DUCK - WETH\n",
      "Today we are buying  arNXM - WETH\n",
      "Today we are buying  SWAG - WETH\n",
      "Today we are buying  aETHc - WETH\n",
      "Today we are buying  WSCRT - WETH\n",
      "Today we are buying  ADX - WETH\n",
      "Today we are buying  ARCH - WETH\n",
      "Today we are buying  BASK - WETH\n",
      "Today we are buying  SFI - WETH\n",
      "Today we are buying  BASK - WETH\n",
      "Today we are buying  SUPER - WETH\n",
      "Today we are buying  XYO - WETH\n",
      "Today we are buying  SHIB - WETH\n",
      "Today we are buying  TBTC - WBTC\n",
      "Today we are buying  MIC - USDT\n",
      "Today we are buying  AKRO - WETH\n",
      "Today we are buying  TBTC - WBTC\n",
      "Today we are buying  RSR - WETH\n",
      "Today we are buying  TRU - WETH\n",
      "Today we are buying  LINA - WETH\n",
      "Today we are buying  TUSD - WETH\n",
      "Today we are buying  MASK - WETH\n",
      "Today we are buying  DELTA rLP - WETH\n",
      "Today we are buying  GNO - WETH\n",
      "Today we are buying  BAND - WETH\n",
      "Today we are buying  eMax - WETH\n",
      "Today we are buying  RUNE - WETH\n",
      "Today we are buying  LEND - WETH\n",
      "Today we are buying  DEV - WETH\n",
      "Today we are buying  WETH - WBTC\n",
      "Today we are buying  STAKE - WETH\n",
      "Today we are buying  TRU - WETH\n",
      "Today we are buying  DFX - WETH\n",
      "Today we are buying  REVV - WETH\n",
      "Today we are buying  API3 - WETH\n",
      "Today we are buying  LPT - WETH\n",
      "Today we are buying  NFTX - WETH\n",
      "Today we are buying  ALEPH - WETH\n",
      "Today we are buying  zLOT - WETH\n",
      "Today we are buying  BAO - USDC\n",
      "Today we are buying  CRO - WETH\n",
      "Today we are buying  OCEAN - WETH\n",
      "Today we are buying  SFI - WETH\n",
      "Today we are buying  RSR - WETH\n",
      "Today we are buying  BOR - WETH\n",
      "Today we are buying  PMON - WETH\n",
      "Today we are buying  zLOT - WETH\n",
      "Today we are buying  BIOS - WETH\n",
      "Today we are buying  OHM - WETH\n",
      "Today we are buying  EGT - WETH\n",
      "Today we are buying  ELX - WETH\n",
      "Today we are buying  WETH - DAI\n",
      "Today we are buying  mbBASED - WETH\n",
      "Today we are buying  DAO - WETH\n",
      "Today we are buying  DUCK - WETH\n",
      "Today we are buying  RC_COVER_250_DAI_2021_3_31 - DAI\n",
      "Today we are buying  YPIE - WETH\n",
      "Today we are buying  WETH - USDT\n",
      "Today we are buying  NU - WETH\n",
      "Today we are buying  stETH - WETH\n",
      "Today we are buying  XBE - USDT\n",
      "Today we are buying  MLN - WETH\n",
      "Today we are buying  FOLD - WETH\n",
      "Today we are buying  SEFI - WETH\n",
      "Today we are buying  AMPL - WETH\n",
      "Today we are buying  UMB - WETH\n",
      "Today we are buying  FORCE - WETH\n",
      "Today we are buying  NU - WETH\n",
      "Today we are buying  DAO - WETH\n",
      "Today we are buying  BTC2x-FLI - WBTC\n",
      "Today we are buying  DOUGH - WETH\n",
      "Today we are buying  ARCX - WETH\n",
      "Today we are buying  PIPT - WETH\n",
      "Today we are buying  wNXM - WETH\n",
      "Today we are buying  GNO - WETH\n",
      "Today we are buying  MASK - USDC\n",
      "Today we are buying  SPELL - WETH\n",
      "Today we are buying  DIGG - WBTC\n",
      "Today we are buying  DFX - WETH\n",
      "Today we are buying  VSP - WETH\n",
      "Today we are buying  SAK3 - USDC\n",
      "Today we are buying  DEFI+L - WETH\n",
      "Today we are buying  WSCRT - WETH\n",
      "Today we are buying  YFX - USDT\n",
      "Today we are buying  GNO - WETH\n",
      "Today we are buying  STAKE - WETH\n",
      "Today we are buying  POOL - WETH\n",
      "Today we are buying  ICHI - WETH\n",
      "Today we are buying  BASE - WETH\n",
      "Today we are buying  USDP - WETH\n",
      "Today we are buying  FTX Token - WETH\n",
      "Today we are buying  sil - WETH\n",
      "Today we are buying  SX - WETH\n",
      "Today we are buying  UFT - WETH\n",
      "Today we are buying  MUSH - WETH\n"
     ]
    }
   ],
   "source": [
    "cerebro.addobserver(bt.observers.Value)\n",
    "cerebro.addanalyzer(bt.analyzers.SharpeRatio, riskfreerate=0.0)\n",
    "cerebro.addanalyzer(bt.analyzers.Returns)\n",
    "cerebro.addanalyzer(bt.analyzers.DrawDown)\n",
    "\n",
    "# Run over everything\n",
    "print('Starting Portfolio Value: %.2f' % cerebro.broker.getvalue())\n",
    "results = cerebro.run()\n",
    "\n",
    "strategy = results[0]\n",
    "\n",
    "# The number of ticks the strategy performed\n",
    "assert strategy.day == 244, f\"Simulated trading for {strategy.day} days\""
   ]
  },
  {
   "cell_type": "markdown",
   "source": [
    "## Analysing the portfolio results"
   ],
   "metadata": {
    "collapsed": false,
    "pycharm": {
     "name": "#%% md\n"
    }
   }
  },
  {
   "cell_type": "code",
   "execution_count": 27,
   "outputs": [
    {
     "ename": "SyntaxError",
     "evalue": "invalid syntax (1460678095.py, line 8)",
     "output_type": "error",
     "traceback": [
      "\u001B[0;36m  File \u001B[0;32m\"/var/folders/wg/6tjsdnt511s90hqpxtxgkndc0000gn/T/ipykernel_61436/1460678095.py\"\u001B[0;36m, line \u001B[0;32m8\u001B[0m\n\u001B[0;31m    [Adding custom DataFrames to Backtrader](https://community.backtrader.com/topic/1828/how-to-feed-a-custom-pandas-dataframe-in-backtrader)\u001B[0m\n\u001B[0m            ^\u001B[0m\n\u001B[0;31mSyntaxError\u001B[0m\u001B[0;31m:\u001B[0m invalid syntax\n"
     ]
    }
   ],
   "source": [
    "print('Final Portfolio Value: %.2f' % cerebro.broker.getvalue())\n",
    "print(f\"Sharpe: {results[0].analyzers.sharperatio.get_analysis()['sharperatio']:.3f}\")\n",
    "print(f\"Norm. Annual Return: {results[0].analyzers.returns.get_analysis()['rnorm100']:.2f}%\")\n",
    "print(f\"Max Drawdown: {results[0].analyzers.drawdown.get_analysis()['max']['drawdown']:.2f}%\")"
   ],
   "metadata": {
    "collapsed": false,
    "pycharm": {
     "name": "#%%\n"
    }
   }
  },
  {
   "cell_type": "markdown",
   "source": [
    "## Notes\n",
    "\n",
    "[Adding custom DataFrames to Backtrader](https://community.backtrader.com/topic/1828/how-to-feed-a-custom-pandas-dataframe-in-backtrader)\n"
   ],
   "metadata": {
    "collapsed": false,
    "pycharm": {
     "name": "#%% md\n"
    }
   }
  }
 ],
 "metadata": {
  "kernelspec": {
   "name": "pycharm-69593197",
   "language": "python",
   "display_name": "PyCharm (dex-ohlcv)"
  },
  "language_info": {
   "codemirror_mode": {
    "name": "ipython",
    "version": 3
   },
   "file_extension": ".py",
   "mimetype": "text/x-python",
   "name": "python",
   "nbconvert_exporter": "python",
   "pygments_lexer": "ipython3",
   "version": "3.8.1"
  }
 },
 "nbformat": 4,
 "nbformat_minor": 1
}