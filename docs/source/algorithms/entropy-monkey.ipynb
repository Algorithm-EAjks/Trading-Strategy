{
 "cells": [
  {
   "cell_type": "markdown",
   "metadata": {
    "pycharm": {
     "name": "#%% md\n"
    }
   },
   "source": [
    "# Entropy Monkey - flip the coin strategy\n",
    "\n",
    "An example how to randomly go all-in to a new token every day.\n",
    "\n",
    "This is not a real strategy, but an example of different facilities available for the trade: how to construct a trading pair universe, how to check price, how to buy, how to close position\n",
    "\n",
    "* Tokens need to have have USD 500k+ all-time cumulative volume before it can be chosen\n",
    "\n",
    "* This is a simplified example strategy that ignores available liquidity and loss of trade balance due to slippage, currency conversions, etc.\n",
    "\n",
    "* This is not a Monte-Carlo simulation. The outcome of the strategy depends purely on which seed number you choose to initialise the random number generator. Basically, your skill is 100% of luck."
   ]
  },
  {
   "cell_type": "markdown",
   "metadata": {
    "pycharm": {
     "name": "#%% md\n"
    }
   },
   "source": [
    "## Creating trading universe\n",
    "\n",
    "First let's import libraries and initialise our dataset client."
   ]
  },
  {
   "cell_type": "code",
   "execution_count": 36,
   "metadata": {
    "pycharm": {
     "name": "#%%\n"
    }
   },
   "outputs": [
    {
     "name": "stdout",
     "output_type": "stream",
     "text": [
      "Started Capitalgram in Jupyter notebook environment, configuration is stored in /Users/moo/.capitalgram\n"
     ]
    }
   ],
   "source": [
    "from random import Random\n",
    "\n",
    "import pandas as pd\n",
    "\n",
    "from capitalgram.chain import ChainId\n",
    "from capitalgram.pair import PairUniverse, PandasPairUniverse\n",
    "\n",
    "try:\n",
    "    import capitalgram\n",
    "except ImportError:\n",
    "    !pip install -e git+https://github.com/miohtama/capitalgram-onchain-dex-quant-data.git#egg=capitalgram\n",
    "    import site\n",
    "    site.main()\n",
    "\n",
    "from capitalgram.client import Capitalgram\n",
    "\n",
    "capitalgram = Capitalgram.create_jupyter_client()"
   ]
  },
  {
   "cell_type": "markdown",
   "metadata": {
    "pycharm": {
     "name": "#%% md\n"
    }
   },
   "source": [
    "Let's create a pair universe for Sushi. [See full example](https://docs.capitalgram.com/examples/pairs.html).\n",
    "We will create a dataset of 4h candles that trade on Sushiswap on Ethereum."
   ]
  },
  {
   "cell_type": "code",
   "execution_count": 37,
   "metadata": {
    "pycharm": {
     "name": "#%%\n"
    }
   },
   "outputs": [
    {
     "name": "stdout",
     "output_type": "stream",
     "text": [
      "Sushiswap on Ethereum has 311 legit trading pairs\n"
     ]
    }
   ],
   "source": [
    "# Decompress the pair dataset to Python map\n",
    "columnar_pair_table = capitalgram.fetch_pair_universe()\n",
    "\n",
    "# Exchange map data is so small it does not need any decompression\n",
    "exchange_universe = capitalgram.fetch_exchange_universe()\n",
    "\n",
    "# Convert PyArrow table to Pandas format to continue working on it\n",
    "all_pairs_dataframe = columnar_pair_table.to_pandas()\n",
    "\n",
    "# Filter down to pairs that only trade on Sushiswap\n",
    "# and also have (had) some meaningful volume in some point of their life\n",
    "sushi_swap = exchange_universe.get_by_name_and_chain(ChainId.ethereum, \"sushiswap\")\n",
    "sushi_pairs: pd.DataFrame = all_pairs_dataframe.loc[\n",
    "    (all_pairs_dataframe['exchange_id'] == sushi_swap.exchange_id) &  # Trades on Sushi\n",
    "    (all_pairs_dataframe['buy_volume_all_time'] > 500_000)  # 500k min buys\n",
    "]\n",
    "\n",
    "# Create a Python set of pair ids\n",
    "wanted_pair_ids = sushi_pairs[\"pair_id\"]\n",
    "\n",
    "# Make the trading pair data easily accessible\n",
    "pair_universe = PandasPairUniverse(sushi_pairs)\n",
    "\n",
    "print(f\"Sushiswap on Ethereum has {len(pair_universe.get_all_pair_ids())} legit trading pairs\")"
   ]
  },
  {
   "cell_type": "markdown",
   "metadata": {
    "pycharm": {
     "name": "#%% md\n"
    }
   },
   "source": [
    "Get daily candles and filter them against our wanted pair set."
   ]
  },
  {
   "cell_type": "code",
   "execution_count": 38,
   "metadata": {
    "pycharm": {
     "name": "#%%\n"
    }
   },
   "outputs": [
    {
     "name": "stdout",
     "output_type": "stream",
     "text": [
      "Candles to feed to the strategy, all pairs is 32457\n"
     ]
    }
   ],
   "source": [
    "import datetime\n",
    "\n",
    "from capitalgram.candle import CandleBucket, GroupedCandleUniverse\n",
    "from capitalgram.pair import PandasPairUniverse\n",
    "from capitalgram.frameworks.backtrader import prepare_candles_for_backtrader\n",
    "\n",
    "# Get daily candles as Pandas DataFrame\n",
    "all_candles = capitalgram.fetch_all_candles(CandleBucket.h24).to_pandas()\n",
    "sushi_candles: pd.DataFrame = all_candles.loc[all_candles[\"pair_id\"].isin(wanted_pair_ids)]\n",
    "\n",
    "sushi_candles = prepare_candles_for_backtrader(sushi_candles)\n",
    "\n",
    "# We limit candles to a specific date range to make this notebook deterministic\n",
    "start = datetime.datetime(2020, 10, 1)\n",
    "end = datetime.datetime(2021, 6, 1)\n",
    "\n",
    "sushi_candles = sushi_candles[(sushi_candles.index >= start) & (sushi_candles.index <= end)]\n",
    "\n",
    "# Group candles by the trading pair ticker\n",
    "sushi_tickers = GroupedCandleUniverse(sushi_candles)\n",
    "\n",
    "print(f\"Candles to feed to the strategy, all pairs is {len(sushi_candles)}\")\n"
   ]
  },
  {
   "cell_type": "markdown",
   "metadata": {
    "pycharm": {
     "name": "#%% md\n"
    }
   },
   "source": [
    "## Creating coin flip backtrader strategy\n",
    "\n",
    "[See the Backtrader quickstart tutorial](https://www.backtrader.com/docu/quickstart/quickstart/).\n",
    "\n",
    "### Cumulative volume indicator\n",
    "\n",
    "We create a [Backtrader indicator based on PeriodN indicator](https://github.com/mementum/backtrader/blob/0fa63ef4a35dc53cc7320813f8b15480c8f85517/backtrader/indicators/basicops.py) how much cumulative trade volume the trading pair has seen in the past. We use this indicator to filter out trading pairs that seem to be dead, as no trading happening, and thus not subject to our random entry.\n",
    "\n",
    "More information about [Backtrader custom indicators](https://www.backtrader.com/docu/inddev/)."
   ]
  },
  {
   "cell_type": "code",
   "execution_count": 39,
   "metadata": {
    "pycharm": {
     "name": "#%%\n"
    }
   },
   "outputs": [],
   "source": [
    "import math\n",
    "\n",
    "import backtrader as bt\n",
    "from backtrader.indicators import PeriodN\n",
    "\n",
    "\n",
    "class PastTradeVolumeIndicator(PeriodN):\n",
    "    \"\"\"Indicates whether the trading pair has reached certain volume for the last N days.\n",
    "\n",
    "    Based on indicator base class that takes period (days) as an input.\n",
    "    \"\"\"\n",
    "\n",
    "    lines = ('cum_volume',)\n",
    "\n",
    "    def next(self):\n",
    "        # This indicator is feed with volume line.\n",
    "        # We simply take the sum of the daily volumes based on the period (number of days)\n",
    "        datasum = math.fsum(self.data.get(size=self.p.period))\n",
    "        self.lines.cum_volume[0] = datasum\n"
   ]
  },
  {
   "cell_type": "markdown",
   "source": [
    "### Coinflip strategy core\n",
    "\n",
    "By using the indicator from the above here is our strategy."
   ],
   "metadata": {
    "collapsed": false,
    "pycharm": {
     "name": "#%% md\n"
    }
   }
  },
  {
   "cell_type": "code",
   "execution_count": 40,
   "outputs": [],
   "source": [
    "from capitalgram.frameworks.backtrader import CapitalgramFeed\n",
    "\n",
    "class EntropyMonkey(bt.Strategy):\n",
    "    \"\"\"A strategy that picks a new token to go all-in every day.\"\"\"\n",
    "\n",
    "    def __init__(self, pair_universe: PandasPairUniverse, seed: int):\n",
    "        #: Allows us to print human-readable pair information\n",
    "        self.pair_universe = pair_universe\n",
    "\n",
    "        #: Initialize (somewhat) determininistic random number generator\n",
    "        self.dice = Random(seed)\n",
    "\n",
    "        #: We operate on daily candles.\n",
    "        #: At each tick, we process to the next candle\n",
    "        self.day = 0\n",
    "\n",
    "        #: Cumulative volume indicator for each of the data feed\n",
    "        self.indicators = {}\n",
    "        pair: CapitalgramFeed\n",
    "        for pair in self.datas:\n",
    "            self.indicators[pair] = PastTradeVolumeIndicator(pair.lines.volume)\n",
    "\n",
    "        # How much USD volume token needs to have in order to be eligible for a pick\n",
    "        self.cumulative_volume_threshold = 500_000\n",
    "\n",
    "        # How many times we try to pick a token pair to buy\n",
    "        # before giving up (at early days there might not be enough volume)\n",
    "        self.pick_attempts = 100\n",
    "\n",
    "        # If our balance goes below this considering giving up\n",
    "        self.cash_balance_death_threshold = 100\n",
    "\n",
    "    def next(self):\n",
    "        \"\"\"Tick the strategy.\n",
    "\n",
    "        Because we are using daily candles, tick will run once per each day.\n",
    "        \"\"\"\n",
    "\n",
    "        # Advance to the next day\n",
    "        self.day += 1\n",
    "\n",
    "        # Pick a new token to buy\n",
    "        for i in range(self.pick_attempts):\n",
    "            random_pair: CapitalgramFeed = self.dice.choice(self.datas)\n",
    "            pair_info = random_pair.pair_info\n",
    "            cum_volume_indicator = self.indicators[random_pair]\n",
    "            volume = cum_volume_indicator.lines.cum_volume[0]\n",
    "            if volume > self.cumulative_volume_threshold:\n",
    "                break\n",
    "        else:\n",
    "            print(f\"On day #{self.day} did not find any token to buy\")\n",
    "            return\n",
    "\n",
    "        # Sell any existing token we have\n",
    "        for ticker in self.datas:\n",
    "             if self.getposition(ticker).size > 0:\n",
    "                print(f\"On day #{self.day}, selling existing position of {pair_info.base_token_symbol} - {pair_info.quote_token_symbol}\")\n",
    "                self.close(ticker)\n",
    "\n",
    "        # Buy in with all money we have.\n",
    "        # We are not really worried about order size quantisation in crypto.\n",
    "        cash = self.broker.get_cash()\n",
    "\n",
    "        if cash < self.cash_balance_death_threshold:\n",
    "            # We are busted\n",
    "            return\n",
    "\n",
    "        # Buy using the daily candle closing price as the rate\n",
    "        price = random_pair.close[0]\n",
    "        assert price > 0\n",
    "        size = cash / price\n",
    "\n",
    "        # Sell the existing position\n",
    "        print(f\"On day #{self.day} we are buying {pair_info.base_token_symbol} - {pair_info.quote_token_symbol} that has all-time vol of {volume}. Buy in at the close price of {price} {pair_info.base_token_symbol}, cash at hand {cash} USD\")\n",
    "\n",
    "        self.buy(random_pair, size=size, exectype=bt.Order.Market)\n"
   ],
   "metadata": {
    "collapsed": false,
    "pycharm": {
     "name": "#%%\n"
    }
   }
  },
  {
   "cell_type": "markdown",
   "metadata": {
    "pycharm": {
     "name": "#%% md\n"
    }
   },
   "source": [
    "## Feed the strategy\n",
    "\n",
    "Feed in Sushiswap data to the backtrader strategy"
   ]
  },
  {
   "cell_type": "code",
   "execution_count": 41,
   "metadata": {
    "pycharm": {
     "name": "#%%\n"
    }
   },
   "outputs": [],
   "source": [
    "from capitalgram.frameworks.backtrader import add_dataframes_as_feeds\n",
    "\n",
    "# Create a cerebro entity\n",
    "cerebro = bt.Cerebro(stdstats=False)\n",
    "\n",
    "# Add a strategy\n",
    "cerebro.addstrategy(EntropyMonkey, pair_universe=pair_universe, seed=0x1000)\n",
    "\n",
    "# Pass all Sushi pairs to the data fees to the strategy\n",
    "# noinspection JupyterKernel\n",
    "feeds = [df for pair_id, df in sushi_tickers.get_all_pairs()]\n",
    "add_dataframes_as_feeds(\n",
    "    cerebro,\n",
    "    pair_universe,\n",
    "    feeds,\n",
    "    start,\n",
    "    end,\n",
    "    CandleBucket.h24)"
   ]
  },
  {
   "cell_type": "markdown",
   "metadata": {},
   "source": [
    "## Running the strategy\n",
    "\n",
    "We are adding some observers that tell us how well the strategy performs."
   ]
  },
  {
   "cell_type": "code",
   "execution_count": 42,
   "metadata": {
    "pycharm": {
     "name": "#%%\n"
    }
   },
   "outputs": [
    {
     "name": "stdout",
     "output_type": "stream",
     "text": [
      "Starting portfolio Value: 10000.00\n",
      "On day #1 we are buying COMP - WETH that has all-time vol of 580770.4375. Buy in at the close price of 127.49980926513672 COMP, cash at hand 10000.0 USD\n",
      "On day #2 we are buying SNX - WETH that has all-time vol of 1738957.25. Buy in at the close price of 4.367995262145996 SNX, cash at hand 10000.0 USD\n",
      "On day #3, selling existing position of <Pair SNX - WETH (0xa1d7b2d891e3a1f9ef4bbc5be20630c2feb1c470) at exchange #22 on Ethereum>\n",
      "On day #4 we are buying WETH - USDT that has all-time vol of 3303272.25. Buy in at the close price of 352.5541076660156 WETH, cash at hand 10073.6532992735 USD\n",
      "On day #5 we are buying SUSHI - WETH that has all-time vol of 4828287.0. Buy in at the close price of 0.8386799693107605 SUSHI, cash at hand 10073.6532992735 USD\n",
      "On day #6 we are buying SNX - WETH that has all-time vol of 1774679.875. Buy in at the close price of 3.632591724395752 SNX, cash at hand 10073.6532992735 USD\n",
      "On day #7 we are buying BAND - WETH that has all-time vol of 608072.5. Buy in at the close price of 5.4420485496521 BAND, cash at hand 10073.6532992735 USD\n",
      "On day #8, selling existing position of <Pair BAND - WETH (0xa75f7c2f025f470355515482bde9efa8153536a8) at exchange #22 on Ethereum>\n",
      "On day #9 we are buying WETH - DAI that has all-time vol of 971652.25. Buy in at the close price of 361.6367492675781 WETH, cash at hand 10544.98801630889 USD\n",
      "On day #10 we are buying WETH - USDT that has all-time vol of 1890981.625. Buy in at the close price of 372.3139953613281 WETH, cash at hand 10544.98801630889 USD\n",
      "On day #11 we are buying SUSHI - WETH that has all-time vol of 4563098.0. Buy in at the close price of 0.7568672299385071 SUSHI, cash at hand 10544.98801630889 USD\n",
      "On day #12 we are buying COMP - WETH that has all-time vol of 584559.625. Buy in at the close price of 118.09854125976562 COMP, cash at hand 10544.98801630889 USD\n",
      "On day #13, selling existing position of <Pair COMP - WETH (0x31503dcb60119a812fee820bb7042752019f2355) at exchange #22 on Ethereum>\n",
      "On day #14 we are buying WETH - DAI that has all-time vol of 953332.0625. Buy in at the close price of 375.668701171875 WETH, cash at hand 10258.405500860052 USD\n",
      "On day #15, selling existing position of <Pair WETH - DAI (0xc3d03e4f041fd4cd388c549ee2a29a9e5075882f) at exchange #22 on Ethereum>\n",
      "On day #16 we are buying WETH - USDT that has all-time vol of 997532.75. Buy in at the close price of 364.4885559082031 WETH, cash at hand 10268.47731038098 USD\n",
      "On day #17 we are buying REN - WETH that has all-time vol of 781383.875. Buy in at the close price of 0.34296324849128723 REN, cash at hand 10268.47731038098 USD\n",
      "On day #18 we are buying AMPL - WETH that has all-time vol of 1776563.0. Buy in at the close price of 1.0410946607589722 AMPL, cash at hand 10268.47731038098 USD\n",
      "On day #19 we are buying LINK - WETH that has all-time vol of 615854.25. Buy in at the close price of 10.837079048156738 LINK, cash at hand 10268.47731038098 USD\n",
      "On day #20, selling existing position of <Pair LINK - WETH (0xc40d16476380e4037e6b1a2594caf6a6cc8da967) at exchange #22 on Ethereum>\n",
      "On day #21 we are buying WETH - DAI that has all-time vol of 2353724.5. Buy in at the close price of 388.1895751953125 WETH, cash at hand 9415.639387464389 USD\n",
      "On day #22 we are buying WETH - USDT that has all-time vol of 2057353.5. Buy in at the close price of 412.65020751953125 WETH, cash at hand 9415.639387464389 USD\n",
      "On day #23 we are buying REN - WETH that has all-time vol of 815212.4375. Buy in at the close price of 0.3397290110588074 REN, cash at hand 9415.639387464389 USD\n",
      "On day #24, selling existing position of <Pair REN - WETH (0x611cde65dea90918c0078ac0400a72b0d25b9bb1) at exchange #22 on Ethereum>\n",
      "On day #25 we are buying SNX - WETH that has all-time vol of 655008.0. Buy in at the close price of 3.6742262840270996 SNX, cash at hand 9102.449211163994 USD\n",
      "On day #26, selling existing position of <Pair SNX - WETH (0xa1d7b2d891e3a1f9ef4bbc5be20630c2feb1c470) at exchange #22 on Ethereum>\n",
      "On day #26 we are buying SNX - WETH that has all-time vol of 668364.125. Buy in at the close price of 3.56559419631958 SNX, cash at hand 103.64898072753567 USD\n",
      "On day #27, selling existing position of <Pair SNX - WETH (0xa1d7b2d891e3a1f9ef4bbc5be20630c2feb1c470) at exchange #22 on Ethereum>\n",
      "On day #27 we are buying AAVE - WETH that has all-time vol of 649712.5625. Buy in at the close price of 35.043251037597656 AAVE, cash at hand 8821.538137978705 USD\n",
      "On day #28, selling existing position of <Pair AAVE - WETH (0xd75ea151a61d06868e31f8988d28dfe5e9df57b4) at exchange #22 on Ethereum>\n",
      "On day #29 we are buying WETH - USDC that has all-time vol of 1855644.25. Buy in at the close price of 385.8215026855469 WETH, cash at hand 8157.367542216505 USD\n",
      "On day #30, selling existing position of <Pair WETH - USDC (0x397ff1542f962076d0bfe58ea045ffa2d347aca0) at exchange #22 on Ethereum>\n",
      "On day #31 we are buying SUSHI - WETH that has all-time vol of 1413382.75. Buy in at the close price of 0.6067600846290588 SUSHI, cash at hand 8125.661649808071 USD\n",
      "On day #32 we are buying WETH - USDT that has all-time vol of 568212.625. Buy in at the close price of 395.85223388671875 WETH, cash at hand 8125.661649808071 USD\n",
      "On day #33 we are buying SUSHI - WETH that has all-time vol of 965335.5625. Buy in at the close price of 0.5863446593284607 SUSHI, cash at hand 8125.661649808071 USD\n",
      "On day #34, selling existing position of <Pair SUSHI - WETH (0x795065dcc9f64b5614c407a6efdc400da6221fb0) at exchange #22 on Ethereum>\n",
      "On day #35 we are buying WETH - DAI that has all-time vol of 1814546.375. Buy in at the close price of 397.0015563964844 WETH, cash at hand 7225.213772245556 USD\n",
      "On day #36 we are buying LINK - WETH that has all-time vol of 1521775.0. Buy in at the close price of 10.969429016113281 LINK, cash at hand 7225.213772245556 USD\n",
      "On day #37 we are buying AMPL - WETH that has all-time vol of 787044.3125. Buy in at the close price of 1.3462620973587036 AMPL, cash at hand 7225.213772245556 USD\n",
      "On day #38, selling existing position of <Pair AMPL - WETH (0xcb2286d9471cc185281c4f763d34a962ed212962) at exchange #22 on Ethereum>\n",
      "On day #39 we are buying AAVE - WETH that has all-time vol of 3407070.25. Buy in at the close price of 54.40219497680664 AAVE, cash at hand 6655.197896725852 USD\n",
      "On day #40, selling existing position of <Pair AAVE - WETH (0xd75ea151a61d06868e31f8988d28dfe5e9df57b4) at exchange #22 on Ethereum>\n",
      "On day #41 we are buying YFI - WETH that has all-time vol of 12319758.0. Buy in at the close price of 18290.2421875 YFI, cash at hand 6690.575721463628 USD\n",
      "On day #42 we are buying WETH - USDC that has all-time vol of 2234368.5. Buy in at the close price of 463.547119140625 WETH, cash at hand 6690.575721463628 USD\n",
      "On day #43 we are buying YFI - WETH that has all-time vol of 7593367.0. Buy in at the close price of 15392.3984375 YFI, cash at hand 6690.575721463628 USD\n",
      "On day #44 we are buying UNI - WETH that has all-time vol of 1876097.75. Buy in at the close price of 3.8562283515930176 UNI, cash at hand 6690.575721463628 USD\n",
      "On day #45, selling existing position of <Pair UNI - WETH (0xdafd66636e2561b0284edde37e42d192f2844d40) at exchange #22 on Ethereum>\n",
      "On day #46 we are buying WETH - USDC that has all-time vol of 2470858.5. Buy in at the close price of 450.431640625 WETH, cash at hand 6673.516902200211 USD\n",
      "On day #47, selling existing position of <Pair WETH - USDC (0x397ff1542f962076d0bfe58ea045ffa2d347aca0) at exchange #22 on Ethereum>\n",
      "On day #48 we are buying UMA - WETH that has all-time vol of 624930.5625. Buy in at the close price of 8.208039283752441 UMA, cash at hand 6874.686685884225 USD\n",
      "On day #49 we are buying UNI - WETH that has all-time vol of 1143890.5. Buy in at the close price of 3.466519832611084 UNI, cash at hand 6874.686685884225 USD\n",
      "On day #50, selling existing position of <Pair UNI - WETH (0xdafd66636e2561b0284edde37e42d192f2844d40) at exchange #22 on Ethereum>\n",
      "On day #51 we are buying COVER - WETH that has all-time vol of 4395337.0. Buy in at the close price of 358.9162292480469 COVER, cash at hand 7392.537480998999 USD\n",
      "On day #52 we are buying WETH - USDC that has all-time vol of 48685176.0. Buy in at the close price of 552.5305786132812 WETH, cash at hand 7392.537480998999 USD\n",
      "On day #53 we are buying YFI - WETH that has all-time vol of 15398862.0. Buy in at the close price of 24300.990234375 YFI, cash at hand 7392.537480998999 USD\n",
      "On day #54 we are buying LINK - WETH that has all-time vol of 2240714.25. Buy in at the close price of 15.182225227355957 LINK, cash at hand 7392.537480998999 USD\n",
      "On day #55 we are buying CRV - WETH that has all-time vol of 644873.0625. Buy in at the close price of 0.6798602938652039 CRV, cash at hand 7392.537480998999 USD\n",
      "On day #56 we are buying COVER - WETH that has all-time vol of 514913.28125. Buy in at the close price of 246.1555938720703 COVER, cash at hand 7392.537480998999 USD\n",
      "On day #57, selling existing position of <Pair COVER - WETH (0xe7689b2c21242e07870aaa0ffee1ec11833d5e24) at exchange #22 on Ethereum>\n",
      "On day #58 we are buying WETH - sUSD that has all-time vol of 1334179.625. Buy in at the close price of 515.4814453125 WETH, cash at hand 7289.183896001043 USD\n",
      "On day #59 we are buying WETH - DAI that has all-time vol of 4573776.5. Buy in at the close price of 534.95166015625 WETH, cash at hand 7289.183896001043 USD\n",
      "On day #60 we are buying WETH - sUSD that has all-time vol of 578347.9375. Buy in at the close price of 569.5296020507812 WETH, cash at hand 7289.183896001043 USD\n",
      "On day #61 we are buying WETH - USDC that has all-time vol of 10591386.0. Buy in at the close price of 616.2930908203125 WETH, cash at hand 7289.183896001043 USD\n",
      "On day #62, selling existing position of <Pair WETH - USDC (0x397ff1542f962076d0bfe58ea045ffa2d347aca0) at exchange #22 on Ethereum>\n",
      "On day #63 we are buying COMP - WETH that has all-time vol of 905472.125. Buy in at the close price of 113.72261810302734 COMP, cash at hand 6961.207126712345 USD\n",
      "On day #64 we are buying WETH - WBTC that has all-time vol of 2120134.0. Buy in at the close price of 617.6517333984375 WETH, cash at hand 6961.207126712345 USD\n",
      "On day #65, selling existing position of <Pair WETH - WBTC (0xceff51756c56ceffca006cd410b03ffc46dd3a58) at exchange #22 on Ethereum>\n",
      "On day #66 we are buying SNX - WETH that has all-time vol of 2620105.5. Buy in at the close price of 5.251150608062744 SNX, cash at hand 6451.498289640311 USD\n",
      "On day #67 we are buying COVER - WETH that has all-time vol of 5849523.5. Buy in at the close price of 946.753662109375 COVER, cash at hand 6451.498289640311 USD\n",
      "On day #68 we are buying WETH - sUSD that has all-time vol of 517026.71875. Buy in at the close price of 585.55322265625 WETH, cash at hand 6451.498289640311 USD\n",
      "On day #69 we are buying UNI - WETH that has all-time vol of 634353.5625. Buy in at the close price of 3.314641237258911 UNI, cash at hand 6451.498289640311 USD\n",
      "On day #70, selling existing position of <Pair UNI - WETH (0xdafd66636e2561b0284edde37e42d192f2844d40) at exchange #22 on Ethereum>\n",
      "On day #71 we are buying BAND - WETH that has all-time vol of 527510.5. Buy in at the close price of 6.410347938537598 BAND, cash at hand 6639.875868027299 USD\n",
      "On day #72, selling existing position of <Pair BAND - WETH (0xa75f7c2f025f470355515482bde9efa8153536a8) at exchange #22 on Ethereum>\n",
      "On day #73 we are buying WETH - WBTC that has all-time vol of 2545591.0. Buy in at the close price of 567.7617797851562 WETH, cash at hand 6400.056532082409 USD\n",
      "On day #74 we are buying COMP - WETH that has all-time vol of 884124.4375. Buy in at the close price of 146.24696350097656 COMP, cash at hand 6400.056532082409 USD\n",
      "On day #75 we are buying WETH - USDT that has all-time vol of 5338152.0. Buy in at the close price of 588.9389038085938 WETH, cash at hand 6400.056532082409 USD\n",
      "On day #76 we are buying WETH - DAI that has all-time vol of 6851725.0. Buy in at the close price of 588.3602294921875 WETH, cash at hand 6400.056532082409 USD\n",
      "On day #77, selling existing position of <Pair WETH - DAI (0xc3d03e4f041fd4cd388c549ee2a29a9e5075882f) at exchange #22 on Ethereum>\n",
      "On day #78 we are buying LINK - WETH that has all-time vol of 4167921.5. Buy in at the close price of 13.582359313964844 LINK, cash at hand 6969.838323472944 USD\n",
      "On day #79 we are buying WETH - USDC that has all-time vol of 8767316.0. Buy in at the close price of 654.8704833984375 WETH, cash at hand 6969.838323472944 USD\n",
      "On day #80 we are buying WETH - WBTC that has all-time vol of 8008305.0. Buy in at the close price of 658.3507690429688 WETH, cash at hand 6969.838323472944 USD\n",
      "On day #81 did not find any token to buy\n",
      "On day #82, selling existing position of <Pair WETH - WBTC (0xceff51756c56ceffca006cd410b03ffc46dd3a58) at exchange #22 on Ethereum>\n",
      "On day #83 we are buying SNX - WETH that has all-time vol of 10086980.0. Buy in at the close price of 7.288310527801514 SNX, cash at hand 6471.474825322006 USD\n",
      "On day #84, selling existing position of <Pair SNX - WETH (0xa1d7b2d891e3a1f9ef4bbc5be20630c2feb1c470) at exchange #22 on Ethereum>\n",
      "On day #85 did not find any token to buy\n",
      "On day #86 we are buying WETH - WBTC that has all-time vol of 8052045.0. Buy in at the close price of 627.436279296875 WETH, cash at hand 6294.1084202367265 USD\n",
      "On day #87, selling existing position of <Pair WETH - WBTC (0xceff51756c56ceffca006cd410b03ffc46dd3a58) at exchange #22 on Ethereum>\n",
      "On day #88 we are buying SNX - WETH that has all-time vol of 6410854.0. Buy in at the close price of 8.012613296508789 SNX, cash at hand 6369.777324275611 USD\n",
      "On day #89 we are buying LINK - WETH that has all-time vol of 6049797.0. Buy in at the close price of 12.511384010314941 LINK, cash at hand 6369.777324275611 USD\n",
      "On day #90 we are buying ESD - WETH that has all-time vol of 786394.5625. Buy in at the close price of 0.8235911130905151 ESD, cash at hand 6369.777324275611 USD\n",
      "On day #91 we are buying UNI - WETH that has all-time vol of 2149248.0. Buy in at the close price of 4.1641387939453125 UNI, cash at hand 6369.777324275611 USD\n",
      "On day #92, selling existing position of <Pair UNI - WETH (0xdafd66636e2561b0284edde37e42d192f2844d40) at exchange #22 on Ethereum>\n",
      "On day #93 we are buying SNX - WETH that has all-time vol of 5608496.5. Buy in at the close price of 8.429093360900879 SNX, cash at hand 7905.514739615632 USD\n",
      "On day #94, selling existing position of <Pair SNX - WETH (0xa1d7b2d891e3a1f9ef4bbc5be20630c2feb1c470) at exchange #22 on Ethereum>\n",
      "On day #95 we are buying ESD - WETH that has all-time vol of 1686500.0. Buy in at the close price of 0.662265956401825 ESD, cash at hand 7743.388336772464 USD\n",
      "On day #96, selling existing position of <Pair ESD - WETH (0xdff71165a646be71fcfbaa6206342faa503aed5d) at exchange #22 on Ethereum>\n",
      "On day #97 we are buying YAM - WETH that has all-time vol of 4385451.0. Buy in at the close price of 2.161771535873413 YAM, cash at hand 8896.042409154215 USD\n",
      "On day #98, selling existing position of <Pair YAM - WETH (0x0f82e57804d0b1f6fab2370a43dcfad3c7cb239c) at exchange #22 on Ethereum>\n",
      "On day #98 we are buying BAND - WETH that has all-time vol of 4688214.0. Buy in at the close price of 8.850473403930664 BAND, cash at hand 231.43318359177465 USD\n",
      "On day #99, selling existing position of <Pair BAND - WETH (0xa75f7c2f025f470355515482bde9efa8153536a8) at exchange #22 on Ethereum>\n",
      "On day #99 we are buying LINK - WETH that has all-time vol of 9413803.0. Buy in at the close price of 15.90562629699707 LINK, cash at hand 8152.3385159745685 USD\n",
      "On day #100, selling existing position of <Pair LINK - WETH (0xc40d16476380e4037e6b1a2594caf6a6cc8da967) at exchange #22 on Ethereum>\n",
      "On day #100 we are buying WETH - sUSD that has all-time vol of 3131717.0. Buy in at the close price of 1218.856689453125 WETH, cash at hand 123.3369907381275 USD\n",
      "On day #101, selling existing position of <Pair WETH - sUSD (0xf1f85b2c54a2bd284b1cf4141d64fd171bd85539) at exchange #22 on Ethereum>\n",
      "On day #101 we are buying COMP - WETH that has all-time vol of 1956335.0. Buy in at the close price of 183.26002502441406 COMP, cash at hand 7826.361464814426 USD\n",
      "On day #102, selling existing position of <Pair COMP - WETH (0x31503dcb60119a812fee820bb7042752019f2355) at exchange #22 on Ethereum>\n",
      "On day #102 we are buying AAVE - WETH that has all-time vol of 12574798.0. Buy in at the close price of 127.84757232666016 AAVE, cash at hand 173.59255541807943 USD\n",
      "On day #103, selling existing position of <Pair AAVE - WETH (0xd75ea151a61d06868e31f8988d28dfe5e9df57b4) at exchange #22 on Ethereum>\n",
      "On day #103 we are buying YFI - WETH that has all-time vol of 28419968.0. Buy in at the close price of 30207.498046875 YFI, cash at hand 8127.4471653281635 USD\n",
      "On day #104, selling existing position of <Pair YFI - WETH (0x088ee5007c98a9677165d78dd2109ae4a3d04d0c) at exchange #22 on Ethereum>\n",
      "On day #104 we are buying CREAM - WETH that has all-time vol of 603980.625. Buy in at the close price of 69.02761840820312 CREAM, cash at hand 263.4427259350723 USD\n",
      "On day #105, selling existing position of <Pair CREAM - WETH (0xf169cea51eb51774cf107c88309717dda20be167) at exchange #22 on Ethereum>\n",
      "On day #105 we are buying REN - WETH that has all-time vol of 1133974.0. Buy in at the close price of 0.4371461868286133 REN, cash at hand 7960.322006395929 USD\n",
      "On day #106, selling existing position of <Pair REN - WETH (0x611cde65dea90918c0078ac0400a72b0d25b9bb1) at exchange #22 on Ethereum>\n",
      "On day #106 we are buying MIC - USDT that has all-time vol of 15898514.0. Buy in at the close price of 0.7515881657600403 MIC, cash at hand 324.1728153489412 USD\n",
      "On day #107, selling existing position of <Pair MIC - USDT (0xc9cb53b48a2f3a9e75982685644c1870f1405ccb) at exchange #22 on Ethereum>\n",
      "On day #107 we are buying BADGER - WBTC that has all-time vol of 1123593.0. Buy in at the close price of 9.756193161010742 BADGER, cash at hand 8767.816759888628 USD\n",
      "On day #108, selling existing position of <Pair BADGER - WBTC (0x110492b31c59716ac47337e616804e3e3adc0b4a) at exchange #22 on Ethereum>\n",
      "On day #108 we are buying <unknown> - WETH that has all-time vol of 1014607.125. Buy in at the close price of 1493.2386474609375 <unknown>, cash at hand 352.24211412009026 USD\n",
      "On day #109, selling existing position of <Pair <unknown> - WETH (0xba13afecda9beb75de5c56bbaf696b880a5a50dd) at exchange #22 on Ethereum>\n",
      "On day #109 we are buying COVER - WETH that has all-time vol of 974171.875. Buy in at the close price of 383.3727111816406 COVER, cash at hand 9398.838794458596 USD\n",
      "On day #110, selling existing position of <Pair COVER - WETH (0x66ae32178640813f3c32a9929520bfe4fef5d167) at exchange #22 on Ethereum>\n",
      "On day #110 we are buying YAM - WETH that has all-time vol of 5344432.0. Buy in at the close price of 3.0695085525512695 YAM, cash at hand 231.39655783925446 USD\n",
      "On day #111, selling existing position of <Pair YAM - WETH (0x0f82e57804d0b1f6fab2370a43dcfad3c7cb239c) at exchange #22 on Ethereum>\n",
      "On day #111 we are buying TRU - WETH that has all-time vol of 1556044.5. Buy in at the close price of 0.2847385108470917 TRU, cash at hand 11012.264358520439 USD\n",
      "On day #112, selling existing position of <Pair TRU - WETH (0xfceaaf9792139bf714a694f868a215493461446d) at exchange #22 on Ethereum>\n",
      "On day #112 we are buying WETH - DAI that has all-time vol of 51052440.0. Buy in at the close price of 1376.075439453125 WETH, cash at hand 293.9067361585385 USD\n",
      "On day #113, selling existing position of <Pair WETH - DAI (0xc3d03e4f041fd4cd388c549ee2a29a9e5075882f) at exchange #22 on Ethereum>\n",
      "On day #113 we are buying SUSHI - WETH that has all-time vol of 45931056.0. Buy in at the close price of 5.565762042999268 SUSHI, cash at hand 10585.992083744333 USD\n",
      "On day #114, selling existing position of <Pair SUSHI - WETH (0x795065dcc9f64b5614c407a6efdc400da6221fb0) at exchange #22 on Ethereum>\n",
      "On day #114 we are buying AAVE - WETH that has all-time vol of 10914972.0. Buy in at the close price of 190.34530639648438 AAVE, cash at hand 257.62494012464776 USD\n",
      "On day #115, selling existing position of <Pair AAVE - WETH (0xd75ea151a61d06868e31f8988d28dfe5e9df57b4) at exchange #22 on Ethereum>\n",
      "On day #115 we are buying WETH - USDC that has all-time vol of 41835056.0. Buy in at the close price of 1226.7152099609375 WETH, cash at hand 12840.385319493975 USD\n",
      "On day #116, selling existing position of <Pair WETH - USDC (0x397ff1542f962076d0bfe58ea045ffa2d347aca0) at exchange #22 on Ethereum>\n",
      "On day #116 we are buying LON - USDT that has all-time vol of 11123845.0. Buy in at the close price of 4.2816667556762695 LON, cash at hand 211.0216728528667 USD\n",
      "On day #117, selling existing position of <Pair LON - USDT (0x55d31f68975e446a40a2d02ffa4b0e1bfb233c2f) at exchange #22 on Ethereum>\n",
      "On day #117 we are buying SUSHI - WETH that has all-time vol of 84660608.0. Buy in at the close price of 7.6560378074646 SUSHI, cash at hand 14538.51006746811 USD\n",
      "On day #118, selling existing position of <Pair SUSHI - WETH (0x795065dcc9f64b5614c407a6efdc400da6221fb0) at exchange #22 on Ethereum>\n",
      "On day #118 we are buying SFI - WETH that has all-time vol of 3258056.0. Buy in at the close price of 752.0919189453125 SFI, cash at hand 292.61099238694806 USD\n",
      "On day #119, selling existing position of <Pair SFI - WETH (0x23a9292830fc80db7f563edb28d2fe6fb47f8624) at exchange #22 on Ethereum>\n",
      "On day #119 we are buying YFI - WETH that has all-time vol of 9449512.0. Buy in at the close price of 27513.873046875 YFI, cash at hand 15514.267950005671 USD\n",
      "On day #120, selling existing position of <Pair YFI - WETH (0x088ee5007c98a9677165d78dd2109ae4a3d04d0c) at exchange #22 on Ethereum>\n",
      "On day #120 we are buying BAND - WETH that has all-time vol of 995119.0. Buy in at the close price of 8.879074096679688 BAND, cash at hand 239.72970272960993 USD\n",
      "On day #121, selling existing position of <Pair BAND - WETH (0xa75f7c2f025f470355515482bde9efa8153536a8) at exchange #22 on Ethereum>\n",
      "On day #121 we are buying LINK - WETH that has all-time vol of 13495300.0. Buy in at the close price of 22.804819107055664 LINK, cash at hand 16896.847408178124 USD\n",
      "On day #122, selling existing position of <Pair LINK - WETH (0xc40d16476380e4037e6b1a2594caf6a6cc8da967) at exchange #22 on Ethereum>\n",
      "On day #122 we are buying ESD - WETH that has all-time vol of 1214283.625. Buy in at the close price of 0.31486237049102783 ESD, cash at hand 143.2553879768966 USD\n",
      "On day #123, selling existing position of <Pair ESD - WETH (0xdff71165a646be71fcfbaa6206342faa503aed5d) at exchange #22 on Ethereum>\n",
      "On day #123 we are buying BAO - WETH that has all-time vol of 3422506.5. Buy in at the close price of 0.0010096428450196981 BAO, cash at hand 17559.432741828878 USD\n",
      "On day #124, selling existing position of <Pair BAO - WETH (0x0eee7f7319013df1f24f5eaf83004fcf9cf49245) at exchange #22 on Ethereum>\n",
      "On day #124 we are buying BADGER - WBTC that has all-time vol of 10108570.0. Buy in at the close price of 38.29926681518555 BADGER, cash at hand 329.2074495478628 USD\n",
      "On day #125, selling existing position of <Pair BADGER - WBTC (0x110492b31c59716ac47337e616804e3e3adc0b4a) at exchange #22 on Ethereum>\n",
      "On day #125 we are buying OMG - WETH that has all-time vol of 823518.125. Buy in at the close price of 3.952432155609131 OMG, cash at hand 25105.433186516668 USD\n",
      "On day #126, selling existing position of <Pair OMG - WETH (0x742c15d71ea7444964bc39b0ed729b3729adc361) at exchange #22 on Ethereum>\n",
      "On day #127 we are buying INJ - WETH that has all-time vol of 691530.75. Buy in at the close price of 13.108283996582031 INJ, cash at hand 29976.187555068824 USD\n",
      "On day #128, selling existing position of <Pair INJ - WETH (0xfb3cd0b8a5371fe93ef92e3988d30df7931e2820) at exchange #22 on Ethereum>\n",
      "On day #129 we are buying BAO - WETH that has all-time vol of 3374160.75. Buy in at the close price of 0.0014269937528297305 BAO, cash at hand 28799.193664810326 USD\n",
      "On day #130, selling existing position of <Pair BAO - WETH (0x0eee7f7319013df1f24f5eaf83004fcf9cf49245) at exchange #22 on Ethereum>\n",
      "On day #130 we are buying renDOGE - WETH that has all-time vol of 1189967.25. Buy in at the close price of 0.07959119975566864 renDOGE, cash at hand 353.27918226345355 USD\n",
      "On day #131, selling existing position of <Pair renDOGE - WETH (0xb46736888247c68c995b156ca86426ff32e27cc9) at exchange #22 on Ethereum>\n",
      "On day #131 we are buying DIGG - WBTC that has all-time vol of 3316810.75. Buy in at the close price of 63897.8046875 DIGG, cash at hand 34539.06970437231 USD\n",
      "On day #132 we are buying UNI - WETH that has all-time vol of 1529250.5. Buy in at the close price of 19.484621047973633 UNI, cash at hand 34887.448473417215 USD\n",
      "On day #133 we are buying DERI - USDT that has all-time vol of 1054199.5. Buy in at the close price of 1.5413764715194702 DERI, cash at hand 34887.448473417215 USD\n",
      "On day #134 we are buying NFTX - WETH that has all-time vol of 1114798.125. Buy in at the close price of 180.90689086914062 NFTX, cash at hand 34887.448473417215 USD\n",
      "On day #135, selling existing position of <Pair NFTX - WETH (0x31d64f9403e82243e71c2af9d8f56c7dbe10c178) at exchange #22 on Ethereum>\n",
      "On day #135 we are buying LON - USDT that has all-time vol of 2576916.0. Buy in at the close price of 7.100892543792725 LON, cash at hand 397.1477522328787 USD\n",
      "On day #136, selling existing position of <Pair LON - USDT (0x55d31f68975e446a40a2d02ffa4b0e1bfb233c2f) at exchange #22 on Ethereum>\n",
      "On day #136 we are buying CREAM - WETH that has all-time vol of 24596456.0. Buy in at the close price of 224.90570068359375 CREAM, cash at hand 47576.93850718578 USD\n",
      "On day #137, selling existing position of <Pair CREAM - WETH (0xf169cea51eb51774cf107c88309717dda20be167) at exchange #22 on Ethereum>\n",
      "On day #137 we are buying CRV - WETH that has all-time vol of 4019426.5. Buy in at the close price of 2.9932007789611816 CRV, cash at hand 268.42789115798223 USD\n",
      "On day #138, selling existing position of <Pair CRV - WETH (0x58dc5a51fe44589beb22e8ce67720b5bc5378009) at exchange #22 on Ethereum>\n",
      "On day #138 we are buying DIGG - WBTC that has all-time vol of 6937292.0. Buy in at the close price of 47602.65625 DIGG, cash at hand 42222.94492003548 USD\n",
      "On day #139, selling existing position of <Pair DIGG - WBTC (0x9a13867048e01c663ce8ce2fe0cdae69ff9f35e3) at exchange #22 on Ethereum>\n",
      "On day #139 we are buying LON - USDT that has all-time vol of 1279712.125. Buy in at the close price of 6.568078517913818 LON, cash at hand 726.6731848457275 USD\n",
      "On day #140, selling existing position of <Pair LON - USDT (0x55d31f68975e446a40a2d02ffa4b0e1bfb233c2f) at exchange #22 on Ethereum>\n",
      "On day #140 we are buying UNI - WETH that has all-time vol of 1982538.5. Buy in at the close price of 21.489154815673828 UNI, cash at hand 48548.94971334739 USD\n",
      "On day #141, selling existing position of <Pair UNI - WETH (0xdafd66636e2561b0284edde37e42d192f2844d40) at exchange #22 on Ethereum>\n",
      "On day #141 we are buying DUSD - WETH that has all-time vol of 1017342.375. Buy in at the close price of 0.9964895248413086 DUSD, cash at hand 242.25404525071644 USD\n",
      "On day #142, selling existing position of <Pair DUSD - WETH (0xb1d38026062ac10feda072ca0e9b7e35f1f5795a) at exchange #22 on Ethereum>\n",
      "On day #142 we are buying HEGIC - WETH that has all-time vol of 571812.8125. Buy in at the close price of 0.4150577485561371 HEGIC, cash at hand 47623.863678938 USD\n",
      "On day #143, selling existing position of <Pair HEGIC - WETH (0x6463bd6026a2e7bfab5851b62969a92f7cca0eb6) at exchange #22 on Ethereum>\n",
      "On day #143 we are buying FTM - WETH that has all-time vol of 3110131.5. Buy in at the close price of 0.23286990821361542 FTM, cash at hand 1124.1090327653947 USD\n",
      "On day #144, selling existing position of <Pair FTM - WETH (0x0e26a21013f2f8c0362cfae608b4e69a249d5efc) at exchange #22 on Ethereum>\n",
      "On day #144 we are buying FTM - WETH that has all-time vol of 5153821.5. Buy in at the close price of 0.33874452114105225 FTM, cash at hand 46890.12992118095 USD\n",
      "On day #145, selling existing position of <Pair FTM - WETH (0x0e26a21013f2f8c0362cfae608b4e69a249d5efc) at exchange #22 on Ethereum>\n",
      "On day #145 we are buying LON - USDT that has all-time vol of 4822958.0. Buy in at the close price of 7.363757133483887 LON, cash at hand 1048.930617986669 USD\n",
      "On day #146, selling existing position of <Pair LON - USDT (0x55d31f68975e446a40a2d02ffa4b0e1bfb233c2f) at exchange #22 on Ethereum>\n",
      "On day #146 we are buying TUSD - WETH that has all-time vol of 998612.5625. Buy in at the close price of 1.0034756660461426 TUSD, cash at hand 62577.73358087869 USD\n",
      "On day #147, selling existing position of <Pair TUSD - WETH (0x760166fa4f227da29ecac3bec348f5fa853a1f3c) at exchange #22 on Ethereum>\n",
      "On day #147 we are buying UNI - WETH that has all-time vol of 5575404.5. Buy in at the close price of 25.310134887695312 UNI, cash at hand 549.4544841972383 USD\n",
      "On day #148, selling existing position of <Pair UNI - WETH (0xdafd66636e2561b0284edde37e42d192f2844d40) at exchange #22 on Ethereum>\n",
      "On day #148 we are buying PREMIA - WETH that has all-time vol of 1016002.75. Buy in at the close price of 1.2613164186477661 PREMIA, cash at hand 62928.50636957719 USD\n",
      "On day #149 we are buying RUNE - WETH that has all-time vol of 2973710.0. Buy in at the close price of 4.420118808746338 RUNE, cash at hand 63434.80682661413 USD\n",
      "On day #150 we are buying ALPHA - WETH that has all-time vol of 1808163.0. Buy in at the close price of 1.2223135232925415 ALPHA, cash at hand 63434.80682661413 USD\n",
      "On day #151, selling existing position of <Pair ALPHA - WETH (0xf55c33d94150d93c2cfb833bcca30be388b14964) at exchange #22 on Ethereum>\n",
      "On day #151 we are buying WETH - USDC that has all-time vol of 119929128.0. Buy in at the close price of 1423.7117919921875 WETH, cash at hand 589.1911991240704 USD\n",
      "On day #152, selling existing position of <Pair WETH - USDC (0x397ff1542f962076d0bfe58ea045ffa2d347aca0) at exchange #22 on Ethereum>\n",
      "On day #152 we are buying WETH - WBTC that has all-time vol of 32931408.0. Buy in at the close price of 1563.688720703125 WETH, cash at hand 64015.660828257845 USD\n",
      "On day #153, selling existing position of <Pair WETH - WBTC (0xceff51756c56ceffca006cd410b03ffc46dd3a58) at exchange #22 on Ethereum>\n",
      "On day #153 we are buying SUSHI - WETH that has all-time vol of 175872416.0. Buy in at the close price of 17.93155288696289 SUSHI, cash at hand 354.0122588548402 USD\n",
      "On day #154, selling existing position of <Pair SUSHI - WETH (0x795065dcc9f64b5614c407a6efdc400da6221fb0) at exchange #22 on Ethereum>\n",
      "On day #154 we are buying WETH - WBTC that has all-time vol of 38933944.0. Buy in at the close price of 1580.22607421875 WETH, cash at hand 61060.529211744 USD\n",
      "On day #155, selling existing position of <Pair WETH - WBTC (0xceff51756c56ceffca006cd410b03ffc46dd3a58) at exchange #22 on Ethereum>\n",
      "On day #155 we are buying AXS - WETH that has all-time vol of 1596832.5. Buy in at the close price of 2.8260834217071533 AXS, cash at hand 725.6575868875807 USD\n",
      "On day #156, selling existing position of <Pair AXS - WETH (0x35a0d9579b1e886702375364fe9c540f97e4517b) at exchange #22 on Ethereum>\n",
      "On day #156 we are buying RGT - WETH that has all-time vol of 1989251.125. Buy in at the close price of 15.525188446044922 RGT, cash at hand 59485.70909292389 USD\n",
      "On day #157, selling existing position of <Pair RGT - WETH (0x18a797c7c70c1bf22fdee1c09062aba709cacf04) at exchange #22 on Ethereum>\n",
      "On day #157 we are buying WETH - sUSD that has all-time vol of 1589202.5. Buy in at the close price of 1642.9951171875 WETH, cash at hand 518.0173961174805 USD\n",
      "On day #158, selling existing position of <Pair WETH - sUSD (0xf1f85b2c54a2bd284b1cf4141d64fd171bd85539) at exchange #22 on Ethereum>\n",
      "On day #158 we are buying WETH - WBTC that has all-time vol of 34116948.0. Buy in at the close price of 1715.0123291015625 WETH, cash at hand 69764.31241007854 USD\n",
      "On day #159, selling existing position of <Pair WETH - WBTC (0xceff51756c56ceffca006cd410b03ffc46dd3a58) at exchange #22 on Ethereum>\n",
      "On day #159 we are buying SFI - WETH that has all-time vol of 6345016.0. Buy in at the close price of 2752.1435546875 SFI, cash at hand 657.5852287925809 USD\n",
      "On day #160, selling existing position of <Pair SFI - WETH (0x23a9292830fc80db7f563edb28d2fe6fb47f8624) at exchange #22 on Ethereum>\n",
      "On day #160 we are buying BAO - WETH that has all-time vol of 781063.875. Buy in at the close price of 0.0011463557602837682 BAO, cash at hand 74612.14527650835 USD\n",
      "On day #161 we are buying AAVE - WETH that has all-time vol of 5138115.0. Buy in at the close price of 413.2536315917969 AAVE, cash at hand 75190.59905236092 USD\n",
      "On day #162, selling existing position of <Pair AAVE - WETH (0xd75ea151a61d06868e31f8988d28dfe5e9df57b4) at exchange #22 on Ethereum>\n",
      "On day #162 we are buying FTM - WETH that has all-time vol of 1253965.75. Buy in at the close price of 0.4421905279159546 FTM, cash at hand 1218.55290760989 USD\n",
      "On day #163, selling existing position of <Pair FTM - WETH (0x0e26a21013f2f8c0362cfae608b4e69a249d5efc) at exchange #22 on Ethereum>\n",
      "On day #163 we are buying RGT - WETH that has all-time vol of 2513917.5. Buy in at the close price of 18.87434196472168 RGT, cash at hand 73486.96365571526 USD\n",
      "On day #164, selling existing position of <Pair RGT - WETH (0x18a797c7c70c1bf22fdee1c09062aba709cacf04) at exchange #22 on Ethereum>\n",
      "On day #164 we are buying WETH - sUSD that has all-time vol of 1745484.25. Buy in at the close price of 1920.579833984375 WETH, cash at hand 1707.5710965384496 USD\n",
      "On day #165, selling existing position of <Pair WETH - sUSD (0xf1f85b2c54a2bd284b1cf4141d64fd171bd85539) at exchange #22 on Ethereum>\n",
      "On day #165 we are buying SUSHI - WETH that has all-time vol of 48500864.0. Buy in at the close price of 20.83740234375 SUSHI, cash at hand 83121.553385527 USD\n",
      "On day #166, selling existing position of <Pair SUSHI - WETH (0x795065dcc9f64b5614c407a6efdc400da6221fb0) at exchange #22 on Ethereum>\n",
      "On day #166 we are buying CREAM - WETH that has all-time vol of 832862.125. Buy in at the close price of 106.47643280029297 CREAM, cash at hand 2276.076525346405 USD\n",
      "On day #167, selling existing position of <Pair CREAM - WETH (0xf169cea51eb51774cf107c88309717dda20be167) at exchange #22 on Ethereum>\n",
      "On day #167 we are buying OMG - WETH that has all-time vol of 1313724.0. Buy in at the close price of 5.1176276206970215 OMG, cash at hand 78986.9321000727 USD\n",
      "On day #168, selling existing position of <Pair OMG - WETH (0x742c15d71ea7444964bc39b0ed729b3729adc361) at exchange #22 on Ethereum>\n",
      "On day #168 we are buying stETH - WETH that has all-time vol of 511568.1875. Buy in at the close price of 1642.815673828125 stETH, cash at hand 2198.866058725689 USD\n",
      "On day #169, selling existing position of <Pair stETH - WETH (0x1c615074c281c5d88acc6914d408d7e71eb894ee) at exchange #22 on Ethereum>\n",
      "On day #169 we are buying HEGIC - WETH that has all-time vol of 1200916.875. Buy in at the close price of 0.3162342607975006 HEGIC, cash at hand 86320.33172807243 USD\n",
      "On day #170, selling existing position of <Pair HEGIC - WETH (0x6463bd6026a2e7bfab5851b62969a92f7cca0eb6) at exchange #22 on Ethereum>\n",
      "On day #170 we are buying yveCRV-DAO - WETH that has all-time vol of 741142.75. Buy in at the close price of 2.165412664413452 yveCRV-DAO, cash at hand 2332.6193428300467 USD\n",
      "On day #171, selling existing position of <Pair yveCRV-DAO - WETH (0x10b47177e92ef9d5c6059055d92ddf6290848991) at exchange #22 on Ethereum>\n",
      "On day #171 we are buying LINK - WETH that has all-time vol of 5200270.5. Buy in at the close price of 29.971834182739258 LINK, cash at hand 80912.38978490501 USD\n",
      "On day #172, selling existing position of <Pair LINK - WETH (0xc40d16476380e4037e6b1a2594caf6a6cc8da967) at exchange #22 on Ethereum>\n",
      "On day #172 we are buying LINK - WETH that has all-time vol of 2604414.5. Buy in at the close price of 29.354055404663086 LINK, cash at hand 3851.135412735108 USD\n",
      "On day #173, selling existing position of <Pair LINK - WETH (0xc40d16476380e4037e6b1a2594caf6a6cc8da967) at exchange #22 on Ethereum>\n",
      "On day #173 we are buying WETH - sUSD that has all-time vol of 1903494.75. Buy in at the close price of 1685.9521484375 WETH, cash at hand 79590.27000668003 USD\n",
      "On day #174, selling existing position of <Pair WETH - sUSD (0xf1f85b2c54a2bd284b1cf4141d64fd171bd85539) at exchange #22 on Ethereum>\n",
      "On day #174 we are buying WETH - USDC that has all-time vol of 54078984.0. Buy in at the close price of 1668.7911376953125 WETH, cash at hand 4148.119345456027 USD\n",
      "On day #175, selling existing position of <Pair WETH - USDC (0x397ff1542f962076d0bfe58ea045ffa2d347aca0) at exchange #22 on Ethereum>\n",
      "On day #175 we are buying LINK - WETH that has all-time vol of 7720754.5. Buy in at the close price of 25.082275390625 LINK, cash at hand 78170.33050834421 USD\n",
      "On day #176, selling existing position of <Pair LINK - WETH (0xc40d16476380e4037e6b1a2594caf6a6cc8da967) at exchange #22 on Ethereum>\n",
      "On day #176 we are buying YAM - WETH that has all-time vol of 1062403.875. Buy in at the close price of 3.380861282348633 YAM, cash at hand 4882.3312171133 USD\n",
      "On day #177, selling existing position of <Pair YAM - WETH (0x0f82e57804d0b1f6fab2370a43dcfad3c7cb239c) at exchange #22 on Ethereum>\n",
      "On day #177 we are buying WETH - DAI that has all-time vol of 36684652.0. Buy in at the close price of 1702.8526611328125 WETH, cash at hand 80046.89920038138 USD\n",
      "On day #178, selling existing position of <Pair WETH - DAI (0xc3d03e4f041fd4cd388c549ee2a29a9e5075882f) at exchange #22 on Ethereum>\n",
      "On day #178 we are buying UNI - WETH that has all-time vol of 1623144.0. Buy in at the close price of 28.479480743408203 UNI, cash at hand 4854.582882772418 USD\n",
      "On day #179, selling existing position of <Pair UNI - WETH (0xdafd66636e2561b0284edde37e42d192f2844d40) at exchange #22 on Ethereum>\n",
      "On day #179 we are buying UNI - WETH that has all-time vol of 1292347.625. Buy in at the close price of 27.608583450317383 UNI, cash at hand 80495.40651392202 USD\n",
      "On day #180, selling existing position of <Pair UNI - WETH (0xdafd66636e2561b0284edde37e42d192f2844d40) at exchange #22 on Ethereum>\n",
      "On day #180 we are buying yveCRV-DAO - WETH that has all-time vol of 1411144.0. Buy in at the close price of 2.6193833351135254 yveCRV-DAO, cash at hand 5217.680853771075 USD\n",
      "On day #181, selling existing position of <Pair yveCRV-DAO - WETH (0x10b47177e92ef9d5c6059055d92ddf6290848991) at exchange #22 on Ethereum>\n",
      "On day #181 we are buying AXS - WETH that has all-time vol of 2688771.75. Buy in at the close price of 6.270810604095459 AXS, cash at hand 84085.4415138877 USD\n",
      "On day #182, selling existing position of <Pair AXS - WETH (0x35a0d9579b1e886702375364fe9c540f97e4517b) at exchange #22 on Ethereum>\n",
      "On day #182 we are buying LINK - WETH that has all-time vol of 4600201.0. Buy in at the close price of 29.036678314208984 LINK, cash at hand 4231.530615775977 USD\n",
      "On day #183, selling existing position of <Pair LINK - WETH (0xc40d16476380e4037e6b1a2594caf6a6cc8da967) at exchange #22 on Ethereum>\n",
      "On day #183 we are buying COMP - WETH that has all-time vol of 9912817.0. Buy in at the close price of 451.9365234375 COMP, cash at hand 76895.56572791967 USD\n",
      "On day #184, selling existing position of <Pair COMP - WETH (0x31503dcb60119a812fee820bb7042752019f2355) at exchange #22 on Ethereum>\n",
      "On day #184 we are buying RGT - WETH that has all-time vol of 1490690.25. Buy in at the close price of 14.4457368850708 RGT, cash at hand 4470.373500487898 USD\n",
      "On day #185, selling existing position of <Pair RGT - WETH (0x18a797c7c70c1bf22fdee1c09062aba709cacf04) at exchange #22 on Ethereum>\n",
      "On day #185 we are buying UMA - WETH that has all-time vol of 2359053.0. Buy in at the close price of 25.033231735229492 UMA, cash at hand 84147.04192910944 USD\n",
      "On day #186, selling existing position of <Pair UMA - WETH (0x001b6450083e531a5a7bf310bd2c1af4247e23d4) at exchange #22 on Ethereum>\n",
      "On day #186 we are buying RGT - WETH that has all-time vol of 1094208.5. Buy in at the close price of 12.3314847946167 RGT, cash at hand 5866.65595398967 USD\n",
      "On day #187, selling existing position of <Pair RGT - WETH (0x18a797c7c70c1bf22fdee1c09062aba709cacf04) at exchange #22 on Ethereum>\n",
      "On day #187 we are buying PERP - WETH that has all-time vol of 672892.6875. Buy in at the close price of 8.60901927947998 PERP, cash at hand 85037.49449556589 USD\n",
      "On day #188, selling existing position of <Pair PERP - WETH (0x8486c538dcbd6a707c5b3f730b6413286fe8c854) at exchange #22 on Ethereum>\n",
      "On day #188 we are buying FTM - WETH that has all-time vol of 2634329.0. Buy in at the close price of 0.46336016058921814 FTM, cash at hand 5611.0879792699125 USD\n",
      "On day #189, selling existing position of <Pair FTM - WETH (0x0e26a21013f2f8c0362cfae608b4e69a249d5efc) at exchange #22 on Ethereum>\n",
      "On day #189 we are buying ALCX - WETH that has all-time vol of 9535090.0. Buy in at the close price of 1708.329345703125 ALCX, cash at hand 81920.49285929096 USD\n",
      "On day #190, selling existing position of <Pair ALCX - WETH (0xc3f279090a47e80990fe3a9c30d24cb117ef91a8) at exchange #22 on Ethereum>\n",
      "On day #190 we are buying <unknown> - WETH that has all-time vol of 2722376.5. Buy in at the close price of 2205.739990234375 <unknown>, cash at hand 5578.8975041107915 USD\n",
      "On day #191, selling existing position of <Pair <unknown> - WETH (0xba13afecda9beb75de5c56bbaf696b880a5a50dd) at exchange #22 on Ethereum>\n",
      "On day #191 we are buying REN - WETH that has all-time vol of 2249459.0. Buy in at the close price of 1.0423067808151245 REN, cash at hand 92359.89529870232 USD\n",
      "On day #192, selling existing position of <Pair REN - WETH (0x611cde65dea90918c0078ac0400a72b0d25b9bb1) at exchange #22 on Ethereum>\n",
      "On day #192 we are buying BADGER - WBTC that has all-time vol of 1527237.5. Buy in at the close price of 42.511051177978516 BADGER, cash at hand 5966.8381729309185 USD\n",
      "On day #193, selling existing position of <Pair BADGER - WBTC (0x110492b31c59716ac47337e616804e3e3adc0b4a) at exchange #22 on Ethereum>\n",
      "On day #193 we are buying CRV - WETH that has all-time vol of 3042993.0. Buy in at the close price of 3.0838184356689453 CRV, cash at hand 94631.72893505053 USD\n",
      "On day #194, selling existing position of <Pair CRV - WETH (0x58dc5a51fe44589beb22e8ce67720b5bc5378009) at exchange #22 on Ethereum>\n",
      "On day #194 we are buying VSP - WETH that has all-time vol of 1872402.0. Buy in at the close price of 45.099857330322266 VSP, cash at hand 5683.190964493406 USD\n",
      "On day #195, selling existing position of <Pair VSP - WETH (0x132eeb05d5cb6829bd34f552cde0b6b708ef5014) at exchange #22 on Ethereum>\n",
      "On day #195 we are buying BAND - WETH that has all-time vol of 908665.125. Buy in at the close price of 16.727792739868164 BAND, cash at hand 93926.36948491007 USD\n",
      "On day #196, selling existing position of <Pair BAND - WETH (0xa75f7c2f025f470355515482bde9efa8153536a8) at exchange #22 on Ethereum>\n",
      "On day #196 we are buying BASK - WETH that has all-time vol of 3197512.0. Buy in at the close price of 1008.9702758789062 BASK, cash at hand 4220.012513472408 USD\n",
      "On day #197, selling existing position of <Pair BASK - WETH (0x34d25a4749867ef8b62a0cd1e2d7b4f7af167e01) at exchange #22 on Ethereum>\n",
      "On day #197 we are buying YLD - WETH that has all-time vol of 638500.125. Buy in at the close price of 50.62942123413086 YLD, cash at hand 98573.87366094603 USD\n",
      "On day #198, selling existing position of <Pair YLD - WETH (0xbbfd9b37ec6ea1ca612ab4adef6d8c6ece1a4134) at exchange #22 on Ethereum>\n",
      "On day #198 we are buying REN - WETH that has all-time vol of 3682311.5. Buy in at the close price of 1.1726734638214111 REN, cash at hand 2705.3469491415017 USD\n",
      "On day #199, selling existing position of <Pair REN - WETH (0x611cde65dea90918c0078ac0400a72b0d25b9bb1) at exchange #22 on Ethereum>\n",
      "On day #199 we are buying WETH - USDT that has all-time vol of 21802668.0. Buy in at the close price of 2315.02685546875 WETH, cash at hand 94758.51112497199 USD\n",
      "On day #200, selling existing position of <Pair WETH - USDT (0x06da0fd433c1a5d7a4faa01111c044910a184553) at exchange #22 on Ethereum>\n",
      "On day #200 we are buying BAND - WETH that has all-time vol of 2838468.75. Buy in at the close price of 17.313913345336914 BAND, cash at hand 2486.358620950574 USD\n",
      "On day #201, selling existing position of <Pair BAND - WETH (0xa75f7c2f025f470355515482bde9efa8153536a8) at exchange #22 on Ethereum>\n",
      "On day #201 we are buying WETH - USDT that has all-time vol of 36030768.0. Buy in at the close price of 2155.59912109375 WETH, cash at hand 91961.21959865131 USD\n",
      "On day #202, selling existing position of <Pair WETH - USDT (0x06da0fd433c1a5d7a4faa01111c044910a184553) at exchange #22 on Ethereum>\n",
      "On day #202 we are buying ALPHA - WETH that has all-time vol of 7257522.0. Buy in at the close price of 1.3499099016189575 ALPHA, cash at hand 1538.0095304494316 USD\n",
      "On day #203, selling existing position of <Pair ALPHA - WETH (0xf55c33d94150d93c2cfb833bcca30be388b14964) at exchange #22 on Ethereum>\n",
      "On day #203 we are buying BANK - WETH that has all-time vol of 591840.25. Buy in at the close price of 434.97698974609375 BANK, cash at hand 99515.81029149337 USD\n",
      "On day #204, selling existing position of <Pair BANK - WETH (0x938625591adb4e865b882377e2c965f9f9b85e34) at exchange #22 on Ethereum>\n",
      "On day #204 we are buying BADGER - WBTC that has all-time vol of 3779492.75. Buy in at the close price of 28.3566951751709 BADGER, cash at hand 1521.4785497171106 USD\n",
      "On day #205, selling existing position of <Pair BADGER - WBTC (0x110492b31c59716ac47337e616804e3e3adc0b4a) at exchange #22 on Ethereum>\n",
      "On day #205 we are buying ILV - WETH that has all-time vol of 845576.3125. Buy in at the close price of 66.8873519897461 ILV, cash at hand 103019.18379033475 USD\n",
      "On day #206, selling existing position of <Pair ILV - WETH (0x6a091a3406e0073c3cd6340122143009adac0eda) at exchange #22 on Ethereum>\n",
      "On day #206 we are buying REN - WETH that has all-time vol of 1435919.25. Buy in at the close price of 0.7642251253128052 REN, cash at hand 3829.300304410106 USD\n",
      "On day #207, selling existing position of <Pair REN - WETH (0x611cde65dea90918c0078ac0400a72b0d25b9bb1) at exchange #22 on Ethereum>\n",
      "On day #207 we are buying ILV - WETH that has all-time vol of 883754.0. Buy in at the close price of 65.66545867919922 ILV, cash at hand 100946.34653832937 USD\n",
      "On day #208, selling existing position of <Pair ILV - WETH (0x6a091a3406e0073c3cd6340122143009adac0eda) at exchange #22 on Ethereum>\n",
      "On day #208 we are buying BANK - WETH that has all-time vol of 585450.4375. Buy in at the close price of 450.1690979003906 BANK, cash at hand 200.5375771329418 USD\n",
      "On day #209, selling existing position of <Pair BANK - WETH (0x938625591adb4e865b882377e2c965f9f9b85e34) at exchange #22 on Ethereum>\n",
      "On day #209 we are buying PERP - WETH that has all-time vol of 890539.75. Buy in at the close price of 6.4946370124816895 PERP, cash at hand 108311.56820666073 USD\n",
      "On day #210 we are buying ANY - WETH that has all-time vol of 596323.625. Buy in at the close price of 2.277604818344116 ANY, cash at hand 108521.84014445975 USD\n",
      "On day #211, selling existing position of <Pair ANY - WETH (0xec78bd3b23ac867fcc028f2db405a1d9a0a2f712) at exchange #22 on Ethereum>\n",
      "On day #211 we are buying CRV - WETH that has all-time vol of 4203262.0. Buy in at the close price of 3.0207958221435547 CRV, cash at hand 246.92126722304965 USD\n",
      "On day #212, selling existing position of <Pair CRV - WETH (0x58dc5a51fe44589beb22e8ce67720b5bc5378009) at exchange #22 on Ethereum>\n",
      "On day #212 we are buying YOP - WETH that has all-time vol of 551458.4375. Buy in at the close price of 1.677918791770935 YOP, cash at hand 207355.11386392207 USD\n",
      "On day #213, selling existing position of <Pair YOP - WETH (0xe4275e185074afa0b760a6b0787ef42f4b030813) at exchange #22 on Ethereum>\n",
      "On day #213 we are buying SFI - WETH that has all-time vol of 539369.0. Buy in at the close price of 1611.7607421875 SFI, cash at hand 10302.973914503178 USD\n",
      "On day #214, selling existing position of <Pair SFI - WETH (0x23a9292830fc80db7f563edb28d2fe6fb47f8624) at exchange #22 on Ethereum>\n",
      "On day #214 we are buying SRM - WETH that has all-time vol of 3613557.5. Buy in at the close price of 10.735518455505371 SRM, cash at hand 178453.34395058043 USD\n",
      "On day #215, selling existing position of <Pair SRM - WETH (0x117d4288b3635021a3d612fe05a3cbf5c717fef2) at exchange #22 on Ethereum>\n",
      "On day #215 we are buying WASABI - WETH that has all-time vol of 544875.625. Buy in at the close price of 44.72229766845703 WASABI, cash at hand 7080.430169991305 USD\n",
      "On day #216, selling existing position of <Pair WASABI - WETH (0x8f9ef75cd6e610dd8acf8611c344573032fb9c3d) at exchange #22 on Ethereum>\n",
      "On day #216 we are buying OMG - WETH that has all-time vol of 1290090.5. Buy in at the close price of 8.705574989318848 OMG, cash at hand 195519.97700509295 USD\n",
      "On day #217, selling existing position of <Pair OMG - WETH (0x742c15d71ea7444964bc39b0ed729b3729adc361) at exchange #22 on Ethereum>\n",
      "On day #217 we are buying CREAM - WETH that has all-time vol of 1867685.25. Buy in at the close price of 145.29393005371094 CREAM, cash at hand 3992.3593624927744 USD\n",
      "On day #218, selling existing position of <Pair CREAM - WETH (0xf169cea51eb51774cf107c88309717dda20be167) at exchange #22 on Ethereum>\n",
      "On day #218 we are buying UNI - WETH that has all-time vol of 3555837.75. Buy in at the close price of 40.48434066772461 UNI, cash at hand 223766.53805725617 USD\n",
      "On day #219, selling existing position of <Pair UNI - WETH (0xdafd66636e2561b0284edde37e42d192f2844d40) at exchange #22 on Ethereum>\n",
      "On day #219 we are buying BADGER - WBTC that has all-time vol of 7125640.0. Buy in at the close price of 34.57086944580078 BADGER, cash at hand 6758.231859663763 USD\n",
      "On day #220, selling existing position of <Pair BADGER - WBTC (0x110492b31c59716ac47337e616804e3e3adc0b4a) at exchange #22 on Ethereum>\n",
      "On day #220 we are buying WETH - sUSD that has all-time vol of 1859942.25. Buy in at the close price of 3787.5849609375 WETH, cash at hand 219624.97049780432 USD\n",
      "On day #221, selling existing position of <Pair WETH - sUSD (0xf1f85b2c54a2bd284b1cf4141d64fd171bd85539) at exchange #22 on Ethereum>\n",
      "On day #221 we are buying UST - WETH that has all-time vol of 1170722.25. Buy in at the close price of 0.9912562966346741 UST, cash at hand 8874.867035210278 USD\n",
      "On day #222, selling existing position of <Pair UST - WETH (0x8b00ee8606cc70c2dce68dea0cefe632cca0fb7b) at exchange #22 on Ethereum>\n",
      "On day #222 we are buying SRM - WETH that has all-time vol of 1286298.75. Buy in at the close price of 9.31427001953125 SRM, cash at hand 221182.68529981325 USD\n",
      "On day #223, selling existing position of <Pair SRM - WETH (0x117d4288b3635021a3d612fe05a3cbf5c717fef2) at exchange #22 on Ethereum>\n",
      "On day #223 we are buying SRM - WETH that has all-time vol of 1124346.875. Buy in at the close price of 9.751977920532227 SRM, cash at hand 13226.243300063565 USD\n",
      "On day #224, selling existing position of <Pair SRM - WETH (0x117d4288b3635021a3d612fe05a3cbf5c717fef2) at exchange #22 on Ethereum>\n",
      "On day #224 we are buying PENDLE - WETH that has all-time vol of 745753.125. Buy in at the close price of 1.791793942451477 PENDLE, cash at hand 233611.30714417875 USD\n",
      "On day #225, selling existing position of <Pair PENDLE - WETH (0x37922c69b08babcceae735a31235c81f1d1e8e43) at exchange #22 on Ethereum>\n",
      "On day #225 we are buying CRETH2 - WETH that has all-time vol of 578844.625. Buy in at the close price of 3413.031982421875 CRETH2, cash at hand 31828.155337173957 USD\n",
      "On day #226, selling existing position of <Pair CRETH2 - WETH (0x71817445d11f42506f2d7f54417c935be90ca731) at exchange #22 on Ethereum>\n",
      "On day #226 we are buying BTC2x-FLI - WBTC that has all-time vol of 1639578.5. Buy in at the close price of 74.464599609375 BTC2x-FLI, cash at hand 211296.53294322008 USD\n",
      "On day #227, selling existing position of <Pair BTC2x-FLI - WBTC (0x164fe0239d703379bddde3c80e4d4800a1cd452b) at exchange #22 on Ethereum>\n",
      "On day #227 we are buying BADGER - WBTC that has all-time vol of 701502.1875. Buy in at the close price of 27.516504287719727 BADGER, cash at hand 33453.78732588384 USD\n",
      "On day #228, selling existing position of <Pair BADGER - WBTC (0x110492b31c59716ac47337e616804e3e3adc0b4a) at exchange #22 on Ethereum>\n",
      "On day #228 we are buying WETH - DAI that has all-time vol of 136537648.0. Buy in at the close price of 3579.50830078125 WETH, cash at hand 187686.65482606646 USD\n",
      "On day #229, selling existing position of <Pair WETH - DAI (0xc3d03e4f041fd4cd388c549ee2a29a9e5075882f) at exchange #22 on Ethereum>\n",
      "On day #229 we are buying FNX - WETH that has all-time vol of 1084884.75. Buy in at the close price of 0.03055991418659687 FNX, cash at hand 32541.81937518515 USD\n",
      "On day #230, selling existing position of <Pair FNX - WETH (0xaa500101c73065f755ba9b902d643705ef2523e3) at exchange #22 on Ethereum>\n",
      "On day #230 we are buying TCAP - WETH that has all-time vol of 1191738.0. Buy in at the close price of 303.6929626464844 TCAP, cash at hand 171944.03880953806 USD\n",
      "On day #231, selling existing position of <Pair TCAP - WETH (0xa87e2c5d5964955242989b954474ff2eb08dd2f5) at exchange #22 on Ethereum>\n",
      "On day #231 we are buying PENDLE - WETH that has all-time vol of 1423037.125. Buy in at the close price of 0.8299142122268677 PENDLE, cash at hand 22857.8448632331 USD\n",
      "On day #232, selling existing position of <Pair PENDLE - WETH (0x37922c69b08babcceae735a31235c81f1d1e8e43) at exchange #22 on Ethereum>\n",
      "On day #232 we are buying WETH - DAI that has all-time vol of 236408640.0. Buy in at the close price of 2782.267578125 WETH, cash at hand 129987.15039301376 USD\n",
      "On day #233, selling existing position of <Pair WETH - DAI (0xc3d03e4f041fd4cd388c549ee2a29a9e5075882f) at exchange #22 on Ethereum>\n",
      "On day #233 we are buying ILV - WETH that has all-time vol of 2919093.5. Buy in at the close price of 60.724517822265625 ILV, cash at hand 29301.667750737673 USD\n",
      "On day #234, selling existing position of <Pair ILV - WETH (0x6a091a3406e0073c3cd6340122143009adac0eda) at exchange #22 on Ethereum>\n",
      "On day #234 we are buying CREAM - WETH that has all-time vol of 1558226.75. Buy in at the close price of 104.32400512695312 CREAM, cash at hand 113952.60964022022 USD\n",
      "On day #235, selling existing position of <Pair CREAM - WETH (0xf169cea51eb51774cf107c88309717dda20be167) at exchange #22 on Ethereum>\n",
      "On day #235 we are buying UST - WETH that has all-time vol of 1797227.5. Buy in at the close price of 0.9444727301597595 UST, cash at hand 27646.619945995684 USD\n",
      "On day #236, selling existing position of <Pair UST - WETH (0x8b00ee8606cc70c2dce68dea0cefe632cca0fb7b) at exchange #22 on Ethereum>\n",
      "On day #236 we are buying CREAM - WETH that has all-time vol of 619780.75. Buy in at the close price of 114.13179016113281 CREAM, cash at hand 108261.99053150452 USD\n",
      "On day #237, selling existing position of <Pair CREAM - WETH (0xf169cea51eb51774cf107c88309717dda20be167) at exchange #22 on Ethereum>\n",
      "On day #237 we are buying LON - USDT that has all-time vol of 3973093.0. Buy in at the close price of 2.914149761199951 LON, cash at hand 28550.19992863995 USD\n",
      "On day #238, selling existing position of <Pair LON - USDT (0x55d31f68975e446a40a2d02ffa4b0e1bfb233c2f) at exchange #22 on Ethereum>\n",
      "On day #238 we are buying SFI - WETH that has all-time vol of 771035.6875. Buy in at the close price of 633.5174560546875 SFI, cash at hand 109564.71662361038 USD\n",
      "On day #239, selling existing position of <Pair SFI - WETH (0x23a9292830fc80db7f563edb28d2fe6fb47f8624) at exchange #22 on Ethereum>\n",
      "On day #239 we are buying xSUSHI - WETH that has all-time vol of 1651366.875. Buy in at the close price of 14.023365020751953 xSUSHI, cash at hand 34208.15575845809 USD\n",
      "On day #240, selling existing position of <Pair xSUSHI - WETH (0x36e2fcccc59e5747ff63a03ea2e5c0c2c14911e7) at exchange #22 on Ethereum>\n",
      "On day #240 we are buying LDO - WETH that has all-time vol of 2869707.0. Buy in at the close price of 1.8012748956680298 LDO, cash at hand 109364.03759249969 USD\n",
      "On day #241, selling existing position of <Pair LDO - WETH (0xc558f600b34a5f69dd2f0d06cb8a88d829b7420a) at exchange #22 on Ethereum>\n",
      "On day #241 we are buying WETH - WBTC that has all-time vol of 31993836.0. Buy in at the close price of 2281.887939453125 WETH, cash at hand 28881.910391006386 USD\n",
      "On day #242, selling existing position of <Pair WETH - WBTC (0xceff51756c56ceffca006cd410b03ffc46dd3a58) at exchange #22 on Ethereum>\n",
      "On day #242 we are buying <unknown> - WETH that has all-time vol of 2548386.25. Buy in at the close price of 3332.7685546875 <unknown>, cash at hand 100903.13551965752 USD\n",
      "On day #243, selling existing position of <Pair <unknown> - WETH (0xba13afecda9beb75de5c56bbaf696b880a5a50dd) at exchange #22 on Ethereum>\n",
      "On day #243 we are buying CRV - WETH that has all-time vol of 5623848.0. Buy in at the close price of 1.9640008211135864 CRV, cash at hand 32610.612417524302 USD\n",
      "On day #244, selling existing position of <Pair CRV - WETH (0x58dc5a51fe44589beb22e8ce67720b5bc5378009) at exchange #22 on Ethereum>\n",
      "On day #244 we are buying SNX - WETH that has all-time vol of 3154581.0. Buy in at the close price of 12.666478157043457 SNX, cash at hand 109223.27234248769 USD\n",
      "Ending portfolio Value: 143463.43\n"
     ]
    }
   ],
   "source": [
    "cerebro.addobserver(bt.observers.Value)\n",
    "cerebro.addanalyzer(bt.analyzers.SharpeRatio, riskfreerate=0.0)\n",
    "cerebro.addanalyzer(bt.analyzers.Returns)\n",
    "cerebro.addanalyzer(bt.analyzers.DrawDown)\n",
    "\n",
    "# Run over everything\n",
    "print('Starting portfolio Value: %.2f' % cerebro.broker.getvalue())\n",
    "results = cerebro.run()\n",
    "print('Ending portfolio Value: %.2f' % cerebro.broker.getvalue())\n",
    "\n",
    "strategy: EntropyMonkey = results[0]\n",
    "\n",
    "# The number of ticks the strategy performed\n",
    "assert strategy.day == 244, f\"Simulated trading for {strategy.day} days\""
   ]
  },
  {
   "cell_type": "markdown",
   "source": [
    "## Analysing the portfolio results"
   ],
   "metadata": {
    "collapsed": false,
    "pycharm": {
     "name": "#%% md\n"
    }
   }
  },
  {
   "cell_type": "code",
   "execution_count": 43,
   "outputs": [
    {
     "name": "stdout",
     "output_type": "stream",
     "text": [
      "Final Portfolio Value: 143463.43\n",
      "Sharpe: 0.976\n",
      "Norm. Annual Return: 1465.55%\n",
      "Max Drawdown: 95.00%\n"
     ]
    }
   ],
   "source": [
    "print(f\"Backtest range {start} - {end}\")\n",
    "print(f\"Sharpe: {results[0].analyzers.sharperatio.get_analysis()['sharperatio']:.3f}\")\n",
    "print(f\"Norm. Annual Return: {results[0].analyzers.returns.get_analysis()['rnorm100']:.2f}%\")\n",
    "print(f\"Max Drawdown: {results[0].analyzers.drawdown.get_analysis()['max']['drawdown']:.2f}%\")"
   ],
   "metadata": {
    "collapsed": false,
    "pycharm": {
     "name": "#%%\n"
    }
   }
  },
  {
   "cell_type": "markdown",
   "source": [
    "## Plotting the portfolio result"
   ],
   "metadata": {
    "collapsed": false,
    "pycharm": {
     "name": "#%% md\n"
    }
   }
  },
  {
   "cell_type": "code",
   "execution_count": 44,
   "outputs": [],
   "source": [
    "pass"
   ],
   "metadata": {
    "collapsed": false,
    "pycharm": {
     "name": "#%%\n"
    }
   }
  },
  {
   "cell_type": "markdown",
   "source": [
    "## Notes\n",
    "\n",
    "[Adding custom DataFrames to Backtrader](https://community.backtrader.com/topic/1828/how-to-feed-a-custom-pandas-dataframe-in-backtrader)\n"
   ],
   "metadata": {
    "collapsed": false,
    "pycharm": {
     "name": "#%% md\n"
    }
   }
  }
 ],
 "metadata": {
  "kernelspec": {
   "name": "pycharm-69593197",
   "language": "python",
   "display_name": "PyCharm (dex-ohlcv)"
  },
  "language_info": {
   "codemirror_mode": {
    "name": "ipython",
    "version": 3
   },
   "file_extension": ".py",
   "mimetype": "text/x-python",
   "name": "python",
   "nbconvert_exporter": "python",
   "pygments_lexer": "ipython3",
   "version": "3.8.1"
  }
 },
 "nbformat": 4,
 "nbformat_minor": 1
}