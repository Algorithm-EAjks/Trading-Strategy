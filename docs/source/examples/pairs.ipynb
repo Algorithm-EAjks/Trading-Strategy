{
 "cells": [
  {
   "cell_type": "markdown",
   "source": [
    "# Exploring trading pairs\n",
    "\n",
    "An example how to filter and plot candles for pair data\n",
    "\n",
    "We will\n",
    "\n",
    "* Download pair and exchange map (\"the universe\")\n",
    "\n",
    "* Filter out SushiSwap pairs\n",
    "\n",
    "* Download 4 hour candle data for all pairs\n",
    "\n",
    "* Display top 10 pairs by their 30d volume, nominated in the USD"
   ],
   "metadata": {
    "collapsed": false,
    "pycharm": {
     "name": "#%% md\n"
    }
   }
  },
  {
   "cell_type": "markdown",
   "source": [
    "First let's import libraries and initialise our dataset client."
   ],
   "metadata": {
    "collapsed": false,
    "pycharm": {
     "name": "#%% md\n"
    }
   }
  },
  {
   "cell_type": "code",
   "execution_count": 11,
   "outputs": [
    {
     "name": "stdout",
     "output_type": "stream",
     "text": [
      "Started Capitalgram in Jupyter notebook environment, configuration is stored in /Users/moo/.capitalgram\n"
     ]
    }
   ],
   "source": [
    "\n",
    "import pandas as pd\n",
    "\n",
    "from capitalgram.chain import ChainId\n",
    "from capitalgram.pair import PairUniverse\n",
    "\n",
    "try:\n",
    "    import capitalgram\n",
    "except ImportError:\n",
    "    !pip install -e git+https://github.com/miohtama/capitalgram-onchain-dex-quant-data.git#egg=capitalgram\n",
    "    import site\n",
    "    site.main()\n",
    "\n",
    "from capitalgram.client import Capitalgram\n",
    "\n",
    "capitalgram = Capitalgram.create_jupyter_client()"
   ],
   "metadata": {
    "collapsed": false,
    "pycharm": {
     "name": "#%%\n"
    }
   }
  },
  {
   "cell_type": "markdown",
   "source": [
    "Get the map of exchanges and pairs we are working on"
   ],
   "metadata": {
    "collapsed": false,
    "pycharm": {
     "name": "#%% md\n"
    }
   }
  },
  {
   "cell_type": "code",
   "execution_count": 12,
   "outputs": [
    {
     "name": "stdout",
     "output_type": "stream",
     "text": [
      "Total pairs 47686, total exchanges 231\n"
     ]
    }
   ],
   "source": [
    "# Decompress the pair dataset to Python map\n",
    "columnar_pair_table = capitalgram.fetch_pair_universe()\n",
    "\n",
    "# Exchange map data is so small it does not need any decompression\n",
    "exchange_universe = capitalgram.fetch_exchange_universe()\n",
    "\n",
    "print(f\"Total pairs {len(columnar_pair_table)}, total exchanges {len(exchange_universe.exchanges)}\")"
   ],
   "metadata": {
    "collapsed": false,
    "pycharm": {
     "name": "#%%\n"
    }
   }
  },
  {
   "cell_type": "markdown",
   "source": [
    "## Filtering pairs trading on Sushiswap\n",
    "\n",
    "We are only interested in SushiSwap, the mosh pit of a degens, so filter pairs that are on this exchange only.\n",
    "We specifically pick Sushiswap on Ethereum mainnet,\n",
    "as it is the oldest and most active for all Sushiswap instances across EVM blockchains like Polygon, BSC, Fantom, etc.\n",
    "\n",
    "Also we do not yet have multichain data on the dataset server, when I am writing this tutorial so..."
   ],
   "metadata": {
    "collapsed": false
   }
  },
  {
   "cell_type": "code",
   "execution_count": 13,
   "outputs": [
    {
     "name": "stdout",
     "output_type": "stream",
     "text": [
      "Sushiswap on Ethereum has 1308 pairs\n"
     ]
    }
   ],
   "source": [
    "# Convert PyArrow table to Pandas format to continue working on it\n",
    "all_pairs_dataframe = columnar_pair_table.to_pandas()\n",
    "\n",
    "# Filter down to pairs that only trade on Sushiswap\n",
    "sushi_swap = exchange_universe.get_by_name_and_chain(ChainId.ethereum, \"sushiswap\")\n",
    "sushi_pairs: pd.DataFrame = all_pairs_dataframe.loc[all_pairs_dataframe['exchange_id'] == sushi_swap.exchange_id]\n",
    "\n",
    "print(f\"Sushiswap on Ethereum has {len(sushi_pairs)} pairs\")"
   ],
   "metadata": {
    "collapsed": false,
    "pycharm": {
     "name": "#%%\n"
    }
   }
  },
  {
   "cell_type": "markdown",
   "source": [
    "## Calculating combined buy and sell volume\n",
    "\n",
    "Now let's get pairs sorted out by 30d buy and sell volume"
   ],
   "metadata": {
    "collapsed": false,
    "pycharm": {
     "name": "#%% md\n"
    }
   }
  },
  {
   "cell_type": "code",
   "execution_count": 14,
   "outputs": [
    {
     "name": "stdout",
     "output_type": "stream",
     "text": [
      "total_30d_volume column added\n"
     ]
    }
   ],
   "source": [
    "# Avoid doing set operations on a Pandas read-only view\n",
    "# https://stackoverflow.com/questions/20625582/how-to-deal-with-settingwithcopywarning-in-pandas\n",
    "sushi_pairs = sushi_pairs.copy()\n",
    "total_volume_30d = sushi_pairs[\"buy_volume_30d\"] + sushi_pairs[\"sell_volume_30d\"]\n",
    "sushi_pairs[\"total_30d_volume\"] = total_volume_30d\n",
    "# Sort by highest volume firs   t\n",
    "sushi_pairs = sushi_pairs.sort_values(\"total_30d_volume\", ascending=False)\n",
    "\n",
    "print(\"total_30d_volume column sum added\")"
   ],
   "metadata": {
    "collapsed": false,
    "pycharm": {
     "name": "#%%\n"
    }
   }
  },
  {
   "cell_type": "markdown",
   "source": [
    "## Output table for top-10 pairs\n",
    "\n",
    "Then let's see the top 10 pairs we got and choose colums to display."
   ],
   "metadata": {
    "collapsed": false,
    "pycharm": {
     "name": "#%% md\n"
    }
   }
  },
  {
   "cell_type": "code",
   "execution_count": 15,
   "outputs": [
    {
     "data": {
      "text/plain": "<pandas.io.formats.style.Styler at 0x126e17a60>",
      "text/html": "<style type=\"text/css\">\n</style>\n<table id=\"T_c0ed5_\">\n  <thead>\n    <tr>\n      <th class=\"col_heading level0 col0\" >Base token</th>\n      <th class=\"col_heading level0 col1\" >Quote token</th>\n      <th class=\"col_heading level0 col2\" >Volume 30d USD</th>\n    </tr>\n  </thead>\n  <tbody>\n    <tr>\n      <td id=\"T_c0ed5_row0_col0\" class=\"data row0 col0\" >WETH</td>\n      <td id=\"T_c0ed5_row0_col1\" class=\"data row0 col1\" >USDC</td>\n      <td id=\"T_c0ed5_row0_col2\" class=\"data row0 col2\" >$1,089,837,312.00</td>\n    </tr>\n    <tr>\n      <td id=\"T_c0ed5_row1_col0\" class=\"data row1 col0\" >WETH</td>\n      <td id=\"T_c0ed5_row1_col1\" class=\"data row1 col1\" >USDT</td>\n      <td id=\"T_c0ed5_row1_col2\" class=\"data row1 col2\" >$684,412,288.00</td>\n    </tr>\n    <tr>\n      <td id=\"T_c0ed5_row2_col0\" class=\"data row2 col0\" >WETH</td>\n      <td id=\"T_c0ed5_row2_col1\" class=\"data row2 col1\" >DAI</td>\n      <td id=\"T_c0ed5_row2_col2\" class=\"data row2 col2\" >$548,666,752.00</td>\n    </tr>\n    <tr>\n      <td id=\"T_c0ed5_row3_col0\" class=\"data row3 col0\" >SUSHI</td>\n      <td id=\"T_c0ed5_row3_col1\" class=\"data row3 col1\" >WETH</td>\n      <td id=\"T_c0ed5_row3_col2\" class=\"data row3 col2\" >$395,642,400.00</td>\n    </tr>\n    <tr>\n      <td id=\"T_c0ed5_row4_col0\" class=\"data row4 col0\" >WETH</td>\n      <td id=\"T_c0ed5_row4_col1\" class=\"data row4 col1\" >WBTC</td>\n      <td id=\"T_c0ed5_row4_col2\" class=\"data row4 col2\" >$308,113,696.00</td>\n    </tr>\n    <tr>\n      <td id=\"T_c0ed5_row5_col0\" class=\"data row5 col0\" >OHM</td>\n      <td id=\"T_c0ed5_row5_col1\" class=\"data row5 col1\" >DAI</td>\n      <td id=\"T_c0ed5_row5_col2\" class=\"data row5 col2\" >$147,783,568.00</td>\n    </tr>\n    <tr>\n      <td id=\"T_c0ed5_row6_col0\" class=\"data row6 col0\" >AAVE</td>\n      <td id=\"T_c0ed5_row6_col1\" class=\"data row6 col1\" >WETH</td>\n      <td id=\"T_c0ed5_row6_col2\" class=\"data row6 col2\" >$142,700,480.00</td>\n    </tr>\n    <tr>\n      <td id=\"T_c0ed5_row7_col0\" class=\"data row7 col0\" >LINK</td>\n      <td id=\"T_c0ed5_row7_col1\" class=\"data row7 col1\" >WETH</td>\n      <td id=\"T_c0ed5_row7_col2\" class=\"data row7 col2\" >$92,933,976.00</td>\n    </tr>\n    <tr>\n      <td id=\"T_c0ed5_row8_col0\" class=\"data row8 col0\" >YFI</td>\n      <td id=\"T_c0ed5_row8_col1\" class=\"data row8 col1\" >WETH</td>\n      <td id=\"T_c0ed5_row8_col2\" class=\"data row8 col2\" >$91,865,696.00</td>\n    </tr>\n    <tr>\n      <td id=\"T_c0ed5_row9_col0\" class=\"data row9 col0\" >CRV</td>\n      <td id=\"T_c0ed5_row9_col1\" class=\"data row9 col1\" >WETH</td>\n      <td id=\"T_c0ed5_row9_col2\" class=\"data row9 col2\" >$89,533,808.00</td>\n    </tr>\n  </tbody>\n</table>\n"
     },
     "execution_count": 15,
     "metadata": {},
     "output_type": "execute_result"
    }
   ],
   "source": [
    "# See Pandas official documentation for table visualisation\n",
    "# https://pandas.pydata.org/pandas-docs/stable/user_guide/style.html\n",
    "\n",
    "output = sushi_pairs[[\"base_token_symbol\", \"quote_token_symbol\", \"total_30d_volume\"]].copy()\n",
    "\n",
    "output.style.format({\n",
    "  'total_30d_volume': lambda val: f'${val:,.2f}',\n",
    "})\n",
    "\n",
    "output = output.rename(columns={\n",
    "    'base_token_symbol': 'Base token',\n",
    "    'quote_token_symbol': 'Quote token',\n",
    "    'total_30d_volume': 'Volume 30d USD'})\n",
    "\n",
    "top_10 = output.head(10)\n",
    "\n",
    "top_10.style.format({\n",
    "  'Volume 30d USD': lambda val: f'${val:,.2f}',\n",
    "}).hide_index()"
   ],
   "metadata": {
    "collapsed": false,
    "pycharm": {
     "name": "#%%\n"
    }
   }
  }
 ],
 "metadata": {
  "kernelspec": {
   "name": "python3",
   "language": "python",
   "display_name": "Python 3"
  },
  "language_info": {
   "codemirror_mode": {
    "name": "ipython",
    "version": 2
   },
   "file_extension": ".py",
   "mimetype": "text/x-python",
   "name": "python",
   "nbconvert_exporter": "python",
   "pygments_lexer": "ipython2",
   "version": "2.7.6"
  }
 },
 "nbformat": 4,
 "nbformat_minor": 0
}