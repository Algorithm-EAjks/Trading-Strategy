{
 "cells": [
  {
   "cell_type": "markdown",
   "source": [
    "# Momentum signals\n",
    "\n",
    "In this example, we will examine extracting and drawing momentum signals.\n",
    "\n",
    "We will\n",
    "\n",
    "* Download pair and exchange map (\"the trading universe\")\n",
    "\n",
    "* Create a momentum function\n",
    "\n",
    "* Draw a momentum signal on OHLCV chart\n"
   ],
   "metadata": {
    "collapsed": false,
    "pycharm": {
     "name": "#%% md\n"
    }
   }
  },
  {
   "cell_type": "markdown",
   "source": [
    "## About momentum signals\n",
    "\n",
    "In financial technical analysis, momentum (MTM) and rate of change (ROC) are simple indicators showing the difference between today's closing price and the close N days ago. Momentum is the absolute difference in stock, commodity:\n",
    "\n",
    "[Read more in Wikipedia](https://en.wikipedia.org/wiki/Momentum_(technical_analysis)."
   ],
   "metadata": {
    "collapsed": false,
    "pycharm": {
     "name": "#%% md\n"
    }
   }
  },
  {
   "cell_type": "markdown",
   "source": [
    "## Getting started\n",
    "\n",
    "First let's import libraries and initialise our dataset client."
   ],
   "metadata": {
    "collapsed": false,
    "pycharm": {
     "name": "#%% md\n"
    }
   }
  },
  {
   "cell_type": "code",
   "execution_count": 67,
   "outputs": [
    {
     "name": "stdout",
     "output_type": "stream",
     "text": [
      "Started Capitalgram in Jupyter notebook environment, configuration is stored in /Users/mikkoohtamaa/.capitalgram\n"
     ]
    }
   ],
   "source": [
    "import pandas as pd\n",
    "\n",
    "try:\n",
    "    import capitalgram\n",
    "except ImportError:\n",
    "    !pip install -e git+https://github.com/miohtama/capitalgram-onchain-dex-quant-data.git#egg=capitalgram\n",
    "    import site\n",
    "    site.main()\n",
    "\n",
    "from capitalgram.client import Capitalgram\n",
    "\n",
    "client = Capitalgram.create_jupyter_client()"
   ],
   "metadata": {
    "collapsed": false,
    "pycharm": {
     "name": "#%%\n"
    }
   }
  },
  {
   "cell_type": "markdown",
   "source": [
    "## Importing data\n",
    "\n",
    "We will operate on 4 hour candles across all blockchains and exchanges.\n",
    "We will limit the active dataset by doing a prefiltering and cull out\n",
    "trading pairs that have never been too active.\n",
    "This will greatly decrease computation times, because the dataset will be much smaller.\n",
    "Note that prefiltering pairs like this  will introduce survivorship bias."
   ],
   "metadata": {
    "collapsed": false,
    "pycharm": {
     "name": "#%% md\n"
    }
   }
  },
  {
   "cell_type": "code",
   "execution_count": 68,
   "outputs": [],
   "source": [
    "from pyarrow import Table\n",
    "from capitalgram.exchange import ExchangeUniverse\n",
    "from capitalgram.pair import PandasPairUniverse\n",
    "from capitalgram.timebucket import TimeBucket\n",
    "from capitalgram.candle import GroupedCandleUniverse\n",
    "\n",
    "# Exchange map data is so small it does not need any decompression\n",
    "exchange_universe: ExchangeUniverse = client.fetch_exchange_universe()\n",
    "\n",
    "# We make this notebook derministic by having start and end date for all data\n",
    "start = pd.Timestamp(\"2020-10-01\")\n",
    "end = pd.Timestamp(\"2021-08-01\")\n",
    "\n",
    "# Fetch all trading pairs across all exchanges\n",
    "# We limit the test set to pairs with minimun 50 buys and 50 sells over the lifetime\n",
    "pair_table: Table = client.fetch_pair_universe()\n",
    "pairs = pair_table.to_pandas()\n",
    "pairs = pairs.loc[\n",
    "        (pairs['buy_count'] >= 50) &\n",
    "        (pairs['sell_count'] >= 50)\n",
    "    ]\n",
    "pair_universe = PandasPairUniverse()\n",
    "pair_ids = pair_universe.get_all_pair_ids()\n",
    "\n",
    "# Fetch all candles and filter out candles that are\n",
    "# belong to the pair universe\n",
    "candle_table: Table = client.fetch_all_candles(TimeBucket.h4)\n",
    "candles = candle_table.to_pandas()\n",
    "candles = candles.loc[\n",
    "    candles[\"pair_id\"].isin(pair_ids) &\n",
    "    (candles[\"timestamp\"] >= start) &\n",
    "    (candles[\"timestamp\"] < end)\n",
    "]\n",
    "candle_universe = GroupedCandleUniverse(candles)"
   ],
   "metadata": {
    "collapsed": false,
    "pycharm": {
     "name": "#%%\n"
    }
   }
  },
  {
   "cell_type": "markdown",
   "source": [
    "## Momentum function\n",
    "\n",
    "We use the momentum function from [Teddy Kroker's post](https://teddykoker.com/2019/05/momentum-strategy-from-stocks-on-the-move-in-python/).\n",
    "\n",
    "The original code uses [BUS/252, or 252 business days per year rule](https://quant.stackexchange.com/questions/32914/bus-252-accrual-why-252). Because we are trading crypto and we are trading\n",
    "4 hour candles, to annualise the momentum we use a different multiplier for the slope."
   ],
   "metadata": {
    "collapsed": false,
    "pycharm": {
     "name": "#%% md\n"
    }
   }
  },
  {
   "cell_type": "code",
   "execution_count": null,
   "outputs": [],
   "source": [
    "import numpy as np\n",
    "\n",
    "from scipy.stats import linregress\n",
    "\n",
    "DAYS_IN_YEAR = 365\n",
    "CANDLE_HOURS = 4\n",
    "ANNUALISE_MULTIPLIER = DAYS_IN_YEAR * (CANDLE_HOURS/24)\n",
    "\n",
    "\n",
    "def calculate_momentum(closes):\n",
    "    returns = np.log(closes)\n",
    "    x = np.arange(len(returns))\n",
    "    slope, _, rvalue, _, _ = linregress(x, returns)\n",
    "    # annualize slope and multiply by R^2\n",
    "    return ((1 + slope) ** ANNUALISE_MULTIPLIER) * (rvalue ** 2)"
   ],
   "metadata": {
    "collapsed": false,
    "pycharm": {
     "name": "#%%\n"
    }
   }
  },
  {
   "cell_type": "markdown",
   "source": [
    "## Single pair momentum\n",
    "\n",
    "Let's pick a pair and calculate a momentum signal for it.\n",
    "\n",
    "We will use AAVE-ETH pair on SushiSwap."
   ],
   "metadata": {
    "collapsed": false
   }
  },
  {
   "cell_type": "code",
   "execution_count": 69,
   "outputs": [],
   "source": [
    "from capitalgram.chain import ChainId\n",
    "from capitalgram.pair import DEXPair\n",
    "\n",
    "# Filter down to pairs that only trade on Sushiswap\n",
    "sushi_swap = exchange_universe.get_by_name_and_chain(ChainId.ethereum, \"sushiswap\")\n",
    "\n",
    "aave_eth: DEXPair = pair_universe.get_one_pair_from_pandas_universe(\n",
    "    sushi_swap.exchange_id,\n",
    "    \"WETH\",\n",
    "    \"AAVE\")"
   ],
   "metadata": {
    "collapsed": false,
    "pycharm": {
     "name": "#%%\n"
    }
   }
  },
  {
   "cell_type": "markdown",
   "source": [
    "Let's calculate momentum signal for this pair"
   ],
   "metadata": {
    "collapsed": false,
    "pycharm": {
     "name": "#%% md\n"
    }
   }
  },
  {
   "cell_type": "code",
   "source": [
    "closes = candle_universe.get_candles_by_pair(aave_eth.pair_id)[\"close\"]\n",
    "momentum_signal = calculate_momentum(closes)"
   ],
   "metadata": {
    "collapsed": false,
    "pycharm": {
     "name": "#%%\n"
    }
   },
   "execution_count": 70,
   "outputs": [
    {
     "data": {
      "text/plain": "              open    high     low   close\ntimestamp                                 \n2020-10-01  $24.1M  $28.3M  $13.2M  $14.6M\n2020-10-02  $14.5M  $23.2M  $14.5M  $23.1M\n2020-10-03  $23.1M  $23.4M  $22.3M  $22.7M\n2020-10-04  $22.7M  $22.8M  $22.1M  $22.3M\n2020-10-05  $22.3M  $22.4M  $16.9M  $17.1M\n2020-10-06  $17.1M  $17.7M  $16.2M  $16.7M\n2020-10-07  $16.7M  $16.7M  $15.1M  $16.3M\n2020-10-08  $16.4M  $16.8M  $14.7M  $15.0M\n2020-10-09  $15.0M  $19.5M  $15.0M  $19.4M\n2020-10-10  $19.4M  $20.4M  $19.4M  $19.7M\n2020-10-11  $19.7M  $20.0M  $19.5M  $19.6M\n2020-10-12  $19.6M  $20.3M  $19.3M  $19.5M\n2020-10-13  $19.5M  $20.3M  $18.0M  $18.3M\n2020-10-14  $18.3M  $19.1M  $18.3M  $19.1M\n2020-10-15  $19.1M  $19.8M  $19.0M  $19.7M\n2020-10-16  $19.7M  $19.9M  $19.4M  $19.6M\n2020-10-17  $19.6M  $19.8M  $19.2M  $19.8M\n2020-10-18  $19.8M  $20.9M  $19.8M  $20.9M\n2020-10-19  $20.9M  $21.5M  $20.8M  $20.8M\n2020-10-20  $20.8M  $20.8M  $20.0M  $20.0M\n2020-10-21  $20.0M  $20.8M  $20.0M  $20.6M\n2020-10-22  $20.7M  $21.2M  $20.0M  $20.8M\n2020-10-23  $20.8M  $21.0M  $11.6M  $15.4M\n2020-10-24  $15.4M  $16.6M  $15.4M  $16.5M\n2020-10-25  $16.5M  $16.6M  $16.4M  $16.4M\n2020-10-26  $16.4M  $19.5M  $16.3M  $19.4M\n2020-10-27  $19.5M  $20.1M  $19.2M  $19.8M\n2020-10-28  $19.7M  $19.9M  $18.2M  $18.4M\n2020-10-29  $18.4M  $18.5M  $17.9M  $18.0M\n2020-10-30  $18.0M  $18.0M  $17.7M  $17.9M\n2020-10-31  $17.9M  $18.2M  $17.8M  $18.1M\n2020-11-01  $18.1M  $18.3M  $18.1M  $18.3M",
      "text/html": "<div>\n<style scoped>\n    .dataframe tbody tr th:only-of-type {\n        vertical-align: middle;\n    }\n\n    .dataframe tbody tr th {\n        vertical-align: top;\n    }\n\n    .dataframe thead th {\n        text-align: right;\n    }\n</style>\n<table border=\"1\" class=\"dataframe\">\n  <thead>\n    <tr style=\"text-align: right;\">\n      <th></th>\n      <th>open</th>\n      <th>high</th>\n      <th>low</th>\n      <th>close</th>\n    </tr>\n    <tr>\n      <th>timestamp</th>\n      <th></th>\n      <th></th>\n      <th></th>\n      <th></th>\n    </tr>\n  </thead>\n  <tbody>\n    <tr>\n      <th>2020-10-01</th>\n      <td>$24.1M</td>\n      <td>$28.3M</td>\n      <td>$13.2M</td>\n      <td>$14.6M</td>\n    </tr>\n    <tr>\n      <th>2020-10-02</th>\n      <td>$14.5M</td>\n      <td>$23.2M</td>\n      <td>$14.5M</td>\n      <td>$23.1M</td>\n    </tr>\n    <tr>\n      <th>2020-10-03</th>\n      <td>$23.1M</td>\n      <td>$23.4M</td>\n      <td>$22.3M</td>\n      <td>$22.7M</td>\n    </tr>\n    <tr>\n      <th>2020-10-04</th>\n      <td>$22.7M</td>\n      <td>$22.8M</td>\n      <td>$22.1M</td>\n      <td>$22.3M</td>\n    </tr>\n    <tr>\n      <th>2020-10-05</th>\n      <td>$22.3M</td>\n      <td>$22.4M</td>\n      <td>$16.9M</td>\n      <td>$17.1M</td>\n    </tr>\n    <tr>\n      <th>2020-10-06</th>\n      <td>$17.1M</td>\n      <td>$17.7M</td>\n      <td>$16.2M</td>\n      <td>$16.7M</td>\n    </tr>\n    <tr>\n      <th>2020-10-07</th>\n      <td>$16.7M</td>\n      <td>$16.7M</td>\n      <td>$15.1M</td>\n      <td>$16.3M</td>\n    </tr>\n    <tr>\n      <th>2020-10-08</th>\n      <td>$16.4M</td>\n      <td>$16.8M</td>\n      <td>$14.7M</td>\n      <td>$15.0M</td>\n    </tr>\n    <tr>\n      <th>2020-10-09</th>\n      <td>$15.0M</td>\n      <td>$19.5M</td>\n      <td>$15.0M</td>\n      <td>$19.4M</td>\n    </tr>\n    <tr>\n      <th>2020-10-10</th>\n      <td>$19.4M</td>\n      <td>$20.4M</td>\n      <td>$19.4M</td>\n      <td>$19.7M</td>\n    </tr>\n    <tr>\n      <th>2020-10-11</th>\n      <td>$19.7M</td>\n      <td>$20.0M</td>\n      <td>$19.5M</td>\n      <td>$19.6M</td>\n    </tr>\n    <tr>\n      <th>2020-10-12</th>\n      <td>$19.6M</td>\n      <td>$20.3M</td>\n      <td>$19.3M</td>\n      <td>$19.5M</td>\n    </tr>\n    <tr>\n      <th>2020-10-13</th>\n      <td>$19.5M</td>\n      <td>$20.3M</td>\n      <td>$18.0M</td>\n      <td>$18.3M</td>\n    </tr>\n    <tr>\n      <th>2020-10-14</th>\n      <td>$18.3M</td>\n      <td>$19.1M</td>\n      <td>$18.3M</td>\n      <td>$19.1M</td>\n    </tr>\n    <tr>\n      <th>2020-10-15</th>\n      <td>$19.1M</td>\n      <td>$19.8M</td>\n      <td>$19.0M</td>\n      <td>$19.7M</td>\n    </tr>\n    <tr>\n      <th>2020-10-16</th>\n      <td>$19.7M</td>\n      <td>$19.9M</td>\n      <td>$19.4M</td>\n      <td>$19.6M</td>\n    </tr>\n    <tr>\n      <th>2020-10-17</th>\n      <td>$19.6M</td>\n      <td>$19.8M</td>\n      <td>$19.2M</td>\n      <td>$19.8M</td>\n    </tr>\n    <tr>\n      <th>2020-10-18</th>\n      <td>$19.8M</td>\n      <td>$20.9M</td>\n      <td>$19.8M</td>\n      <td>$20.9M</td>\n    </tr>\n    <tr>\n      <th>2020-10-19</th>\n      <td>$20.9M</td>\n      <td>$21.5M</td>\n      <td>$20.8M</td>\n      <td>$20.8M</td>\n    </tr>\n    <tr>\n      <th>2020-10-20</th>\n      <td>$20.8M</td>\n      <td>$20.8M</td>\n      <td>$20.0M</td>\n      <td>$20.0M</td>\n    </tr>\n    <tr>\n      <th>2020-10-21</th>\n      <td>$20.0M</td>\n      <td>$20.8M</td>\n      <td>$20.0M</td>\n      <td>$20.6M</td>\n    </tr>\n    <tr>\n      <th>2020-10-22</th>\n      <td>$20.7M</td>\n      <td>$21.2M</td>\n      <td>$20.0M</td>\n      <td>$20.8M</td>\n    </tr>\n    <tr>\n      <th>2020-10-23</th>\n      <td>$20.8M</td>\n      <td>$21.0M</td>\n      <td>$11.6M</td>\n      <td>$15.4M</td>\n    </tr>\n    <tr>\n      <th>2020-10-24</th>\n      <td>$15.4M</td>\n      <td>$16.6M</td>\n      <td>$15.4M</td>\n      <td>$16.5M</td>\n    </tr>\n    <tr>\n      <th>2020-10-25</th>\n      <td>$16.5M</td>\n      <td>$16.6M</td>\n      <td>$16.4M</td>\n      <td>$16.4M</td>\n    </tr>\n    <tr>\n      <th>2020-10-26</th>\n      <td>$16.4M</td>\n      <td>$19.5M</td>\n      <td>$16.3M</td>\n      <td>$19.4M</td>\n    </tr>\n    <tr>\n      <th>2020-10-27</th>\n      <td>$19.5M</td>\n      <td>$20.1M</td>\n      <td>$19.2M</td>\n      <td>$19.8M</td>\n    </tr>\n    <tr>\n      <th>2020-10-28</th>\n      <td>$19.7M</td>\n      <td>$19.9M</td>\n      <td>$18.2M</td>\n      <td>$18.4M</td>\n    </tr>\n    <tr>\n      <th>2020-10-29</th>\n      <td>$18.4M</td>\n      <td>$18.5M</td>\n      <td>$17.9M</td>\n      <td>$18.0M</td>\n    </tr>\n    <tr>\n      <th>2020-10-30</th>\n      <td>$18.0M</td>\n      <td>$18.0M</td>\n      <td>$17.7M</td>\n      <td>$17.9M</td>\n    </tr>\n    <tr>\n      <th>2020-10-31</th>\n      <td>$17.9M</td>\n      <td>$18.2M</td>\n      <td>$17.8M</td>\n      <td>$18.1M</td>\n    </tr>\n    <tr>\n      <th>2020-11-01</th>\n      <td>$18.1M</td>\n      <td>$18.3M</td>\n      <td>$18.1M</td>\n      <td>$18.3M</td>\n    </tr>\n  </tbody>\n</table>\n</div>"
     },
     "execution_count": 70,
     "metadata": {},
     "output_type": "execute_result"
    }
   ]
  },
  {
   "cell_type": "markdown",
   "source": [
    "Let's see what kind of values we got by doing a table output, plot for close price, plot for momentum."
   ],
   "metadata": {
    "collapsed": false,
    "pycharm": {
     "name": "#%% md\n"
    }
   }
  },
  {
   "cell_type": "code",
   "execution_count": 71,
   "outputs": [],
   "source": [],
   "metadata": {
    "collapsed": false,
    "pycharm": {
     "name": "#%%\n"
    }
   }
  }
 ],
 "metadata": {
  "kernelspec": {
   "name": "pycharm-e4ceee80",
   "language": "python",
   "display_name": "PyCharm (dex_ohlcv)"
  },
  "language_info": {
   "codemirror_mode": {
    "name": "ipython",
    "version": 2
   },
   "file_extension": ".py",
   "mimetype": "text/x-python",
   "name": "python",
   "nbconvert_exporter": "python",
   "pygments_lexer": "ipython2",
   "version": "2.7.6"
  }
 },
 "nbformat": 4,
 "nbformat_minor": 0
}