{
 "cells": [
  {
   "cell_type": "markdown",
   "source": [
    "# Liquidity analysis\n",
    "\n",
    "This is an example how to analyse [Automated Market Market liquidity](../glossary.html#AMM) on a blockchain. It is similar of order book depth analysis on centralised exchanges.\n",
    "\n",
    "We will\n",
    "\n",
    "* Download pair and exchange map (\"the trading universe\")\n",
    "\n",
    "* Plot a liquidity of a single trading pair on SushiSwap\n",
    "\n",
    "* Compare the historical liquidity of all pairs on SushiSwap and Uniswap v2\n",
    "\n",
    "* Calculate the slippage for a hypotethical trade that would have happened at a specific timepoint"
   ],
   "metadata": {
    "collapsed": false,
    "pycharm": {
     "name": "#%% md\n"
    }
   }
  },
  {
   "cell_type": "markdown",
   "source": [
    "## About liquidity data collection on AMM exchanges\n",
    "\n",
    "Capitalgram maintains the data of Uniswap v2 style, x*y = k bonding curve, liquidity in a similar format as it maintains OHLC price data. In more traditional finance, the equivalent analysis would be an order book depth - how much you can buy or sell and how much it would move the price.\n",
    "\n",
    "For each [time bucket](../api/glossary.html#bucket) you get the available liquidity\n",
    "\n",
    "* At open (start of the time bucket period)\n",
    "\n",
    "* At close (end  of the time bucket period)\n",
    "\n",
    "* At peak (high of the time bucket period)\n",
    "\n",
    "* At bottom (low of the time bucket period)\n",
    "\n",
    "The liquidity is expressed as the US dollar depth of the one side of the pool. E.g. the liquidity of a pool with 50 USDC and 0.001 ETH would be 50 USD.\n",
    "\n",
    "There is also something very swap liquidity pool specific measurements\n",
    "\n",
    "* Added and removed liquidity, as volume and as number of transactions\n",
    "\n",
    "The liquidity data can be very effectively used to analyse or predict the trading fees of a swap.\n",
    "\n",
    "[Read API documentation](../api/liquidity.html)"
   ],
   "metadata": {
    "collapsed": false,
    "pycharm": {
     "name": "#%% md\n"
    }
   }
  },
  {
   "cell_type": "markdown",
   "source": [
    "## Getting started\n",
    "\n",
    "First let's import libraries and initialise our dataset client."
   ],
   "metadata": {
    "collapsed": false,
    "pycharm": {
     "name": "#%% md\n"
    }
   }
  },
  {
   "cell_type": "code",
   "execution_count": 54,
   "outputs": [
    {
     "name": "stdout",
     "output_type": "stream",
     "text": [
      "Started Capitalgram in Jupyter notebook environment, configuration is stored in /Users/mikkoohtamaa/.capitalgram\n"
     ]
    }
   ],
   "source": [
    "try:\n",
    "    import capitalgram\n",
    "except ImportError:\n",
    "    !pip install -e git+https://github.com/miohtama/capitalgram-onchain-dex-quant-data.git#egg=capitalgram\n",
    "    import site\n",
    "    site.main()\n",
    "\n",
    "from capitalgram.client import Capitalgram\n",
    "\n",
    "client = Capitalgram.create_jupyter_client()"
   ],
   "metadata": {
    "collapsed": false,
    "pycharm": {
     "name": "#%%\n"
    }
   }
  },
  {
   "cell_type": "markdown",
   "source": [
    "Get the map of exchanges and pairs we are working on"
   ],
   "metadata": {
    "collapsed": false,
    "pycharm": {
     "name": "#%% md\n"
    }
   }
  },
  {
   "cell_type": "code",
   "execution_count": 55,
   "outputs": [],
   "source": [
    "from capitalgram.exchange import ExchangeUniverse\n",
    "from capitalgram.pair import PandasPairUniverse\n",
    "from capitalgram.timebucket import TimeBucket\n",
    "from capitalgram.liquidity import GroupedLiquidityUniverse\n",
    "from pyarrow import Table\n",
    "\n",
    "# Exchange map data is so small it does not need any decompression\n",
    "exchange_universe: ExchangeUniverse = client.fetch_exchange_universe()\n",
    "\n",
    "# Fetch all trading pairs across all exchanges\n",
    "pair_table: Table = client.fetch_pair_universe()\n",
    "pair_universe = PandasPairUniverse(pair_table.to_pandas())\n",
    "\n",
    "# Decompress the pair dataset to Python map\n",
    "liquidity_table: Table = client.fetch_all_liquidity_samples(TimeBucket.d1)\n",
    "liquidity_universe = GroupedLiquidityUniverse(liquidity_table.to_pandas())"
   ],
   "metadata": {
    "collapsed": false,
    "pycharm": {
     "name": "#%%\n"
    }
   }
  },
  {
   "cell_type": "markdown",
   "source": [
    "## Single pair liquidity\n",
    "\n",
    "Here we first narrow down our data to single trading"
   ],
   "metadata": {
    "collapsed": false
   }
  },
  {
   "cell_type": "code",
   "execution_count": 56,
   "outputs": [],
   "source": [
    "from capitalgram.chain import ChainId\n",
    "from capitalgram.pair import DEXPair\n",
    "\n",
    "# Filter down to pairs that only trade on Sushiswap\n",
    "sushi_swap = exchange_universe.get_by_name_and_chain(ChainId.ethereum, \"sushiswap\")\n",
    "\n",
    "pair: DEXPair = pair_universe.get_one_pair_from_pandas_universe(\n",
    "    sushi_swap.exchange_id,\n",
    "    \"SUSHI\",\n",
    "    \"USDC\")\n",
    "\n",
    "sushi_usdc_liquidity = liquidity_universe.get_liquidity_by_pair(pair.pair_id)"
   ],
   "metadata": {
    "collapsed": false,
    "pycharm": {
     "name": "#%%\n"
    }
   }
  },
  {
   "cell_type": "markdown",
   "source": [
    "Let's create a table to explore the liquidity for a specific month"
   ],
   "metadata": {
    "collapsed": false,
    "pycharm": {
     "name": "#%% md\n"
    }
   }
  },
  {
   "cell_type": "code",
   "source": [
    "import datetime\n",
    "\n",
    "start = datetime.datetime(2020, 10, 1)\n",
    "end = datetime.datetime(2020, 11, 1)\n",
    "\n",
    "sushi_usdc_liquidity.set_index(sushi_usdc_liquidity[\"timestamp\"])\n",
    "\n",
    "df = sushi_usdc_liquidity[[\"open\", \"high\", \"low\", \"close\"]]\n",
    "\n",
    "df = df.set_index(sushi_usdc_liquidity[\"timestamp\"])\n",
    "\n",
    "print(df.index)\n",
    "\n",
    "def format(x):\n",
    "    return \"${:.1f}M\".format(x)\n",
    "# df = df.rename(index={\"timestamp\": \"Date\"})\n",
    "\n",
    "df = df.applymap(format)\n",
    "\n",
    "df[start:end]"
   ],
   "metadata": {
    "collapsed": false,
    "pycharm": {
     "name": "#%%\n"
    }
   },
   "execution_count": 57,
   "outputs": [
    {
     "name": "stdout",
     "output_type": "stream",
     "text": [
      "DatetimeIndex(['2020-09-10', '2020-09-11', '2020-09-12', '2020-09-13',\n",
      "               '2020-09-14', '2020-09-15', '2020-09-16', '2020-09-17',\n",
      "               '2020-09-18', '2020-09-19',\n",
      "               ...\n",
      "               '2021-07-27', '2021-07-28', '2021-07-29', '2021-07-30',\n",
      "               '2021-07-31', '2021-08-01', '2021-08-02', '2021-08-03',\n",
      "               '2021-08-04', '2021-08-05'],\n",
      "              dtype='datetime64[ns]', name='timestamp', length=207, freq=None)\n"
     ]
    },
    {
     "data": {
      "text/plain": "                open           high     low          close\ntimestamp                                                 \n2020-10-01  $4188.5M  $242446272.0M  $50.2M         $50.2M\n2020-10-03    $47.0M         $47.0M  $47.0M         $47.0M\n2020-10-04    $51.1M         $51.1M  $51.1M         $51.1M\n2020-10-05    $50.2M         $50.2M  $39.9M         $39.9M\n2020-10-06    $38.5M         $38.5M  $38.5M         $38.5M\n2020-10-08    $41.7M         $41.7M  $41.7M         $41.7M\n2020-10-14    $39.9M         $39.9M   $7.9M          $7.9M\n2020-10-20     $7.9M  $206915584.0M   $7.9M  $206915584.0M\n2020-10-21     $7.2M          $7.2M   $7.2M          $7.2M\n2020-10-30     $7.1M          $7.1M   $7.1M          $7.1M",
      "text/html": "<div>\n<style scoped>\n    .dataframe tbody tr th:only-of-type {\n        vertical-align: middle;\n    }\n\n    .dataframe tbody tr th {\n        vertical-align: top;\n    }\n\n    .dataframe thead th {\n        text-align: right;\n    }\n</style>\n<table border=\"1\" class=\"dataframe\">\n  <thead>\n    <tr style=\"text-align: right;\">\n      <th></th>\n      <th>open</th>\n      <th>high</th>\n      <th>low</th>\n      <th>close</th>\n    </tr>\n    <tr>\n      <th>timestamp</th>\n      <th></th>\n      <th></th>\n      <th></th>\n      <th></th>\n    </tr>\n  </thead>\n  <tbody>\n    <tr>\n      <th>2020-10-01</th>\n      <td>$4188.5M</td>\n      <td>$242446272.0M</td>\n      <td>$50.2M</td>\n      <td>$50.2M</td>\n    </tr>\n    <tr>\n      <th>2020-10-03</th>\n      <td>$47.0M</td>\n      <td>$47.0M</td>\n      <td>$47.0M</td>\n      <td>$47.0M</td>\n    </tr>\n    <tr>\n      <th>2020-10-04</th>\n      <td>$51.1M</td>\n      <td>$51.1M</td>\n      <td>$51.1M</td>\n      <td>$51.1M</td>\n    </tr>\n    <tr>\n      <th>2020-10-05</th>\n      <td>$50.2M</td>\n      <td>$50.2M</td>\n      <td>$39.9M</td>\n      <td>$39.9M</td>\n    </tr>\n    <tr>\n      <th>2020-10-06</th>\n      <td>$38.5M</td>\n      <td>$38.5M</td>\n      <td>$38.5M</td>\n      <td>$38.5M</td>\n    </tr>\n    <tr>\n      <th>2020-10-08</th>\n      <td>$41.7M</td>\n      <td>$41.7M</td>\n      <td>$41.7M</td>\n      <td>$41.7M</td>\n    </tr>\n    <tr>\n      <th>2020-10-14</th>\n      <td>$39.9M</td>\n      <td>$39.9M</td>\n      <td>$7.9M</td>\n      <td>$7.9M</td>\n    </tr>\n    <tr>\n      <th>2020-10-20</th>\n      <td>$7.9M</td>\n      <td>$206915584.0M</td>\n      <td>$7.9M</td>\n      <td>$206915584.0M</td>\n    </tr>\n    <tr>\n      <th>2020-10-21</th>\n      <td>$7.2M</td>\n      <td>$7.2M</td>\n      <td>$7.2M</td>\n      <td>$7.2M</td>\n    </tr>\n    <tr>\n      <th>2020-10-30</th>\n      <td>$7.1M</td>\n      <td>$7.1M</td>\n      <td>$7.1M</td>\n      <td>$7.1M</td>\n    </tr>\n  </tbody>\n</table>\n</div>"
     },
     "execution_count": 57,
     "metadata": {},
     "output_type": "execute_result"
    }
   ]
  },
  {
   "cell_type": "markdown",
   "source": [
    "Now, let's plot how the liquidity has developed over the time. For OHLC liquidity values, we use high (peak) liquidity."
   ],
   "metadata": {
    "collapsed": false,
    "pycharm": {
     "name": "#%% md\n"
    }
   }
  },
  {
   "cell_type": "code",
   "execution_count": 58,
   "outputs": [],
   "source": [
    "import pandas as pd\n",
    "\n",
    "# Create a 2 dimensional data set for plotting\n",
    "series = pd.Series(sushi_usdc_liquidity[\"close\"], index=sushi_usdc_liquidity[\"timestamp\"])\n",
    "\n",
    "# Scale or data to milions of dollars\n",
    "# series = series / 1_000_000"
   ],
   "metadata": {
    "collapsed": false,
    "pycharm": {
     "name": "#%%\n"
    }
   }
  },
  {
   "cell_type": "markdown",
   "source": [
    "Let's plot the liquidity using Pandas internal plotting functions for Jupyter notebook"
   ],
   "metadata": {
    "collapsed": false
   }
  },
  {
   "cell_type": "code",
   "execution_count": 59,
   "outputs": [
    {
     "data": {
      "text/plain": "<AxesSubplot:title={'center':'SUSHI-USDC liquidity on SushiSwap, all-time'}, xlabel='Day', ylabel='Liquidity (millions of  dollars)'>"
     },
     "execution_count": 59,
     "metadata": {},
     "output_type": "execute_result"
    },
    {
     "data": {
      "text/plain": "<Figure size 432x288 with 1 Axes>",
      "image/png": "[encoded data removed]"
     },
     "metadata": {
      "needs_background": "light"
     },
     "output_type": "display_data"
    }
   ],
   "source": [
    "axes_subplot = series.plot(title=\"SUSHI-USDC liquidity on SushiSwap, all-time\")\n",
    "axes_subplot.set_xlabel(\"Day\")\n",
    "axes_subplot.set_ylabel(\"Liquidity (millions of  dollars)\")\n",
    "\n",
    "axes_subplot\n",
    "\n"
   ],
   "metadata": {
    "collapsed": false,
    "pycharm": {
     "name": "#%%\n"
    }
   }
  }
 ],
 "metadata": {
  "kernelspec": {
   "name": "python3",
   "language": "python",
   "display_name": "Python 3"
  },
  "language_info": {
   "codemirror_mode": {
    "name": "ipython",
    "version": 2
   },
   "file_extension": ".py",
   "mimetype": "text/x-python",
   "name": "python",
   "nbconvert_exporter": "python",
   "pygments_lexer": "ipython2",
   "version": "2.7.6"
  }
 },
 "nbformat": 4,
 "nbformat_minor": 0
}