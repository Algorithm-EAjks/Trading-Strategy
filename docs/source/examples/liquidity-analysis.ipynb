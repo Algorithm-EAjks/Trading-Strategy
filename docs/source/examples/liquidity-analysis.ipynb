{
 "cells": [
  {
   "cell_type": "markdown",
   "source": [
    "# Liquidity analysis\n",
    "\n",
    "This is an example how to analyse [Automated Market Market liquidity](../glossary.html#AMM) on a blockchain. It is similar of order book depth analysis on centralised exchanges.\n",
    "\n",
    "We will\n",
    "\n",
    "* Download pair and exchange map (\"the trading universe\")\n",
    "\n",
    "* Plot a liquidity of a single trading pair on SushiSwap\n",
    "\n",
    "* Compare the historical liquidity of all pairs on SushiSwap and Uniswap v2\n",
    "\n",
    "* Calculate the slippage for a hypotethical trade that would have happened at a specific timepoint"
   ],
   "metadata": {
    "collapsed": false,
    "pycharm": {
     "name": "#%% md\n"
    }
   }
  },
  {
   "cell_type": "markdown",
   "source": [
    "## About liquidity data collection on AMM exchanges\n",
    "\n",
    "Capitalgram maintains the data of Uniswap v2 style, x*y = k bonding curve, liquidity in a similar format as it maintains OHLC price data. In more traditional finance, the equivalent analysis would be an order book depth - how much you can buy or sell and how much it would move the price.\n",
    "\n",
    "For each [time bucket](../api/glossary.html#bucket) you get the available liquidity\n",
    "\n",
    "* At open (start of the time bucket period)\n",
    "\n",
    "* At close (end  of the time bucket period)\n",
    "\n",
    "* At peak (high of the time bucket period)\n",
    "\n",
    "* At bottom (low of the time bucket period)\n",
    "\n",
    "The liquidity is expressed as the US dollar depth of the one side of the pool. E.g. the liquidity of a pool with 50 USDC and 0.001 ETH would be 50 USD.\n",
    "\n",
    "There is also something very swap liquidity pool specific measurements\n",
    "\n",
    "* Added and removed liquidity, as volume and as number of transactions\n",
    "\n",
    "The liquidity data can be very effectively used to analyse or predict the trading fees of a swap.\n",
    "\n",
    "[Read API documentation](../api/liquidity.html)"
   ],
   "metadata": {
    "collapsed": false,
    "pycharm": {
     "name": "#%% md\n"
    }
   }
  },
  {
   "cell_type": "markdown",
   "source": [
    "## Getting started\n",
    "\n",
    "First let's import libraries and initialise our dataset client."
   ],
   "metadata": {
    "collapsed": false,
    "pycharm": {
     "name": "#%% md\n"
    }
   }
  },
  {
   "cell_type": "code",
   "execution_count": 60,
   "outputs": [
    {
     "name": "stdout",
     "output_type": "stream",
     "text": [
      "Started Capitalgram in Jupyter notebook environment, configuration is stored in /Users/mikkoohtamaa/.capitalgram\n"
     ]
    }
   ],
   "source": [
    "try:\n",
    "    import capitalgram\n",
    "except ImportError:\n",
    "    !pip install -e git+https://github.com/miohtama/capitalgram-onchain-dex-quant-data.git#egg=capitalgram\n",
    "    import site\n",
    "    site.main()\n",
    "\n",
    "from capitalgram.client import Capitalgram\n",
    "\n",
    "client = Capitalgram.create_jupyter_client()"
   ],
   "metadata": {
    "collapsed": false,
    "pycharm": {
     "name": "#%%\n"
    }
   }
  },
  {
   "cell_type": "markdown",
   "source": [
    "Get the map of exchanges and pairs we are working on"
   ],
   "metadata": {
    "collapsed": false,
    "pycharm": {
     "name": "#%% md\n"
    }
   }
  },
  {
   "cell_type": "code",
   "execution_count": 61,
   "outputs": [],
   "source": [
    "from capitalgram.exchange import ExchangeUniverse\n",
    "from capitalgram.pair import PandasPairUniverse\n",
    "from capitalgram.timebucket import TimeBucket\n",
    "from capitalgram.liquidity import GroupedLiquidityUniverse\n",
    "from pyarrow import Table\n",
    "\n",
    "# Exchange map data is so small it does not need any decompression\n",
    "exchange_universe: ExchangeUniverse = client.fetch_exchange_universe()\n",
    "\n",
    "# Fetch all trading pairs across all exchanges\n",
    "pair_table: Table = client.fetch_pair_universe()\n",
    "pair_universe = PandasPairUniverse(pair_table.to_pandas())\n",
    "\n",
    "# Decompress the pair dataset to Python map\n",
    "liquidity_table: Table = client.fetch_all_liquidity_samples(TimeBucket.d1)\n",
    "liquidity_universe = GroupedLiquidityUniverse(liquidity_table.to_pandas())"
   ],
   "metadata": {
    "collapsed": false,
    "pycharm": {
     "name": "#%%\n"
    }
   }
  },
  {
   "cell_type": "markdown",
   "source": [
    "## Single pair liquidity\n",
    "\n",
    "Here we first narrow down our data to single trading"
   ],
   "metadata": {
    "collapsed": false
   }
  },
  {
   "cell_type": "code",
   "execution_count": 62,
   "outputs": [],
   "source": [
    "from capitalgram.chain import ChainId\n",
    "from capitalgram.pair import DEXPair\n",
    "\n",
    "# Filter down to pairs that only trade on Sushiswap\n",
    "sushi_swap = exchange_universe.get_by_name_and_chain(ChainId.ethereum, \"sushiswap\")\n",
    "\n",
    "pair: DEXPair = pair_universe.get_one_pair_from_pandas_universe(\n",
    "    sushi_swap.exchange_id,\n",
    "    \"WETH\",\n",
    "    \"USDC\")\n",
    "\n",
    "eth_usdc_liquidity = liquidity_universe.get_liquidity_by_pair(pair.pair_id)"
   ],
   "metadata": {
    "collapsed": false,
    "pycharm": {
     "name": "#%%\n"
    }
   }
  },
  {
   "cell_type": "markdown",
   "source": [
    "Let's create a table to explore the liquidity for a specific month"
   ],
   "metadata": {
    "collapsed": false,
    "pycharm": {
     "name": "#%% md\n"
    }
   }
  },
  {
   "cell_type": "code",
   "source": [
    "import datetime\n",
    "\n",
    "start = datetime.datetime(2020, 10, 1)\n",
    "end = datetime.datetime(2020, 11, 1)\n",
    "\n",
    "eth_usdc_liquidity.set_index(eth_usdc_liquidity[\"timestamp\"])\n",
    "\n",
    "df = eth_usdc_liquidity[[\"open\", \"high\", \"low\", \"close\"]]\n",
    "\n",
    "df = df.set_index(eth_usdc_liquidity[\"timestamp\"])\n",
    "\n",
    "def format(x):\n",
    "    return \"${:.1f}M\".format(x / 1_000_000)\n",
    "# df = df.rename(index={\"timestamp\": \"Date\"})\n",
    "\n",
    "df = df.applymap(format)\n",
    "\n",
    "df[start:end]"
   ],
   "metadata": {
    "collapsed": false,
    "pycharm": {
     "name": "#%%\n"
    }
   },
   "execution_count": 63,
   "outputs": [
    {
     "data": {
      "text/plain": "              open    high     low   close\ntimestamp                                 \n2020-10-01  $24.1M  $28.3M  $13.2M  $14.6M\n2020-10-02  $14.5M  $23.2M  $14.5M  $23.1M\n2020-10-03  $23.1M  $23.4M  $22.3M  $22.7M\n2020-10-04  $22.7M  $22.8M  $22.1M  $22.3M\n2020-10-05  $22.3M  $22.4M  $16.9M  $17.1M\n2020-10-06  $17.1M  $17.7M  $16.2M  $16.7M\n2020-10-07  $16.7M  $16.7M  $15.1M  $16.3M\n2020-10-08  $16.4M  $16.8M  $14.7M  $15.0M\n2020-10-09  $15.0M  $19.5M  $15.0M  $19.4M\n2020-10-10  $19.4M  $20.4M  $19.4M  $19.7M\n2020-10-11  $19.7M  $20.0M  $19.5M  $19.6M\n2020-10-12  $19.6M  $20.3M  $19.3M  $19.5M\n2020-10-13  $19.5M  $20.3M  $18.0M  $18.3M\n2020-10-14  $18.3M  $19.1M  $18.3M  $19.1M\n2020-10-15  $19.1M  $19.8M  $19.0M  $19.7M\n2020-10-16  $19.7M  $19.9M  $19.4M  $19.6M\n2020-10-17  $19.6M  $19.8M  $19.2M  $19.8M\n2020-10-18  $19.8M  $20.9M  $19.8M  $20.9M\n2020-10-19  $20.9M  $21.5M  $20.8M  $20.8M\n2020-10-20  $20.8M  $20.8M  $20.0M  $20.0M\n2020-10-21  $20.0M  $20.8M  $20.0M  $20.6M\n2020-10-22  $20.7M  $21.2M  $20.0M  $20.8M\n2020-10-23  $20.8M  $21.0M  $11.6M  $15.4M\n2020-10-24  $15.4M  $16.6M  $15.4M  $16.5M\n2020-10-25  $16.5M  $16.6M  $16.4M  $16.4M\n2020-10-26  $16.4M  $19.5M  $16.3M  $19.4M\n2020-10-27  $19.5M  $20.1M  $19.2M  $19.8M\n2020-10-28  $19.7M  $19.9M  $18.2M  $18.4M\n2020-10-29  $18.4M  $18.5M  $17.9M  $18.0M\n2020-10-30  $18.0M  $18.0M  $17.7M  $17.9M\n2020-10-31  $17.9M  $18.2M  $17.8M  $18.1M\n2020-11-01  $18.1M  $18.3M  $18.1M  $18.3M",
      "text/html": "<div>\n<style scoped>\n    .dataframe tbody tr th:only-of-type {\n        vertical-align: middle;\n    }\n\n    .dataframe tbody tr th {\n        vertical-align: top;\n    }\n\n    .dataframe thead th {\n        text-align: right;\n    }\n</style>\n<table border=\"1\" class=\"dataframe\">\n  <thead>\n    <tr style=\"text-align: right;\">\n      <th></th>\n      <th>open</th>\n      <th>high</th>\n      <th>low</th>\n      <th>close</th>\n    </tr>\n    <tr>\n      <th>timestamp</th>\n      <th></th>\n      <th></th>\n      <th></th>\n      <th></th>\n    </tr>\n  </thead>\n  <tbody>\n    <tr>\n      <th>2020-10-01</th>\n      <td>$24.1M</td>\n      <td>$28.3M</td>\n      <td>$13.2M</td>\n      <td>$14.6M</td>\n    </tr>\n    <tr>\n      <th>2020-10-02</th>\n      <td>$14.5M</td>\n      <td>$23.2M</td>\n      <td>$14.5M</td>\n      <td>$23.1M</td>\n    </tr>\n    <tr>\n      <th>2020-10-03</th>\n      <td>$23.1M</td>\n      <td>$23.4M</td>\n      <td>$22.3M</td>\n      <td>$22.7M</td>\n    </tr>\n    <tr>\n      <th>2020-10-04</th>\n      <td>$22.7M</td>\n      <td>$22.8M</td>\n      <td>$22.1M</td>\n      <td>$22.3M</td>\n    </tr>\n    <tr>\n      <th>2020-10-05</th>\n      <td>$22.3M</td>\n      <td>$22.4M</td>\n      <td>$16.9M</td>\n      <td>$17.1M</td>\n    </tr>\n    <tr>\n      <th>2020-10-06</th>\n      <td>$17.1M</td>\n      <td>$17.7M</td>\n      <td>$16.2M</td>\n      <td>$16.7M</td>\n    </tr>\n    <tr>\n      <th>2020-10-07</th>\n      <td>$16.7M</td>\n      <td>$16.7M</td>\n      <td>$15.1M</td>\n      <td>$16.3M</td>\n    </tr>\n    <tr>\n      <th>2020-10-08</th>\n      <td>$16.4M</td>\n      <td>$16.8M</td>\n      <td>$14.7M</td>\n      <td>$15.0M</td>\n    </tr>\n    <tr>\n      <th>2020-10-09</th>\n      <td>$15.0M</td>\n      <td>$19.5M</td>\n      <td>$15.0M</td>\n      <td>$19.4M</td>\n    </tr>\n    <tr>\n      <th>2020-10-10</th>\n      <td>$19.4M</td>\n      <td>$20.4M</td>\n      <td>$19.4M</td>\n      <td>$19.7M</td>\n    </tr>\n    <tr>\n      <th>2020-10-11</th>\n      <td>$19.7M</td>\n      <td>$20.0M</td>\n      <td>$19.5M</td>\n      <td>$19.6M</td>\n    </tr>\n    <tr>\n      <th>2020-10-12</th>\n      <td>$19.6M</td>\n      <td>$20.3M</td>\n      <td>$19.3M</td>\n      <td>$19.5M</td>\n    </tr>\n    <tr>\n      <th>2020-10-13</th>\n      <td>$19.5M</td>\n      <td>$20.3M</td>\n      <td>$18.0M</td>\n      <td>$18.3M</td>\n    </tr>\n    <tr>\n      <th>2020-10-14</th>\n      <td>$18.3M</td>\n      <td>$19.1M</td>\n      <td>$18.3M</td>\n      <td>$19.1M</td>\n    </tr>\n    <tr>\n      <th>2020-10-15</th>\n      <td>$19.1M</td>\n      <td>$19.8M</td>\n      <td>$19.0M</td>\n      <td>$19.7M</td>\n    </tr>\n    <tr>\n      <th>2020-10-16</th>\n      <td>$19.7M</td>\n      <td>$19.9M</td>\n      <td>$19.4M</td>\n      <td>$19.6M</td>\n    </tr>\n    <tr>\n      <th>2020-10-17</th>\n      <td>$19.6M</td>\n      <td>$19.8M</td>\n      <td>$19.2M</td>\n      <td>$19.8M</td>\n    </tr>\n    <tr>\n      <th>2020-10-18</th>\n      <td>$19.8M</td>\n      <td>$20.9M</td>\n      <td>$19.8M</td>\n      <td>$20.9M</td>\n    </tr>\n    <tr>\n      <th>2020-10-19</th>\n      <td>$20.9M</td>\n      <td>$21.5M</td>\n      <td>$20.8M</td>\n      <td>$20.8M</td>\n    </tr>\n    <tr>\n      <th>2020-10-20</th>\n      <td>$20.8M</td>\n      <td>$20.8M</td>\n      <td>$20.0M</td>\n      <td>$20.0M</td>\n    </tr>\n    <tr>\n      <th>2020-10-21</th>\n      <td>$20.0M</td>\n      <td>$20.8M</td>\n      <td>$20.0M</td>\n      <td>$20.6M</td>\n    </tr>\n    <tr>\n      <th>2020-10-22</th>\n      <td>$20.7M</td>\n      <td>$21.2M</td>\n      <td>$20.0M</td>\n      <td>$20.8M</td>\n    </tr>\n    <tr>\n      <th>2020-10-23</th>\n      <td>$20.8M</td>\n      <td>$21.0M</td>\n      <td>$11.6M</td>\n      <td>$15.4M</td>\n    </tr>\n    <tr>\n      <th>2020-10-24</th>\n      <td>$15.4M</td>\n      <td>$16.6M</td>\n      <td>$15.4M</td>\n      <td>$16.5M</td>\n    </tr>\n    <tr>\n      <th>2020-10-25</th>\n      <td>$16.5M</td>\n      <td>$16.6M</td>\n      <td>$16.4M</td>\n      <td>$16.4M</td>\n    </tr>\n    <tr>\n      <th>2020-10-26</th>\n      <td>$16.4M</td>\n      <td>$19.5M</td>\n      <td>$16.3M</td>\n      <td>$19.4M</td>\n    </tr>\n    <tr>\n      <th>2020-10-27</th>\n      <td>$19.5M</td>\n      <td>$20.1M</td>\n      <td>$19.2M</td>\n      <td>$19.8M</td>\n    </tr>\n    <tr>\n      <th>2020-10-28</th>\n      <td>$19.7M</td>\n      <td>$19.9M</td>\n      <td>$18.2M</td>\n      <td>$18.4M</td>\n    </tr>\n    <tr>\n      <th>2020-10-29</th>\n      <td>$18.4M</td>\n      <td>$18.5M</td>\n      <td>$17.9M</td>\n      <td>$18.0M</td>\n    </tr>\n    <tr>\n      <th>2020-10-30</th>\n      <td>$18.0M</td>\n      <td>$18.0M</td>\n      <td>$17.7M</td>\n      <td>$17.9M</td>\n    </tr>\n    <tr>\n      <th>2020-10-31</th>\n      <td>$17.9M</td>\n      <td>$18.2M</td>\n      <td>$17.8M</td>\n      <td>$18.1M</td>\n    </tr>\n    <tr>\n      <th>2020-11-01</th>\n      <td>$18.1M</td>\n      <td>$18.3M</td>\n      <td>$18.1M</td>\n      <td>$18.3M</td>\n    </tr>\n  </tbody>\n</table>\n</div>"
     },
     "execution_count": 63,
     "metadata": {},
     "output_type": "execute_result"
    }
   ]
  },
  {
   "cell_type": "markdown",
   "source": [
    "Now, let's plot how the liquidity has developed over the time. For OHLC liquidity values, we use high (peak) liquidity.\n",
    "\n",
    "We also cut off the launch of the SushiSwap away from the time series, because the launch date was special due to SushiSwap's vampire attack on Uniswap liquidity (100x more liquidity available)."
   ],
   "metadata": {
    "collapsed": false,
    "pycharm": {
     "name": "#%% md\n"
    }
   }
  },
  {
   "cell_type": "code",
   "execution_count": 64,
   "outputs": [],
   "source": [
    "df = eth_usdc_liquidity[[\"close\"]]\n",
    "\n",
    "# Convert to millions\n",
    "df[\"close\"] = df[\"close\"] / 1_000_00\n",
    "\n",
    "df = df.set_index(eth_usdc_liquidity[\"timestamp\"])"
   ],
   "metadata": {
    "collapsed": false,
    "pycharm": {
     "name": "#%%\n"
    }
   }
  },
  {
   "cell_type": "markdown",
   "source": [
    "Let's plot the liquidity using Pandas internal plotting functions for Jupyter notebook"
   ],
   "metadata": {
    "collapsed": false
   }
  },
  {
   "cell_type": "code",
   "execution_count": 66,
   "outputs": [
    {
     "data": {
      "text/plain": "<AxesSubplot:title={'center':'ETH-USDC liquidity on SushiSwap, all-time'}, xlabel='Day', ylabel='Liquidity (millions of  dollars)'>"
     },
     "execution_count": 66,
     "metadata": {},
     "output_type": "execute_result"
    },
    {
     "data": {
      "text/plain": "<Figure size 432x288 with 1 Axes>",
      "image/png": "[encoded data removed]"
     },
     "metadata": {
      "needs_background": "light"
     },
     "output_type": "display_data"
    }
   ],
   "source": [
    "axes_subplot = df.plot(title=\"ETH-USDC liquidity on SushiSwap, all-time\")\n",
    "axes_subplot.set_xlabel(\"Day\")\n",
    "axes_subplot.set_ylabel(\"Liquidity (millions of  dollars)\")\n",
    "\n",
    "axes_subplot"
   ],
   "metadata": {
    "collapsed": false,
    "pycharm": {
     "name": "#%%\n"
    }
   }
  },
  {
   "cell_type": "markdown",
   "source": [
    "## Comparing liquidity across exchanges\n",
    "\n",
    "In this example, we compare the liquidity across Uniswap, Sushiswap and Shiba Swap."
   ],
   "metadata": {
    "collapsed": false,
    "pycharm": {
     "name": "#%% md\n"
    }
   }
  },
  {
   "cell_type": "code",
   "execution_count": 70,
   "outputs": [
    {
     "ename": "DuplicatePair",
     "evalue": "Multiple trading pairs found AAVE-WETH",
     "output_type": "error",
     "traceback": [
      "\u001B[0;31m---------------------------------------------------------------------------\u001B[0m",
      "\u001B[0;31mDuplicatePair\u001B[0m                             Traceback (most recent call last)",
      "\u001B[0;32m/var/folders/23/qsmpv3gd2lx88f7p6wp3t3yc0000gn/T/ipykernel_24193/3567334045.py\u001B[0m in \u001B[0;36m<module>\u001B[0;34m\u001B[0m\n\u001B[1;32m      8\u001B[0m     \"WETH\")\n\u001B[1;32m      9\u001B[0m \u001B[0;34m\u001B[0m\u001B[0m\n\u001B[0;32m---> 10\u001B[0;31m pair2: DEXPair = pair_universe.get_one_pair_from_pandas_universe(\n\u001B[0m\u001B[1;32m     11\u001B[0m     \u001B[0muniswap_v2\u001B[0m\u001B[0;34m.\u001B[0m\u001B[0mexchange_id\u001B[0m\u001B[0;34m,\u001B[0m\u001B[0;34m\u001B[0m\u001B[0;34m\u001B[0m\u001B[0m\n\u001B[1;32m     12\u001B[0m     \u001B[0;34m\"AAVE\"\u001B[0m\u001B[0;34m,\u001B[0m\u001B[0;34m\u001B[0m\u001B[0;34m\u001B[0m\u001B[0m\n",
      "\u001B[0;32m~/capitalgram-python/capitalgram/pair.py\u001B[0m in \u001B[0;36mget_one_pair_from_pandas_universe\u001B[0;34m(self, exchange_id, base_token, quote_token)\u001B[0m\n\u001B[1;32m    355\u001B[0m \u001B[0;34m\u001B[0m\u001B[0m\n\u001B[1;32m    356\u001B[0m         \u001B[0;32mif\u001B[0m \u001B[0mlen\u001B[0m\u001B[0;34m(\u001B[0m\u001B[0mpairs\u001B[0m\u001B[0;34m)\u001B[0m \u001B[0;34m>\u001B[0m \u001B[0;36m1\u001B[0m\u001B[0;34m:\u001B[0m\u001B[0;34m\u001B[0m\u001B[0;34m\u001B[0m\u001B[0m\n\u001B[0;32m--> 357\u001B[0;31m             \u001B[0;32mraise\u001B[0m \u001B[0mDuplicatePair\u001B[0m\u001B[0;34m(\u001B[0m\u001B[0;34mf\"Multiple trading pairs found {base_token}-{quote_token}\"\u001B[0m\u001B[0;34m)\u001B[0m\u001B[0;34m\u001B[0m\u001B[0;34m\u001B[0m\u001B[0m\n\u001B[0m\u001B[1;32m    358\u001B[0m \u001B[0;34m\u001B[0m\u001B[0m\n\u001B[1;32m    359\u001B[0m         \u001B[0;32mif\u001B[0m \u001B[0mlen\u001B[0m\u001B[0;34m(\u001B[0m\u001B[0mpairs\u001B[0m\u001B[0;34m)\u001B[0m \u001B[0;34m==\u001B[0m \u001B[0;36m1\u001B[0m\u001B[0;34m:\u001B[0m\u001B[0;34m\u001B[0m\u001B[0;34m\u001B[0m\u001B[0m\n",
      "\u001B[0;31mDuplicatePair\u001B[0m: Multiple trading pairs found AAVE-WETH"
     ]
    }
   ],
   "source": [
    "uniswap_v2 = exchange_universe.get_by_name_and_chain(ChainId.ethereum, \"uniswap v2\")\n",
    "\n",
    "sushi_swap = exchange_universe.get_by_name_and_chain(ChainId.ethereum, \"sushiswap\")\n",
    "\n",
    "pair1: DEXPair = pair_universe.get_one_pair_from_pandas_universe(\n",
    "    sushi_swap.exchange_id,\n",
    "    \"AAVE\",\n",
    "    \"WETH\")\n",
    "\n",
    "pair2: DEXPair = pair_universe.get_one_pair_from_pandas_universe(\n",
    "    uniswap_v2.exchange_id,\n",
    "    \"AAVE\",\n",
    "    \"WETH\")\n",
    "\n",
    "liq1 = liquidity_universe.get_liquidity_by_pair(pair1.pair_id)\n",
    "liq2 = liquidity_universe.get_liquidity_by_pair(pair2.pair_id)\n",
    "\n",
    "\n",
    "\n"
   ],
   "metadata": {
    "collapsed": false,
    "pycharm": {
     "name": "#%%\n"
    }
   }
  }
 ],
 "metadata": {
  "kernelspec": {
   "name": "pycharm-e4ceee80",
   "language": "python",
   "display_name": "PyCharm (dex_ohlcv)"
  },
  "language_info": {
   "codemirror_mode": {
    "name": "ipython",
    "version": 2
   },
   "file_extension": ".py",
   "mimetype": "text/x-python",
   "name": "python",
   "nbconvert_exporter": "python",
   "pygments_lexer": "ipython2",
   "version": "2.7.6"
  }
 },
 "nbformat": 4,
 "nbformat_minor": 0
}