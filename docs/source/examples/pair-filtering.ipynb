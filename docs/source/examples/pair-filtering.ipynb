{
 "cells": [
  {
   "cell_type": "markdown",
   "source": [
    "# Pair filtering and candle plotting\n",
    "\n",
    "An example how to filter and plot candles for pair data\n",
    "\n",
    "We will\n",
    "\n",
    "* Download pair and exchange map (\"the universe\")\n",
    "\n",
    "* Filter out SushiSwap pairs\n",
    "\n",
    "* Download 4 hour candle data for all pairs\n",
    "\n",
    "* Choose top 10 pairs by their 30d volume\n",
    "\n",
    "* Plot the USD nominated price graph for these pairs"
   ],
   "metadata": {
    "collapsed": false,
    "pycharm": {
     "name": "#%% md\n"
    }
   }
  },
  {
   "cell_type": "markdown",
   "source": [
    "First let's import libraries and initialise our dataset client."
   ],
   "metadata": {
    "collapsed": false,
    "pycharm": {
     "name": "#%% md\n"
    }
   }
  },
  {
   "cell_type": "code",
   "execution_count": 1,
   "outputs": [
    {
     "name": "stdout",
     "output_type": "stream",
     "text": [
      "Started Capitalgram in Jupyter notebook environment, configuration is stored in /Users/moo/.capitalgram\n"
     ]
    }
   ],
   "source": [
    "\n",
    "import pandas as pd\n",
    "\n",
    "from capitalgram.chain import ChainId\n",
    "from capitalgram.pair import PairUniverse\n",
    "\n",
    "try:\n",
    "    import capitalgram\n",
    "except ImportError:\n",
    "    !pip install -e git+https://github.com/miohtama/capitalgram-onchain-dex-quant-data.git#egg=capitalgram\n",
    "    import site\n",
    "    site.main()\n",
    "\n",
    "from capitalgram.client import Capitalgram\n",
    "\n",
    "capitalgram = Capitalgram.create_jupyter_client()"
   ],
   "metadata": {
    "collapsed": false,
    "pycharm": {
     "name": "#%%\n"
    }
   }
  },
  {
   "cell_type": "markdown",
   "source": [
    "Get the map of exchanges and pairs we are working on"
   ],
   "metadata": {
    "collapsed": false,
    "pycharm": {
     "name": "#%% md\n"
    }
   }
  },
  {
   "cell_type": "code",
   "execution_count": 2,
   "outputs": [
    {
     "name": "stdout",
     "output_type": "stream",
     "text": [
      "Total pairs 47686, total exchanges 231\n"
     ]
    }
   ],
   "source": [
    "# Decompress the pair dataset to Python map\n",
    "columnar_pair_table = capitalgram.fetch_pair_universe()\n",
    "\n",
    "# Exchange map data is so small it does not need any decompression\n",
    "exchange_universe = capitalgram.fetch_exchange_universe()\n",
    "\n",
    "print(f\"Total pairs {len(columnar_pair_table)}, total exchanges {len(exchange_universe.exchanges)}\")"
   ],
   "metadata": {
    "collapsed": false,
    "pycharm": {
     "name": "#%%\n"
    }
   }
  },
  {
   "cell_type": "markdown",
   "source": [
    "We are only interested in SushiSwap, the mosh pit of a degens, so filter pairs that are on this exchange only.\n",
    "We specifically pick Sushiswap on Ethereum mainnet,\n",
    "as it is the oldest and most active for all Sushiswap instances across EVM blockchains like Polygon, BSC, Fantom, etc.\n",
    "\n",
    "Also we do not yet have multichain data on the dataset server, when I am writing this tutorial so..."
   ],
   "metadata": {
    "collapsed": false
   }
  },
  {
   "cell_type": "code",
   "execution_count": 3,
   "outputs": [
    {
     "ename": "ValueError",
     "evalue": "hour must be in 0..23",
     "output_type": "error",
     "traceback": [
      "\u001B[0;31m---------------------------------------------------------------------------\u001B[0m",
      "\u001B[0;31mValueError\u001B[0m                                Traceback (most recent call last)",
      "\u001B[0;32m/var/folders/wg/6tjsdnt511s90hqpxtxgkndc0000gn/T/ipykernel_45398/1484794660.py\u001B[0m in \u001B[0;36m<module>\u001B[0;34m\u001B[0m\n\u001B[1;32m      1\u001B[0m \u001B[0;31m# Convert PyArrow table to Pandas format to continue working on it\u001B[0m\u001B[0;34m\u001B[0m\u001B[0;34m\u001B[0m\u001B[0;34m\u001B[0m\u001B[0m\n\u001B[0;32m----> 2\u001B[0;31m \u001B[0mall_pairs_dataframe\u001B[0m \u001B[0;34m=\u001B[0m \u001B[0mcolumnar_pair_table\u001B[0m\u001B[0;34m.\u001B[0m\u001B[0mto_pandas\u001B[0m\u001B[0;34m(\u001B[0m\u001B[0;34m)\u001B[0m\u001B[0;34m\u001B[0m\u001B[0;34m\u001B[0m\u001B[0m\n\u001B[0m\u001B[1;32m      3\u001B[0m \u001B[0;34m\u001B[0m\u001B[0m\n\u001B[1;32m      4\u001B[0m \u001B[0;31m# Filter down to pairs that only trade on Sushiswap\u001B[0m\u001B[0;34m\u001B[0m\u001B[0;34m\u001B[0m\u001B[0;34m\u001B[0m\u001B[0m\n\u001B[1;32m      5\u001B[0m \u001B[0msushi_swap\u001B[0m \u001B[0;34m=\u001B[0m \u001B[0mexchange_universe\u001B[0m\u001B[0;34m.\u001B[0m\u001B[0mget_by_name_and_chain\u001B[0m\u001B[0;34m(\u001B[0m\u001B[0mChainId\u001B[0m\u001B[0;34m.\u001B[0m\u001B[0methereum\u001B[0m\u001B[0;34m,\u001B[0m \u001B[0;34m\"sushiswap\"\u001B[0m\u001B[0;34m)\u001B[0m\u001B[0;34m\u001B[0m\u001B[0;34m\u001B[0m\u001B[0m\n",
      "\u001B[0;32m~/Library/Caches/pypoetry/virtualenvs/capitalgram--bm4msE3-py3.8/lib/python3.8/site-packages/pyarrow/array.pxi\u001B[0m in \u001B[0;36mpyarrow.lib._PandasConvertible.to_pandas\u001B[0;34m()\u001B[0m\n",
      "\u001B[0;32m~/Library/Caches/pypoetry/virtualenvs/capitalgram--bm4msE3-py3.8/lib/python3.8/site-packages/pyarrow/table.pxi\u001B[0m in \u001B[0;36mpyarrow.lib.Table._to_pandas\u001B[0;34m()\u001B[0m\n",
      "\u001B[0;32m~/Library/Caches/pypoetry/virtualenvs/capitalgram--bm4msE3-py3.8/lib/python3.8/site-packages/pyarrow/pandas_compat.py\u001B[0m in \u001B[0;36mtable_to_blockmanager\u001B[0;34m(options, table, categories, ignore_metadata, types_mapper)\u001B[0m\n\u001B[1;32m    787\u001B[0m     \u001B[0m_check_data_column_metadata_consistency\u001B[0m\u001B[0;34m(\u001B[0m\u001B[0mall_columns\u001B[0m\u001B[0;34m)\u001B[0m\u001B[0;34m\u001B[0m\u001B[0;34m\u001B[0m\u001B[0m\n\u001B[1;32m    788\u001B[0m     \u001B[0mcolumns\u001B[0m \u001B[0;34m=\u001B[0m \u001B[0m_deserialize_column_index\u001B[0m\u001B[0;34m(\u001B[0m\u001B[0mtable\u001B[0m\u001B[0;34m,\u001B[0m \u001B[0mall_columns\u001B[0m\u001B[0;34m,\u001B[0m \u001B[0mcolumn_indexes\u001B[0m\u001B[0;34m)\u001B[0m\u001B[0;34m\u001B[0m\u001B[0;34m\u001B[0m\u001B[0m\n\u001B[0;32m--> 789\u001B[0;31m     \u001B[0mblocks\u001B[0m \u001B[0;34m=\u001B[0m \u001B[0m_table_to_blocks\u001B[0m\u001B[0;34m(\u001B[0m\u001B[0moptions\u001B[0m\u001B[0;34m,\u001B[0m \u001B[0mtable\u001B[0m\u001B[0;34m,\u001B[0m \u001B[0mcategories\u001B[0m\u001B[0;34m,\u001B[0m \u001B[0mext_columns_dtypes\u001B[0m\u001B[0;34m)\u001B[0m\u001B[0;34m\u001B[0m\u001B[0;34m\u001B[0m\u001B[0m\n\u001B[0m\u001B[1;32m    790\u001B[0m \u001B[0;34m\u001B[0m\u001B[0m\n\u001B[1;32m    791\u001B[0m     \u001B[0maxes\u001B[0m \u001B[0;34m=\u001B[0m \u001B[0;34m[\u001B[0m\u001B[0mcolumns\u001B[0m\u001B[0;34m,\u001B[0m \u001B[0mindex\u001B[0m\u001B[0;34m]\u001B[0m\u001B[0;34m\u001B[0m\u001B[0;34m\u001B[0m\u001B[0m\n",
      "\u001B[0;32m~/Library/Caches/pypoetry/virtualenvs/capitalgram--bm4msE3-py3.8/lib/python3.8/site-packages/pyarrow/pandas_compat.py\u001B[0m in \u001B[0;36m_table_to_blocks\u001B[0;34m(options, block_table, categories, extension_columns)\u001B[0m\n\u001B[1;32m   1126\u001B[0m     \u001B[0;31m# Convert an arrow table to Block from the internal pandas API\u001B[0m\u001B[0;34m\u001B[0m\u001B[0;34m\u001B[0m\u001B[0;34m\u001B[0m\u001B[0m\n\u001B[1;32m   1127\u001B[0m     \u001B[0mcolumns\u001B[0m \u001B[0;34m=\u001B[0m \u001B[0mblock_table\u001B[0m\u001B[0;34m.\u001B[0m\u001B[0mcolumn_names\u001B[0m\u001B[0;34m\u001B[0m\u001B[0;34m\u001B[0m\u001B[0m\n\u001B[0;32m-> 1128\u001B[0;31m     result = pa.lib.table_to_blocks(options, block_table, categories,\n\u001B[0m\u001B[1;32m   1129\u001B[0m                                     list(extension_columns.keys()))\n\u001B[1;32m   1130\u001B[0m     return [_reconstruct_block(item, columns, extension_columns)\n",
      "\u001B[0;32m~/Library/Caches/pypoetry/virtualenvs/capitalgram--bm4msE3-py3.8/lib/python3.8/site-packages/pyarrow/table.pxi\u001B[0m in \u001B[0;36mpyarrow.lib.table_to_blocks\u001B[0;34m()\u001B[0m\n",
      "\u001B[0;31mValueError\u001B[0m: hour must be in 0..23"
     ]
    }
   ],
   "source": [
    "# Convert PyArrow table to Pandas format to continue working on it\n",
    "all_pairs_dataframe = columnar_pair_table.to_pandas()\n",
    "\n",
    "# Filter down to pairs that only trade on Sushiswap\n",
    "sushi_swap = exchange_universe.get_by_name_and_chain(ChainId.ethereum, \"sushiswap\")\n",
    "sushi_pairs: pd.DataFrame = all_pairs_dataframe.loc[all_pairs_dataframe['exchange_id'] == sushi_swap.id]\n",
    "\n",
    "print(f\"Sushiswap on Ethereum has {len(sushi_pairs)} pairs\")\n",
    "\n",
    "\n",
    "\n",
    "\n",
    "\n"
   ],
   "metadata": {
    "collapsed": false,
    "pycharm": {
     "name": "#%%\n"
    }
   }
  }
 ],
 "metadata": {
  "kernelspec": {
   "name": "python3",
   "language": "python",
   "display_name": "Python 3"
  },
  "language_info": {
   "codemirror_mode": {
    "name": "ipython",
    "version": 2
   },
   "file_extension": ".py",
   "mimetype": "text/x-python",
   "name": "python",
   "nbconvert_exporter": "python",
   "pygments_lexer": "ipython2",
   "version": "2.7.6"
  }
 },
 "nbformat": 4,
 "nbformat_minor": 0
}