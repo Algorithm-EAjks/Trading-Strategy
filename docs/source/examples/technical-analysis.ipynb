{
 "cells": [
  {
   "cell_type": "markdown",
   "source": [
    "# Technical analyis\n",
    "\n",
    "In this notebook, we will do basic technical analysis on decentralised exchange price data.\n",
    "\n",
    "We will\n",
    "\n",
    "* Download daily candle data for all pairs (several dozens of megabytes)\n",
    "\n",
    "* Extract data for ETH-USDC pair on Uniswap v2\n",
    "\n",
    "* Draw some standard technical analysis charts to identify if ETH-USDC pair is overbought or ovesold\n",
    "\n",
    "* Plot technical charts using Cufflinks library\n",
    "\n",
    "[Cufflinks](https://github.com/santosjorge/cufflinks) is a library build on the top of Plotly.\n",
    "It gives us some more useful chart formats for quantative analysis.\n"
   ],
   "metadata": {
    "collapsed": false
   }
  },
  {
   "cell_type": "markdown",
   "source": [
    "First let's install Capitalgram package, the package dependencies and initialise our dataset client.\n",
    "This might take 5 minutes in a fresh environment."
   ],
   "metadata": {
    "collapsed": false
   }
  },
  {
   "cell_type": "code",
   "execution_count": null,
   "outputs": [],
   "source": [
    "try:\n",
    "    import capitalgram\n",
    "except ImportError:\n",
    "    !pip install -e git+https://github.com/miohtama/capitalgram-onchain-dex-quant-data.git#egg=capitalgram\n",
    "    import site\n",
    "    site.main()\n",
    "\n",
    "from capitalgram.client import Capitalgram\n",
    "from capitalgram.candle import CandleBucket\n",
    "\n",
    "capitalgram = Capitalgram.create_jupyter_client()"
   ],
   "metadata": {
    "collapsed": false,
    "pycharm": {
     "name": "#%%\n"
    }
   }
  },
  {
   "cell_type": "markdown",
   "source": [
    "Let's download 1 day (24h) candles to all trading pairs. This dataset is several dozens of megabytes.\n",
    "You should see a progress bar during the download.\n",
    "\n",
    "**Note**: We could also query live candle datasets for trading pairs we are interested in.\n",
    "However, the bundled dataset is faster for the future analysis, as after the download\n",
    "it will have all candles cached in your local notebook environment."
   ],
   "metadata": {
    "collapsed": false
   }
  },
  {
   "cell_type": "code",
   "execution_count": null,
   "outputs": [],
   "source": [
    "# Download all 24h candles as Parquet columnar data\n",
    "all_candles = capitalgram.fetch_all_candles(CandleBucket.h24)"
   ],
   "metadata": {
    "collapsed": false,
    "pycharm": {
     "name": "#%%\n"
    }
   }
  },
  {
   "cell_type": "markdown",
   "source": [
    "Let's pick one pair, ETH-USDC on Uniswap v2, from the dataset to analyse."
   ],
   "metadata": {
    "collapsed": false
   }
  },
  {
   "cell_type": "code",
   "execution_count": null,
   "outputs": [],
   "source": [
    "import pandas as pd\n",
    "\n",
    "# Convert PyArrow table to Pandas format to continue working on it\n",
    "all_candles_dataframe = all_candles.to_pandas()\n",
    "\n",
    "# To shorten this notebook, we know by hearth that USDC-ETH Uniswap v2 is the pair id numero uno,\n",
    "# because that what Hayden used to test the production code when he deployed Uniswap v2\n",
    "pair_id = 1\n",
    "\n",
    "eth_usdc_pair: pd.DataFrame = all_candles_dataframe.loc[all_candles_dataframe['pair_id'] == pair_id]\n",
    "\n",
    "print(f\"Uniswap v2 ETH-USDC has {len(eth_usdc_pair)} daily candles\")"
   ],
   "metadata": {
    "collapsed": false,
    "pycharm": {
     "name": "#%%\n"
    }
   }
  },
  {
   "cell_type": "markdown",
   "source": [
    "## Quant charts with cufflinks\n",
    "\n",
    "\n",
    "The main benefit is having the trade volume (V in OHLCV) automatically rendered in the diagrams,\n",
    " as you would have on any trading view.\n",
    "\n",
    "**Note**: Interactive charts are not visible on documentation, Github or other statically rendered websites.\n",
    "To see the interactive charts you need to run this notebook yourself. See instructions in Getting started\n",
    "chapter.\n",
    "\n",
    "**Note 2**: Furthermore it looks like Cufflinks does not work in Jetbrains IDEs (PyCharm) for some reason."
   ],
   "metadata": {
    "collapsed": false
   }
  },
  {
   "cell_type": "code",
   "execution_count": null,
   "outputs": [],
   "source": [
    "import cufflinks as cf\n",
    "\n",
    "qf=cf.QuantFig(october, title='ETH-USDC Uniswap v2 October 2020', legend='top', name='GS')\n",
    "qf.add_bollinger_bands()\n",
    "qf.add_volume()\n",
    "qf.iplot()\n",
    "\n",
    "print(\"All done\")"
   ],
   "metadata": {
    "collapsed": false,
    "pycharm": {
     "name": "#%%\n"
    }
   }
  }
 ],
 "metadata": {
  "kernelspec": {
   "display_name": "Python 3",
   "language": "python",
   "name": "python3"
  },
  "language_info": {
   "codemirror_mode": {
    "name": "ipython",
    "version": 2
   },
   "file_extension": ".py",
   "mimetype": "text/x-python",
   "name": "python",
   "nbconvert_exporter": "python",
   "pygments_lexer": "ipython2",
   "version": "2.7.6"
  }
 },
 "nbformat": 4,
 "nbformat_minor": 0
}