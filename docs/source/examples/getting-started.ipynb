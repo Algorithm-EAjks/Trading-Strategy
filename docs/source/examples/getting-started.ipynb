{
 "cells": [
  {
   "cell_type": "markdown",
   "source": [
    "# Getting started\n",
    "\n",
    "## Preface\n",
    "\n",
    "To get started you need\n",
    "\n",
    "* Basic algorithmic trade, finance and quantative research understanding\n",
    "\n",
    "* Basic Python understanding\n",
    "\n",
    "* Basic Jupyter Notebook understanding\n",
    "\n",
    "* Somewhere to run Jupyter Notebooks (your local computer, a cloud service)\n",
    "\n",
    "If you are new to these topics please see the [Learn](https://docs.capitalgram.com/learn.html) section for useful links to start learning more.\n",
    "\n",
    "## API keys\n",
    "\n",
    "When you run the notebook for the first time, you are asked to register an API key for Capitalgram dataset server. This interaction happens over Python input.\n",
    "\n",
    "## Quickstart"
   ],
   "metadata": {
    "collapsed": false,
    "pycharm": {
     "name": "#%% md\n"
    }
   }
  },
  {
   "cell_type": "markdown",
   "source": [
    "Google offers free cloud service to run your notebooks\n",
    "\n",
    "* Click *Open in Colab* button above\n",
    "\n",
    "* You need a Google account\n",
    "\n",
    "* Clicking the *Open in Colab* button on any notebook in this documentation will automatically create you a personal runnable copy on [Google Colaboratory service](https://colab.research.google.com/notebooks/intro.ipynb)\n",
    "\n",
    "* After the notebook is open on Colab, you need to press *Connect* to allocate a server for yourself and then execute the notebook by choosing *Runtime* > *Run all* from the menu\n",
    "\n",
    "* This document is displaying the results of the last notebook run. Running the notebook yourself will execute all the cells and update the result of calculations\n",
    "\n",
    "* The first execution will take around 5 minutes, because"
   ],
   "metadata": {
    "collapsed": false,
    "pycharm": {
     "name": "#%% md\n"
    }
   }
  },
  {
   "cell_type": "markdown",
   "source": [
    "## Install\n",
    "\n",
    "This step assumes you have managed to get your Jupyter Notebook environment set up and an empty notebook open.\n",
    "\n",
    "This notebook starts by installing `capitalgram` Python package on your notebook environment if it is not installed yet"
   ],
   "metadata": {
    "collapsed": false,
    "pycharm": {
     "name": "#%% md\n"
    }
   }
  },
  {
   "cell_type": "code",
   "execution_count": 1,
   "outputs": [],
   "source": [
    "try:\n",
    "    import capitalgram\n",
    "except ImportError:\n",
    "    # We do not have official releases yet, so we grab the latest in-developmenet\n",
    "    # Capitalgram library code from Github and dynamically install\n",
    "    # it for the notebook you are running\n",
    "    !pip install -e git+https://github.com/miohtama/capitalgram-onchain-dex-quant-data.git#egg=capitalgram\n",
    "    import site\n",
    "    site.main()"
   ],
   "metadata": {
    "collapsed": false,
    "pycharm": {
     "name": "#%%\n"
    }
   }
  },
  {
   "cell_type": "markdown",
   "source": [
    "## Usage\n",
    "\n",
    "This is the *Hello World* where we make our first dynamic market analysis.\n",
    "\n",
    "The code belows creates a Capitalgram [API client instance](https://docs.capitalgram.com/api/client.html)\n",
    "that is used to communicate with the dataset server.\n",
    "\n",
    "If you do not have an API key saved on the Notebook server yet,\n",
    "this will **prompt you** to create an API key and then saves it for you.\n",
    "Please answer the interactive questions when the notebook is running."
   ],
   "metadata": {
    "collapsed": false,
    "pycharm": {
     "name": "#%% md\n"
    }
   }
  },
  {
   "cell_type": "code",
   "execution_count": 2,
   "metadata": {
    "collapsed": true
   },
   "outputs": [
    {
     "name": "stdout",
     "output_type": "stream",
     "text": [
      "Started Capitalgram in Jupyter notebook environment, configuration is stored in /Users/mikkoohtamaa/.capitalgram\n"
     ]
    }
   ],
   "source": [
    "from capitalgram.client import Capitalgram\n",
    "\n",
    "client = Capitalgram.create_jupyter_client()"
   ]
  },
  {
   "cell_type": "markdown",
   "source": [
    "Now when the API key is created and we are connected, we can do some analysis.\n",
    "Let's get the top 3 supported exchanges by their real time 30 days volume."
   ],
   "metadata": {
    "collapsed": false
   }
  },
  {
   "cell_type": "code",
   "execution_count": 3,
   "outputs": [
    {
     "name": "stdout",
     "output_type": "stream",
     "text": [
      "When this notebook was run the date was 2021-08-05\n"
     ]
    }
   ],
   "source": [
    "# Let's log the date when the this notebook was run\n",
    "import datetime\n",
    "print(f\"When this notebook was run the date was {datetime.date.today()}\")"
   ],
   "metadata": {
    "collapsed": false,
    "pycharm": {
     "name": "#%%\n"
    }
   }
  },
  {
   "cell_type": "markdown",
   "source": [
    "Then let's extract some montly statistics from the exchange dataset."
   ],
   "metadata": {
    "collapsed": false,
    "pycharm": {
     "name": "#%% md\n"
    }
   }
  },
  {
   "cell_type": "code",
   "execution_count": 4,
   "outputs": [
    {
     "data": {
      "text/plain": "     Exchange         USD Volume\n1  Uniswap v2  10,470,075,809.75\n2   Sushiswap   5,599,687,638.92\n3  Shiba Swap   1,758,970,556.78",
      "text/html": "<div>\n<style scoped>\n    .dataframe tbody tr th:only-of-type {\n        vertical-align: middle;\n    }\n\n    .dataframe tbody tr th {\n        vertical-align: top;\n    }\n\n    .dataframe thead th {\n        text-align: right;\n    }\n</style>\n<table border=\"1\" class=\"dataframe\">\n  <thead>\n    <tr style=\"text-align: right;\">\n      <th></th>\n      <th>Exchange</th>\n      <th>USD Volume</th>\n    </tr>\n  </thead>\n  <tbody>\n    <tr>\n      <th>1</th>\n      <td>Uniswap v2</td>\n      <td>10,470,075,809.75</td>\n    </tr>\n    <tr>\n      <th>2</th>\n      <td>Sushiswap</td>\n      <td>5,599,687,638.92</td>\n    </tr>\n    <tr>\n      <th>3</th>\n      <td>Shiba Swap</td>\n      <td>1,758,970,556.78</td>\n    </tr>\n  </tbody>\n</table>\n</div>"
     },
     "metadata": {},
     "output_type": "display_data"
    }
   ],
   "source": [
    "from IPython.display import display\n",
    "import pandas as pd\n",
    "import numpy as np\n",
    "\n",
    "universe = client.fetch_exchange_universe()\n",
    "\n",
    "exchanges = []\n",
    "volumes = []\n",
    "for xchg in universe.get_top_exchanges_by_30d_volume()[0:3]:\n",
    "    exchanges.append(xchg.name)\n",
    "    volumes.append(\"{:,.2f}\".format(xchg.vol_30d))  # Format volume with the thousand separator\n",
    "\n",
    "# Convert output to Pandas DataFrame object so that\n",
    "# notebook can render it as a nice table\n",
    "df = pd.DataFrame({\"Exchange\": exchanges, \"USD Volume\": volumes})\n",
    "\n",
    "# Index rows starting with one instead of zero\n",
    "df.index = np.arange(1, len(df)+1)\n",
    "\n",
    "display(df)"
   ],
   "metadata": {
    "collapsed": false,
    "pycharm": {
     "name": "#%%\n"
    }
   }
  },
  {
   "cell_type": "markdown",
   "source": [
    "Ta-da - all done! Now you can proceed to create trading algorithms.\n",
    "\n",
    "*Note*: The 30d volume includes only trading pairs with the supported quote tokens."
   ],
   "metadata": {
    "collapsed": false,
    "pycharm": {
     "name": "#%% md\n"
    }
   }
  }
 ],
 "metadata": {
  "kernelspec": {
   "display_name": "Python 3",
   "language": "python",
   "name": "python3"
  },
  "language_info": {
   "codemirror_mode": {
    "name": "ipython",
    "version": 2
   },
   "file_extension": ".py",
   "mimetype": "text/x-python",
   "name": "python",
   "nbconvert_exporter": "python",
   "pygments_lexer": "ipython2",
   "version": "2.7.6"
  }
 },
 "nbformat": 4,
 "nbformat_minor": 0
}