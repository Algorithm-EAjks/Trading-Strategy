{
 "cells": [
  {
   "cell_type": "markdown",
   "source": [
    "Start by creating a Capital API client. If you do not have an API key saved yet, this will prompt you to create one and will save it for you."
   ],
   "metadata": {
    "collapsed": false,
    "pycharm": {
     "name": "#%% md\n"
    }
   }
  },
  {
   "cell_type": "code",
   "execution_count": 1,
   "metadata": {
    "collapsed": true
   },
   "outputs": [
    {
     "name": "stdout",
     "output_type": "stream",
     "text": [
      "Using configuration found in /Users/moo/.capitalgram\n"
     ]
    }
   ],
   "source": [
    "from capitalgram.client import Capitalgram\n",
    "\n",
    "capitalgram = Capitalgram.create_jupyter_client()"
   ]
  },
  {
   "cell_type": "markdown",
   "source": [
    "Now when the API key is created and we are connected, we can do some analysis.\n",
    "Let's get the top 3 supported exchanges by their real time 30 days volume.\n",
    "\n",
    "*Note*: The volume includes only trading pairs with the supported quote tokens"
   ],
   "metadata": {
    "collapsed": false
   }
  },
  {
   "cell_type": "code",
   "execution_count": 2,
   "outputs": [
    {
     "name": "stdout",
     "output_type": "stream",
     "text": [
      "Today is 2021-07-18 - the top three decentralised exchanges by volume are\n",
      "1. Uniswap v2 - volume $14,065,514,724.235682\n",
      "2. Sushiswap - volume $5,845,773,835.377255\n",
      "3. Shiba Swap - volume $923,760,696.4635899\n"
     ]
    }
   ],
   "source": [
    "import datetime\n",
    "\n",
    "# This will get all exchange ids and summary data\n",
    "universe = capitalgram.fetch_exchange_universe()\n",
    "\n",
    "print(f\"Today is {datetime.date.today()} - the top three decentralised exchanges by volume are\")\n",
    "for position, xchg in enumerate(universe.get_top_exchanges_by_30d_volume()[0:3], start=1):\n",
    "    print(f\"{position}. {xchg.name} - volume ${xchg.vol_30d:,}\")"
   ],
   "metadata": {
    "collapsed": false,
    "pycharm": {
     "name": "#%%\n"
    }
   }
  }
 ],
 "metadata": {
  "kernelspec": {
   "display_name": "Python 3",
   "language": "python",
   "name": "python3"
  },
  "language_info": {
   "codemirror_mode": {
    "name": "ipython",
    "version": 2
   },
   "file_extension": ".py",
   "mimetype": "text/x-python",
   "name": "python",
   "nbconvert_exporter": "python",
   "pygments_lexer": "ipython2",
   "version": "2.7.6"
  }
 },
 "nbformat": 4,
 "nbformat_minor": 0
}