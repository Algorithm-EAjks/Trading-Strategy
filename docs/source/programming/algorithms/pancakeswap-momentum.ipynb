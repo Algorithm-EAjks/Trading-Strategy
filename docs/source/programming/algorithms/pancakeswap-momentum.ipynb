{
 "cells": [
  {
   "cell_type": "markdown",
   "metadata": {
    "pycharm": {
     "name": "#%% md\n"
    }
   },
   "source": [
    "# Pancakeswap momentum trading\n",
    "\n",
    "This is an example strategy backtesting how to momentum trading on PancakeSwap."
   ]
  },
  {
   "cell_type": "markdown",
   "metadata": {
    "pycharm": {
     "name": "#%% md\n"
    }
   },
   "source": [
    "## Creating trading universe\n",
    "\n",
    "First let's import libraries and initialise our dataset client."
   ]
  },
  {
   "cell_type": "code",
   "execution_count": 4,
   "metadata": {
    "pycharm": {
     "name": "#%%\n"
    }
   },
   "outputs": [
    {
     "name": "stdout",
     "output_type": "stream",
     "text": [
      "Started Trading Strategy in Jupyter notebook environment, configuration is stored in /Users/moo/.tradingstrategy\n"
     ]
    }
   ],
   "source": [
    "try:\n",
    "    import tradingstrategy\n",
    "except ImportError:\n",
    "    !pip install tradingstrategy\n",
    "    import site\n",
    "    site.main()\n",
    "\n",
    "from tradingstrategy.client import Client\n",
    "\n",
    "client = Client.create_jupyter_client()"
   ]
  },
  {
   "cell_type": "markdown",
   "metadata": {
    "pycharm": {
     "name": "#%% md\n"
    }
   },
   "source": [
    "Let's create a pair universe for PancakeSwap.\n",
    "We will create a dataset of 2d candles that trade on PancakeSwap on Binance Smart Chain."
   ]
  },
  {
   "cell_type": "code",
   "execution_count": 5,
   "metadata": {
    "pycharm": {
     "name": "#%%\n"
    }
   },
   "outputs": [
    {
     "name": "stdout",
     "output_type": "stream",
     "text": [
      "Our trading universe has 5357 pairs that meet the prefiltering criteria\n"
     ]
    }
   ],
   "source": [
    "import pandas as pd\n",
    "from tradingstrategy.chain import ChainId\n",
    "from tradingstrategy.pair import PandasPairUniverse\n",
    "from tradingstrategy.timebucket import TimeBucket\n",
    "\n",
    "columnar_pair_table = client.fetch_pair_universe()\n",
    "\n",
    "exchange_universe = client.fetch_exchange_universe()\n",
    "\n",
    "all_pairs_dataframe = columnar_pair_table.to_pandas()\n",
    "\n",
    "our_exchange = exchange_universe.get_by_chain_and_slug(ChainId.bsc, \"pancakeswap-v2\")\n",
    "our_pairs: pd.DataFrame = all_pairs_dataframe.loc[\n",
    "    (all_pairs_dataframe['exchange_id'] == our_exchange.exchange_id) &  # Trades on Sushi\n",
    "    (all_pairs_dataframe['buy_volume_all_time'] > 500_000)  # 500k min buys\n",
    "]\n",
    "\n",
    "# Create a Python set of pair ids\n",
    "wanted_pair_ids = our_pairs[\"pair_id\"]\n",
    "\n",
    "# Make the trading pair data easily accessible\n",
    "pair_universe = PandasPairUniverse(our_pairs)\n",
    "\n",
    "print(f\"Our trading universe has {len(pair_universe.get_all_pair_ids())} pairs that meet the prefiltering criteria\")"
   ]
  },
  {
   "cell_type": "markdown",
   "metadata": {
    "pycharm": {
     "name": "#%% md\n"
    }
   },
   "source": [
    "Get daily candles and filter them against our wanted pair set."
   ]
  },
  {
   "cell_type": "code",
   "execution_count": 6,
   "metadata": {
    "pycharm": {
     "name": "#%%\n"
    }
   },
   "outputs": [
    {
     "data": {
      "text/plain": "  0%|          | 0/226746797 [00:00<?, ?it/s]",
      "application/vnd.jupyter.widget-view+json": {
       "version_major": 2,
       "version_minor": 0,
       "model_id": "bd55518feee04691b965164c2a3df889"
      }
     },
     "metadata": {},
     "output_type": "display_data"
    },
    {
     "ename": "NameError",
     "evalue": "name 'sushi_candles' is not defined",
     "output_type": "error",
     "traceback": [
      "\u001B[0;31m---------------------------------------------------------------------------\u001B[0m",
      "\u001B[0;31mNameError\u001B[0m                                 Traceback (most recent call last)",
      "\u001B[0;32m/var/folders/wg/6tjsdnt511s90hqpxtxgkndc0000gn/T/ipykernel_20145/3949324090.py\u001B[0m in \u001B[0;36m<module>\u001B[0;34m\u001B[0m\n\u001B[1;32m     11\u001B[0m \u001B[0mour_candles\u001B[0m\u001B[0;34m:\u001B[0m \u001B[0mpd\u001B[0m\u001B[0;34m.\u001B[0m\u001B[0mDataFrame\u001B[0m \u001B[0;34m=\u001B[0m \u001B[0mall_candles\u001B[0m\u001B[0;34m.\u001B[0m\u001B[0mloc\u001B[0m\u001B[0;34m[\u001B[0m\u001B[0mall_candles\u001B[0m\u001B[0;34m[\u001B[0m\u001B[0;34m\"pair_id\"\u001B[0m\u001B[0;34m]\u001B[0m\u001B[0;34m.\u001B[0m\u001B[0misin\u001B[0m\u001B[0;34m(\u001B[0m\u001B[0mwanted_pair_ids\u001B[0m\u001B[0;34m)\u001B[0m\u001B[0;34m]\u001B[0m\u001B[0;34m\u001B[0m\u001B[0;34m\u001B[0m\u001B[0m\n\u001B[1;32m     12\u001B[0m \u001B[0;34m\u001B[0m\u001B[0m\n\u001B[0;32m---> 13\u001B[0;31m \u001B[0mour_candles\u001B[0m \u001B[0;34m=\u001B[0m \u001B[0mprepare_candles_for_backtrader\u001B[0m\u001B[0;34m(\u001B[0m\u001B[0msushi_candles\u001B[0m\u001B[0;34m)\u001B[0m\u001B[0;34m\u001B[0m\u001B[0;34m\u001B[0m\u001B[0m\n\u001B[0m\u001B[1;32m     14\u001B[0m \u001B[0;34m\u001B[0m\u001B[0m\n\u001B[1;32m     15\u001B[0m \u001B[0;31m# We limit candles to a specific date range to make this notebook deterministic\u001B[0m\u001B[0;34m\u001B[0m\u001B[0;34m\u001B[0m\u001B[0;34m\u001B[0m\u001B[0m\n",
      "\u001B[0;31mNameError\u001B[0m: name 'sushi_candles' is not defined"
     ]
    }
   ],
   "source": [
    "import datetime\n",
    "\n",
    "from tradingstrategy.candle import GroupedCandleUniverse\n",
    "from tradingstrategy.pair import PandasPairUniverse\n",
    "from tradingstrategy.frameworks.backtrader import prepare_candles_for_backtrader\n",
    "\n",
    "TARGET_TIME_BUCKET = TimeBucket.d1\n",
    "\n",
    "# Get daily candles as Pandas DataFrame\n",
    "all_candles = client.fetch_all_candles(TARGET_TIME_BUCKET).to_pandas()\n",
    "our_candles: pd.DataFrame = all_candles.loc[all_candles[\"pair_id\"].isin(wanted_pair_ids)]\n",
    "\n",
    "our_candles = prepare_candles_for_backtrader(sushi_candles)\n",
    "\n",
    "# We limit candles to a specific date range to make this notebook deterministic\n",
    "start = datetime.datetime(2020, 10, 1)\n",
    "end = datetime.datetime(2022, 1, 1)\n",
    "\n",
    "our_candles = sushi_candles[(sushi_candles.index >= start) & (sushi_candles.index <= end)]\n",
    "\n",
    "# Group candles by the trading pair ticker\n",
    "our_candle_universe = GroupedCandleUniverse(sushi_candles)\n",
    "\n",
    "print(f\"Total number of candles we use in the simulation is {len(our_candles)}\")"
   ]
  },
  {
   "cell_type": "markdown",
   "metadata": {
    "pycharm": {
     "name": "#%% md\n"
    }
   },
   "source": [
    "## Creating the strategy\n",
    "\n",
    "[See the Backtrader quickstart tutorial](https://www.backtrader.com/docu/quickstart/quickstart/).\n",
    "\n",
    "### Cumulative volume indicator\n",
    "\n",
    "We create a [Backtrader indicator based on PeriodN indicator](https://github.com/mementum/backtrader/blob/0fa63ef4a35dc53cc7320813f8b15480c8f85517/backtrader/indicators/basicops.py) how much cumulative trade volume the trading pair has seen in the past. We use this indicator to filter out trading pairs that seem to be dead, as no trading happening, and thus not subject to our random entry.\n",
    "\n",
    "More information about [Backtrader custom indicators](https://www.backtrader.com/docu/inddev/)."
   ]
  },
  {
   "cell_type": "code",
   "execution_count": null,
   "metadata": {
    "pycharm": {
     "name": "#%%\n"
    }
   },
   "outputs": [],
   "source": [
    "import math\n",
    "from random import Random\n",
    "\n",
    "import backtrader as bt\n",
    "from backtrader.indicators import PeriodN\n",
    "\n",
    "\n",
    "class PastTradeVolumeIndicator(PeriodN):\n",
    "    \"\"\"Indicates whether the trading pair has reached certain volume for the last N days.\n",
    "\n",
    "    Based on indicator base class that takes period (days) as an input.\n",
    "    \"\"\"\n",
    "\n",
    "    lines = ('cum_volume',)\n",
    "\n",
    "    params = (('period', 7),)\n",
    "\n",
    "    def next(self):\n",
    "        # This indicator is feed with volume line.\n",
    "        # We simply take the sum of the daily volumes based on the period (number of days)\n",
    "        datasum = math.fsum(self.data.get(size=self.p.period))\n",
    "        self.lines.cum_volume[0] = datasum\n"
   ]
  },
  {
   "cell_type": "markdown",
   "source": [
    "### Coinflip strategy core\n",
    "\n",
    "By using the indicator from the above here is our strategy."
   ],
   "metadata": {
    "collapsed": false,
    "pycharm": {
     "name": "#%% md\n"
    }
   }
  },
  {
   "cell_type": "code",
   "execution_count": null,
   "outputs": [],
   "source": [
    "from tradingstrategy.frameworks.backtrader import CapitalgramFeed\n",
    "\n",
    "class EntropyMonkey(bt.Strategy):\n",
    "    \"\"\"A strategy that picks a new token to go all-in every day.\"\"\"\n",
    "\n",
    "    def __init__(self, pair_universe: PandasPairUniverse, seed: int):\n",
    "        #: Allows us to print human-readable pair information\n",
    "        self.pair_universe = pair_universe\n",
    "\n",
    "        #: Initialize (somewhat) determininistic random number generator\n",
    "        self.dice = Random(seed)\n",
    "\n",
    "        #: We operate on daily candles.\n",
    "        #: At each tick, we process to the next candle\n",
    "        self.day = 0\n",
    "\n",
    "        #: Cumulative volume indicator for each of the data feed\n",
    "        self.indicators = {}\n",
    "        pair: CapitalgramFeed\n",
    "        for pair in self.datas:\n",
    "            self.indicators[pair] = PastTradeVolumeIndicator(pair.lines.volume)\n",
    "\n",
    "        # How much USD volume token needs to have in order to be eligible for a pick\n",
    "        self.cumulative_volume_threshold = 200_000\n",
    "\n",
    "        # How many times we try to pick a token pair to buy\n",
    "        # before giving up (at early days there might not be enough volume)\n",
    "        self.pick_attempts = 100\n",
    "\n",
    "        # If our balance goes below this considering giving up\n",
    "        self.cash_balance_death_threshold = 100\n",
    "\n",
    "    def next(self):\n",
    "        \"\"\"Tick the strategy.\n",
    "\n",
    "        Because we are using daily candles, tick will run once per each day.\n",
    "        \"\"\"\n",
    "\n",
    "        # Advance to the next day\n",
    "        self.day += 1\n",
    "\n",
    "        # Pick a new token to buy\n",
    "        for i in range(self.pick_attempts):\n",
    "            random_pair: CapitalgramFeed = self.dice.choice(self.datas)\n",
    "            pair_info = random_pair.pair_info\n",
    "            cum_volume_indicator = self.indicators[random_pair]\n",
    "            volume = cum_volume_indicator.lines.cum_volume[0]\n",
    "            if volume > self.cumulative_volume_threshold and random_pair.close[0] > 0:\n",
    "                break\n",
    "        else:\n",
    "            print(f\"On day #{self.day} did not find any token to buy\")\n",
    "            return\n",
    "\n",
    "        # Sell any existing token we have\n",
    "        for ticker in self.datas:\n",
    "             if self.getposition(ticker).size > 0:\n",
    "                # Too verbose\n",
    "                # print(f\"On day #{self.day}, selling existing position of {pair_info.base_token_symbol} - {pair_info.quote_token_symbol}\")\n",
    "                self.close(ticker)\n",
    "\n",
    "        # Buy in with all money we have.\n",
    "        # We are not really worried about order size quantisation in crypto.\n",
    "        cash = self.broker.get_cash()\n",
    "\n",
    "        if cash < self.cash_balance_death_threshold:\n",
    "            # We are busted\n",
    "            return\n",
    "\n",
    "        # Buy using the daily candle closing price as the rate\n",
    "        price = random_pair.close[0]\n",
    "        assert price > 0, \"Pair had zero price \"\n",
    "        size = cash / price\n",
    "\n",
    "        # Sell the existing position\n",
    "        print(f\"On day #{self.day} we are buying {pair_info.base_token_symbol} - {pair_info.quote_token_symbol} that has 7 days vol of {volume:,.0f} USD. Buy in at price of {price:.4f} USD, cash at hand {cash:,.2f} USD\")\n",
    "\n",
    "        self.buy(random_pair, size=size, exectype=bt.Order.Market)\n"
   ],
   "metadata": {
    "collapsed": false,
    "pycharm": {
     "name": "#%%\n"
    }
   }
  },
  {
   "cell_type": "markdown",
   "source": [
    "## Feeding the strategy\n",
    "\n",
    "Feed our trade data from Sushiswap to the Backtrader strategy."
   ],
   "metadata": {
    "collapsed": false
   }
  },
  {
   "cell_type": "code",
   "execution_count": null,
   "metadata": {
    "pycharm": {
     "name": "#%%\n"
    }
   },
   "outputs": [],
   "source": [
    "from tradingstrategy.frameworks.backtrader import add_dataframes_as_feeds\n",
    "\n",
    "# Create a cerebro entity\n",
    "cerebro = bt.Cerebro(stdstats=False)\n",
    "\n",
    "# Add a strategy\n",
    "cerebro.addstrategy(EntropyMonkey, pair_universe=pair_universe, seed=0x1000)\n",
    "\n",
    "# Pass all Sushi pairs to the data fees to the strategy\n",
    "# noinspection JupyterKernel\n",
    "feeds = [df for pair_id, df in sushi_tickers.get_all_pairs()]\n",
    "add_dataframes_as_feeds(\n",
    "    cerebro,\n",
    "    pair_universe,\n",
    "    feeds,\n",
    "    start,\n",
    "    end,\n",
    "    TimeBucket.d1)"
   ]
  },
  {
   "cell_type": "markdown",
   "metadata": {},
   "source": [
    "## Running the strategy\n",
    "\n",
    "We are adding some observers that tell us how well the strategy performs."
   ]
  },
  {
   "cell_type": "code",
   "execution_count": null,
   "metadata": {
    "pycharm": {
     "name": "#%%\n"
    }
   },
   "outputs": [],
   "source": [
    "cerebro.addobserver(bt.observers.Value)\n",
    "cerebro.addanalyzer(bt.analyzers.SharpeRatio, riskfreerate=0.0)\n",
    "cerebro.addanalyzer(bt.analyzers.Returns)\n",
    "cerebro.addanalyzer(bt.analyzers.DrawDown)\n",
    "\n",
    "# Run over everything\n",
    "print('Starting portfolio value: %.2f USD' % cerebro.broker.getvalue())\n",
    "results = cerebro.run()\n",
    "print('Ending portfolio value: %.2f USD' % cerebro.broker.getvalue())\n",
    "\n",
    "strategy: EntropyMonkey = results[0]"
   ]
  },
  {
   "cell_type": "markdown",
   "source": [
    "## Analysing the portfolio results"
   ],
   "metadata": {
    "collapsed": false,
    "pycharm": {
     "name": "#%% md\n"
    }
   }
  },
  {
   "cell_type": "code",
   "execution_count": null,
   "outputs": [],
   "source": [
    "print(f\"Backtest range {start.date()} - {end.date()}\")\n",
    "print(f\"Sharpe: {results[0].analyzers.sharperatio.get_analysis()['sharperatio']:.3f}\")\n",
    "print(f\"Norm. Annual Return: {results[0].analyzers.returns.get_analysis()['rnorm100']:.2f}%\")\n",
    "print(f\"Max Drawdown: {results[0].analyzers.drawdown.get_analysis()['max']['drawdown']:.2f}%\")"
   ],
   "metadata": {
    "collapsed": false,
    "pycharm": {
     "name": "#%%\n"
    }
   }
  },
  {
   "cell_type": "markdown",
   "source": [
    "## Plotting the portfolio value\n",
    "\n",
    "Below is an example chart how the portfolio value moves over the time."
   ],
   "metadata": {
    "collapsed": false,
    "pycharm": {
     "name": "#%% md\n"
    }
   }
  },
  {
   "cell_type": "code",
   "execution_count": null,
   "outputs": [],
   "source": [
    "from matplotlib.figure import Figure\n",
    "\n",
    "figs = cerebro.plot(iplot=False)\n",
    "\n",
    "fig: Figure = figs[0][0]\n",
    "\n",
    "fig"
   ],
   "metadata": {
    "collapsed": false,
    "pycharm": {
     "name": "#%%\n"
    }
   }
  },
  {
   "cell_type": "markdown",
   "source": [
    "That's all this time. Onwards.\n",
    "\n",
    "\n"
   ],
   "metadata": {
    "collapsed": false,
    "pycharm": {
     "name": "#%% md\n"
    }
   }
  }
 ],
 "metadata": {
  "kernelspec": {
   "name": "pycharm-69593197",
   "language": "python",
   "display_name": "PyCharm (dex-ohlcv)"
  },
  "language_info": {
   "codemirror_mode": {
    "name": "ipython",
    "version": 3
   },
   "file_extension": ".py",
   "mimetype": "text/x-python",
   "name": "python",
   "nbconvert_exporter": "python",
   "pygments_lexer": "ipython3",
   "version": "3.8.1"
  }
 },
 "nbformat": 4,
 "nbformat_minor": 1
}