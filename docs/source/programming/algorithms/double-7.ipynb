{
 "cells": [
  {
   "cell_type": "markdown",
   "metadata": {
    "pycharm": {
     "name": "#%% md\n"
    }
   },
   "source": [
    "# Double 7\n",
    "\n",
    "This is an example of an automated trading strategy, how to trade on a single trading pair using daily closes and moving averages.\n",
    "\n",
    "* You can read more about the strategy on the [The Chartist explanation page](https://www.thechartist.com.au/double-7-s-strategy/)\n",
    "\n",
    "* The strategy trades a single chosen token pair, in our case ETH-USD (using USDC stablecoin)\n",
    "\n",
    "* The strategy trades on Sushiswap and on Ethereum mainnet\n",
    "\n",
    "* The backtesting is done using [Backtrader backtesting framework](https://tradingstrategy.ai/docs/glossary.html#term-Backtrader)\n",
    "\n",
    "* The strategy is converted to Backtrader from its original [Pine Script](https://tradingstrategy.ai/docs/glossary.html#term-Pine-Script) implementation\n",
    "\n",
    "* Based on the backtesting, the strategy is real-life profitable\n",
    "\n",
    "* The chosen parameters (50 days moving average, 7 days high, 7 days close, daily candles) were arbitrarily chosen and might be unfit for the crypto markets directly as such. It is necessary to modify and test a suitable timeframe and MA configuration for your chosen trading pair.\n",
    "\n",
    "* Please notice, the backtesting does not account for transaction fees, trading fees, or slippage."
   ]
  },
  {
   "cell_type": "markdown",
   "metadata": {
    "pycharm": {
     "name": "#%% md\n"
    }
   },
   "source": [
    "## The original Double 7 Pine Script implementation\n",
    "\n",
    "Below is the Double 7 Pine Script implementation that this strategy is based on."
   ]
  },
  {
   "cell_type": "markdown",
   "metadata": {
    "pycharm": {
     "name": "#%% md\n"
    }
   },
   "source": [
    "```\n",
    "//@version=4\n",
    "strategy(\"Double 7's Strat.v1\", overlay=true, default_qty_type = strategy.percent_of_equity, default_qty_value = 100)\n",
    "\n",
    "value1=input(7, title=\"Quantity of day low\")\n",
    "value2=input(7, title=\"Quantity of day high\")\n",
    "entry=lowest(close[1],value1)\n",
    "exit=highest(close[1],value2)\n",
    "\n",
    "mma100=sma(close,100)\n",
    "\n",
    "plot(entry, title = '7 day low', color = color.blue,   linewidth = 1, style = plot.style_linebr)  // plot 7 day low\n",
    "plot(exit, title = '7 day high', color = color.purple,   linewidth = 1, style = plot.style_linebr)  // plot 7 day high\n",
    "plot(mma100, title = 'MMA100', color = color.orange,   linewidth = 2, style = plot.style_line)  // plot MMA100\n",
    "\n",
    "//Stop Loss input setting\n",
    "longLossPerc = input(title=\"Long Stop Loss (%)\", type=input.float, minval=0.0, step=0.1, defval=1) * 0.01\n",
    "\n",
    "// Determine stop loss price\n",
    "longStopPrice  = strategy.position_avg_price * (1 - longLossPerc)\n",
    "\n",
    "// Plot stop loss values for confirmation\n",
    "plot(series=(strategy.position_size > 0) ? longStopPrice : na, color=color.red, style=plot.style_linebr, linewidth=2, title=\"Long Stop Loss\")\n",
    "\n",
    "// Test Period\n",
    "testStartYear = input(2021, \"Backtest Start Year\")\n",
    "testStartMonth = input(5, \"Backtest Start Month\")\n",
    "testStartDay = input(17, \"Backtest Start Day\")\n",
    "testPeriodStart = timestamp(testStartYear,testStartMonth,testStartDay,0,0)\n",
    "\n",
    "testStopYear = input(2022, \"Backtest Stop Year\")\n",
    "testStopMonth = input(12, \"Backtest Stop Month\")\n",
    "testStopDay = input(30, \"Backtest Stop Day\")\n",
    "testPeriodStop = timestamp(testStopYear,testStopMonth,testStopDay,0,0)\n",
    "\n",
    "testPeriod() =>\n",
    "    time >= testPeriodStart and time <= testPeriodStop ? true : false\n",
    "\n",
    "if testPeriod()\n",
    "    if (close>mma100) and (close<entry)\n",
    "        strategy.entry(\"RsiLE\", strategy.long , comment=\"Open\")\n",
    "\n",
    "    if (close>exit)\n",
    "        strategy.close_all()\n",
    "\n",
    "// Submit exit orders based on calculated stop loss price\n",
    "if (strategy.position_size > 0)\n",
    "    strategy.exit(id=\"XL STOP\", stop=longStopPrice)\n",
    "```"
   ]
  },
  {
   "cell_type": "markdown",
   "metadata": {
    "pycharm": {
     "name": "#%% md\n"
    }
   },
   "source": [
    "## Strategy and backtesting parameters\n",
    "\n",
    "Here we define all parameters that affect the backtesting outcome."
   ]
  },
  {
   "cell_type": "code",
   "execution_count": 1,
   "metadata": {
    "pycharm": {
     "name": "#%%\n"
    }
   },
   "outputs": [],
   "source": [
    "import pandas as pd\n",
    "from tradingstrategy.timebucket import TimeBucket\n",
    "from tradingstrategy.chain import ChainId\n",
    "\n",
    "# Which pair we analyse\n",
    "# https://analytics.sushi.com/pairs/0x06da0fd433c1a5d7a4faa01111c044910a184553\n",
    "TARGET_PAIR = (\"WETH\", \"USDC\")\n",
    "\n",
    "# The backtest only consider Ethereum mainnet\n",
    "BLOCKCHAIN = ChainId.ethereum\n",
    "\n",
    "# The backtest only considers Sushiswap v2 exchange\n",
    "EXCHANGE = \"sushiswap\"\n",
    "\n",
    "# Use daily candles for backtesting\n",
    "CANDLE_KIND = TimeBucket.d1\n",
    "\n",
    "# The moving average must be above of this number for us to buy\n",
    "MOVING_AVERAGE_CANDLES = 50\n",
    "\n",
    "# How many previous candles we sample for the low close value\n",
    "LOW_CANDLES = 7\n",
    "\n",
    "# How many previous candles we sample for the high close value\n",
    "HIGH_CANDLES = 7\n",
    "\n",
    "# When do we start the backtesting - limit the candle set from the data dump from the server\n",
    "BACKTESTING_BEGINS = pd.Timestamp(\"2020-10-1\")\n",
    "\n",
    "# When do we end backtesting\n",
    "BACKTESTING_ENDS = pd.Timestamp(\"2021-09-1\")"
   ]
  },
  {
   "cell_type": "markdown",
   "metadata": {
    "pycharm": {
     "name": "#%% md\n"
    }
   },
   "source": [
    "## Initialising the Trading Strategy client\n",
    "\n",
    "This step will install necessary Python packages and the needed API keys.\n",
    "\n",
    "Note that Google Colab may need you to restart the notebook after the package installation is complete."
   ]
  },
  {
   "cell_type": "code",
   "execution_count": 2,
   "outputs": [
    {
     "name": "stdout",
     "output_type": "stream",
     "text": [
      "Started Trading Strategy in Jupyter notebook environment, configuration is stored in /Users/moo/.tradingstrategy\n"
     ]
    }
   ],
   "source": [
    "try:\n",
    "    import tradingstrategy\n",
    "except ImportError:\n",
    "    !pip install tradingstrategy\n",
    "    import site\n",
    "    site.main()\n",
    "\n",
    "from tradingstrategy.client import Client\n",
    "\n",
    "client = Client.create_jupyter_client()"
   ],
   "metadata": {
    "collapsed": false,
    "pycharm": {
     "name": "#%%\n"
    }
   }
  },
  {
   "cell_type": "markdown",
   "metadata": {
    "pycharm": {
     "name": "#%% md\n"
    }
   },
   "source": [
    "## Creating the strategy\n",
    "\n",
    "Here is the strategy defined for Backtrader."
   ]
  },
  {
   "cell_type": "code",
   "execution_count": 3,
   "metadata": {
    "pycharm": {
     "name": "#%%\n"
    }
   },
   "outputs": [],
   "source": [
    "import backtrader as bt\n",
    "from backtrader import indicators\n",
    "\n",
    "\n",
    "class Double7(bt.Strategy):\n",
    "    \"\"\"An example of double-77 strategy for DEX spot trading.\n",
    "\n",
    "    The original description: https://www.thechartist.com.au/double-7-s-strategy/\n",
    "    \"\"\"\n",
    "\n",
    "    def start(self):\n",
    "        # Set up indicators used in this strategy\n",
    "\n",
    "        # Moving average that tells us when we are in the bull market\n",
    "        self.moving_average = indicators.SMA(period=MOVING_AVERAGE_CANDLES)\n",
    "\n",
    "        # The highest close price for the N candles\n",
    "        # \"exit\" in pine script\n",
    "        self.highest = indicators.Highest(self.data.close, period=HIGH_CANDLES)\n",
    "\n",
    "        # The lowest close price for the N candles\n",
    "        # \"entry\" in pine script\n",
    "        self.lowest = indicators.Lowest(self.data.close, period=LOW_CANDLES)\n",
    "\n",
    "        # Count ticks and some basic testing metrics\n",
    "        self.ticks = self.enters = self.exits = 0\n",
    "\n",
    "    def next(self):\n",
    "        \"\"\"Execute a decision making tick for each candle.\"\"\"\n",
    "\n",
    "        self.ticks += 1\n",
    "\n",
    "        # Get the last value of the current candle close and indicators\n",
    "        # More about self.data and self.lines of Backtrader\n",
    "        # https://github.com/backtrader/backtrader-docs/blob/master/docs/concepts.rst#indexing-0-and--1\n",
    "        # https://www.fatalerrors.org/a/backtrader-3-core-concept-lines.html.\n",
    "        # Note that the value can be \"nan\" if we have not ticked enough days and\n",
    "        # e.g. the moving average cannot be calculated.\n",
    "        # Zero means \"today\" or the indicator value at the current candle.\n",
    "        # Minus one means \"yesterday\" or the indicator value at the previous candle.\n",
    "        # (Indexing might be different from the pine script)\n",
    "        close = self.data.close[0]\n",
    "        low = self.lowest[-1]\n",
    "        high = self.highest[-1]\n",
    "        avg = self.moving_average[0]\n",
    "\n",
    "        # Print debug logs so that analysing the strategy internal thinking is easier\n",
    "        print(f\"Tick: {self.ticks}, close: {close}, avg: {avg}, low: {low}, high: {high}\")\n",
    "\n",
    "        if not all([close, low, high, avg]):\n",
    "            # Do not try to make any decision if we have nan or zero data\n",
    "            return\n",
    "\n",
    "        # Enter when we are above moving average and the daily close was\n",
    "        if close >= avg and close <= low and not self.position:\n",
    "            print(\"Entered to a position\")\n",
    "            self.buy()\n",
    "\n",
    "        # If the price closes above its 7 day high, exit from the markets\n",
    "        if close >= high and self.position:\n",
    "            print(\"Exited the position\")\n",
    "            self.close()"
   ]
  },
  {
   "cell_type": "markdown",
   "metadata": {
    "pycharm": {
     "name": "#%% md\n"
    }
   },
   "source": [
    "## Setting up the strategy backtest\n",
    "\n",
    "This set ups the data sources and plumping for running the backtest (\"boilerplate\" in software development terms)."
   ]
  },
  {
   "cell_type": "code",
   "execution_count": 4,
   "metadata": {
    "pycharm": {
     "name": "#%%\n"
    }
   },
   "outputs": [
    {
     "name": "stdout",
     "output_type": "stream",
     "text": [
      "Out candle universe size is 336\n"
     ]
    }
   ],
   "source": [
    "from backtrader import analyzers\n",
    "\n",
    "from tradingstrategy.chain import ChainId\n",
    "from tradingstrategy.frameworks.backtrader import prepare_candles_for_backtrader, add_dataframes_as_feeds\n",
    "from tradingstrategy.pair import PandasPairUniverse\n",
    "\n",
    "\n",
    "# Operate on daily candles\n",
    "strategy_time_bucket = CANDLE_KIND\n",
    "\n",
    "exchange_universe = client.fetch_exchange_universe()\n",
    "columnar_pair_table = client.fetch_pair_universe()\n",
    "all_pairs_dataframe = columnar_pair_table.to_pandas()\n",
    "pair_universe = PandasPairUniverse(all_pairs_dataframe)\n",
    "\n",
    "# Filter down to pairs that only trade on Sushiswap\n",
    "sushi_swap = exchange_universe.get_by_name_and_chain(ChainId.ethereum, EXCHANGE)\n",
    "pair = pair_universe.get_one_pair_from_pandas_universe(\n",
    "    sushi_swap.exchange_id,\n",
    "    TARGET_PAIR[0],\n",
    "    TARGET_PAIR[1])\n",
    "\n",
    "all_candles = client.fetch_all_candles(strategy_time_bucket).to_pandas()\n",
    "pair_candles: pd.DataFrame = all_candles.loc[all_candles[\"pair_id\"] == pair.pair_id]\n",
    "pair_candles = prepare_candles_for_backtrader(pair_candles)\n",
    "\n",
    "# We limit candles to a specific date range to make this notebook deterministic\n",
    "pair_candles = pair_candles[(pair_candles.index >= BACKTESTING_BEGINS) & (pair_candles.index <= BACKTESTING_ENDS)]\n",
    "\n",
    "print(f\"Out candle universe size is {len(pair_candles)}\")\n",
    "\n",
    "# This strategy requires data for 100 days. Because we are operating on new exchanges,\n",
    "# there simply might not be enough data there\n",
    "assert len(pair_candles) > MOVING_AVERAGE_CANDLES, \"We do not have enough data to execute the strategy\"\n",
    "\n",
    "# Create the Backtrader back testing engine \"Cebebro\"\n",
    "cerebro = bt.Cerebro(stdstats=True)\n",
    "\n",
    "# Add out strategy\n",
    "cerebro.addstrategy(Double7)\n",
    "\n",
    "# Add two analyzers for the strategy performance\n",
    "cerebro.addobserver(bt.observers.Value)\n",
    "cerebro.addanalyzer(bt.analyzers.SharpeRatio, riskfreerate=0.0)\n",
    "cerebro.addanalyzer(bt.analyzers.Returns)\n",
    "cerebro.addanalyzer(bt.analyzers.DrawDown)\n",
    "\n",
    "\n",
    "# Add our SUSHI-ETH price feed\n",
    "add_dataframes_as_feeds(\n",
    "    cerebro,\n",
    "    pair_universe,\n",
    "    [pair_candles],\n",
    "    BACKTESTING_BEGINS,\n",
    "    BACKTESTING_ENDS,\n",
    "    strategy_time_bucket)\n"
   ]
  },
  {
   "cell_type": "markdown",
   "metadata": {
    "pycharm": {
     "name": "#%% md\n"
    }
   },
   "source": [
    "## Running the backtest\n",
    "\n",
    "Now when everything has been set up we execute the backtest. Because the dataset is small (~300 candles) this takes a fraction of a second."
   ]
  },
  {
   "cell_type": "code",
   "execution_count": 5,
   "metadata": {
    "pycharm": {
     "name": "#%%\n"
    }
   },
   "outputs": [
    {
     "name": "stdout",
     "output_type": "stream",
     "text": [
      "Tick: 1, close: 352.85247802734375, avg: nan, low: 3093.651123046875, high: 3815.57666015625\n",
      "Tick: 2, close: 346.1255187988281, avg: nan, low: nan, high: nan\n",
      "Tick: 3, close: 348.4530334472656, avg: nan, low: nan, high: nan\n",
      "Tick: 4, close: 350.6174011230469, avg: nan, low: nan, high: nan\n",
      "Tick: 5, close: 351.46832275390625, avg: nan, low: nan, high: nan\n",
      "Tick: 6, close: 338.0306396484375, avg: nan, low: nan, high: nan\n",
      "Tick: 7, close: 339.6888427734375, avg: nan, low: nan, high: nan\n",
      "Tick: 8, close: 351.3641357421875, avg: nan, low: 338.0306396484375, high: 352.85247802734375\n",
      "Tick: 9, close: 365.0035705566406, avg: nan, low: 338.0306396484375, high: 351.46832275390625\n",
      "Tick: 10, close: 370.5841979980469, avg: nan, low: 338.0306396484375, high: 365.0035705566406\n",
      "Tick: 11, close: 372.5084533691406, avg: nan, low: 338.0306396484375, high: 370.5841979980469\n",
      "Tick: 12, close: 389.1968994140625, avg: nan, low: 338.0306396484375, high: 372.5084533691406\n",
      "Tick: 13, close: 380.4424133300781, avg: nan, low: 338.0306396484375, high: 389.1968994140625\n",
      "Tick: 14, close: 379.4508972167969, avg: nan, low: 339.6888427734375, high: 389.1968994140625\n",
      "Tick: 15, close: 379.3881530761719, avg: nan, low: 351.3641357421875, high: 389.1968994140625\n",
      "Tick: 16, close: 365.28955078125, avg: nan, low: 365.0035705566406, high: 389.1968994140625\n",
      "Tick: 17, close: 367.0792236328125, avg: nan, low: 365.28955078125, high: 389.1968994140625\n",
      "Tick: 18, close: 377.9938659667969, avg: nan, low: 365.28955078125, high: 389.1968994140625\n",
      "Tick: 19, close: 379.7020568847656, avg: nan, low: 365.28955078125, high: 389.1968994140625\n",
      "Tick: 20, close: 369.9563903808594, avg: nan, low: 365.28955078125, high: 380.4424133300781\n",
      "Tick: 21, close: 394.1260070800781, avg: nan, low: 365.28955078125, high: 379.7020568847656\n",
      "Tick: 22, close: 415.82427978515625, avg: nan, low: 365.28955078125, high: 394.1260070800781\n",
      "Tick: 23, close: 410.3772888183594, avg: nan, low: 365.28955078125, high: 415.82427978515625\n",
      "Tick: 24, close: 412.2218933105469, avg: nan, low: 367.0792236328125, high: 415.82427978515625\n",
      "Tick: 25, close: 405.1052551269531, avg: nan, low: 369.9563903808594, high: 415.82427978515625\n",
      "Tick: 26, close: 393.24267578125, avg: nan, low: 369.9563903808594, high: 415.82427978515625\n",
      "Tick: 27, close: 403.2445068359375, avg: nan, low: 369.9563903808594, high: 415.82427978515625\n",
      "Tick: 28, close: 389.14141845703125, avg: nan, low: 393.24267578125, high: 415.82427978515625\n",
      "Tick: 29, close: 385.8215026855469, avg: nan, low: 389.14141845703125, high: 415.82427978515625\n",
      "Tick: 30, close: 384.2471008300781, avg: nan, low: 385.8215026855469, high: 412.2218933105469\n",
      "Tick: 31, close: 387.9945983886719, avg: nan, low: 384.2471008300781, high: 412.2218933105469\n",
      "Tick: 32, close: 396.5770568847656, avg: nan, low: 384.2471008300781, high: 405.1052551269531\n",
      "Tick: 33, close: 384.9324645996094, avg: nan, low: 384.2471008300781, high: 403.2445068359375\n",
      "Tick: 34, close: 387.4696350097656, avg: nan, low: 384.2471008300781, high: 403.2445068359375\n",
      "Tick: 35, close: 402.2596130371094, avg: nan, low: 384.2471008300781, high: 396.5770568847656\n",
      "Tick: 36, close: 415.2890930175781, avg: nan, low: 384.2471008300781, high: 402.2596130371094\n",
      "Tick: 37, close: 455.32965087890625, avg: nan, low: 384.2471008300781, high: 415.2890930175781\n",
      "Tick: 38, close: 435.92938232421875, avg: nan, low: 384.9324645996094, high: 455.32965087890625\n",
      "Tick: 39, close: 456.748291015625, avg: nan, low: 384.9324645996094, high: 455.32965087890625\n",
      "Tick: 40, close: 445.5915832519531, avg: nan, low: 384.9324645996094, high: 456.748291015625\n",
      "Tick: 41, close: 450.336181640625, avg: nan, low: 387.4696350097656, high: 456.748291015625\n",
      "Tick: 42, close: 463.547119140625, avg: nan, low: 402.2596130371094, high: 456.748291015625\n",
      "Tick: 43, close: 461.580322265625, avg: nan, low: 415.2890930175781, high: 463.547119140625\n",
      "Tick: 44, close: 477.6199645996094, avg: nan, low: 435.92938232421875, high: 463.547119140625\n",
      "Tick: 45, close: 463.12646484375, avg: nan, low: 435.92938232421875, high: 477.6199645996094\n",
      "Tick: 46, close: 450.431640625, avg: nan, low: 445.5915832519531, high: 477.6199645996094\n",
      "Tick: 47, close: 461.0333251953125, avg: nan, low: 445.5915832519531, high: 477.6199645996094\n",
      "Tick: 48, close: 483.56475830078125, avg: nan, low: 450.336181640625, high: 477.6199645996094\n",
      "Tick: 49, close: 480.4100036621094, avg: nan, low: 450.431640625, high: 483.56475830078125\n",
      "Tick: 50, close: 471.991455078125, avg: 402.00621154785154, low: 450.431640625, high: 483.56475830078125\n",
      "Tick: 51, close: 507.19659423828125, avg: 405.0930938720703, low: 450.431640625, high: 483.56475830078125\n",
      "Tick: 52, close: 552.5305786132812, avg: 409.22119506835935, low: 450.431640625, high: 507.19659423828125\n",
      "Tick: 53, close: 561.4409790039062, avg: 413.4809539794922, low: 450.431640625, high: 552.5305786132812\n",
      "Tick: 54, close: 609.0250244140625, avg: 418.6491064453125, low: 461.0333251953125, high: 561.4409790039062\n",
      "Tick: 55, close: 601.781005859375, avg: 423.65536010742187, low: 471.991455078125, high: 609.0250244140625\n",
      "Tick: 56, close: 569.49560546875, avg: 428.28465942382815, low: 471.991455078125, high: 609.0250244140625\n",
      "Tick: 57, close: 520.6714477539062, avg: 431.9043115234375, low: 471.991455078125, high: 609.0250244140625\n",
      "Tick: 58, close: 518.4671630859375, avg: 435.2463720703125, low: 507.19659423828125, high: 609.0250244140625\n",
      "Tick: 59, close: 539.7708129882812, avg: 438.7417169189453, low: 518.4671630859375, high: 609.0250244140625\n",
      "Tick: 60, close: 575.6941528320312, avg: 442.843916015625, low: 518.4671630859375, high: 609.0250244140625\n",
      "Tick: 61, close: 616.2930908203125, avg: 447.71960876464846, low: 518.4671630859375, high: 609.0250244140625\n",
      "Tick: 62, close: 589.916259765625, avg: 451.7339959716797, low: 518.4671630859375, high: 616.2930908203125\n",
      "Tick: 63, close: 597.0772705078125, avg: 456.0666931152344, low: 518.4671630859375, high: 616.2930908203125\n",
      "Tick: 64, close: 616.1817626953125, avg: 460.8013104248047, low: 518.4671630859375, high: 616.2930908203125\n",
      "Tick: 65, close: 571.200927734375, avg: 464.63756591796874, low: 518.4671630859375, high: 616.2930908203125\n",
      "Tick: 66, close: 596.9078369140625, avg: 469.269931640625, low: 539.7708129882812, high: 616.2930908203125\n",
      "Tick: 67, close: 603.2041015625, avg: 473.99242919921875, low: 571.200927734375, high: 616.2930908203125\n",
      "Tick: 68, close: 589.9231567382812, avg: 478.23101501464845, low: 571.200927734375, high: 616.2930908203125\n",
      "Tick: 69, close: 555.0480346679688, avg: 481.7379345703125, low: 571.200927734375, high: 616.1817626953125\n",
      "Entered to a position\n",
      "Tick: 70, close: 572.978515625, avg: 485.79837707519533, low: 555.0480346679688, high: 616.1817626953125\n",
      "Tick: 71, close: 558.1599731445312, avg: 489.07905639648436, low: 555.0480346679688, high: 616.1817626953125\n",
      "Tick: 72, close: 544.4681396484375, avg: 491.65193359375, low: 555.0480346679688, high: 603.2041015625\n",
      "Tick: 73, close: 567.8553466796875, avg: 494.8014947509766, low: 544.4681396484375, high: 603.2041015625\n",
      "Tick: 74, close: 590.3077392578125, avg: 498.3632116699219, low: 544.4681396484375, high: 603.2041015625\n",
      "Tick: 75, close: 584.9246826171875, avg: 501.95960021972655, low: 544.4681396484375, high: 590.3077392578125\n",
      "Tick: 76, close: 590.76904296875, avg: 505.9101275634766, low: 544.4681396484375, high: 590.3077392578125\n",
      "Exited the position\n",
      "Tick: 77, close: 639.3394775390625, avg: 510.63202697753906, low: 544.4681396484375, high: 590.76904296875\n",
      "Tick: 78, close: 640.6546630859375, avg: 515.6622918701172, low: 544.4681396484375, high: 639.3394775390625\n",
      "Tick: 79, close: 654.8704833984375, avg: 521.043271484375, low: 544.4681396484375, high: 640.6546630859375\n",
      "Tick: 80, close: 661.98388671875, avg: 526.5980072021484, low: 567.8553466796875, high: 654.8704833984375\n",
      "Tick: 81, close: 636.841064453125, avg: 531.5749365234375, low: 584.9246826171875, high: 661.98388671875\n",
      "Tick: 82, close: 608.44970703125, avg: 535.8123895263672, low: 584.9246826171875, high: 661.98388671875\n",
      "Tick: 83, close: 635.9616088867188, avg: 540.8329724121094, low: 590.76904296875, high: 661.98388671875\n",
      "Tick: 84, close: 582.2228393554688, avg: 544.7280364990235, low: 608.44970703125, high: 661.98388671875\n",
      "Entered to a position\n",
      "Tick: 85, close: 613.4778442382812, avg: 548.9524011230469, low: 582.2228393554688, high: 661.98388671875\n",
      "Tick: 86, close: 626.9740600585938, avg: 553.1861004638672, low: 582.2228393554688, high: 661.98388671875\n",
      "Tick: 87, close: 637.4522705078125, avg: 556.8285528564453, low: 582.2228393554688, high: 661.98388671875\n",
      "Tick: 88, close: 686.5142211914062, avg: 561.8402496337891, low: 582.2228393554688, high: 637.4522705078125\n",
      "Exited the position\n",
      "Tick: 89, close: 728.1359252929688, avg: 567.2680023193359, low: 582.2228393554688, high: 686.5142211914062\n",
      "Tick: 90, close: 735.2276000976562, avg: 573.06072265625, low: 582.2228393554688, high: 728.1359252929688\n",
      "Tick: 91, close: 753.3988647460938, avg: 579.1219763183594, low: 582.2228393554688, high: 735.2276000976562\n",
      "Tick: 92, close: 734.8660888671875, avg: 584.5483557128906, low: 613.4778442382812, high: 753.3988647460938\n",
      "Tick: 93, close: 729.6090087890625, avg: 589.9089294433594, low: 626.9740600585938, high: 753.3988647460938\n",
      "Tick: 94, close: 772.933837890625, avg: 595.8152069091797, low: 637.4522705078125, high: 753.3988647460938\n",
      "Tick: 95, close: 974.1026000976562, avg: 606.0347296142578, low: 686.5142211914062, high: 772.933837890625\n",
      "Tick: 96, close: 1037.3663330078125, avg: 617.773423461914, low: 728.1359252929688, high: 974.1026000976562\n",
      "Tick: 97, close: 1107.2362060546875, avg: 630.6974810791015, low: 729.6090087890625, high: 1037.3663330078125\n",
      "Tick: 98, close: 1206.45458984375, avg: 645.155277709961, low: 729.6090087890625, high: 1107.2362060546875\n",
      "Tick: 99, close: 1219.57568359375, avg: 659.9385913085938, low: 729.6090087890625, high: 1206.45458984375\n",
      "Tick: 100, close: 1215.486328125, avg: 674.8084887695312, low: 729.6090087890625, high: 1219.57568359375\n",
      "Tick: 101, close: 1281.0960693359375, avg: 690.2864782714844, low: 772.933837890625, high: 1219.57568359375\n",
      "Tick: 102, close: 1255.24853515625, avg: 704.3408374023437, low: 974.1026000976562, high: 1281.0960693359375\n",
      "Tick: 103, close: 1084.206298828125, avg: 714.7961437988281, low: 1037.3663330078125, high: 1281.0960693359375\n",
      "Tick: 104, close: 1046.7899169921875, avg: 723.5514416503906, low: 1084.206298828125, high: 1281.0960693359375\n",
      "Entered to a position\n",
      "Tick: 105, close: 1130.773193359375, avg: 734.1312854003907, low: 1046.7899169921875, high: 1281.0960693359375\n",
      "Tick: 106, close: 1224.1434326171875, avg: 747.2242419433594, low: 1046.7899169921875, high: 1281.0960693359375\n",
      "Tick: 107, close: 1166.9871826171875, avg: 760.150556640625, low: 1046.7899169921875, high: 1281.0960693359375\n",
      "Tick: 108, close: 1235.5675048828125, avg: 774.4925634765625, low: 1046.7899169921875, high: 1281.0960693359375\n",
      "Tick: 109, close: 1232.2689208984375, avg: 788.3425256347656, low: 1046.7899169921875, high: 1255.24853515625\n",
      "Tick: 110, close: 1260.0452880859375, avg: 802.0295483398437, low: 1046.7899169921875, high: 1235.5675048828125\n",
      "Exited the position\n",
      "Tick: 111, close: 1371.1070556640625, avg: 817.1258276367188, low: 1046.7899169921875, high: 1260.0452880859375\n",
      "Tick: 112, close: 1377.8546142578125, avg: 832.8845947265625, low: 1130.773193359375, high: 1371.1070556640625\n",
      "Tick: 113, close: 1113.4771728515625, avg: 843.2125927734374, low: 1166.9871826171875, high: 1377.8546142578125\n",
      "Entered to a position\n",
      "Tick: 114, close: 1238.14208984375, avg: 855.6517993164063, low: 1113.4771728515625, high: 1377.8546142578125\n",
      "Tick: 115, close: 1226.7152099609375, avg: 868.7620849609375, low: 1113.4771728515625, high: 1377.8546142578125\n",
      "Tick: 116, close: 1390.7669677734375, avg: 884.639267578125, low: 1113.4771728515625, high: 1377.8546142578125\n",
      "Exited the position\n",
      "Tick: 117, close: 1326.821044921875, avg: 899.1116064453125, low: 1113.4771728515625, high: 1390.7669677734375\n",
      "Tick: 118, close: 1367.205322265625, avg: 914.6572497558594, low: 1113.4771728515625, high: 1390.7669677734375\n",
      "Tick: 119, close: 1243.06103515625, avg: 928.417509765625, low: 1113.4771728515625, high: 1390.7669677734375\n",
      "Tick: 120, close: 1338.0787353515625, avg: 943.7195141601562, low: 1113.4771728515625, high: 1390.7669677734375\n",
      "Tick: 121, close: 1381.7852783203125, avg: 960.1920202636719, low: 1226.7152099609375, high: 1390.7669677734375\n",
      "Tick: 122, close: 1373.296142578125, avg: 976.7685803222656, low: 1226.7152099609375, high: 1390.7669677734375\n",
      "Tick: 123, close: 1312.8203125, avg: 991.6678796386718, low: 1243.06103515625, high: 1390.7669677734375\n",
      "Tick: 124, close: 1372.9720458984375, avg: 1007.3211657714844, low: 1243.06103515625, high: 1381.7852783203125\n",
      "Tick: 125, close: 1512.37646484375, avg: 1025.8702014160156, low: 1243.06103515625, high: 1381.7852783203125\n",
      "Tick: 126, close: 1668.763916015625, avg: 1047.430098876953, low: 1243.06103515625, high: 1512.37646484375\n",
      "Tick: 127, close: 1602.8670654296875, avg: 1066.7006506347657, low: 1312.8203125, high: 1668.763916015625\n",
      "Tick: 128, close: 1713.110595703125, avg: 1088.1497692871094, low: 1312.8203125, high: 1668.763916015625\n",
      "Tick: 129, close: 1676.3516845703125, avg: 1108.579393310547, low: 1312.8203125, high: 1713.110595703125\n",
      "Tick: 130, close: 1616.95849609375, avg: 1127.6788854980468, low: 1312.8203125, high: 1713.110595703125\n",
      "Tick: 131, close: 1742.1217041015625, avg: 1149.7844982910156, low: 1372.9720458984375, high: 1713.110595703125\n",
      "Tick: 132, close: 1766.4183349609375, avg: 1172.9438708496093, low: 1512.37646484375, high: 1742.1217041015625\n",
      "Tick: 133, close: 1752.53564453125, avg: 1195.2753515625, low: 1602.8670654296875, high: 1766.4183349609375\n",
      "Tick: 134, close: 1776.8115234375, avg: 1219.1671252441406, low: 1602.8670654296875, high: 1766.4183349609375\n",
      "Tick: 135, close: 1834.77978515625, avg: 1243.5931640625, low: 1616.95849609375, high: 1776.8115234375\n",
      "Tick: 136, close: 1823.299072265625, avg: 1267.5196643066406, low: 1616.95849609375, high: 1834.77978515625\n",
      "Tick: 137, close: 1804.1416015625, avg: 1290.8534509277345, low: 1616.95849609375, high: 1834.77978515625\n",
      "Tick: 138, close: 1782.865966796875, avg: 1312.7804858398438, low: 1742.1217041015625, high: 1834.77978515625\n",
      "Tick: 139, close: 1772.890625, avg: 1333.6755798339843, low: 1752.53564453125, high: 1834.77978515625\n",
      "Tick: 140, close: 1840.19482421875, avg: 1355.7749243164062, low: 1752.53564453125, high: 1834.77978515625\n",
      "Tick: 141, close: 1938.2950439453125, avg: 1379.4728479003907, low: 1772.890625, high: 1840.19482421875\n",
      "Tick: 142, close: 1954.83154296875, avg: 1403.872156982422, low: 1772.890625, high: 1938.2950439453125\n",
      "Tick: 143, close: 1920.5281982421875, avg: 1427.6905407714844, low: 1772.890625, high: 1954.83154296875\n",
      "Tick: 144, close: 1927.30078125, avg: 1450.777879638672, low: 1772.890625, high: 1954.83154296875\n",
      "Tick: 145, close: 1789.696533203125, avg: 1467.0897583007813, low: 1772.890625, high: 1954.83154296875\n",
      "Tick: 146, close: 1574.2379150390625, avg: 1477.8271899414062, low: 1772.890625, high: 1954.83154296875\n",
      "Entered to a position\n",
      "Tick: 147, close: 1617.1561279296875, avg: 1488.0255883789061, low: 1574.2379150390625, high: 1954.83154296875\n",
      "Tick: 148, close: 1482.1158447265625, avg: 1493.5388134765626, low: 1574.2379150390625, high: 1954.83154296875\n",
      "Tick: 149, close: 1436.8006591796875, avg: 1497.8833129882812, low: 1482.1158447265625, high: 1954.83154296875\n",
      "Tick: 150, close: 1466.50439453125, avg: 1502.9036743164063, low: 1436.8006591796875, high: 1927.30078125\n",
      "Tick: 151, close: 1423.7117919921875, avg: 1505.7559887695313, low: 1436.8006591796875, high: 1927.30078125\n",
      "Tick: 152, close: 1572.267822265625, avg: 1512.0963745117188, low: 1423.7117919921875, high: 1789.696533203125\n",
      "Tick: 153, close: 1485.5440673828125, avg: 1520.1231298828125, low: 1423.7117919921875, high: 1617.1561279296875\n",
      "Tick: 154, close: 1572.6031494140625, avg: 1530.63939453125, low: 1423.7117919921875, high: 1617.1561279296875\n",
      "Tick: 155, close: 1532.6888427734375, avg: 1538.6777075195312, low: 1423.7117919921875, high: 1572.6031494140625\n",
      "Tick: 156, close: 1526.453369140625, avg: 1544.72390625, low: 1423.7117919921875, high: 1572.6031494140625\n",
      "Tick: 157, close: 1649.623779296875, avg: 1554.3766381835937, low: 1423.7117919921875, high: 1572.6031494140625\n",
      "Exited the position\n",
      "Tick: 158, close: 1723.138916015625, avg: 1564.12806640625, low: 1423.7117919921875, high: 1649.623779296875\n",
      "Tick: 159, close: 1837.42919921875, avg: 1576.2312719726563, low: 1485.5440673828125, high: 1723.138916015625\n",
      "Tick: 160, close: 1858.95361328125, avg: 1588.2094384765626, low: 1485.5440673828125, high: 1837.42919921875\n",
      "Tick: 161, close: 1807.6932373046875, avg: 1596.941162109375, low: 1526.453369140625, high: 1858.95361328125\n",
      "Tick: 162, close: 1832.8177490234375, avg: 1606.0404248046875, low: 1526.453369140625, high: 1858.95361328125\n",
      "Tick: 163, close: 1773.0623779296875, avg: 1619.23212890625, low: 1526.453369140625, high: 1858.95361328125\n",
      "Tick: 164, close: 1933.2110595703125, avg: 1633.1335083007812, low: 1649.623779296875, high: 1858.95361328125\n",
      "Tick: 165, close: 1850.4996337890625, avg: 1645.6091967773436, low: 1723.138916015625, high: 1933.2110595703125\n",
      "Tick: 166, close: 1792.4600830078125, avg: 1653.6430590820312, low: 1773.0623779296875, high: 1933.2110595703125\n",
      "Tick: 167, close: 1804.58984375, avg: 1663.1984350585938, low: 1773.0623779296875, high: 1933.2110595703125\n",
      "Tick: 168, close: 1814.626708984375, avg: 1672.1468627929687, low: 1773.0623779296875, high: 1933.2110595703125\n",
      "Tick: 169, close: 1777.3580322265625, avg: 1682.832802734375, low: 1773.0623779296875, high: 1933.2110595703125\n",
      "Tick: 170, close: 1805.40283203125, avg: 1692.1792846679687, low: 1773.0623779296875, high: 1933.2110595703125\n",
      "Tick: 171, close: 1804.7816162109375, avg: 1700.6392114257812, low: 1777.3580322265625, high: 1933.2110595703125\n",
      "Tick: 172, close: 1774.6051025390625, avg: 1708.665390625, low: 1777.3580322265625, high: 1850.4996337890625\n",
      "Entered to a position\n",
      "Tick: 173, close: 1689.195068359375, avg: 1716.1928857421874, low: 1774.6051025390625, high: 1814.626708984375\n",
      "Tick: 174, close: 1668.7911376953125, avg: 1722.109267578125, low: 1689.195068359375, high: 1814.626708984375\n",
      "Tick: 175, close: 1580.60986328125, avg: 1723.473935546875, low: 1668.7911376953125, high: 1814.626708984375\n",
      "Tick: 176, close: 1598.1024169921875, avg: 1722.0607055664063, low: 1580.60986328125, high: 1805.40283203125\n",
      "Tick: 177, close: 1700.6331787109375, avg: 1724.0160278320313, low: 1580.60986328125, high: 1805.40283203125\n",
      "Tick: 178, close: 1712.47998046875, avg: 1724.0034155273438, low: 1580.60986328125, high: 1804.7816162109375\n",
      "Tick: 179, close: 1676.6297607421875, avg: 1724.0089770507811, low: 1580.60986328125, high: 1774.6051025390625\n",
      "Tick: 180, close: 1811.2628173828125, avg: 1727.8950634765624, low: 1580.60986328125, high: 1712.47998046875\n",
      "Exited the position\n",
      "Tick: 181, close: 1833.931884765625, avg: 1729.7312670898436, low: 1580.60986328125, high: 1811.2628173828125\n",
      "Tick: 182, close: 1912.6085205078125, avg: 1732.6550708007812, low: 1580.60986328125, high: 1833.931884765625\n",
      "Tick: 183, close: 1979.26953125, avg: 1737.1897485351562, low: 1598.1024169921875, high: 1912.6085205078125\n",
      "Tick: 184, close: 2125.971435546875, avg: 1744.1729467773437, low: 1676.6297607421875, high: 1979.26953125\n",
      "Tick: 185, close: 2008.2606201171875, avg: 1747.6425634765626, low: 1676.6297607421875, high: 2125.971435546875\n",
      "Tick: 186, close: 2079.07861328125, avg: 1752.758154296875, low: 1676.6297607421875, high: 2125.971435546875\n",
      "Tick: 187, close: 2107.008056640625, avg: 1758.8154833984374, low: 1811.2628173828125, high: 2125.971435546875\n",
      "Tick: 188, close: 2109.185546875, avg: 1765.341875, low: 1833.931884765625, high: 2125.971435546875\n",
      "Tick: 189, close: 1963.5430908203125, avg: 1769.1549243164063, low: 1912.6085205078125, high: 2125.971435546875\n",
      "Tick: 190, close: 2069.53759765625, avg: 1773.7417797851563, low: 1963.5430908203125, high: 2125.971435546875\n",
      "Tick: 191, close: 2069.621826171875, avg: 1776.3683154296875, low: 1963.5430908203125, high: 2125.971435546875\n",
      "Tick: 192, close: 2130.754638671875, avg: 1779.88677734375, low: 1963.5430908203125, high: 2109.185546875\n",
      "Tick: 193, close: 2137.19140625, avg: 1784.2200415039063, low: 1963.5430908203125, high: 2130.754638671875\n",
      "Tick: 194, close: 2151.284423828125, avg: 1788.6997143554688, low: 1963.5430908203125, high: 2137.19140625\n",
      "Tick: 195, close: 2289.309814453125, avg: 1798.6919799804687, low: 1963.5430908203125, high: 2151.284423828125\n",
      "Tick: 196, close: 2417.96484375, avg: 1815.5665185546875, low: 1963.5430908203125, high: 2289.309814453125\n",
      "Tick: 197, close: 2508.14013671875, avg: 1833.3861987304688, low: 2069.53759765625, high: 2417.96484375\n",
      "Tick: 198, close: 2435.531005859375, avg: 1852.454501953125, low: 2069.621826171875, high: 2508.14013671875\n",
      "Tick: 199, close: 2330.4619140625, avg: 1870.3277270507813, low: 2130.754638671875, high: 2508.14013671875\n",
      "Tick: 200, close: 2230.4833984375, avg: 1885.6073071289063, low: 2137.19140625, high: 2508.14013671875\n",
      "Tick: 201, close: 2170.525390625, avg: 1900.5435791015625, low: 2151.284423828125, high: 2508.14013671875\n",
      "Tick: 202, close: 2333.894775390625, avg: 1915.7761181640626, low: 2170.525390625, high: 2508.14013671875\n",
      "Tick: 203, close: 2359.331298828125, avg: 1933.2518627929687, low: 2170.525390625, high: 2508.14013671875\n",
      "Tick: 204, close: 2402.05322265625, avg: 1949.8408642578124, low: 2170.525390625, high: 2508.14013671875\n",
      "Tick: 205, close: 2371.036376953125, avg: 1966.6078149414063, low: 2170.525390625, high: 2435.531005859375\n",
      "Tick: 206, close: 2207.252197265625, avg: 1980.2237915039063, low: 2170.525390625, high: 2402.05322265625\n",
      "Tick: 207, close: 2308.857177734375, avg: 1993.4084594726562, low: 2170.525390625, high: 2402.05322265625\n",
      "Tick: 208, close: 2523.3271484375, avg: 2009.4122241210937, low: 2170.525390625, high: 2402.05322265625\n",
      "Tick: 209, close: 2665.10693359375, avg: 2025.9657788085938, low: 2207.252197265625, high: 2523.3271484375\n",
      "Tick: 210, close: 2753.482177734375, avg: 2043.8563500976563, low: 2207.252197265625, high: 2665.10693359375\n",
      "Tick: 211, close: 2769.08740234375, avg: 2063.0842333984374, low: 2207.252197265625, high: 2753.482177734375\n",
      "Tick: 212, close: 2760.71826171875, avg: 2081.642243652344, low: 2207.252197265625, high: 2769.08740234375\n",
      "Tick: 213, close: 2938.5439453125, avg: 2104.951875, low: 2207.252197265625, high: 2769.08740234375\n",
      "Tick: 214, close: 2938.8642578125, avg: 2125.064938964844, low: 2308.857177734375, high: 2938.5439453125\n",
      "Tick: 215, close: 3418.266845703125, avg: 2156.420283203125, low: 2523.3271484375, high: 2938.8642578125\n",
      "Tick: 216, close: 3256.860595703125, avg: 2185.7082934570312, low: 2665.10693359375, high: 3418.266845703125\n",
      "Tick: 217, close: 3513.30615234375, avg: 2219.8826196289065, low: 2753.482177734375, high: 3418.266845703125\n",
      "Tick: 218, close: 3508.792724609375, avg: 2253.765939941406, low: 2760.71826171875, high: 3513.30615234375\n",
      "Tick: 219, close: 3489.1865234375, avg: 2288.002509765625, low: 2760.71826171875, high: 3513.30615234375\n",
      "Tick: 220, close: 3912.947265625, avg: 2330.1533984375, low: 2938.5439453125, high: 3513.30615234375\n",
      "Tick: 221, close: 3936.052734375, avg: 2372.7788208007814, low: 2938.8642578125, high: 3912.947265625\n",
      "Tick: 222, close: 3964.718505859375, avg: 2416.5810888671876, low: 3256.860595703125, high: 3936.052734375\n",
      "Tick: 223, close: 4183.5517578125, avg: 2466.46822265625, low: 3256.860595703125, high: 3964.718505859375\n",
      "Tick: 224, close: 3825.593505859375, avg: 2509.604270019531, low: 3489.1865234375, high: 4183.5517578125\n",
      "Tick: 225, close: 3732.2548828125, avg: 2552.637170410156, low: 3489.1865234375, high: 4183.5517578125\n",
      "Tick: 226, close: 4093.0732421875, avg: 2602.5365869140624, low: 3489.1865234375, high: 4183.5517578125\n",
      "Tick: 227, close: 3628.124267578125, avg: 2641.086408691406, low: 3732.2548828125, high: 4183.5517578125\n",
      "Entered to a position\n",
      "Tick: 228, close: 3566.88671875, avg: 2678.174543457031, low: 3628.124267578125, high: 4183.5517578125\n",
      "Tick: 229, close: 3292.621337890625, avg: 2710.494375, low: 3566.88671875, high: 4183.5517578125\n",
      "Tick: 230, close: 3377.51708984375, avg: 2741.8194604492187, low: 3292.621337890625, high: 4183.5517578125\n",
      "Tick: 231, close: 2448.775634765625, avg: 2754.1163354492187, low: 3292.621337890625, high: 4093.0732421875\n",
      "Tick: 232, close: 2771.63671875, avg: 2771.2968994140624, low: 2448.775634765625, high: 4093.0732421875\n",
      "Tick: 233, close: 2422.828125, avg: 2780.1680712890625, low: 2448.775634765625, high: 4093.0732421875\n",
      "Tick: 234, close: 2288.02783203125, avg: 2783.40919921875, low: 2422.828125, high: 3628.124267578125\n",
      "Tick: 235, close: 2114.04638671875, avg: 2785.5249145507814, low: 2288.02783203125, high: 3566.88671875\n",
      "Tick: 236, close: 2656.09521484375, avg: 2797.0652465820312, low: 2114.04638671875, high: 3377.51708984375\n",
      "Tick: 237, close: 2691.21533203125, avg: 2808.7493920898437, low: 2114.04638671875, high: 3377.51708984375\n",
      "Tick: 238, close: 2875.767578125, avg: 2824.081032714844, low: 2114.04638671875, high: 2771.63671875\n",
      "Exited the position\n",
      "Tick: 239, close: 2737.115478515625, avg: 2839.55248046875, low: 2114.04638671875, high: 2875.767578125\n",
      "Tick: 240, close: 2408.90380859375, avg: 2846.3398046875, low: 2114.04638671875, high: 2875.767578125\n",
      "Tick: 241, close: 2291.33642578125, avg: 2850.7740966796873, low: 2114.04638671875, high: 2875.767578125\n",
      "Tick: 242, close: 2384.20263671875, avg: 2855.843056640625, low: 2114.04638671875, high: 2875.767578125\n",
      "Tick: 243, close: 2716.62939453125, avg: 2867.43181640625, low: 2291.33642578125, high: 2875.767578125\n",
      "Tick: 244, close: 2644.74609375, avg: 2877.3010498046874, low: 2291.33642578125, high: 2875.767578125\n",
      "Tick: 245, close: 2702.494384765625, avg: 2885.5647412109374, low: 2291.33642578125, high: 2875.767578125\n",
      "Tick: 246, close: 2865.697021484375, avg: 2894.519384765625, low: 2291.33642578125, high: 2737.115478515625\n",
      "Tick: 247, close: 2682.978759765625, avg: 2898.0161572265624, low: 2291.33642578125, high: 2865.697021484375\n",
      "Tick: 248, close: 2630.857666015625, avg: 2901.9226904296875, low: 2291.33642578125, high: 2865.697021484375\n",
      "Tick: 249, close: 2697.5146484375, avg: 2909.2637451171877, low: 2384.20263671875, high: 2865.697021484375\n",
      "Tick: 250, close: 2577.902099609375, avg: 2916.212119140625, low: 2630.857666015625, high: 2865.697021484375\n",
      "Tick: 251, close: 2506.339599609375, avg: 2922.9284033203126, low: 2577.902099609375, high: 2865.697021484375\n",
      "Tick: 252, close: 2612.6953125, avg: 2928.5044140625, low: 2506.339599609375, high: 2865.697021484375\n",
      "Tick: 253, close: 2480.669677734375, avg: 2930.931181640625, low: 2506.339599609375, high: 2865.697021484375\n",
      "Tick: 254, close: 2343.142578125, avg: 2929.75296875, low: 2480.669677734375, high: 2697.5146484375\n",
      "Tick: 255, close: 2381.01220703125, avg: 2929.9524853515627, low: 2343.142578125, high: 2697.5146484375\n",
      "Tick: 256, close: 2513.51806640625, avg: 2936.077802734375, low: 2343.142578125, high: 2697.5146484375\n",
      "Tick: 257, close: 2568.2431640625, avg: 2941.2655224609375, low: 2343.142578125, high: 2612.6953125\n",
      "Tick: 258, close: 2544.38037109375, avg: 2941.6865869140624, low: 2343.142578125, high: 2612.6953125\n",
      "Tick: 259, close: 2368.5, avg: 2935.7544482421877, low: 2343.142578125, high: 2612.6953125\n",
      "Tick: 260, close: 2364.13037109375, avg: 2927.967412109375, low: 2343.142578125, high: 2568.2431640625\n",
      "Tick: 261, close: 2235.540283203125, avg: 2917.2964697265625, low: 2343.142578125, high: 2568.2431640625\n",
      "Tick: 262, close: 2178.801513671875, avg: 2905.658134765625, low: 2235.540283203125, high: 2568.2431640625\n",
      "Tick: 263, close: 2232.743896484375, avg: 2891.5421337890625, low: 2178.801513671875, high: 2568.2431640625\n",
      "Tick: 264, close: 1880.492919921875, avg: 2870.37470703125, low: 2178.801513671875, high: 2568.2431640625\n",
      "Tick: 265, close: 1884.575439453125, avg: 2839.70087890625, low: 1880.492919921875, high: 2544.38037109375\n",
      "Tick: 266, close: 1974.7591552734375, avg: 2814.0588500976564, low: 1880.492919921875, high: 2368.5\n",
      "Tick: 267, close: 1981.17138671875, avg: 2783.4161547851563, low: 1880.492919921875, high: 2364.13037109375\n",
      "Tick: 268, close: 1811.6553955078125, avg: 2749.473408203125, low: 1880.492919921875, high: 2235.540283203125\n",
      "Tick: 269, close: 1821.4423828125, avg: 2716.118525390625, low: 1811.6553955078125, high: 2232.743896484375\n",
      "Tick: 270, close: 1983.7396240234375, avg: 2677.5343725585935, low: 1811.6553955078125, high: 2232.743896484375\n",
      "Tick: 271, close: 2082.6083984375, avg: 2640.465485839844, low: 1811.6553955078125, high: 1983.7396240234375\n",
      "Tick: 272, close: 2157.7861328125, avg: 2604.3268383789064, low: 1811.6553955078125, high: 2082.6083984375\n",
      "Tick: 273, close: 2280.143310546875, avg: 2566.2586694335937, low: 1811.6553955078125, high: 2157.7861328125\n",
      "Tick: 274, close: 2107.4609375, avg: 2531.896018066406, low: 1811.6553955078125, high: 2280.143310546875\n",
      "Tick: 275, close: 2143.107666015625, avg: 2500.113073730469, low: 1811.6553955078125, high: 2280.143310546875\n",
      "Tick: 276, close: 2218.784423828125, avg: 2462.6272973632813, low: 1821.4423828125, high: 2280.143310546875\n",
      "Tick: 277, close: 2321.436279296875, avg: 2436.493537597656, low: 1983.7396240234375, high: 2280.143310546875\n",
      "Tick: 278, close: 2191.279052734375, avg: 2408.9813842773438, low: 2082.6083984375, high: 2321.436279296875\n",
      "Tick: 279, close: 2327.529296875, avg: 2389.6795434570313, low: 2107.4609375, high: 2321.436279296875\n",
      "Tick: 280, close: 2310.70361328125, avg: 2368.3432739257814, low: 2107.4609375, high: 2327.529296875\n",
      "Tick: 281, close: 2114.87353515625, avg: 2361.6652319335935, low: 2107.4609375, high: 2327.529296875\n",
      "Tick: 282, close: 2146.5283203125, avg: 2349.163063964844, low: 2114.87353515625, high: 2327.529296875\n",
      "Tick: 283, close: 2122.02197265625, avg: 2343.1469409179685, low: 2114.87353515625, high: 2327.529296875\n",
      "Tick: 284, close: 2147.53857421875, avg: 2340.337155761719, low: 2114.87353515625, high: 2327.529296875\n",
      "Tick: 285, close: 2041.07080078125, avg: 2338.8776440429688, low: 2114.87353515625, high: 2327.529296875\n",
      "Tick: 286, close: 1943.625732421875, avg: 2324.6282543945313, low: 2041.07080078125, high: 2327.529296875\n",
      "Tick: 287, close: 1997.949462890625, avg: 2310.762937011719, low: 1943.625732421875, high: 2310.70361328125\n",
      "Tick: 288, close: 1918.9427490234375, avg: 2291.6264404296876, low: 1943.625732421875, high: 2147.53857421875\n",
      "Tick: 289, close: 1870.63916015625, avg: 2274.2969140625, low: 1918.9427490234375, high: 2147.53857421875\n",
      "Tick: 290, close: 1893.6572265625, avg: 2263.991982421875, low: 1870.63916015625, high: 2147.53857421875\n",
      "Tick: 291, close: 1890.7325439453125, avg: 2255.979904785156, low: 1870.63916015625, high: 2147.53857421875\n",
      "Tick: 292, close: 1817.1904296875, avg: 2244.6396606445314, low: 1870.63916015625, high: 2041.07080078125\n",
      "Tick: 293, close: 1781.06201171875, avg: 2225.928312988281, low: 1817.1904296875, high: 1997.949462890625\n",
      "Tick: 294, close: 2002.282958984375, avg: 2213.0790502929685, low: 1781.06201171875, high: 1997.949462890625\n",
      "Tick: 295, close: 2015.3248291015625, avg: 2199.3356591796874, low: 1781.06201171875, high: 2002.282958984375\n",
      "Tick: 296, close: 2115.479248046875, avg: 2184.3313037109374, low: 1781.06201171875, high: 2015.3248291015625\n",
      "Tick: 297, close: 2175.922607421875, avg: 2174.1901806640626, low: 1781.06201171875, high: 2115.479248046875\n",
      "Tick: 298, close: 2198.818359375, avg: 2165.54939453125, low: 1781.06201171875, high: 2175.922607421875\n",
      "Tick: 299, close: 2236.636474609375, avg: 2156.3318310546874, low: 1781.06201171875, high: 2198.818359375\n",
      "Tick: 300, close: 2287.68798828125, avg: 2150.527548828125, low: 1781.06201171875, high: 2236.636474609375\n",
      "Tick: 301, close: 2291.809326171875, avg: 2146.236943359375, low: 2002.282958984375, high: 2287.68798828125\n",
      "Tick: 302, close: 2371.872314453125, avg: 2141.4204833984377, low: 2015.3248291015625, high: 2291.809326171875\n",
      "Tick: 303, close: 2457.61279296875, avg: 2140.959345703125, low: 2115.479248046875, high: 2371.872314453125\n",
      "Tick: 304, close: 2547.812255859375, avg: 2145.0527392578124, low: 2175.922607421875, high: 2457.61279296875\n",
      "Tick: 305, close: 2556.748046875, avg: 2148.5674560546877, low: 2198.818359375, high: 2547.812255859375\n",
      "Tick: 306, close: 2604.8173828125, avg: 2150.3934423828123, low: 2236.636474609375, high: 2556.748046875\n",
      "Tick: 307, close: 2493.548828125, avg: 2148.8995556640625, low: 2287.68798828125, high: 2604.8173828125\n",
      "Tick: 308, close: 2726.773193359375, avg: 2152.547412109375, low: 2291.809326171875, high: 2604.8173828125\n",
      "Tick: 309, close: 2836.7431640625, avg: 2161.912275390625, low: 2371.872314453125, high: 2726.773193359375\n",
      "Tick: 310, close: 2878.633544921875, avg: 2172.2023388671873, low: 2457.61279296875, high: 2836.7431640625\n",
      "Tick: 311, close: 3171.605712890625, avg: 2190.9236474609374, low: 2493.548828125, high: 2878.633544921875\n",
      "Tick: 312, close: 3005.310791015625, avg: 2207.4538330078126, low: 2493.548828125, high: 3171.605712890625\n",
      "Tick: 313, close: 3170.44482421875, avg: 2226.2078515625, low: 2493.548828125, high: 3171.605712890625\n",
      "Tick: 314, close: 3143.90869140625, avg: 2251.4761669921877, low: 2493.548828125, high: 3171.605712890625\n",
      "Tick: 315, close: 3176.528076171875, avg: 2277.3152197265626, low: 2726.773193359375, high: 3171.605712890625\n",
      "Tick: 316, close: 3035.422607421875, avg: 2298.528488769531, low: 2836.7431640625, high: 3176.528076171875\n",
      "Tick: 317, close: 3329.08203125, avg: 2325.486701660156, low: 2878.633544921875, high: 3176.528076171875\n",
      "Tick: 318, close: 3278.476806640625, avg: 2354.8231298828123, low: 3005.310791015625, high: 3329.08203125\n",
      "Tick: 319, close: 3300.9580078125, avg: 2384.4134423828127, low: 3005.310791015625, high: 3329.08203125\n",
      "Tick: 320, close: 3161.592041015625, avg: 2407.9704907226565, low: 3035.422607421875, high: 3329.08203125\n",
      "Tick: 321, close: 3022.208251953125, avg: 2426.762487792969, low: 3035.422607421875, high: 3329.08203125\n",
      "Entered to a position\n",
      "Tick: 322, close: 3031.83447265625, avg: 2444.2434545898436, low: 3022.208251953125, high: 3329.08203125\n",
      "Tick: 323, close: 3184.545166015625, avg: 2462.3314916992185, low: 3022.208251953125, high: 3329.08203125\n",
      "Tick: 324, close: 3288.931884765625, avg: 2485.9609106445314, low: 3022.208251953125, high: 3329.08203125\n",
      "Tick: 325, close: 3226.136474609375, avg: 2507.621486816406, low: 3022.208251953125, high: 3300.9580078125\n",
      "Tick: 326, close: 3235.71826171875, avg: 2527.9601635742188, low: 3022.208251953125, high: 3300.9580078125\n",
      "Tick: 327, close: 3314.27978515625, avg: 2547.8170336914063, low: 3022.208251953125, high: 3288.931884765625\n",
      "Exited the position\n",
      "Tick: 328, close: 3164.071044921875, avg: 2567.272873535156, low: 3022.208251953125, high: 3314.27978515625\n",
      "Tick: 329, close: 3213.921875, avg: 2585.0007250976564, low: 3031.83447265625, high: 3314.27978515625\n",
      "Tick: 330, close: 3093.651123046875, avg: 2600.6596752929686, low: 3164.071044921875, high: 3314.27978515625\n",
      "Entered to a position\n",
      "Tick: 331, close: 3263.108154296875, avg: 2623.6243676757813, low: 3093.651123046875, high: 3314.27978515625\n",
      "Tick: 332, close: 3227.8505859375, avg: 2645.2508129882813, low: 3093.651123046875, high: 3314.27978515625\n",
      "Tick: 333, close: 3215.328125, avg: 2667.1169360351564, low: 3093.651123046875, high: 3314.27978515625\n",
      "Tick: 334, close: 3216.791259765625, avg: 2688.501989746094, low: 3093.651123046875, high: 3314.27978515625\n",
      "Tick: 335, close: 3442.265869140625, avg: 2716.5258911132814, low: 3093.651123046875, high: 3263.108154296875\n",
      "Exited the position\n",
      "Tick: 336, close: 3815.57666015625, avg: 2753.9649096679686, low: 3093.651123046875, high: 3442.265869140625\n"
     ]
    }
   ],
   "source": [
    "results = cerebro.run()"
   ]
  },
  {
   "cell_type": "markdown",
   "metadata": {
    "pycharm": {
     "name": "#%% md\n"
    }
   },
   "source": [
    "## Analyzing the strategy results\n",
    "\n",
    "After the strategy is run, we will display charts and statistics on its performance.\n",
    "We use Backtrader internal analysis tools for this."
   ]
  },
  {
   "cell_type": "code",
   "execution_count": 6,
   "metadata": {
    "pycharm": {
     "name": "#%%\n"
    }
   },
   "outputs": [],
   "source": [
    "strategy: Double7 = results[0]"
   ]
  },
  {
   "cell_type": "markdown",
   "metadata": {
    "pycharm": {
     "name": "#%% md\n"
    }
   },
   "source": [
    "### Key figures\n",
    "\n",
    "Some standard performance figures for quantative finance."
   ]
  },
  {
   "cell_type": "code",
   "execution_count": 7,
   "metadata": {
    "pycharm": {
     "name": "#%%\n"
    },
    "scrolled": true
   },
   "outputs": [
    {
     "name": "stdout",
     "output_type": "stream",
     "text": [
      "Backtest range 2020-10-01 - 2021-09-01\n",
      "Sharpe: 1.793\n",
      "Norm. annual return: 4.69%\n",
      "Max drawdown: 14.28%\n"
     ]
    }
   ],
   "source": [
    "print(f\"Backtest range {BACKTESTING_BEGINS.date()} - {BACKTESTING_ENDS.date()}\")\n",
    "print(f\"Sharpe: {strategy.analyzers.sharperatio.get_analysis()['sharperatio']:.3f}\")\n",
    "print(f\"Norm. annual return: {strategy.analyzers.returns.get_analysis()['rnorm100']:.2f}%\")\n",
    "print(f\"Max drawdown: {strategy.analyzers.drawdown.get_analysis()['max']['drawdown']:.2f}%\")"
   ]
  },
  {
   "cell_type": "markdown",
   "metadata": {
    "pycharm": {
     "name": "#%% md\n"
    }
   },
   "source": [
    "### Portfolio development and trades made\n",
    "\n",
    "This Backtrader default chart will display the portfolio value\n",
    "develoment and when the individual trades were made."
   ]
  },
  {
   "cell_type": "code",
   "execution_count": 8,
   "metadata": {
    "pycharm": {
     "name": "#%%\n"
    }
   },
   "outputs": [
    {
     "data": {
      "text/plain": "<IPython.core.display.Javascript object>",
      "application/javascript": "/* Put everything inside the global mpl namespace */\n/* global mpl */\nwindow.mpl = {};\n\nmpl.get_websocket_type = function () {\n    if (typeof WebSocket !== 'undefined') {\n        return WebSocket;\n    } else if (typeof MozWebSocket !== 'undefined') {\n        return MozWebSocket;\n    } else {\n        alert(\n            'Your browser does not have WebSocket support. ' +\n                'Please try Chrome, Safari or Firefox ≥ 6. ' +\n                'Firefox 4 and 5 are also supported but you ' +\n                'have to enable WebSockets in about:config.'\n        );\n    }\n};\n\nmpl.figure = function (figure_id, websocket, ondownload, parent_element) {\n    this.id = figure_id;\n\n    this.ws = websocket;\n\n    this.supports_binary = this.ws.binaryType !== undefined;\n\n    if (!this.supports_binary) {\n        var warnings = document.getElementById('mpl-warnings');\n        if (warnings) {\n            warnings.style.display = 'block';\n            warnings.textContent =\n                'This browser does not support binary websocket messages. ' +\n                'Performance may be slow.';\n        }\n    }\n\n    this.imageObj = new Image();\n\n    this.context = undefined;\n    this.message = undefined;\n    this.canvas = undefined;\n    this.rubberband_canvas = undefined;\n    this.rubberband_context = undefined;\n    this.format_dropdown = undefined;\n\n    this.image_mode = 'full';\n\n    this.root = document.createElement('div');\n    this.root.setAttribute('style', 'display: inline-block');\n    this._root_extra_style(this.root);\n\n    parent_element.appendChild(this.root);\n\n    this._init_header(this);\n    this._init_canvas(this);\n    this._init_toolbar(this);\n\n    var fig = this;\n\n    this.waiting = false;\n\n    this.ws.onopen = function () {\n        fig.send_message('supports_binary', { value: fig.supports_binary });\n        fig.send_message('send_image_mode', {});\n        if (fig.ratio !== 1) {\n            fig.send_message('set_dpi_ratio', { dpi_ratio: fig.ratio });\n        }\n        fig.send_message('refresh', {});\n    };\n\n    this.imageObj.onload = function () {\n        if (fig.image_mode === 'full') {\n            // Full images could contain transparency (where diff images\n            // almost always do), so we need to clear the canvas so that\n            // there is no ghosting.\n            fig.context.clearRect(0, 0, fig.canvas.width, fig.canvas.height);\n        }\n        fig.context.drawImage(fig.imageObj, 0, 0);\n    };\n\n    this.imageObj.onunload = function () {\n        fig.ws.close();\n    };\n\n    this.ws.onmessage = this._make_on_message_function(this);\n\n    this.ondownload = ondownload;\n};\n\nmpl.figure.prototype._init_header = function () {\n    var titlebar = document.createElement('div');\n    titlebar.classList =\n        'ui-dialog-titlebar ui-widget-header ui-corner-all ui-helper-clearfix';\n    var titletext = document.createElement('div');\n    titletext.classList = 'ui-dialog-title';\n    titletext.setAttribute(\n        'style',\n        'width: 100%; text-align: center; padding: 3px;'\n    );\n    titlebar.appendChild(titletext);\n    this.root.appendChild(titlebar);\n    this.header = titletext;\n};\n\nmpl.figure.prototype._canvas_extra_style = function (_canvas_div) {};\n\nmpl.figure.prototype._root_extra_style = function (_canvas_div) {};\n\nmpl.figure.prototype._init_canvas = function () {\n    var fig = this;\n\n    var canvas_div = (this.canvas_div = document.createElement('div'));\n    canvas_div.setAttribute(\n        'style',\n        'border: 1px solid #ddd;' +\n            'box-sizing: content-box;' +\n            'clear: both;' +\n            'min-height: 1px;' +\n            'min-width: 1px;' +\n            'outline: 0;' +\n            'overflow: hidden;' +\n            'position: relative;' +\n            'resize: both;'\n    );\n\n    function on_keyboard_event_closure(name) {\n        return function (event) {\n            return fig.key_event(event, name);\n        };\n    }\n\n    canvas_div.addEventListener(\n        'keydown',\n        on_keyboard_event_closure('key_press')\n    );\n    canvas_div.addEventListener(\n        'keyup',\n        on_keyboard_event_closure('key_release')\n    );\n\n    this._canvas_extra_style(canvas_div);\n    this.root.appendChild(canvas_div);\n\n    var canvas = (this.canvas = document.createElement('canvas'));\n    canvas.classList.add('mpl-canvas');\n    canvas.setAttribute('style', 'box-sizing: content-box;');\n\n    this.context = canvas.getContext('2d');\n\n    var backingStore =\n        this.context.backingStorePixelRatio ||\n        this.context.webkitBackingStorePixelRatio ||\n        this.context.mozBackingStorePixelRatio ||\n        this.context.msBackingStorePixelRatio ||\n        this.context.oBackingStorePixelRatio ||\n        this.context.backingStorePixelRatio ||\n        1;\n\n    this.ratio = (window.devicePixelRatio || 1) / backingStore;\n\n    var rubberband_canvas = (this.rubberband_canvas = document.createElement(\n        'canvas'\n    ));\n    rubberband_canvas.setAttribute(\n        'style',\n        'box-sizing: content-box; position: absolute; left: 0; top: 0; z-index: 1;'\n    );\n\n    // Apply a ponyfill if ResizeObserver is not implemented by browser.\n    if (this.ResizeObserver === undefined) {\n        if (window.ResizeObserver !== undefined) {\n            this.ResizeObserver = window.ResizeObserver;\n        } else {\n            var obs = _JSXTOOLS_RESIZE_OBSERVER({});\n            this.ResizeObserver = obs.ResizeObserver;\n        }\n    }\n\n    this.resizeObserverInstance = new this.ResizeObserver(function (entries) {\n        var nentries = entries.length;\n        for (var i = 0; i < nentries; i++) {\n            var entry = entries[i];\n            var width, height;\n            if (entry.contentBoxSize) {\n                if (entry.contentBoxSize instanceof Array) {\n                    // Chrome 84 implements new version of spec.\n                    width = entry.contentBoxSize[0].inlineSize;\n                    height = entry.contentBoxSize[0].blockSize;\n                } else {\n                    // Firefox implements old version of spec.\n                    width = entry.contentBoxSize.inlineSize;\n                    height = entry.contentBoxSize.blockSize;\n                }\n            } else {\n                // Chrome <84 implements even older version of spec.\n                width = entry.contentRect.width;\n                height = entry.contentRect.height;\n            }\n\n            // Keep the size of the canvas and rubber band canvas in sync with\n            // the canvas container.\n            if (entry.devicePixelContentBoxSize) {\n                // Chrome 84 implements new version of spec.\n                canvas.setAttribute(\n                    'width',\n                    entry.devicePixelContentBoxSize[0].inlineSize\n                );\n                canvas.setAttribute(\n                    'height',\n                    entry.devicePixelContentBoxSize[0].blockSize\n                );\n            } else {\n                canvas.setAttribute('width', width * fig.ratio);\n                canvas.setAttribute('height', height * fig.ratio);\n            }\n            canvas.setAttribute(\n                'style',\n                'width: ' + width + 'px; height: ' + height + 'px;'\n            );\n\n            rubberband_canvas.setAttribute('width', width);\n            rubberband_canvas.setAttribute('height', height);\n\n            // And update the size in Python. We ignore the initial 0/0 size\n            // that occurs as the element is placed into the DOM, which should\n            // otherwise not happen due to the minimum size styling.\n            if (fig.ws.readyState == 1 && width != 0 && height != 0) {\n                fig.request_resize(width, height);\n            }\n        }\n    });\n    this.resizeObserverInstance.observe(canvas_div);\n\n    function on_mouse_event_closure(name) {\n        return function (event) {\n            return fig.mouse_event(event, name);\n        };\n    }\n\n    rubberband_canvas.addEventListener(\n        'mousedown',\n        on_mouse_event_closure('button_press')\n    );\n    rubberband_canvas.addEventListener(\n        'mouseup',\n        on_mouse_event_closure('button_release')\n    );\n    rubberband_canvas.addEventListener(\n        'dblclick',\n        on_mouse_event_closure('dblclick')\n    );\n    // Throttle sequential mouse events to 1 every 20ms.\n    rubberband_canvas.addEventListener(\n        'mousemove',\n        on_mouse_event_closure('motion_notify')\n    );\n\n    rubberband_canvas.addEventListener(\n        'mouseenter',\n        on_mouse_event_closure('figure_enter')\n    );\n    rubberband_canvas.addEventListener(\n        'mouseleave',\n        on_mouse_event_closure('figure_leave')\n    );\n\n    canvas_div.addEventListener('wheel', function (event) {\n        if (event.deltaY < 0) {\n            event.step = 1;\n        } else {\n            event.step = -1;\n        }\n        on_mouse_event_closure('scroll')(event);\n    });\n\n    canvas_div.appendChild(canvas);\n    canvas_div.appendChild(rubberband_canvas);\n\n    this.rubberband_context = rubberband_canvas.getContext('2d');\n    this.rubberband_context.strokeStyle = '#000000';\n\n    this._resize_canvas = function (width, height, forward) {\n        if (forward) {\n            canvas_div.style.width = width + 'px';\n            canvas_div.style.height = height + 'px';\n        }\n    };\n\n    // Disable right mouse context menu.\n    this.rubberband_canvas.addEventListener('contextmenu', function (_e) {\n        event.preventDefault();\n        return false;\n    });\n\n    function set_focus() {\n        canvas.focus();\n        canvas_div.focus();\n    }\n\n    window.setTimeout(set_focus, 100);\n};\n\nmpl.figure.prototype._init_toolbar = function () {\n    var fig = this;\n\n    var toolbar = document.createElement('div');\n    toolbar.classList = 'mpl-toolbar';\n    this.root.appendChild(toolbar);\n\n    function on_click_closure(name) {\n        return function (_event) {\n            return fig.toolbar_button_onclick(name);\n        };\n    }\n\n    function on_mouseover_closure(tooltip) {\n        return function (event) {\n            if (!event.currentTarget.disabled) {\n                return fig.toolbar_button_onmouseover(tooltip);\n            }\n        };\n    }\n\n    fig.buttons = {};\n    var buttonGroup = document.createElement('div');\n    buttonGroup.classList = 'mpl-button-group';\n    for (var toolbar_ind in mpl.toolbar_items) {\n        var name = mpl.toolbar_items[toolbar_ind][0];\n        var tooltip = mpl.toolbar_items[toolbar_ind][1];\n        var image = mpl.toolbar_items[toolbar_ind][2];\n        var method_name = mpl.toolbar_items[toolbar_ind][3];\n\n        if (!name) {\n            /* Instead of a spacer, we start a new button group. */\n            if (buttonGroup.hasChildNodes()) {\n                toolbar.appendChild(buttonGroup);\n            }\n            buttonGroup = document.createElement('div');\n            buttonGroup.classList = 'mpl-button-group';\n            continue;\n        }\n\n        var button = (fig.buttons[name] = document.createElement('button'));\n        button.classList = 'mpl-widget';\n        button.setAttribute('role', 'button');\n        button.setAttribute('aria-disabled', 'false');\n        button.addEventListener('click', on_click_closure(method_name));\n        button.addEventListener('mouseover', on_mouseover_closure(tooltip));\n\n        var icon_img = document.createElement('img');\n        icon_img.src = '_images/' + image + '.png';\n        icon_img.srcset = '_images/' + image + '_large.png 2x';\n        icon_img.alt = tooltip;\n        button.appendChild(icon_img);\n\n        buttonGroup.appendChild(button);\n    }\n\n    if (buttonGroup.hasChildNodes()) {\n        toolbar.appendChild(buttonGroup);\n    }\n\n    var fmt_picker = document.createElement('select');\n    fmt_picker.classList = 'mpl-widget';\n    toolbar.appendChild(fmt_picker);\n    this.format_dropdown = fmt_picker;\n\n    for (var ind in mpl.extensions) {\n        var fmt = mpl.extensions[ind];\n        var option = document.createElement('option');\n        option.selected = fmt === mpl.default_extension;\n        option.innerHTML = fmt;\n        fmt_picker.appendChild(option);\n    }\n\n    var status_bar = document.createElement('span');\n    status_bar.classList = 'mpl-message';\n    toolbar.appendChild(status_bar);\n    this.message = status_bar;\n};\n\nmpl.figure.prototype.request_resize = function (x_pixels, y_pixels) {\n    // Request matplotlib to resize the figure. Matplotlib will then trigger a resize in the client,\n    // which will in turn request a refresh of the image.\n    this.send_message('resize', { width: x_pixels, height: y_pixels });\n};\n\nmpl.figure.prototype.send_message = function (type, properties) {\n    properties['type'] = type;\n    properties['figure_id'] = this.id;\n    this.ws.send(JSON.stringify(properties));\n};\n\nmpl.figure.prototype.send_draw_message = function () {\n    if (!this.waiting) {\n        this.waiting = true;\n        this.ws.send(JSON.stringify({ type: 'draw', figure_id: this.id }));\n    }\n};\n\nmpl.figure.prototype.handle_save = function (fig, _msg) {\n    var format_dropdown = fig.format_dropdown;\n    var format = format_dropdown.options[format_dropdown.selectedIndex].value;\n    fig.ondownload(fig, format);\n};\n\nmpl.figure.prototype.handle_resize = function (fig, msg) {\n    var size = msg['size'];\n    if (size[0] !== fig.canvas.width || size[1] !== fig.canvas.height) {\n        fig._resize_canvas(size[0], size[1], msg['forward']);\n        fig.send_message('refresh', {});\n    }\n};\n\nmpl.figure.prototype.handle_rubberband = function (fig, msg) {\n    var x0 = msg['x0'] / fig.ratio;\n    var y0 = (fig.canvas.height - msg['y0']) / fig.ratio;\n    var x1 = msg['x1'] / fig.ratio;\n    var y1 = (fig.canvas.height - msg['y1']) / fig.ratio;\n    x0 = Math.floor(x0) + 0.5;\n    y0 = Math.floor(y0) + 0.5;\n    x1 = Math.floor(x1) + 0.5;\n    y1 = Math.floor(y1) + 0.5;\n    var min_x = Math.min(x0, x1);\n    var min_y = Math.min(y0, y1);\n    var width = Math.abs(x1 - x0);\n    var height = Math.abs(y1 - y0);\n\n    fig.rubberband_context.clearRect(\n        0,\n        0,\n        fig.canvas.width / fig.ratio,\n        fig.canvas.height / fig.ratio\n    );\n\n    fig.rubberband_context.strokeRect(min_x, min_y, width, height);\n};\n\nmpl.figure.prototype.handle_figure_label = function (fig, msg) {\n    // Updates the figure title.\n    fig.header.textContent = msg['label'];\n};\n\nmpl.figure.prototype.handle_cursor = function (fig, msg) {\n    var cursor = msg['cursor'];\n    switch (cursor) {\n        case 0:\n            cursor = 'pointer';\n            break;\n        case 1:\n            cursor = 'default';\n            break;\n        case 2:\n            cursor = 'crosshair';\n            break;\n        case 3:\n            cursor = 'move';\n            break;\n    }\n    fig.rubberband_canvas.style.cursor = cursor;\n};\n\nmpl.figure.prototype.handle_message = function (fig, msg) {\n    fig.message.textContent = msg['message'];\n};\n\nmpl.figure.prototype.handle_draw = function (fig, _msg) {\n    // Request the server to send over a new figure.\n    fig.send_draw_message();\n};\n\nmpl.figure.prototype.handle_image_mode = function (fig, msg) {\n    fig.image_mode = msg['mode'];\n};\n\nmpl.figure.prototype.handle_history_buttons = function (fig, msg) {\n    for (var key in msg) {\n        if (!(key in fig.buttons)) {\n            continue;\n        }\n        fig.buttons[key].disabled = !msg[key];\n        fig.buttons[key].setAttribute('aria-disabled', !msg[key]);\n    }\n};\n\nmpl.figure.prototype.handle_navigate_mode = function (fig, msg) {\n    if (msg['mode'] === 'PAN') {\n        fig.buttons['Pan'].classList.add('active');\n        fig.buttons['Zoom'].classList.remove('active');\n    } else if (msg['mode'] === 'ZOOM') {\n        fig.buttons['Pan'].classList.remove('active');\n        fig.buttons['Zoom'].classList.add('active');\n    } else {\n        fig.buttons['Pan'].classList.remove('active');\n        fig.buttons['Zoom'].classList.remove('active');\n    }\n};\n\nmpl.figure.prototype.updated_canvas_event = function () {\n    // Called whenever the canvas gets updated.\n    this.send_message('ack', {});\n};\n\n// A function to construct a web socket function for onmessage handling.\n// Called in the figure constructor.\nmpl.figure.prototype._make_on_message_function = function (fig) {\n    return function socket_on_message(evt) {\n        if (evt.data instanceof Blob) {\n            var img = evt.data;\n            if (img.type !== 'image/png') {\n                /* FIXME: We get \"Resource interpreted as Image but\n                 * transferred with MIME type text/plain:\" errors on\n                 * Chrome.  But how to set the MIME type?  It doesn't seem\n                 * to be part of the websocket stream */\n                img.type = 'image/png';\n            }\n\n            /* Free the memory for the previous frames */\n            if (fig.imageObj.src) {\n                (window.URL || window.webkitURL).revokeObjectURL(\n                    fig.imageObj.src\n                );\n            }\n\n            fig.imageObj.src = (window.URL || window.webkitURL).createObjectURL(\n                img\n            );\n            fig.updated_canvas_event();\n            fig.waiting = false;\n            return;\n        } else if (\n            typeof evt.data === 'string' &&\n            evt.data.slice(0, 21) === 'data:image/png;base64'\n        ) {\n            fig.imageObj.src = evt.data;\n            fig.updated_canvas_event();\n            fig.waiting = false;\n            return;\n        }\n\n        var msg = JSON.parse(evt.data);\n        var msg_type = msg['type'];\n\n        // Call the  \"handle_{type}\" callback, which takes\n        // the figure and JSON message as its only arguments.\n        try {\n            var callback = fig['handle_' + msg_type];\n        } catch (e) {\n            console.log(\n                \"No handler for the '\" + msg_type + \"' message type: \",\n                msg\n            );\n            return;\n        }\n\n        if (callback) {\n            try {\n                // console.log(\"Handling '\" + msg_type + \"' message: \", msg);\n                callback(fig, msg);\n            } catch (e) {\n                console.log(\n                    \"Exception inside the 'handler_\" + msg_type + \"' callback:\",\n                    e,\n                    e.stack,\n                    msg\n                );\n            }\n        }\n    };\n};\n\n// from http://stackoverflow.com/questions/1114465/getting-mouse-location-in-canvas\nmpl.findpos = function (e) {\n    //this section is from http://www.quirksmode.org/js/events_properties.html\n    var targ;\n    if (!e) {\n        e = window.event;\n    }\n    if (e.target) {\n        targ = e.target;\n    } else if (e.srcElement) {\n        targ = e.srcElement;\n    }\n    if (targ.nodeType === 3) {\n        // defeat Safari bug\n        targ = targ.parentNode;\n    }\n\n    // pageX,Y are the mouse positions relative to the document\n    var boundingRect = targ.getBoundingClientRect();\n    var x = e.pageX - (boundingRect.left + document.body.scrollLeft);\n    var y = e.pageY - (boundingRect.top + document.body.scrollTop);\n\n    return { x: x, y: y };\n};\n\n/*\n * return a copy of an object with only non-object keys\n * we need this to avoid circular references\n * http://stackoverflow.com/a/24161582/3208463\n */\nfunction simpleKeys(original) {\n    return Object.keys(original).reduce(function (obj, key) {\n        if (typeof original[key] !== 'object') {\n            obj[key] = original[key];\n        }\n        return obj;\n    }, {});\n}\n\nmpl.figure.prototype.mouse_event = function (event, name) {\n    var canvas_pos = mpl.findpos(event);\n\n    if (name === 'button_press') {\n        this.canvas.focus();\n        this.canvas_div.focus();\n    }\n\n    var x = canvas_pos.x * this.ratio;\n    var y = canvas_pos.y * this.ratio;\n\n    this.send_message(name, {\n        x: x,\n        y: y,\n        button: event.button,\n        step: event.step,\n        guiEvent: simpleKeys(event),\n    });\n\n    /* This prevents the web browser from automatically changing to\n     * the text insertion cursor when the button is pressed.  We want\n     * to control all of the cursor setting manually through the\n     * 'cursor' event from matplotlib */\n    event.preventDefault();\n    return false;\n};\n\nmpl.figure.prototype._key_event_extra = function (_event, _name) {\n    // Handle any extra behaviour associated with a key event\n};\n\nmpl.figure.prototype.key_event = function (event, name) {\n    // Prevent repeat events\n    if (name === 'key_press') {\n        if (event.key === this._key) {\n            return;\n        } else {\n            this._key = event.key;\n        }\n    }\n    if (name === 'key_release') {\n        this._key = null;\n    }\n\n    var value = '';\n    if (event.ctrlKey && event.key !== 'Control') {\n        value += 'ctrl+';\n    }\n    else if (event.altKey && event.key !== 'Alt') {\n        value += 'alt+';\n    }\n    else if (event.shiftKey && event.key !== 'Shift') {\n        value += 'shift+';\n    }\n\n    value += 'k' + event.key;\n\n    this._key_event_extra(event, name);\n\n    this.send_message(name, { key: value, guiEvent: simpleKeys(event) });\n    return false;\n};\n\nmpl.figure.prototype.toolbar_button_onclick = function (name) {\n    if (name === 'download') {\n        this.handle_save(this, null);\n    } else {\n        this.send_message('toolbar_button', { name: name });\n    }\n};\n\nmpl.figure.prototype.toolbar_button_onmouseover = function (tooltip) {\n    this.message.textContent = tooltip;\n};\n\n///////////////// REMAINING CONTENT GENERATED BY embed_js.py /////////////////\n// prettier-ignore\nvar _JSXTOOLS_RESIZE_OBSERVER=function(A){var t,i=new WeakMap,n=new WeakMap,a=new WeakMap,r=new WeakMap,o=new Set;function s(e){if(!(this instanceof s))throw new TypeError(\"Constructor requires 'new' operator\");i.set(this,e)}function h(){throw new TypeError(\"Function is not a constructor\")}function c(e,t,i,n){e=0 in arguments?Number(arguments[0]):0,t=1 in arguments?Number(arguments[1]):0,i=2 in arguments?Number(arguments[2]):0,n=3 in arguments?Number(arguments[3]):0,this.right=(this.x=this.left=e)+(this.width=i),this.bottom=(this.y=this.top=t)+(this.height=n),Object.freeze(this)}function d(){t=requestAnimationFrame(d);var s=new WeakMap,p=new Set;o.forEach((function(t){r.get(t).forEach((function(i){var r=t instanceof window.SVGElement,o=a.get(t),d=r?0:parseFloat(o.paddingTop),f=r?0:parseFloat(o.paddingRight),l=r?0:parseFloat(o.paddingBottom),u=r?0:parseFloat(o.paddingLeft),g=r?0:parseFloat(o.borderTopWidth),m=r?0:parseFloat(o.borderRightWidth),w=r?0:parseFloat(o.borderBottomWidth),b=u+f,F=d+l,v=(r?0:parseFloat(o.borderLeftWidth))+m,W=g+w,y=r?0:t.offsetHeight-W-t.clientHeight,E=r?0:t.offsetWidth-v-t.clientWidth,R=b+v,z=F+W,M=r?t.width:parseFloat(o.width)-R-E,O=r?t.height:parseFloat(o.height)-z-y;if(n.has(t)){var k=n.get(t);if(k[0]===M&&k[1]===O)return}n.set(t,[M,O]);var S=Object.create(h.prototype);S.target=t,S.contentRect=new c(u,d,M,O),s.has(i)||(s.set(i,[]),p.add(i)),s.get(i).push(S)}))})),p.forEach((function(e){i.get(e).call(e,s.get(e),e)}))}return s.prototype.observe=function(i){if(i instanceof window.Element){r.has(i)||(r.set(i,new Set),o.add(i),a.set(i,window.getComputedStyle(i)));var n=r.get(i);n.has(this)||n.add(this),cancelAnimationFrame(t),t=requestAnimationFrame(d)}},s.prototype.unobserve=function(i){if(i instanceof window.Element&&r.has(i)){var n=r.get(i);n.has(this)&&(n.delete(this),n.size||(r.delete(i),o.delete(i))),n.size||r.delete(i),o.size||cancelAnimationFrame(t)}},A.DOMRectReadOnly=c,A.ResizeObserver=s,A.ResizeObserverEntry=h,A}; // eslint-disable-line\nmpl.toolbar_items = [[\"Home\", \"Reset original view\", \"fa fa-home icon-home\", \"home\"], [\"Back\", \"Back to previous view\", \"fa fa-arrow-left icon-arrow-left\", \"back\"], [\"Forward\", \"Forward to next view\", \"fa fa-arrow-right icon-arrow-right\", \"forward\"], [\"\", \"\", \"\", \"\"], [\"Pan\", \"Left button pans, Right button zooms\\nx/y fixes axis, CTRL fixes aspect\", \"fa fa-arrows icon-move\", \"pan\"], [\"Zoom\", \"Zoom to rectangle\\nx/y fixes axis, CTRL fixes aspect\", \"fa fa-square-o icon-check-empty\", \"zoom\"], [\"\", \"\", \"\", \"\"], [\"Download\", \"Download plot\", \"fa fa-floppy-o icon-save\", \"download\"]];\n\nmpl.extensions = [\"eps\", \"jpeg\", \"pgf\", \"pdf\", \"png\", \"ps\", \"raw\", \"svg\", \"tif\"];\n\nmpl.default_extension = \"png\";/* global mpl */\n\nvar comm_websocket_adapter = function (comm) {\n    // Create a \"websocket\"-like object which calls the given IPython comm\n    // object with the appropriate methods. Currently this is a non binary\n    // socket, so there is still some room for performance tuning.\n    var ws = {};\n\n    ws.binaryType = comm.kernel.ws.binaryType;\n    ws.readyState = comm.kernel.ws.readyState;\n    function updateReadyState(_event) {\n        if (comm.kernel.ws) {\n            ws.readyState = comm.kernel.ws.readyState;\n        } else {\n            ws.readyState = 3; // Closed state.\n        }\n    }\n    comm.kernel.ws.addEventListener('open', updateReadyState);\n    comm.kernel.ws.addEventListener('close', updateReadyState);\n    comm.kernel.ws.addEventListener('error', updateReadyState);\n\n    ws.close = function () {\n        comm.close();\n    };\n    ws.send = function (m) {\n        //console.log('sending', m);\n        comm.send(m);\n    };\n    // Register the callback with on_msg.\n    comm.on_msg(function (msg) {\n        //console.log('receiving', msg['content']['data'], msg);\n        var data = msg['content']['data'];\n        if (data['blob'] !== undefined) {\n            data = {\n                data: new Blob(msg['buffers'], { type: data['blob'] }),\n            };\n        }\n        // Pass the mpl event to the overridden (by mpl) onmessage function.\n        ws.onmessage(data);\n    });\n    return ws;\n};\n\nmpl.mpl_figure_comm = function (comm, msg) {\n    // This is the function which gets called when the mpl process\n    // starts-up an IPython Comm through the \"matplotlib\" channel.\n\n    var id = msg.content.data.id;\n    // Get hold of the div created by the display call when the Comm\n    // socket was opened in Python.\n    var element = document.getElementById(id);\n    var ws_proxy = comm_websocket_adapter(comm);\n\n    function ondownload(figure, _format) {\n        window.open(figure.canvas.toDataURL());\n    }\n\n    var fig = new mpl.figure(id, ws_proxy, ondownload, element);\n\n    // Call onopen now - mpl needs it, as it is assuming we've passed it a real\n    // web socket which is closed, not our websocket->open comm proxy.\n    ws_proxy.onopen();\n\n    fig.parent_element = element;\n    fig.cell_info = mpl.find_output_cell(\"<div id='\" + id + \"'></div>\");\n    if (!fig.cell_info) {\n        console.error('Failed to find cell for figure', id, fig);\n        return;\n    }\n    fig.cell_info[0].output_area.element.on(\n        'cleared',\n        { fig: fig },\n        fig._remove_fig_handler\n    );\n};\n\nmpl.figure.prototype.handle_close = function (fig, msg) {\n    var width = fig.canvas.width / fig.ratio;\n    fig.cell_info[0].output_area.element.off(\n        'cleared',\n        fig._remove_fig_handler\n    );\n    fig.resizeObserverInstance.unobserve(fig.canvas_div);\n\n    // Update the output cell to use the data from the current canvas.\n    fig.push_to_output();\n    var dataURL = fig.canvas.toDataURL();\n    // Re-enable the keyboard manager in IPython - without this line, in FF,\n    // the notebook keyboard shortcuts fail.\n    IPython.keyboard_manager.enable();\n    fig.parent_element.innerHTML =\n        '<img src=\"' + dataURL + '\" width=\"' + width + '\">';\n    fig.close_ws(fig, msg);\n};\n\nmpl.figure.prototype.close_ws = function (fig, msg) {\n    fig.send_message('closing', msg);\n    // fig.ws.close()\n};\n\nmpl.figure.prototype.push_to_output = function (_remove_interactive) {\n    // Turn the data on the canvas into data in the output cell.\n    var width = this.canvas.width / this.ratio;\n    var dataURL = this.canvas.toDataURL();\n    this.cell_info[1]['text/html'] =\n        '<img src=\"' + dataURL + '\" width=\"' + width + '\">';\n};\n\nmpl.figure.prototype.updated_canvas_event = function () {\n    // Tell IPython that the notebook contents must change.\n    IPython.notebook.set_dirty(true);\n    this.send_message('ack', {});\n    var fig = this;\n    // Wait a second, then push the new image to the DOM so\n    // that it is saved nicely (might be nice to debounce this).\n    setTimeout(function () {\n        fig.push_to_output();\n    }, 1000);\n};\n\nmpl.figure.prototype._init_toolbar = function () {\n    var fig = this;\n\n    var toolbar = document.createElement('div');\n    toolbar.classList = 'btn-toolbar';\n    this.root.appendChild(toolbar);\n\n    function on_click_closure(name) {\n        return function (_event) {\n            return fig.toolbar_button_onclick(name);\n        };\n    }\n\n    function on_mouseover_closure(tooltip) {\n        return function (event) {\n            if (!event.currentTarget.disabled) {\n                return fig.toolbar_button_onmouseover(tooltip);\n            }\n        };\n    }\n\n    fig.buttons = {};\n    var buttonGroup = document.createElement('div');\n    buttonGroup.classList = 'btn-group';\n    var button;\n    for (var toolbar_ind in mpl.toolbar_items) {\n        var name = mpl.toolbar_items[toolbar_ind][0];\n        var tooltip = mpl.toolbar_items[toolbar_ind][1];\n        var image = mpl.toolbar_items[toolbar_ind][2];\n        var method_name = mpl.toolbar_items[toolbar_ind][3];\n\n        if (!name) {\n            /* Instead of a spacer, we start a new button group. */\n            if (buttonGroup.hasChildNodes()) {\n                toolbar.appendChild(buttonGroup);\n            }\n            buttonGroup = document.createElement('div');\n            buttonGroup.classList = 'btn-group';\n            continue;\n        }\n\n        button = fig.buttons[name] = document.createElement('button');\n        button.classList = 'btn btn-default';\n        button.href = '#';\n        button.title = name;\n        button.innerHTML = '<i class=\"fa ' + image + ' fa-lg\"></i>';\n        button.addEventListener('click', on_click_closure(method_name));\n        button.addEventListener('mouseover', on_mouseover_closure(tooltip));\n        buttonGroup.appendChild(button);\n    }\n\n    if (buttonGroup.hasChildNodes()) {\n        toolbar.appendChild(buttonGroup);\n    }\n\n    // Add the status bar.\n    var status_bar = document.createElement('span');\n    status_bar.classList = 'mpl-message pull-right';\n    toolbar.appendChild(status_bar);\n    this.message = status_bar;\n\n    // Add the close button to the window.\n    var buttongrp = document.createElement('div');\n    buttongrp.classList = 'btn-group inline pull-right';\n    button = document.createElement('button');\n    button.classList = 'btn btn-mini btn-primary';\n    button.href = '#';\n    button.title = 'Stop Interaction';\n    button.innerHTML = '<i class=\"fa fa-power-off icon-remove icon-large\"></i>';\n    button.addEventListener('click', function (_evt) {\n        fig.handle_close(fig, {});\n    });\n    button.addEventListener(\n        'mouseover',\n        on_mouseover_closure('Stop Interaction')\n    );\n    buttongrp.appendChild(button);\n    var titlebar = this.root.querySelector('.ui-dialog-titlebar');\n    titlebar.insertBefore(buttongrp, titlebar.firstChild);\n};\n\nmpl.figure.prototype._remove_fig_handler = function (event) {\n    var fig = event.data.fig;\n    if (event.target !== this) {\n        // Ignore bubbled events from children.\n        return;\n    }\n    fig.close_ws(fig, {});\n};\n\nmpl.figure.prototype._root_extra_style = function (el) {\n    el.style.boxSizing = 'content-box'; // override notebook setting of border-box.\n};\n\nmpl.figure.prototype._canvas_extra_style = function (el) {\n    // this is important to make the div 'focusable\n    el.setAttribute('tabindex', 0);\n    // reach out to IPython and tell the keyboard manager to turn it's self\n    // off when our div gets focus\n\n    // location in version 3\n    if (IPython.notebook.keyboard_manager) {\n        IPython.notebook.keyboard_manager.register_events(el);\n    } else {\n        // location in version 2\n        IPython.keyboard_manager.register_events(el);\n    }\n};\n\nmpl.figure.prototype._key_event_extra = function (event, _name) {\n    var manager = IPython.notebook.keyboard_manager;\n    if (!manager) {\n        manager = IPython.keyboard_manager;\n    }\n\n    // Check for shift+enter\n    if (event.shiftKey && event.which === 13) {\n        this.canvas_div.blur();\n        // select the cell after this one\n        var index = IPython.notebook.find_cell_index(this.cell_info[0]);\n        IPython.notebook.select(index + 1);\n    }\n};\n\nmpl.figure.prototype.handle_save = function (fig, _msg) {\n    fig.ondownload(fig, null);\n};\n\nmpl.find_output_cell = function (html_output) {\n    // Return the cell and output element which can be found *uniquely* in the notebook.\n    // Note - this is a bit hacky, but it is done because the \"notebook_saving.Notebook\"\n    // IPython event is triggered only after the cells have been serialised, which for\n    // our purposes (turning an active figure into a static one), is too late.\n    var cells = IPython.notebook.get_cells();\n    var ncells = cells.length;\n    for (var i = 0; i < ncells; i++) {\n        var cell = cells[i];\n        if (cell.cell_type === 'code') {\n            for (var j = 0; j < cell.output_area.outputs.length; j++) {\n                var data = cell.output_area.outputs[j];\n                if (data.data) {\n                    // IPython >= 3 moved mimebundle to data attribute of output\n                    data = data.data;\n                }\n                if (data['text/html'] === html_output) {\n                    return [cell, data, j];\n                }\n            }\n        }\n    }\n};\n\n// Register the function which deals with the matplotlib target/channel.\n// The kernel may be null if the page has been refreshed.\nif (IPython.notebook.kernel !== null) {\n    IPython.notebook.kernel.comm_manager.register_target(\n        'matplotlib',\n        mpl.mpl_figure_comm\n    );\n}\n"
     },
     "metadata": {},
     "output_type": "display_data"
    },
    {
     "data": {
      "text/plain": "<IPython.core.display.HTML object>",
      "text/html": "<div id='4d5d2d3b-1e01-4e68-902a-26e321e17b37'></div>"
     },
     "metadata": {},
     "output_type": "display_data"
    },
    {
     "data": {
      "text/plain": "<Figure size 432x288 with 3 Axes>",
      "image/png": "[encoded data removed]"
     },
     "execution_count": 8,
     "metadata": {},
     "output_type": "execute_result"
    }
   ],
   "source": [
    "from matplotlib.figure import Figure\n",
    "\n",
    "figs = cerebro.plot(iplot=True)\n",
    "\n",
    "# The breakdown for the first strategy\n",
    "figs[0][0]\n",
    "#figs"
   ]
  }
 ],
 "metadata": {
  "kernelspec": {
   "name": "python3",
   "language": "python",
   "display_name": "Python 3 (ipykernel)"
  },
  "language_info": {
   "codemirror_mode": {
    "name": "ipython",
    "version": 3
   },
   "file_extension": ".py",
   "mimetype": "text/x-python",
   "name": "python",
   "nbconvert_exporter": "python",
   "pygments_lexer": "ipython3",
   "version": "3.8.5"
  }
 },
 "nbformat": 4,
 "nbformat_minor": 1
}
