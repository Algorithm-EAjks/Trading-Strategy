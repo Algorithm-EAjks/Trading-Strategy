{
 "cells": [
  {
   "cell_type": "markdown",
   "metadata": {
    "collapsed": false,
    "pycharm": {
     "name": "#%% md\n"
    }
   },
   "source": [
    "# Price impact estimation\n",
    "\n",
    "In this notebook, we show how you can estimate the price impact, also known as slippage, of the simulated historical decentralised exchange trades.\n",
    "\n",
    "The slippage is especially important when trading illiquid assets. If your trade profit is 2% but the sell slippage is also 2% you have essentially not made any profit."
   ]
  },
  {
   "cell_type": "markdown",
   "metadata": {
    "collapsed": false,
    "pycharm": {
     "name": "#%% md\n"
    }
   },
   "source": [
    "## About price impact and slippage on AMMs\n",
    "\n",
    "The slippage is a function of\n",
    "\n",
    "* Available liquidity\n",
    "* Liquidity provider fees\n",
    "* Protocol fees\n",
    "\n",
    "Slippage, also known as price impact, tells how much less your market taker order gets filled because there is not available liquidity.\n",
    "For example, if you are trying to buy 5000 USD worth of BNB token, but there isn't available liquidity\n",
    "you end up with 4980 USD worth of token at the end of the trade. The missing fill is called slippage.\n",
    "It can be expressed as USD value or as percent of the trade amount.\n",
    "Illiquid pairs have more slippage than liquid pairs.\n",
    "\n",
    "In Uniswap v2 style decentralised exchanges any fees are included in the slippage calculation.\n",
    "\n",
    "For more information read more about [XY=K liquidity model and automated market makers](https://tradingstrategy.ai/docs/glossary.html#term-XY-liquidity-model)."
   ]
  },
  {
   "cell_type": "markdown",
   "metadata": {
    "collapsed": false,
    "pycharm": {
     "name": "#%% md\n"
    }
   },
   "source": [
    "## Getting started\n",
    "\n",
    "First let's import libraries and initialise our Trading Strategy dataset client."
   ]
  },
  {
   "cell_type": "code",
   "execution_count": 26,
   "metadata": {
    "collapsed": false,
    "pycharm": {
     "name": "#%%\n"
    }
   },
   "outputs": [
    {
     "name": "stdout",
     "output_type": "stream",
     "text": [
      "Started Trading Strategy in Jupyter notebook environment, configuration is stored in /Users/moo/.tradingstrategy\n"
     ]
    }
   ],
   "source": [
    "try:\n",
    "    import tradingstrategy\n",
    "except ImportError:\n",
    "    !pip install tradingstrategy\n",
    "    import site\n",
    "    site.main()\n",
    "\n",
    "from tradingstrategy.client import Client\n",
    "\n",
    "client = Client.create_jupyter_client()"
   ]
  },
  {
   "cell_type": "markdown",
   "metadata": {
    "collapsed": false,
    "pycharm": {
     "name": "#%% md\n"
    }
   },
   "source": [
    "## Fetching datasets\n",
    "\n",
    "Here we fetch the liquidity data for\n",
    "\n",
    "* [SUSHI-ETH trading pair](https://tradingstrategy.ai/trading-view/ethereum/sushiswap/sushi-eth)\n",
    "* [Trading on Sushiswap](https://tradingstrategy.ai/trading-view/ethereum/sushiswap)\n",
    "* [On Ethereum mainnet](https://tradingstrategy.ai/trading-view/ethereum)\n",
    "\n",
    "To make this notebook run fast, we are operating on weekly candles (7 days) to keep the\n",
    "download size of datasets smaller."
   ]
  },
  {
   "cell_type": "code",
   "execution_count": null,
   "outputs": [],
   "source": [
    "\n",
    "from tradingstrategy.chain import ChainId\n",
    "from tradingstrategy.liquidity import GroupedLiquidityUniverse\n",
    "from tradingstrategy.pair import PandasPairUniverse\n",
    "from tradingstrategy.timebucket import TimeBucket\n",
    "\n",
    "exchange_universe = client.fetch_exchange_universe()\n",
    "raw_pairs = client.fetch_pair_universe().to_pandas()\n",
    "raw_liquidity_samples = client.fetch_all_liquidity_samples(TimeBucket.d7).to_pandas()\n",
    "\n",
    "pair_universe = PandasPairUniverse(raw_pairs)\n",
    "liquidity_universe = GroupedLiquidityUniverse(raw_liquidity_samples)\n",
    "\n",
    "# Do some test calculations for a single pair\n",
    "sushi_swap = exchange_universe.get_by_chain_and_name(ChainId.ethereum, \"sushiswap\")\n",
    "sushi_eth = pair_universe.get_one_pair_from_pandas_universe(sushi_swap.exchange_id, \"SUSHI\", \"WETH\")"
   ],
   "metadata": {
    "collapsed": false,
    "pycharm": {
     "name": "#%%\n"
    }
   }
  },
  {
   "cell_type": "markdown",
   "metadata": {
    "collapsed": false
   },
   "source": [
    "## Querying historical price impact\n",
    "\n",
    "Here we get the historical price impact what would have been for buying SUSHI for 6000 USD worth of ETH on 1st of June 2021."
   ]
  },
  {
   "cell_type": "code",
   "execution_count": 28,
   "metadata": {
    "collapsed": false,
    "pycharm": {
     "name": "#%%\n"
    }
   },
   "outputs": [],
   "source": [
    "import pandas as pd\n",
    "from IPython.display import display\n",
    "from tradingstrategy.priceimpact import HistoricalXYPriceImpactCalculator\n",
    "\n",
    "# SUSHI-WETH started trading around 2020-09-01\n",
    "trading_date = pd.Timestamp(\"2021-06-01\")\n",
    "trade_size = 6000.0  # USD\n",
    "\n",
    "price_impact_calculator = HistoricalXYPriceImpactCalculator(liquidity_universe)\n",
    "impact = price_impact_calculator.calculate_price_impact(trading_date, sushi_eth.pair_id, trade_size, max_distance=pd.Timedelta(days=7))\n",
    "\n",
    "display(impact)\n",
    "\n",
    "## Possible errors\n",
    "\n",
    "Because the lack of liquidity data, the price impact calculation may fail. See"
   ]
  }
 ],
 "metadata": {
  "kernelspec": {
   "display_name": "Python 3 (ipykernel)",
   "language": "python",
   "name": "python3"
  },
  "language_info": {
   "codemirror_mode": {
    "name": "ipython",
    "version": 3
   },
   "file_extension": ".py",
   "mimetype": "text/x-python",
   "name": "python",
   "nbconvert_exporter": "python",
   "pygments_lexer": "ipython3",
   "version": "3.8.1"
  }
 },
 "nbformat": 4,
 "nbformat_minor": 0
}