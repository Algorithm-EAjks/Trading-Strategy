{
 "cells": [
  {
   "cell_type": "markdown",
   "source": [
    "# Getting started\n",
    "\n",
    "## Preface\n",
    "\n",
    "To get started you need\n",
    "\n",
    "* Basic algorithmic trade, finance and quantitave research understanding\n",
    "\n",
    "* Basic Python understanding\n",
    "\n",
    "* Basic Jupyter Notebook understanding\n",
    "\n",
    "* Somewhere to run Jupyter Notebooks (your local computer, a cloud service)\n",
    "\n",
    "If you are new to these topics please see the [Learn](https://tradingstrategy.ai/docs/programming/learn.html) section for useful links to start learning more.\n",
    "\n",
    "## API keys\n",
    "\n",
    "When you run the notebook for the first time, you are asked to register an API key for [Trading Strategy dataset download](https://tradingstrategy.ai/trading-view/backtesting).\n",
    "\n",
    "The interaction happens over Python input, within the Jupyter Notebook.\n",
    "At the moment the API key registration over web is unsupported.\n",
    "\n",
    "## Quickstart"
   ],
   "metadata": {
    "collapsed": false,
    "pycharm": {
     "name": "#%% md\n"
    }
   }
  },
  {
   "cell_type": "markdown",
   "source": [
    "Google offers free cloud service to run your notebooks\n",
    "\n",
    "* Click *Open in Colab* button above\n",
    "\n",
    "* You need a Google account\n",
    "\n",
    "* Clicking the *Open in Colab* button on any notebook in this documentation will automatically create you a personal runnable copy on [Google Colaboratory service](https://colab.research.google.com/notebooks/intro.ipynb)\n",
    "\n",
    "* After the notebook is open on Colab, you need to press *Connect* to allocate a server for yourself and then execute the notebook by choosing *Runtime* > *Run all* from the menu\n",
    "\n",
    "* This document is displaying the results of the last notebook run. Running the notebook yourself will execute all the cells and update the result of calculations\n",
    "\n",
    "* The first execution will take around 5 minutes, because"
   ],
   "metadata": {
    "collapsed": false,
    "pycharm": {
     "name": "#%% md\n"
    }
   }
  },
  {
   "cell_type": "markdown",
   "source": [
    "## Install\n",
    "\n",
    "This step assumes you have managed to get your Jupyter Notebook environment set up and an empty notebook open.\n",
    "\n",
    "This notebook starts by installing [tradingstrategy](https://pypi.org/project/tradingstrategy/) Python package on your notebook environment if it is not installed yet."
   ],
   "metadata": {
    "collapsed": false,
    "pycharm": {
     "name": "#%% md\n"
    }
   }
  },
  {
   "cell_type": "code",
   "execution_count": 15,
   "outputs": [],
   "source": [
    "try:\n",
    "    import tradingstrategy\n",
    "except ImportError:\n",
    "    # Install on-demand on Google Colab\n",
    "    !pip install tradingstrategy\n",
    "    import site\n",
    "    site.main()"
   ],
   "metadata": {
    "collapsed": false,
    "pycharm": {
     "name": "#%%\n"
    }
   }
  },
  {
   "cell_type": "markdown",
   "source": [
    "## Usage\n",
    "\n",
    "This is the *Hello World* where we make our first dynamic market analysis.\n",
    "\n",
    "The code belows creates a Trading Strategy [API client instance](https://tradingstrategy.ai/docs/programming/api/client.html)\n",
    "that is used to communicate with the dataset server.\n",
    "\n",
    "If you do not have an API key saved on the Notebook server yet,\n",
    "this will **prompt you** to create an API key and then saves it for you.\n",
    "Please answer the interactive questions when the notebook is running."
   ],
   "metadata": {
    "collapsed": false,
    "pycharm": {
     "name": "#%% md\n"
    }
   }
  },
  {
   "cell_type": "code",
   "execution_count": 16,
   "metadata": {
    "collapsed": true
   },
   "outputs": [
    {
     "name": "stdout",
     "output_type": "stream",
     "text": [
      "Started Trading Strategy in Jupyter notebook environment, configuration is stored in /Users/mikkoohtamaa/.tradingstrategy\n"
     ]
    }
   ],
   "source": [
    "from tradingstrategy.client import Client\n",
    "\n",
    "client = Client.create_jupyter_client()"
   ]
  },
  {
   "cell_type": "markdown",
   "source": [
    "Now when the API key is created and we are connected, we can do some analysis.\n",
    "Let's get the top 10 supported exchanges by their 30 days trading volume\n",
    "for [supported tokens](https://tradingstrategy.ai/docs/programming/tracking.html)."
   ],
   "metadata": {
    "collapsed": false
   }
  },
  {
   "cell_type": "code",
   "execution_count": 17,
   "outputs": [
    {
     "name": "stdout",
     "output_type": "stream",
     "text": [
      "This Jupyter notebook was run and the results captured at 2021-12-28\n"
     ]
    }
   ],
   "source": [
    "# Let's log the date when the this notebook was run,\n",
    "# as the notebook and its output will be on the website documentation\n",
    "import datetime\n",
    "print(f\"This Jupyter notebook was run and the results captured at {datetime.date.today()}\")"
   ],
   "metadata": {
    "collapsed": false,
    "pycharm": {
     "name": "#%%\n"
    }
   }
  },
  {
   "cell_type": "markdown",
   "source": [
    "Then let's extract some montly statistics from the exchange dataset."
   ],
   "metadata": {
    "collapsed": false,
    "pycharm": {
     "name": "#%% md\n"
    }
   }
  },
  {
   "cell_type": "code",
   "execution_count": 18,
   "outputs": [
    {
     "data": {
      "text/plain": "          Exchange           Blockchain     USD Volume 30d\n1   PancakeSwap v2  Binance Smart Chain  20,946,957,638.93\n2       Uniswap v2             Ethereum  12,536,403,518.89\n3        Sushiswap             Ethereum   9,196,802,068.13\n4           Biswap  Binance Smart Chain   5,801,847,422.67\n5         BabySwap  Binance Smart Chain   4,793,001,998.24\n6        Quickswap              Polygon   1,707,623,559.27\n7        GIBX Swap  Binance Smart Chain     831,154,271.98\n8       Shiba Swap             Ethereum     771,651,809.10\n9        SushiSwap              Polygon     760,224,846.83\n10         ApeSwap  Binance Smart Chain     648,849,404.60",
      "text/html": "<div>\n<style scoped>\n    .dataframe tbody tr th:only-of-type {\n        vertical-align: middle;\n    }\n\n    .dataframe tbody tr th {\n        vertical-align: top;\n    }\n\n    .dataframe thead th {\n        text-align: right;\n    }\n</style>\n<table border=\"1\" class=\"dataframe\">\n  <thead>\n    <tr style=\"text-align: right;\">\n      <th></th>\n      <th>Exchange</th>\n      <th>Blockchain</th>\n      <th>USD Volume 30d</th>\n    </tr>\n  </thead>\n  <tbody>\n    <tr>\n      <th>1</th>\n      <td>PancakeSwap v2</td>\n      <td>Binance Smart Chain</td>\n      <td>20,946,957,638.93</td>\n    </tr>\n    <tr>\n      <th>2</th>\n      <td>Uniswap v2</td>\n      <td>Ethereum</td>\n      <td>12,536,403,518.89</td>\n    </tr>\n    <tr>\n      <th>3</th>\n      <td>Sushiswap</td>\n      <td>Ethereum</td>\n      <td>9,196,802,068.13</td>\n    </tr>\n    <tr>\n      <th>4</th>\n      <td>Biswap</td>\n      <td>Binance Smart Chain</td>\n      <td>5,801,847,422.67</td>\n    </tr>\n    <tr>\n      <th>5</th>\n      <td>BabySwap</td>\n      <td>Binance Smart Chain</td>\n      <td>4,793,001,998.24</td>\n    </tr>\n    <tr>\n      <th>6</th>\n      <td>Quickswap</td>\n      <td>Polygon</td>\n      <td>1,707,623,559.27</td>\n    </tr>\n    <tr>\n      <th>7</th>\n      <td>GIBX Swap</td>\n      <td>Binance Smart Chain</td>\n      <td>831,154,271.98</td>\n    </tr>\n    <tr>\n      <th>8</th>\n      <td>Shiba Swap</td>\n      <td>Ethereum</td>\n      <td>771,651,809.10</td>\n    </tr>\n    <tr>\n      <th>9</th>\n      <td>SushiSwap</td>\n      <td>Polygon</td>\n      <td>760,224,846.83</td>\n    </tr>\n    <tr>\n      <th>10</th>\n      <td>ApeSwap</td>\n      <td>Binance Smart Chain</td>\n      <td>648,849,404.60</td>\n    </tr>\n  </tbody>\n</table>\n</div>"
     },
     "metadata": {},
     "output_type": "display_data"
    }
   ],
   "source": [
    "from typing import List\n",
    "from IPython.display import display\n",
    "import pandas as pd\n",
    "import numpy as np\n",
    "from tradingstrategy.chain import ChainId\n",
    "from tradingstrategy.exchange import Exchange\n",
    "\n",
    "universe = client.fetch_exchange_universe()\n",
    "\n",
    "# Have nice type decoration to make the tutorial\n",
    "# more readable\n",
    "exchanges: List[Exchange] = []\n",
    "volumes: List[float] = []\n",
    "chains: List[str] = []\n",
    "\n",
    "for xchg in universe.get_top_exchanges_by_30d_volume()[0:10]:\n",
    "    exchanges.append(xchg.name)\n",
    "    # Format volume with the  thousand separator\n",
    "    volumes.append(\"{:,.2f}\".format(xchg.vol_30d))\n",
    "    # Pull blockchain name for the chain id number from\n",
    "    # chain data database\n",
    "    chain_id: ChainId = xchg.chain_id\n",
    "    chains.append(chain_id.get_name())\n",
    "\n",
    "# Convert output to Pandas DataFrame object so that\n",
    "# notebook can render it as a nice table\n",
    "df = pd.DataFrame({\"Exchange\": exchanges, \"Blockchain\": chains, \"USD Volume 30d\": volumes})\n",
    "\n",
    "# Index rows starting with one instead of zero\n",
    "df.index = np.arange(1, len(df)+1)\n",
    "\n",
    "# Show dataframe as HTML table\n",
    "display(df)"
   ],
   "metadata": {
    "collapsed": false,
    "pycharm": {
     "name": "#%%\n"
    }
   }
  },
  {
   "cell_type": "markdown",
   "source": [
    "Ta-da - all done! Now you can proceed to [view more complex examples](https://tradingstrategy.ai/docs/programming/index.html#code-examples).\n"
   ],
   "metadata": {
    "collapsed": false,
    "pycharm": {
     "name": "#%% md\n"
    }
   }
  }
 ],
 "metadata": {
  "kernelspec": {
   "name": "pycharm-e4ceee80",
   "language": "python",
   "display_name": "PyCharm (dex_ohlcv)"
  },
  "language_info": {
   "codemirror_mode": {
    "name": "ipython",
    "version": 2
   },
   "file_extension": ".py",
   "mimetype": "text/x-python",
   "name": "python",
   "nbconvert_exporter": "python",
   "pygments_lexer": "ipython2",
   "version": "2.7.6"
  }
 },
 "nbformat": 4,
 "nbformat_minor": 0
}